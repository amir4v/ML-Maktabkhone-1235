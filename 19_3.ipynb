{
 "cells": [
  {
   "cell_type": "code",
   "execution_count": 1,
   "metadata": {},
   "outputs": [
    {
     "data": {
      "text/html": [
       "<div>\n",
       "<style scoped>\n",
       "    .dataframe tbody tr th:only-of-type {\n",
       "        vertical-align: middle;\n",
       "    }\n",
       "\n",
       "    .dataframe tbody tr th {\n",
       "        vertical-align: top;\n",
       "    }\n",
       "\n",
       "    .dataframe thead th {\n",
       "        text-align: right;\n",
       "    }\n",
       "</style>\n",
       "<table border=\"1\" class=\"dataframe\">\n",
       "  <thead>\n",
       "    <tr style=\"text-align: right;\">\n",
       "      <th></th>\n",
       "      <th>Age</th>\n",
       "      <th>Income</th>\n",
       "      <th>SpendingScore</th>\n",
       "      <th>Savings</th>\n",
       "    </tr>\n",
       "  </thead>\n",
       "  <tbody>\n",
       "    <tr>\n",
       "      <th>0</th>\n",
       "      <td>58</td>\n",
       "      <td>77769</td>\n",
       "      <td>0.791329</td>\n",
       "      <td>6559.829923</td>\n",
       "    </tr>\n",
       "    <tr>\n",
       "      <th>1</th>\n",
       "      <td>59</td>\n",
       "      <td>81799</td>\n",
       "      <td>0.791082</td>\n",
       "      <td>5417.661426</td>\n",
       "    </tr>\n",
       "    <tr>\n",
       "      <th>2</th>\n",
       "      <td>62</td>\n",
       "      <td>74751</td>\n",
       "      <td>0.702657</td>\n",
       "      <td>9258.992965</td>\n",
       "    </tr>\n",
       "    <tr>\n",
       "      <th>3</th>\n",
       "      <td>59</td>\n",
       "      <td>74373</td>\n",
       "      <td>0.765680</td>\n",
       "      <td>7346.334504</td>\n",
       "    </tr>\n",
       "    <tr>\n",
       "      <th>4</th>\n",
       "      <td>87</td>\n",
       "      <td>17760</td>\n",
       "      <td>0.348778</td>\n",
       "      <td>16869.507130</td>\n",
       "    </tr>\n",
       "  </tbody>\n",
       "</table>\n",
       "</div>"
      ],
      "text/plain": [
       "   Age  Income  SpendingScore       Savings\n",
       "0   58   77769       0.791329   6559.829923\n",
       "1   59   81799       0.791082   5417.661426\n",
       "2   62   74751       0.702657   9258.992965\n",
       "3   59   74373       0.765680   7346.334504\n",
       "4   87   17760       0.348778  16869.507130"
      ]
     },
     "metadata": {},
     "output_type": "display_data"
    }
   ],
   "source": [
    "from pycaret.datasets import get_data\n",
    "\n",
    "jewellery = get_data('jewellery')"
   ]
  },
  {
   "cell_type": "code",
   "execution_count": 2,
   "metadata": {},
   "outputs": [],
   "source": [
    "import pandas as pd"
   ]
  },
  {
   "cell_type": "code",
   "execution_count": 3,
   "metadata": {},
   "outputs": [],
   "source": [
    "from pycaret.clustering import *"
   ]
  },
  {
   "cell_type": "code",
   "execution_count": 5,
   "metadata": {},
   "outputs": [
    {
     "data": {
      "text/html": [
       "<style type=\"text/css\">\n",
       "#T_1240f_row4_col1 {\n",
       "  background-color: lightgreen;\n",
       "}\n",
       "</style>\n",
       "<table id=\"T_1240f\">\n",
       "  <thead>\n",
       "    <tr>\n",
       "      <th class=\"blank level0\" >&nbsp;</th>\n",
       "      <th id=\"T_1240f_level0_col0\" class=\"col_heading level0 col0\" >Description</th>\n",
       "      <th id=\"T_1240f_level0_col1\" class=\"col_heading level0 col1\" >Value</th>\n",
       "    </tr>\n",
       "  </thead>\n",
       "  <tbody>\n",
       "    <tr>\n",
       "      <th id=\"T_1240f_level0_row0\" class=\"row_heading level0 row0\" >0</th>\n",
       "      <td id=\"T_1240f_row0_col0\" class=\"data row0 col0\" >Session id</td>\n",
       "      <td id=\"T_1240f_row0_col1\" class=\"data row0 col1\" >6446</td>\n",
       "    </tr>\n",
       "    <tr>\n",
       "      <th id=\"T_1240f_level0_row1\" class=\"row_heading level0 row1\" >1</th>\n",
       "      <td id=\"T_1240f_row1_col0\" class=\"data row1 col0\" >Original data shape</td>\n",
       "      <td id=\"T_1240f_row1_col1\" class=\"data row1 col1\" >(505, 4)</td>\n",
       "    </tr>\n",
       "    <tr>\n",
       "      <th id=\"T_1240f_level0_row2\" class=\"row_heading level0 row2\" >2</th>\n",
       "      <td id=\"T_1240f_row2_col0\" class=\"data row2 col0\" >Transformed data shape</td>\n",
       "      <td id=\"T_1240f_row2_col1\" class=\"data row2 col1\" >(505, 4)</td>\n",
       "    </tr>\n",
       "    <tr>\n",
       "      <th id=\"T_1240f_level0_row3\" class=\"row_heading level0 row3\" >3</th>\n",
       "      <td id=\"T_1240f_row3_col0\" class=\"data row3 col0\" >Numeric features</td>\n",
       "      <td id=\"T_1240f_row3_col1\" class=\"data row3 col1\" >4</td>\n",
       "    </tr>\n",
       "    <tr>\n",
       "      <th id=\"T_1240f_level0_row4\" class=\"row_heading level0 row4\" >4</th>\n",
       "      <td id=\"T_1240f_row4_col0\" class=\"data row4 col0\" >Preprocess</td>\n",
       "      <td id=\"T_1240f_row4_col1\" class=\"data row4 col1\" >True</td>\n",
       "    </tr>\n",
       "    <tr>\n",
       "      <th id=\"T_1240f_level0_row5\" class=\"row_heading level0 row5\" >5</th>\n",
       "      <td id=\"T_1240f_row5_col0\" class=\"data row5 col0\" >Imputation type</td>\n",
       "      <td id=\"T_1240f_row5_col1\" class=\"data row5 col1\" >simple</td>\n",
       "    </tr>\n",
       "    <tr>\n",
       "      <th id=\"T_1240f_level0_row6\" class=\"row_heading level0 row6\" >6</th>\n",
       "      <td id=\"T_1240f_row6_col0\" class=\"data row6 col0\" >Numeric imputation</td>\n",
       "      <td id=\"T_1240f_row6_col1\" class=\"data row6 col1\" >mean</td>\n",
       "    </tr>\n",
       "    <tr>\n",
       "      <th id=\"T_1240f_level0_row7\" class=\"row_heading level0 row7\" >7</th>\n",
       "      <td id=\"T_1240f_row7_col0\" class=\"data row7 col0\" >Categorical imputation</td>\n",
       "      <td id=\"T_1240f_row7_col1\" class=\"data row7 col1\" >mode</td>\n",
       "    </tr>\n",
       "    <tr>\n",
       "      <th id=\"T_1240f_level0_row8\" class=\"row_heading level0 row8\" >8</th>\n",
       "      <td id=\"T_1240f_row8_col0\" class=\"data row8 col0\" >CPU Jobs</td>\n",
       "      <td id=\"T_1240f_row8_col1\" class=\"data row8 col1\" >-1</td>\n",
       "    </tr>\n",
       "    <tr>\n",
       "      <th id=\"T_1240f_level0_row9\" class=\"row_heading level0 row9\" >9</th>\n",
       "      <td id=\"T_1240f_row9_col0\" class=\"data row9 col0\" >Use GPU</td>\n",
       "      <td id=\"T_1240f_row9_col1\" class=\"data row9 col1\" >False</td>\n",
       "    </tr>\n",
       "    <tr>\n",
       "      <th id=\"T_1240f_level0_row10\" class=\"row_heading level0 row10\" >10</th>\n",
       "      <td id=\"T_1240f_row10_col0\" class=\"data row10 col0\" >Log Experiment</td>\n",
       "      <td id=\"T_1240f_row10_col1\" class=\"data row10 col1\" >False</td>\n",
       "    </tr>\n",
       "    <tr>\n",
       "      <th id=\"T_1240f_level0_row11\" class=\"row_heading level0 row11\" >11</th>\n",
       "      <td id=\"T_1240f_row11_col0\" class=\"data row11 col0\" >Experiment Name</td>\n",
       "      <td id=\"T_1240f_row11_col1\" class=\"data row11 col1\" >cluster-default-name</td>\n",
       "    </tr>\n",
       "    <tr>\n",
       "      <th id=\"T_1240f_level0_row12\" class=\"row_heading level0 row12\" >12</th>\n",
       "      <td id=\"T_1240f_row12_col0\" class=\"data row12 col0\" >USI</td>\n",
       "      <td id=\"T_1240f_row12_col1\" class=\"data row12 col1\" >7dfc</td>\n",
       "    </tr>\n",
       "  </tbody>\n",
       "</table>\n"
      ],
      "text/plain": [
       "<pandas.io.formats.style.Styler at 0x2a504d21450>"
      ]
     },
     "metadata": {},
     "output_type": "display_data"
    },
    {
     "name": "stderr",
     "output_type": "stream",
     "text": [
      "d:\\dev\\venv\\Lib\\site-packages\\pycaret\\internal\\metrics.py:51: FutureWarning: The `needs_threshold` and `needs_proba` parameter are deprecated in version 1.4 and will be removed in 1.6. You can either let `response_method` be `None` or set it to `predict` to preserve the same behaviour.\n",
      "  warnings.warn(\n"
     ]
    },
    {
     "data": {
      "text/plain": [
       "<pycaret.clustering.oop.ClusteringExperiment at 0x2a517b07cd0>"
      ]
     },
     "execution_count": 5,
     "metadata": {},
     "output_type": "execute_result"
    }
   ],
   "source": [
    "setup(\n",
    "    jewellery\n",
    ")"
   ]
  },
  {
   "cell_type": "code",
   "execution_count": 6,
   "metadata": {},
   "outputs": [
    {
     "data": {
      "text/html": [],
      "text/plain": [
       "<IPython.core.display.HTML object>"
      ]
     },
     "metadata": {},
     "output_type": "display_data"
    },
    {
     "data": {
      "text/html": [
       "<style type=\"text/css\">\n",
       "</style>\n",
       "<table id=\"T_73999\">\n",
       "  <thead>\n",
       "    <tr>\n",
       "      <th class=\"blank level0\" >&nbsp;</th>\n",
       "      <th id=\"T_73999_level0_col0\" class=\"col_heading level0 col0\" >Silhouette</th>\n",
       "      <th id=\"T_73999_level0_col1\" class=\"col_heading level0 col1\" >Calinski-Harabasz</th>\n",
       "      <th id=\"T_73999_level0_col2\" class=\"col_heading level0 col2\" >Davies-Bouldin</th>\n",
       "      <th id=\"T_73999_level0_col3\" class=\"col_heading level0 col3\" >Homogeneity</th>\n",
       "      <th id=\"T_73999_level0_col4\" class=\"col_heading level0 col4\" >Rand Index</th>\n",
       "      <th id=\"T_73999_level0_col5\" class=\"col_heading level0 col5\" >Completeness</th>\n",
       "    </tr>\n",
       "  </thead>\n",
       "  <tbody>\n",
       "    <tr>\n",
       "      <th id=\"T_73999_level0_row0\" class=\"row_heading level0 row0\" >0</th>\n",
       "      <td id=\"T_73999_row0_col0\" class=\"data row0 col0\" >0.7217</td>\n",
       "      <td id=\"T_73999_row0_col1\" class=\"data row0 col1\" >5009.6748</td>\n",
       "      <td id=\"T_73999_row0_col2\" class=\"data row0 col2\" >0.4082</td>\n",
       "      <td id=\"T_73999_row0_col3\" class=\"data row0 col3\" >0</td>\n",
       "      <td id=\"T_73999_row0_col4\" class=\"data row0 col4\" >0</td>\n",
       "      <td id=\"T_73999_row0_col5\" class=\"data row0 col5\" >0</td>\n",
       "    </tr>\n",
       "  </tbody>\n",
       "</table>\n"
      ],
      "text/plain": [
       "<pandas.io.formats.style.Styler at 0x2a517fc5690>"
      ]
     },
     "metadata": {},
     "output_type": "display_data"
    },
    {
     "data": {
      "text/html": [],
      "text/plain": [
       "<IPython.core.display.HTML object>"
      ]
     },
     "metadata": {},
     "output_type": "display_data"
    }
   ],
   "source": [
    "kmeans = create_model('kmeans')"
   ]
  },
  {
   "cell_type": "code",
   "execution_count": 7,
   "metadata": {},
   "outputs": [
    {
     "data": {
      "text/html": [],
      "text/plain": [
       "<IPython.core.display.HTML object>"
      ]
     },
     "metadata": {},
     "output_type": "display_data"
    },
    {
     "data": {
      "image/png": "[encoded data removed]",
      "text/plain": [
       "<Figure size 800x550 with 1 Axes>"
      ]
     },
     "metadata": {},
     "output_type": "display_data"
    }
   ],
   "source": [
    "plot_model(kmeans, plot='elbow')"
   ]
  },
  {
   "cell_type": "code",
   "execution_count": 8,
   "metadata": {},
   "outputs": [
    {
     "data": {
      "text/html": [],
      "text/plain": [
       "<IPython.core.display.HTML object>"
      ]
     },
     "metadata": {},
     "output_type": "display_data"
    },
    {
     "data": {
      "application/vnd.plotly.v1+json": {
       "config": {
        "plotlyServerURL": "https://plot.ly"
       },
       "data": [
        {
         "customdata": [
          [
           26
          ],
          [
           28
          ],
          [
           20
          ],
          [
           17
          ],
          [
           24
          ],
          [
           24
          ],
          [
           29
          ],
          [
           17
          ],
          [
           27
          ],
          [
           93
          ],
          [
           28
          ],
          [
           17
          ],
          [
           28
          ],
          [
           23
          ],
          [
           28
          ],
          [
           23
          ],
          [
           18
          ],
          [
           29
          ],
          [
           23
          ],
          [
           27
          ],
          [
           24
          ],
          [
           25
          ],
          [
           25
          ],
          [
           34
          ],
          [
           86
          ],
          [
           87
          ],
          [
           82
          ],
          [
           24
          ],
          [
           20
          ],
          [
           82
          ],
          [
           22
          ],
          [
           25
          ],
          [
           28
          ],
          [
           21
          ],
          [
           88
          ],
          [
           26
          ],
          [
           21
          ],
          [
           27
          ],
          [
           23
          ],
          [
           31
          ],
          [
           24
          ],
          [
           77
          ],
          [
           86
          ],
          [
           91
          ],
          [
           83
          ],
          [
           24
          ],
          [
           26
          ],
          [
           88
          ],
          [
           22
          ],
          [
           84
          ],
          [
           18
          ],
          [
           90
          ],
          [
           89
          ],
          [
           22
          ],
          [
           30
          ],
          [
           17
          ],
          [
           26
          ],
          [
           26
          ],
          [
           28
          ],
          [
           29
          ],
          [
           83
          ],
          [
           90
          ],
          [
           24
          ],
          [
           25
          ],
          [
           85
          ],
          [
           20
          ],
          [
           25
          ],
          [
           25
          ],
          [
           29
          ],
          [
           92
          ]
         ],
         "hovertemplate": "Cluster=Cluster 0<br>0=%{x}<br>1=%{y}<br>2=%{z}<br>Feature=%{customdata[0]}<extra></extra>",
         "legendgroup": "Cluster 0",
         "marker": {
          "color": "#636efa",
          "opacity": 0.7,
          "symbol": "circle"
         },
         "mode": "markers",
         "name": "Cluster 0",
         "scene": "scene",
         "showlegend": true,
         "type": "scatter3d",
         "x": [
          14.078836,
          14.482587,
          14.822831,
          13.291831,
          14.754,
          13.7192745,
          14.527661,
          13.124304,
          14.838459,
          14.67467,
          14.762836,
          14.5505295,
          13.890618,
          14.087028,
          14.193553,
          13.406957,
          14.393345,
          14.133874,
          13.079679,
          14.426002,
          13.104522,
          13.075655,
          13.713367,
          14.361341,
          14.715989,
          13.672373,
          14.668587,
          13.979124,
          13.573031,
          14.392302,
          14.73958,
          14.696362,
          14.88507,
          13.937281,
          14.543143,
          14.171291,
          14.346296,
          14.285916,
          14.764095,
          14.709059,
          13.254852,
          14.716969,
          14.599158,
          13.935718,
          14.341378,
          13.035527,
          13.952332,
          14.264085,
          13.339882,
          14.480206,
          13.515094,
          14.580543,
          14.427084,
          13.501721,
          14.508419,
          13.039143,
          13.252227,
          14.232015,
          13.756776,
          13.012535,
          13.973923,
          13.554724,
          13.523768,
          13.814658,
          14.154422,
          13.744581,
          13.754935,
          13.890204,
          13.367832,
          14.492296
         ],
         "y": [
          5.883097,
          5.467618,
          4.585666,
          7.7942996,
          4.1780543,
          6.555356,
          4.9476047,
          8.110004,
          4.6905212,
          0.2963467,
          4.1052427,
          5.016496,
          5.708765,
          5.793021,
          4.813677,
          6.5643315,
          4.757719,
          -1.6567837,
          8.082078,
          4.2054906,
          8.126149,
          8.077859,
          6.9938025,
          -1.5373296,
          0.54879075,
          -2.295793,
          0.20763563,
          6.09367,
          6.0990753,
          -0.87542087,
          4.004655,
          4.0098886,
          3.7422476,
          6.5109673,
          -0.2917819,
          5.046704,
          5.2055354,
          5.4654536,
          4.168637,
          5.0346475,
          6.6961036,
          0.5261211,
          -0.15692165,
          -1.812321,
          -1.7177016,
          7.5025115,
          5.6165257,
          -1.1728668,
          7.2508316,
          -0.55898,
          6.4716973,
          -0.19503814,
          -1.6475086,
          7.5354166,
          4.2512345,
          7.502305,
          6.8659034,
          4.5817027,
          6.5844297,
          8.160008,
          -2.2117984,
          -2.1737447,
          7.470449,
          6.0561013,
          -2.2013369,
          6.034866,
          6.7024846,
          6.629877,
          7.1283307,
          -0.50281847
         ],
         "z": [
          1.0373929,
          2.2765315,
          1.713759,
          -1.271618,
          2.3310437,
          0.39245817,
          2.3061461,
          -0.57092553,
          1.7599638,
          0.5034501,
          1.9874544,
          1.5101914,
          0.2193785,
          1.0028373,
          1.8766918,
          0.050406102,
          1.4145831,
          0.54382527,
          -1.389067,
          2.0932317,
          -0.97513145,
          -1.3135593,
          -0.20105891,
          0.42228097,
          0.47772375,
          0.80541056,
          0.4894932,
          0.832926,
          -0.26771927,
          0.6137338,
          2.1944232,
          2.0508385,
          2.6289208,
          -0.11602074,
          0.5878942,
          0.706894,
          1.8687843,
          1.4595958,
          2.3800178,
          1.9873977,
          -0.3283706,
          0.47477892,
          0.5111937,
          0.812443,
          0.40415296,
          -0.85748446,
          0.31579518,
          0.67406005,
          -1.1784848,
          0.59861326,
          -0.6124611,
          0.53219205,
          0.26107067,
          -0.49360135,
          1.5119166,
          -1.0729492,
          -0.59124213,
          1.7275201,
          0.4437304,
          -1.7255843,
          0.25577497,
          1.13955,
          -1.0772382,
          0.09099548,
          0.65711814,
          -0.22039491,
          -0.5881587,
          -0.35108218,
          -0.23179917,
          0.5993422
         ]
        },
        {
         "customdata": [
          [
           88
          ],
          [
           90
          ],
          [
           86
          ],
          [
           85
          ],
          [
           91
          ],
          [
           86
          ],
          [
           91
          ],
          [
           94
          ],
          [
           88
          ],
          [
           85
          ],
          [
           83
          ],
          [
           94
          ],
          [
           91
          ],
          [
           86
          ],
          [
           90
          ],
          [
           88
          ],
          [
           92
          ],
          [
           85
          ],
          [
           83
          ],
          [
           91
          ],
          [
           94
          ],
          [
           83
          ],
          [
           94
          ],
          [
           88
          ],
          [
           89
          ],
          [
           89
          ],
          [
           83
          ],
          [
           87
          ],
          [
           91
          ],
          [
           85
          ],
          [
           88
          ],
          [
           88
          ],
          [
           84
          ],
          [
           92
          ],
          [
           84
          ],
          [
           88
          ],
          [
           89
          ],
          [
           86
          ],
          [
           85
          ],
          [
           87
          ],
          [
           87
          ],
          [
           89
          ],
          [
           86
          ],
          [
           91
          ],
          [
           88
          ],
          [
           89
          ],
          [
           88
          ],
          [
           85
          ],
          [
           87
          ],
          [
           91
          ],
          [
           85
          ],
          [
           90
          ],
          [
           87
          ],
          [
           91
          ],
          [
           95
          ],
          [
           84
          ],
          [
           87
          ],
          [
           87
          ],
          [
           94
          ],
          [
           82
          ],
          [
           91
          ],
          [
           93
          ],
          [
           82
          ],
          [
           92
          ],
          [
           89
          ],
          [
           84
          ],
          [
           87
          ],
          [
           90
          ],
          [
           91
          ],
          [
           81
          ],
          [
           93
          ],
          [
           89
          ],
          [
           88
          ],
          [
           85
          ],
          [
           82
          ],
          [
           89
          ],
          [
           94
          ],
          [
           88
          ],
          [
           91
          ],
          [
           84
          ],
          [
           90
          ],
          [
           88
          ],
          [
           90
          ],
          [
           84
          ],
          [
           91
          ],
          [
           94
          ],
          [
           92
          ],
          [
           89
          ],
          [
           86
          ],
          [
           91
          ],
          [
           97
          ],
          [
           90
          ],
          [
           87
          ],
          [
           92
          ],
          [
           87
          ],
          [
           83
          ],
          [
           92
          ],
          [
           90
          ],
          [
           86
          ],
          [
           87
          ],
          [
           91
          ],
          [
           88
          ],
          [
           79
          ],
          [
           83
          ],
          [
           91
          ],
          [
           84
          ],
          [
           86
          ],
          [
           85
          ],
          [
           87
          ],
          [
           83
          ],
          [
           83
          ],
          [
           84
          ],
          [
           89
          ],
          [
           87
          ],
          [
           91
          ],
          [
           87
          ],
          [
           87
          ],
          [
           91
          ],
          [
           87
          ],
          [
           89
          ],
          [
           88
          ],
          [
           93
          ],
          [
           84
          ],
          [
           92
          ],
          [
           85
          ],
          [
           85
          ],
          [
           90
          ],
          [
           86
          ],
          [
           90
          ],
          [
           88
          ],
          [
           83
          ],
          [
           84
          ],
          [
           82
          ],
          [
           82
          ],
          [
           79
          ],
          [
           87
          ],
          [
           90
          ],
          [
           91
          ],
          [
           88
          ],
          [
           83
          ],
          [
           87
          ],
          [
           84
          ],
          [
           89
          ],
          [
           84
          ],
          [
           88
          ],
          [
           84
          ],
          [
           92
          ]
         ],
         "hovertemplate": "Cluster=Cluster 1<br>0=%{x}<br>1=%{y}<br>2=%{z}<br>Feature=%{customdata[0]}<extra></extra>",
         "legendgroup": "Cluster 1",
         "marker": {
          "color": "#EF553B",
          "opacity": 0.7,
          "symbol": "circle"
         },
         "mode": "markers",
         "name": "Cluster 1",
         "scene": "scene",
         "showlegend": true,
         "type": "scatter3d",
         "x": [
          -14.040224,
          -14.130913,
          -13.949607,
          -14.288116,
          -14.34836,
          -14.163412,
          -13.982392,
          -14.552192,
          -14.35858,
          -14.652263,
          -14.642325,
          -13.205015,
          -14.603937,
          -13.8658285,
          -14.555892,
          -14.141796,
          -14.036631,
          -14.165786,
          -13.920293,
          -14.178268,
          -14.005196,
          -14.05596,
          -13.923679,
          -13.585265,
          -14.373755,
          -14.314262,
          -13.978622,
          -14.050349,
          -14.689752,
          -13.866181,
          -13.691142,
          -14.053624,
          -14.414419,
          -13.901184,
          -13.445841,
          -13.875966,
          -14.507518,
          -12.153022,
          -13.818631,
          -14.1538,
          -14.118781,
          -13.752329,
          -14.30919,
          -14.214182,
          -13.983159,
          -14.077361,
          -13.88557,
          -13.933973,
          -14.210694,
          -13.633942,
          -14.364711,
          -14.331754,
          -13.951752,
          -14.455334,
          -14.697913,
          -14.71027,
          -13.666513,
          -12.143481,
          -14.009351,
          -14.130409,
          -13.913451,
          -14.05758,
          -14.083838,
          -14.361459,
          -13.86244,
          -14.111687,
          -14.455011,
          -14.063972,
          -14.189105,
          -13.852119,
          -14.040823,
          -14.364499,
          -14.2454405,
          -14.635144,
          -14.189204,
          -13.876838,
          -14.263993,
          -14.044729,
          -14.676026,
          -14.25419,
          -14.012759,
          -14.164566,
          -14.032333,
          -14.230305,
          -14.570738,
          -14.393578,
          -13.682506,
          -14.048895,
          -14.018897,
          -13.956292,
          -13.982005,
          -13.577692,
          -13.851261,
          -13.937892,
          -14.192259,
          -14.009982,
          -14.226156,
          -13.877478,
          -14.512803,
          -14.104273,
          -14.5067425,
          -13.769959,
          -13.372413,
          -13.921088,
          -13.702859,
          -13.994987,
          -13.976385,
          -13.794462,
          -14.563844,
          -14.664284,
          -14.410088,
          -13.708065,
          -13.862425,
          -12.472761,
          -14.699974,
          -14.366664,
          -14.165128,
          -13.988301,
          -13.624327,
          -13.577314,
          -14.526024,
          -14.090604,
          -14.27644,
          -14.061899,
          -13.986413,
          -13.944956,
          -13.746863,
          -13.85021,
          -14.057762,
          -14.225804,
          -13.645321,
          -14.663724,
          -14.341948,
          -14.138613,
          -13.854827,
          -14.052647,
          -13.784396,
          -14.178613,
          -13.767835,
          -14.217928,
          -14.565527,
          -14.574628,
          -14.082217,
          -13.973077,
          -14.486035,
          -12.515136,
          -13.876227
         ],
         "y": [
          -1.9094884,
          -5.230305,
          4.604287,
          -5.8857813,
          -1.286416,
          -3.6847105,
          -5.1033764,
          -2.8908985,
          -3.61215,
          -1.4763476,
          -1.9783409,
          -11.073506,
          -4.0213923,
          -10.401596,
          -0.76206833,
          2.1412697,
          -7.9044776,
          -3.294382,
          4.9333224,
          -1.9726014,
          -1.8816946,
          -3.266808,
          3.4966216,
          5.0091634,
          -6.1750107,
          -0.13118768,
          -5.4120255,
          -0.40359485,
          -5.0064692,
          -9.332786,
          5.273181,
          -7.7327204,
          -2.3502471,
          -10.109599,
          -10.932273,
          4.223199,
          -1.089903,
          -11.393801,
          -1.860075,
          -0.53163666,
          -5.220974,
          4.37584,
          -7.2184196,
          6.267186,
          -9.623471,
          -8.289723,
          -1.1406404,
          3.1150763,
          6.268534,
          -10.390291,
          -4.2528033,
          2.5137382,
          -5.6528234,
          -0.19697052,
          -2.2073228,
          -2.7639356,
          4.79679,
          -11.396938,
          4.549767,
          -8.616776,
          5.4310017,
          3.7023206,
          -7.5632052,
          2.4097872,
          3.7726238,
          -1.9576542,
          0.44921473,
          -8.440003,
          3.5441813,
          -9.029643,
          5.1667805,
          -1.8206476,
          -8.404811,
          -4.9039702,
          0.846876,
          -5.1205535,
          1.1650764,
          -6.272632,
          -2.0546381,
          -5.606506,
          0.7005484,
          5.058631,
          1.9513253,
          0.9459652,
          -3.3316827,
          -3.40372,
          4.669912,
          2.5817306,
          5.7721562,
          2.010726,
          -1.9513164,
          -10.799192,
          5.775221,
          -9.870195,
          -0.86979455,
          -8.112026,
          2.174855,
          -8.039354,
          -2.7893872,
          1.5518069,
          -0.85231996,
          -8.100407,
          -10.95143,
          -9.142059,
          -10.672631,
          3.517949,
          1.4543108,
          2.6534488,
          -1.6717682,
          -4.092343,
          -5.8394346,
          -10.33714,
          0.4159659,
          -11.297567,
          -4.5664024,
          1.9881815,
          -5.175209,
          -5.650066,
          5.101187,
          -8.794031,
          -3.5481575,
          4.0283413,
          2.477939,
          -8.491923,
          -3.0253637,
          -9.24447,
          -9.618919,
          -10.160956,
          -3.8757644,
          -3.7512128,
          -8.801234,
          -2.892009,
          0.6749949,
          -8.650163,
          -7.345344,
          -6.40824,
          -8.068004,
          0.71841943,
          -8.629773,
          1.678423,
          -5.140345,
          -4.7601414,
          -2.942033,
          4.887363,
          -1.038136,
          -11.279619,
          -10.204196
         ],
         "z": [
          1.152037,
          0.9447855,
          -0.07970217,
          0.25480753,
          -0.13254926,
          0.8721421,
          1.5198132,
          -0.67955315,
          0.14112295,
          -1.3326576,
          -1.1897485,
          1.0287795,
          -0.8542055,
          -0.06206514,
          -1.1144565,
          -0.42673433,
          0.9073502,
          0.8501046,
          -0.03356508,
          0.6543731,
          1.2739205,
          1.2415277,
          -0.14997995,
          -0.45964178,
          -0.14331372,
          -0.32310703,
          1.5176905,
          0.7595865,
          -1.2453911,
          1.3037924,
          -0.4003591,
          0.869203,
          -0.18905693,
          0.8900009,
          0.8826605,
          -0.28015345,
          -0.8206205,
          1.1564915,
          1.9332427,
          0.41142112,
          0.9921307,
          -0.38038144,
          -0.10975096,
          -0.087817535,
          0.5998973,
          0.6639528,
          1.5472881,
          -0.03535337,
          -0.07355188,
          1.4125121,
          0.10657711,
          -1.2798104,
          1.5964342,
          -0.8675616,
          -1.3858154,
          -1.3725648,
          0.075763874,
          1.1604705,
          -0.8840729,
          0.29244635,
          -0.5719683,
          -0.72716814,
          0.78247565,
          -1.3530616,
          -0.034402404,
          0.89943284,
          -1.0691704,
          0.69313776,
          -1.1417854,
          1.383183,
          -1.0465378,
          -0.08172551,
          -0.21609204,
          -1.0224414,
          -0.14161192,
          1.9190557,
          -0.54475665,
          1.1550488,
          -1.3188457,
          0.43096474,
          0.5666927,
          -0.6610364,
          0.05566508,
          -0.34026527,
          -0.725939,
          -0.0020133927,
          0.18760554,
          -0.24301499,
          -0.49582708,
          0.3183756,
          1.3689691,
          0.9397787,
          0.18168478,
          0.81775624,
          0.35764664,
          1.0011524,
          -0.75765496,
          1.5238987,
          -0.52579284,
          -0.06902357,
          -0.8843616,
          1.9000778,
          1.1929718,
          1.216365,
          0.2939066,
          -0.4234132,
          0.443897,
          0.6832911,
          -0.91606694,
          -1.1128368,
          -0.23149933,
          1.3086953,
          1.2138366,
          1.088917,
          -1.2673796,
          -1.2222159,
          0.81766355,
          1.4581923,
          -0.52645314,
          2.3778775,
          -0.52941173,
          -0.9645831,
          -1.0607568,
          0.69133466,
          1.4716296,
          1.0729241,
          1.5544105,
          1.1237195,
          1.2538956,
          0.6444267,
          2.1483724,
          -1.1606348,
          -0.68780476,
          0.23818749,
          1.7145423,
          1.1022062,
          1.8533622,
          -0.06539507,
          1.7907203,
          -0.5470833,
          -0.7623991,
          -0.76855767,
          1.1249925,
          -0.9062235,
          -0.7457781,
          1.1176963,
          0.86223745
         ]
        },
        {
         "customdata": [
          [
           65
          ],
          [
           61
          ],
          [
           58
          ],
          [
           59
          ],
          [
           65
          ],
          [
           61
          ],
          [
           56
          ],
          [
           62
          ],
          [
           58
          ],
          [
           61
          ],
          [
           66
          ],
          [
           59
          ],
          [
           59
          ],
          [
           56
          ],
          [
           59
          ],
          [
           60
          ],
          [
           62
          ],
          [
           63
          ],
          [
           51
          ],
          [
           56
          ],
          [
           55
          ],
          [
           58
          ],
          [
           59
          ],
          [
           68
          ],
          [
           58
          ],
          [
           61
          ],
          [
           55
          ],
          [
           58
          ],
          [
           67
          ],
          [
           56
          ],
          [
           57
          ],
          [
           67
          ],
          [
           59
          ],
          [
           60
          ],
          [
           57
          ],
          [
           61
          ],
          [
           60
          ],
          [
           64
          ],
          [
           62
          ],
          [
           58
          ],
          [
           59
          ],
          [
           63
          ],
          [
           61
          ],
          [
           59
          ],
          [
           59
          ],
          [
           56
          ],
          [
           60
          ],
          [
           57
          ],
          [
           61
          ],
          [
           63
          ],
          [
           58
          ],
          [
           59
          ],
          [
           59
          ],
          [
           61
          ],
          [
           67
          ],
          [
           65
          ],
          [
           59
          ],
          [
           59
          ],
          [
           58
          ],
          [
           61
          ],
          [
           62
          ],
          [
           66
          ],
          [
           57
          ],
          [
           66
          ],
          [
           63
          ],
          [
           64
          ],
          [
           62
          ],
          [
           62
          ],
          [
           60
          ],
          [
           65
          ],
          [
           60
          ],
          [
           63
          ],
          [
           56
          ],
          [
           58
          ],
          [
           62
          ],
          [
           56
          ],
          [
           59
          ],
          [
           58
          ],
          [
           63
          ],
          [
           64
          ],
          [
           62
          ],
          [
           60
          ],
          [
           62
          ],
          [
           58
          ],
          [
           56
          ],
          [
           62
          ],
          [
           64
          ],
          [
           66
          ],
          [
           59
          ],
          [
           62
          ],
          [
           65
          ],
          [
           61
          ],
          [
           62
          ],
          [
           60
          ],
          [
           63
          ],
          [
           59
          ],
          [
           62
          ],
          [
           59
          ],
          [
           54
          ],
          [
           61
          ],
          [
           55
          ],
          [
           53
          ],
          [
           55
          ],
          [
           61
          ],
          [
           59
          ],
          [
           59
          ],
          [
           56
          ],
          [
           61
          ],
          [
           61
          ],
          [
           60
          ],
          [
           57
          ],
          [
           61
          ],
          [
           56
          ],
          [
           58
          ],
          [
           64
          ],
          [
           59
          ],
          [
           58
          ],
          [
           59
          ],
          [
           58
          ],
          [
           57
          ],
          [
           55
          ],
          [
           62
          ],
          [
           64
          ],
          [
           61
          ],
          [
           53
          ],
          [
           55
          ],
          [
           58
          ],
          [
           59
          ],
          [
           57
          ],
          [
           53
          ],
          [
           61
          ],
          [
           56
          ],
          [
           60
          ],
          [
           58
          ],
          [
           68
          ],
          [
           59
          ],
          [
           64
          ],
          [
           64
          ],
          [
           64
          ],
          [
           62
          ],
          [
           66
          ],
          [
           59
          ],
          [
           57
          ],
          [
           61
          ],
          [
           67
          ],
          [
           58
          ],
          [
           63
          ],
          [
           63
          ],
          [
           56
          ],
          [
           55
          ],
          [
           57
          ],
          [
           57
          ],
          [
           55
          ],
          [
           60
          ],
          [
           58
          ],
          [
           58
          ]
         ],
         "hovertemplate": "Cluster=Cluster 2<br>0=%{x}<br>1=%{y}<br>2=%{z}<br>Feature=%{customdata[0]}<extra></extra>",
         "legendgroup": "Cluster 2",
         "marker": {
          "color": "#00cc96",
          "opacity": 0.7,
          "symbol": "circle"
         },
         "mode": "markers",
         "name": "Cluster 2",
         "scene": "scene",
         "showlegend": true,
         "type": "scatter3d",
         "x": [
          -0.9959876,
          -2.1255589,
          -0.3718724,
          -1.3042814,
          -0.6824368,
          -0.61203986,
          -0.37596294,
          -1.7853233,
          -0.9413611,
          -0.40306973,
          -0.3996769,
          -1.7952621,
          -3.8055012,
          -0.2968368,
          -0.22598065,
          -1.1386334,
          -0.66169494,
          -1.8572628,
          -0.7155311,
          -0.24521922,
          -2.2668023,
          -0.26570898,
          -0.371556,
          -1.3872954,
          -0.27479926,
          -1.6010991,
          -0.2616055,
          -1.1459993,
          -0.483884,
          -0.4297571,
          -0.4202356,
          -0.34350002,
          -0.37918267,
          -2.1873684,
          -0.73444283,
          -0.34389016,
          -0.36492857,
          -2.706497,
          -1.2580874,
          -0.8563838,
          -1.4371135,
          -0.9193103,
          -0.7069637,
          -0.3078299,
          -0.4738123,
          -2.263877,
          -2.5442827,
          -2.2709448,
          -1.7913334,
          -0.25648844,
          -0.37846318,
          -1.5125563,
          -0.54887766,
          -2.105351,
          -1.4012662,
          -0.40678182,
          -1.5177243,
          -0.39019525,
          -0.37095386,
          -0.31613344,
          -0.5806393,
          -0.66553885,
          -0.3733593,
          -2.3809175,
          -0.6879842,
          -0.7500324,
          -2.534364,
          -2.7359216,
          -0.66591096,
          -2.1362565,
          -0.8692073,
          -0.44850427,
          -0.24525271,
          -0.32130858,
          -0.8624931,
          -1.4304106,
          -1.6905814,
          -0.30950606,
          -1.047177,
          -0.19227259,
          -1.3050538,
          -2.3342445,
          -0.32949442,
          -1.1653191,
          -1.2936664,
          -1.5432371,
          -0.46190786,
          -0.34443232,
          -1.5804458,
          -0.3492184,
          -2.1047523,
          -1.0459027,
          -1.8562319,
          -0.47612262,
          -0.20420808,
          -0.40724844,
          -0.26075292,
          -0.391051,
          -0.34402514,
          -0.6238517,
          -0.6826285,
          -0.49765104,
          -0.22242875,
          -0.2860294,
          -2.1226866,
          -1.1309776,
          -2.4817338,
          -0.6282014,
          -2.4540064,
          -1.0467743,
          -0.38334718,
          -0.48515692,
          -0.16345915,
          -1.2292799,
          -0.13698037,
          -0.24326017,
          -0.23874395,
          -0.6769646,
          -1.0115205,
          -0.3454547,
          -0.8015313,
          -1.340009,
          -3.2935817,
          -1.5357175,
          -2.8809319,
          -0.4841422,
          -0.40168118,
          -0.8598517,
          -0.58574665,
          -0.3208096,
          -0.9051824,
          -3.403505,
          -2.1982698,
          -0.38474908,
          -0.40720466,
          -1.3474121,
          -0.382616,
          -0.42543584,
          -2.4393842,
          -2.7429178,
          -0.7113309,
          -0.5471952,
          -2.1405008,
          -0.6992661,
          -3.6046422,
          -1.315389,
          -0.34374684,
          -3.769907,
          -1.8092974,
          -0.6113262,
          -1.3397207,
          -0.41314983,
          -0.43179017,
          -1.6988722,
          -0.29606584,
          -0.4444758
         ],
         "y": [
          9.781764,
          14.740043,
          3.3400452,
          11.1132145,
          8.917789,
          7.9391274,
          3.8255742,
          13.107726,
          9.849119,
          5.325978,
          2.2990801,
          13.341966,
          16.996107,
          0.6143432,
          1.5030406,
          10.326647,
          5.5813336,
          13.468297,
          7.6787515,
          -0.30759183,
          15.395088,
          0.9472744,
          -1.2768883,
          11.646562,
          -0.21228188,
          11.574287,
          2.5482779,
          11.13333,
          0.6087732,
          6.1368527,
          -0.073529474,
          -0.6591865,
          6.122845,
          14.812551,
          7.6656423,
          0.70991445,
          5.1949883,
          16.188843,
          11.169075,
          9.465786,
          11.431026,
          9.580334,
          7.7903686,
          -0.6151522,
          6.6665382,
          15.167245,
          15.972931,
          15.403659,
          13.351547,
          -1.2900434,
          1.3319166,
          12.628964,
          6.227225,
          14.606958,
          11.939349,
          5.13172,
          12.494321,
          3.916568,
          1.6254451,
          6.1775784,
          6.0249133,
          7.071653,
          2.7783525,
          15.467367,
          6.410837,
          8.193723,
          16.011671,
          16.291239,
          8.678357,
          14.749016,
          9.480881,
          -0.665517,
          -2.0161467,
          3.7851858,
          8.975318,
          11.930474,
          12.93548,
          0.8984325,
          10.454582,
          -2.4615054,
          11.131785,
          15.333622,
          1.0760512,
          10.533132,
          11.777387,
          12.393673,
          2.9129722,
          -1.3929081,
          12.639009,
          -0.17515498,
          14.566772,
          10.695881,
          13.64597,
          -0.28970122,
          -2.360686,
          -1.1310555,
          5.5693855,
          5.237886,
          2.9125485,
          8.099752,
          8.391961,
          2.6157537,
          0.87131953,
          2.446712,
          14.717327,
          10.647608,
          15.771256,
          5.342415,
          15.809226,
          10.29913,
          4.132526,
          6.4105115,
          -2.611726,
          9.905926,
          -2.845096,
          5.770764,
          2.2572913,
          6.9869027,
          9.99848,
          0.23803985,
          8.997362,
          10.803908,
          16.705915,
          11.461992,
          16.42372,
          5.1443243,
          5.2562246,
          8.607567,
          5.467813,
          4.7346587,
          8.786832,
          16.770386,
          14.954001,
          -0.33405164,
          1.729303,
          11.067102,
          0.70607305,
          2.9079614,
          15.685834,
          16.310417,
          8.2805,
          3.7042618,
          14.7918005,
          9.086854,
          16.8715,
          10.388373,
          4.5446625,
          16.980364,
          13.438342,
          5.5466933,
          10.873574,
          2.7529733,
          3.252055,
          13.10713,
          -1.681078,
          1.8049891
         ],
         "z": [
          0.21329564,
          -0.74333286,
          -0.51253295,
          0.6450066,
          -1.6328561,
          -0.9005354,
          -0.5480447,
          0.6132343,
          -0.3469919,
          -0.7056808,
          -0.25916994,
          0.15154074,
          -0.6373363,
          -1.1859516,
          -1.676999,
          0.5816184,
          1.1507834,
          0.48072892,
          0.21969953,
          -1.5810462,
          -0.25002253,
          -1.3956403,
          -0.6940788,
          0.26398852,
          -1.3931477,
          2.0374875,
          -1.3797717,
          -1.3949364,
          0.18220213,
          -0.91534495,
          -0.3648281,
          -0.9928713,
          -1.3442134,
          0.6120226,
          0.36573607,
          -0.8167295,
          -0.96730673,
          -1.1179656,
          0.1059542,
          -0.555477,
          1.0824845,
          -0.109060556,
          0.061924767,
          -1.1950285,
          -0.9470816,
          0.3720529,
          -0.8892428,
          -0.099663965,
          0.080285184,
          -1.39081,
          -0.49553397,
          -1.3283924,
          -0.020544635,
          -0.020737268,
          -0.34085292,
          -0.6026812,
          -0.61942357,
          -0.4524642,
          -0.52874714,
          -1.9378378,
          0.3410749,
          0.3050393,
          -0.4729155,
          0.5068065,
          0.89792514,
          0.052073464,
          -0.20014793,
          -0.8881786,
          -1.3699744,
          -0.038758624,
          -0.44340962,
          -0.21073045,
          -1.1786458,
          -0.99821436,
          0.1403862,
          0.012092797,
          0.12606272,
          -1.0663341,
          -0.5537932,
          -1.2579813,
          0.61491615,
          0.39656746,
          -0.8908682,
          0.5063211,
          -1.4234586,
          -0.0159537,
          0.19259676,
          -0.8385038,
          -0.26106527,
          -0.91477793,
          0.15834568,
          -1.4463667,
          -0.06350028,
          0.0138705475,
          -1.2427654,
          -0.48371708,
          -2.039304,
          -0.7724883,
          -0.7147536,
          -0.97592574,
          -0.7298231,
          0.4717706,
          -1.731493,
          -1.1722041,
          -0.4124521,
          -0.029454596,
          -0.97686094,
          0.98942757,
          -0.76423544,
          -0.139128,
          -0.540654,
          -0.646632,
          -1.3209468,
          1.6802157,
          -1.3452201,
          -2.285132,
          -1.5686444,
          0.44993976,
          0.057986915,
          -0.8752178,
          -0.35938773,
          1.3667419,
          -0.856078,
          1.7411479,
          -0.8824379,
          -0.01614894,
          -0.69033974,
          0.46349606,
          0.6393271,
          -1.1937134,
          0.606511,
          -0.77173436,
          -1.1403543,
          -0.6669586,
          -0.24606547,
          1.049666,
          -0.5371038,
          -0.07662421,
          0.07763618,
          -0.24670134,
          -0.3376756,
          0.7196937,
          -0.40964678,
          -1.7788522,
          -0.62773865,
          1.7083963,
          -0.95148635,
          -0.67594534,
          0.034979895,
          0.7959647,
          1.2694637,
          -0.16382207,
          -0.041540556,
          -0.2963353,
          -1.0327328,
          0.03581781
         ]
        },
        {
         "customdata": [
          [
           30
          ],
          [
           31
          ],
          [
           31
          ],
          [
           30
          ],
          [
           33
          ],
          [
           85
          ],
          [
           83
          ],
          [
           36
          ],
          [
           30
          ],
          [
           34
          ],
          [
           36
          ],
          [
           84
          ],
          [
           36
          ],
          [
           22
          ],
          [
           31
          ],
          [
           30
          ],
          [
           35
          ],
          [
           34
          ],
          [
           37
          ],
          [
           38
          ],
          [
           29
          ],
          [
           37
          ],
          [
           28
          ],
          [
           35
          ],
          [
           29
          ],
          [
           37
          ],
          [
           34
          ],
          [
           32
          ],
          [
           30
          ],
          [
           35
          ],
          [
           31
          ],
          [
           33
          ],
          [
           39
          ],
          [
           31
          ],
          [
           33
          ],
          [
           33
          ],
          [
           36
          ],
          [
           37
          ],
          [
           31
          ],
          [
           31
          ],
          [
           31
          ],
          [
           33
          ],
          [
           31
          ],
          [
           36
          ],
          [
           33
          ],
          [
           37
          ],
          [
           35
          ],
          [
           25
          ],
          [
           30
          ],
          [
           37
          ],
          [
           28
          ],
          [
           31
          ],
          [
           33
          ],
          [
           28
          ],
          [
           34
          ],
          [
           31
          ],
          [
           32
          ],
          [
           30
          ],
          [
           27
          ],
          [
           30
          ],
          [
           34
          ],
          [
           33
          ],
          [
           31
          ],
          [
           30
          ],
          [
           29
          ],
          [
           30
          ],
          [
           84
          ],
          [
           39
          ],
          [
           86
          ],
          [
           29
          ],
          [
           35
          ],
          [
           59
          ],
          [
           28
          ],
          [
           33
          ],
          [
           38
          ],
          [
           28
          ],
          [
           29
          ],
          [
           40
          ],
          [
           32
          ],
          [
           84
          ],
          [
           28
          ],
          [
           36
          ],
          [
           32
          ],
          [
           29
          ],
          [
           32
          ],
          [
           29
          ],
          [
           35
          ],
          [
           34
          ],
          [
           29
          ],
          [
           25
          ],
          [
           29
          ],
          [
           42
          ],
          [
           33
          ],
          [
           31
          ],
          [
           36
          ],
          [
           36
          ],
          [
           43
          ],
          [
           36
          ],
          [
           33
          ],
          [
           33
          ],
          [
           29
          ],
          [
           38
          ],
          [
           38
          ],
          [
           35
          ],
          [
           32
          ],
          [
           34
          ],
          [
           36
          ],
          [
           31
          ],
          [
           37
          ],
          [
           35
          ],
          [
           88
          ],
          [
           39
          ],
          [
           31
          ],
          [
           35
          ],
          [
           31
          ],
          [
           37
          ],
          [
           37
          ],
          [
           26
          ],
          [
           32
          ],
          [
           31
          ],
          [
           34
          ],
          [
           37
          ],
          [
           34
          ],
          [
           33
          ],
          [
           33
          ],
          [
           35
          ],
          [
           28
          ],
          [
           34
          ],
          [
           30
          ],
          [
           44
          ],
          [
           24
          ],
          [
           31
          ]
         ],
         "hovertemplate": "Cluster=Cluster 3<br>0=%{x}<br>1=%{y}<br>2=%{z}<br>Feature=%{customdata[0]}<extra></extra>",
         "legendgroup": "Cluster 3",
         "marker": {
          "color": "#ab63fa",
          "opacity": 0.7,
          "symbol": "circle"
         },
         "mode": "markers",
         "name": "Cluster 3",
         "scene": "scene",
         "showlegend": true,
         "type": "scatter3d",
         "x": [
          8.712046,
          8.955586,
          9.265617,
          8.810374,
          0.868244,
          12.014461,
          14.057504,
          0.4820915,
          4.050566,
          4.217879,
          5.973062,
          13.61693,
          2.1485803,
          10.646386,
          13.093375,
          1.0250419,
          6.7028117,
          5.986347,
          10.040167,
          0.29360694,
          7.79265,
          0.8395081,
          3.2621326,
          14.031771,
          0.21254262,
          8.241775,
          1.5724573,
          10.213848,
          3.1408103,
          11.204328,
          12.524656,
          7.031291,
          2.780676,
          11.879732,
          8.766615,
          8.315561,
          2.4081638,
          9.223697,
          9.22467,
          3.5343485,
          3.2517982,
          8.163915,
          11.595912,
          1.1701603,
          3.1408176,
          8.361458,
          8.464963,
          3.5144696,
          10.227986,
          0.88305086,
          0.3567647,
          9.171814,
          13.836508,
          2.7678378,
          0.93690896,
          7.362582,
          13.614376,
          2.2726052,
          8.463926,
          0.4657965,
          11.872404,
          10.046269,
          1.8263689,
          9.669493,
          13.722867,
          8.056405,
          11.50757,
          1.6324791,
          13.492888,
          3.9234326,
          8.055892,
          -0.09771986,
          12.090198,
          12.988442,
          12.795791,
          1.9214253,
          11.767379,
          1.444383,
          3.6296997,
          13.283468,
          10.241921,
          7.244929,
          8.091848,
          5.010745,
          0.40897742,
          11.902929,
          12.460753,
          0.140487,
          1.6253141,
          8.781853,
          4.0222917,
          8.658273,
          12.18556,
          4.6340303,
          3.8153126,
          9.796224,
          3.6269827,
          10.587447,
          0.3898349,
          1.9329687,
          12.362517,
          6.7970476,
          13.358718,
          4.269674,
          11.3227215,
          1.3411279,
          11.008039,
          13.8976555,
          11.548236,
          10.223476,
          13.790018,
          2.881591,
          6.210235,
          3.6800954,
          7.1988187,
          9.939156,
          10.310551,
          0.7766027,
          4.020568,
          6.976169,
          5.278958,
          11.525542,
          8.967886,
          2.4980955,
          0.27058566,
          9.1048765,
          0.94891334,
          5.001889,
          10.201443,
          13.060821,
          11.499944,
          8.979382
         ],
         "y": [
          -7.8229065,
          -7.459624,
          -7.4289403,
          -7.569386,
          -7.302579,
          -5.6170835,
          -2.5636249,
          -6.4125547,
          -8.604553,
          -8.583573,
          -8.558177,
          -3.7501683,
          -7.869641,
          -6.926785,
          -3.5650914,
          -7.1503825,
          -8.545685,
          -8.562173,
          -7.0703964,
          -5.9749,
          -8.365548,
          -6.9888678,
          -8.492959,
          -2.6336205,
          -4.886988,
          -8.173551,
          -7.585784,
          -7.3409176,
          -8.430857,
          -6.204506,
          -4.551464,
          -8.290998,
          -8.123129,
          -5.3121943,
          -8.039474,
          -8.12868,
          -8.153447,
          -7.4489365,
          -7.398832,
          -8.525341,
          -8.287348,
          -8.286995,
          -5.627894,
          -7.1076055,
          -8.442498,
          -8.004522,
          -8.193824,
          -8.633177,
          -7.210795,
          -7.0747085,
          -5.8568068,
          -7.4440556,
          -2.8566818,
          -8.251372,
          -7.3826923,
          -8.321237,
          -2.542604,
          -8.098016,
          -8.207859,
          -6.387104,
          -5.4885216,
          -7.3498383,
          -7.8422785,
          -7.5881367,
          -2.8689528,
          -8.304543,
          -5.9391847,
          -7.742313,
          -3.194089,
          -8.700858,
          -8.283618,
          -3.1115832,
          -5.0368414,
          -3.7119377,
          -4.1686935,
          -7.884099,
          -5.915658,
          -7.544609,
          -8.36563,
          -3.3740435,
          -6.809267,
          -8.413762,
          -8.183723,
          -8.595751,
          -6.1095934,
          -5.3816743,
          -4.5594144,
          -4.513992,
          -7.7066197,
          -8.055519,
          -8.6367855,
          -8.096092,
          -5.385309,
          -8.623571,
          -8.66571,
          -7.5407453,
          -8.57248,
          -7.03971,
          -5.775665,
          -7.9012995,
          -4.794986,
          -8.536659,
          -3.4430358,
          -8.65952,
          -5.8598313,
          -7.5319552,
          -6.380973,
          -3.033183,
          -5.9628825,
          -7.2794147,
          -3.6551974,
          -8.15488,
          -8.569085,
          -8.542635,
          -8.47933,
          -7.572022,
          -7.1895547,
          -7.108832,
          -8.602029,
          -8.513679,
          -8.621486,
          -5.7549424,
          -7.963144,
          -8.192965,
          -5.188097,
          -7.9236703,
          -7.1406794,
          -8.639783,
          -6.890769,
          -3.669793,
          -5.9515796,
          -7.987272
         ],
         "z": [
          0.4379258,
          1.4158095,
          0.76880467,
          1.2254596,
          -2.1664739,
          -0.4777201,
          0.54815614,
          -1.992144,
          -1.7158914,
          -1.9862324,
          -0.26448783,
          -0.2862038,
          -2.5588725,
          -0.97907513,
          0.68080074,
          -2.5240264,
          -1.3295264,
          -0.3288746,
          0.18752894,
          -2.2898543,
          -0.81276685,
          -2.2485533,
          -1.3957926,
          0.12799364,
          -1.7518522,
          -0.12209455,
          -2.444003,
          -1.5633843,
          -0.9117722,
          0.013262248,
          0.44175842,
          0.41238028,
          -2.7129536,
          0.57795125,
          -0.43480277,
          -0.05175162,
          -0.7983687,
          0.79362535,
          0.9967388,
          -1.6522843,
          -2.7532785,
          -0.98291373,
          0.58158296,
          -2.330553,
          -1.3810076,
          0.29049987,
          -1.236102,
          -1.4795656,
          -0.83310616,
          -1.675691,
          -1.9894631,
          0.9376968,
          0.49387127,
          -1.8962764,
          -2.1290123,
          0.033774897,
          0.72134626,
          -0.735469,
          -0.5602887,
          -2.0583937,
          0.22021367,
          -0.9004112,
          -1.3104017,
          -0.89533216,
          0.30011222,
          -0.5774459,
          0.02353136,
          -1.772795,
          0.50552756,
          -1.0944668,
          -1.8573282,
          -1.395667,
          0.6306199,
          0.6953326,
          0.48581758,
          -1.8515344,
          -0.67372876,
          -2.3629186,
          -2.908032,
          0.609085,
          0.53554094,
          -0.3891876,
          -0.031237442,
          -2.0077388,
          -2.0217123,
          0.3694599,
          0.5779272,
          -1.6821337,
          -2.0983007,
          -1.6906347,
          -1.1092086,
          -0.41738623,
          -0.36619753,
          -0.4013939,
          -1.495523,
          -1.1122236,
          -0.91888726,
          -1.2980083,
          -1.8511215,
          -1.6846194,
          0.38607946,
          -1.4322532,
          0.44832188,
          -1.303762,
          0.63935757,
          -1.6139605,
          -0.047557145,
          0.021152787,
          -0.17508423,
          -1.1694498,
          -0.4400759,
          -2.7645192,
          -0.7341461,
          -0.7424589,
          -1.7762877,
          -2.1411,
          -1.0137054,
          -2.2112055,
          -0.7944035,
          -1.2802764,
          -0.5780555,
          0.45255998,
          -0.6489389,
          -0.7327063,
          -1.8120798,
          -1.535329,
          -1.6763301,
          -1.4016432,
          0.3788566,
          0.6272065,
          0.0024683657,
          -1.1797656
         ]
        }
       ],
       "layout": {
        "height": 800,
        "legend": {
         "title": {
          "text": "Cluster"
         },
         "tracegroupgap": 0
        },
        "scene": {
         "domain": {
          "x": [
           0,
           1
          ],
          "y": [
           0,
           1
          ]
         },
         "xaxis": {
          "title": {
           "text": "0"
          }
         },
         "yaxis": {
          "title": {
           "text": "1"
          }
         },
         "zaxis": {
          "title": {
           "text": "2"
          }
         }
        },
        "template": {
         "data": {
          "bar": [
           {
            "error_x": {
             "color": "#2a3f5f"
            },
            "error_y": {
             "color": "#2a3f5f"
            },
            "marker": {
             "line": {
              "color": "#E5ECF6",
              "width": 0.5
             },
             "pattern": {
              "fillmode": "overlay",
              "size": 10,
              "solidity": 0.2
             }
            },
            "type": "bar"
           }
          ],
          "barpolar": [
           {
            "marker": {
             "line": {
              "color": "#E5ECF6",
              "width": 0.5
             },
             "pattern": {
              "fillmode": "overlay",
              "size": 10,
              "solidity": 0.2
             }
            },
            "type": "barpolar"
           }
          ],
          "carpet": [
           {
            "aaxis": {
             "endlinecolor": "#2a3f5f",
             "gridcolor": "white",
             "linecolor": "white",
             "minorgridcolor": "white",
             "startlinecolor": "#2a3f5f"
            },
            "baxis": {
             "endlinecolor": "#2a3f5f",
             "gridcolor": "white",
             "linecolor": "white",
             "minorgridcolor": "white",
             "startlinecolor": "#2a3f5f"
            },
            "type": "carpet"
           }
          ],
          "choropleth": [
           {
            "colorbar": {
             "outlinewidth": 0,
             "ticks": ""
            },
            "type": "choropleth"
           }
          ],
          "contour": [
           {
            "colorbar": {
             "outlinewidth": 0,
             "ticks": ""
            },
            "colorscale": [
             [
              0,
              "#0d0887"
             ],
             [
              0.1111111111111111,
              "#46039f"
             ],
             [
              0.2222222222222222,
              "#7201a8"
             ],
             [
              0.3333333333333333,
              "#9c179e"
             ],
             [
              0.4444444444444444,
              "#bd3786"
             ],
             [
              0.5555555555555556,
              "#d8576b"
             ],
             [
              0.6666666666666666,
              "#ed7953"
             ],
             [
              0.7777777777777778,
              "#fb9f3a"
             ],
             [
              0.8888888888888888,
              "#fdca26"
             ],
             [
              1,
              "#f0f921"
             ]
            ],
            "type": "contour"
           }
          ],
          "contourcarpet": [
           {
            "colorbar": {
             "outlinewidth": 0,
             "ticks": ""
            },
            "type": "contourcarpet"
           }
          ],
          "heatmap": [
           {
            "colorbar": {
             "outlinewidth": 0,
             "ticks": ""
            },
            "colorscale": [
             [
              0,
              "#0d0887"
             ],
             [
              0.1111111111111111,
              "#46039f"
             ],
             [
              0.2222222222222222,
              "#7201a8"
             ],
             [
              0.3333333333333333,
              "#9c179e"
             ],
             [
              0.4444444444444444,
              "#bd3786"
             ],
             [
              0.5555555555555556,
              "#d8576b"
             ],
             [
              0.6666666666666666,
              "#ed7953"
             ],
             [
              0.7777777777777778,
              "#fb9f3a"
             ],
             [
              0.8888888888888888,
              "#fdca26"
             ],
             [
              1,
              "#f0f921"
             ]
            ],
            "type": "heatmap"
           }
          ],
          "heatmapgl": [
           {
            "colorbar": {
             "outlinewidth": 0,
             "ticks": ""
            },
            "colorscale": [
             [
              0,
              "#0d0887"
             ],
             [
              0.1111111111111111,
              "#46039f"
             ],
             [
              0.2222222222222222,
              "#7201a8"
             ],
             [
              0.3333333333333333,
              "#9c179e"
             ],
             [
              0.4444444444444444,
              "#bd3786"
             ],
             [
              0.5555555555555556,
              "#d8576b"
             ],
             [
              0.6666666666666666,
              "#ed7953"
             ],
             [
              0.7777777777777778,
              "#fb9f3a"
             ],
             [
              0.8888888888888888,
              "#fdca26"
             ],
             [
              1,
              "#f0f921"
             ]
            ],
            "type": "heatmapgl"
           }
          ],
          "histogram": [
           {
            "marker": {
             "pattern": {
              "fillmode": "overlay",
              "size": 10,
              "solidity": 0.2
             }
            },
            "type": "histogram"
           }
          ],
          "histogram2d": [
           {
            "colorbar": {
             "outlinewidth": 0,
             "ticks": ""
            },
            "colorscale": [
             [
              0,
              "#0d0887"
             ],
             [
              0.1111111111111111,
              "#46039f"
             ],
             [
              0.2222222222222222,
              "#7201a8"
             ],
             [
              0.3333333333333333,
              "#9c179e"
             ],
             [
              0.4444444444444444,
              "#bd3786"
             ],
             [
              0.5555555555555556,
              "#d8576b"
             ],
             [
              0.6666666666666666,
              "#ed7953"
             ],
             [
              0.7777777777777778,
              "#fb9f3a"
             ],
             [
              0.8888888888888888,
              "#fdca26"
             ],
             [
              1,
              "#f0f921"
             ]
            ],
            "type": "histogram2d"
           }
          ],
          "histogram2dcontour": [
           {
            "colorbar": {
             "outlinewidth": 0,
             "ticks": ""
            },
            "colorscale": [
             [
              0,
              "#0d0887"
             ],
             [
              0.1111111111111111,
              "#46039f"
             ],
             [
              0.2222222222222222,
              "#7201a8"
             ],
             [
              0.3333333333333333,
              "#9c179e"
             ],
             [
              0.4444444444444444,
              "#bd3786"
             ],
             [
              0.5555555555555556,
              "#d8576b"
             ],
             [
              0.6666666666666666,
              "#ed7953"
             ],
             [
              0.7777777777777778,
              "#fb9f3a"
             ],
             [
              0.8888888888888888,
              "#fdca26"
             ],
             [
              1,
              "#f0f921"
             ]
            ],
            "type": "histogram2dcontour"
           }
          ],
          "mesh3d": [
           {
            "colorbar": {
             "outlinewidth": 0,
             "ticks": ""
            },
            "type": "mesh3d"
           }
          ],
          "parcoords": [
           {
            "line": {
             "colorbar": {
              "outlinewidth": 0,
              "ticks": ""
             }
            },
            "type": "parcoords"
           }
          ],
          "pie": [
           {
            "automargin": true,
            "type": "pie"
           }
          ],
          "scatter": [
           {
            "fillpattern": {
             "fillmode": "overlay",
             "size": 10,
             "solidity": 0.2
            },
            "type": "scatter"
           }
          ],
          "scatter3d": [
           {
            "line": {
             "colorbar": {
              "outlinewidth": 0,
              "ticks": ""
             }
            },
            "marker": {
             "colorbar": {
              "outlinewidth": 0,
              "ticks": ""
             }
            },
            "type": "scatter3d"
           }
          ],
          "scattercarpet": [
           {
            "marker": {
             "colorbar": {
              "outlinewidth": 0,
              "ticks": ""
             }
            },
            "type": "scattercarpet"
           }
          ],
          "scattergeo": [
           {
            "marker": {
             "colorbar": {
              "outlinewidth": 0,
              "ticks": ""
             }
            },
            "type": "scattergeo"
           }
          ],
          "scattergl": [
           {
            "marker": {
             "colorbar": {
              "outlinewidth": 0,
              "ticks": ""
             }
            },
            "type": "scattergl"
           }
          ],
          "scattermapbox": [
           {
            "marker": {
             "colorbar": {
              "outlinewidth": 0,
              "ticks": ""
             }
            },
            "type": "scattermapbox"
           }
          ],
          "scatterpolar": [
           {
            "marker": {
             "colorbar": {
              "outlinewidth": 0,
              "ticks": ""
             }
            },
            "type": "scatterpolar"
           }
          ],
          "scatterpolargl": [
           {
            "marker": {
             "colorbar": {
              "outlinewidth": 0,
              "ticks": ""
             }
            },
            "type": "scatterpolargl"
           }
          ],
          "scatterternary": [
           {
            "marker": {
             "colorbar": {
              "outlinewidth": 0,
              "ticks": ""
             }
            },
            "type": "scatterternary"
           }
          ],
          "surface": [
           {
            "colorbar": {
             "outlinewidth": 0,
             "ticks": ""
            },
            "colorscale": [
             [
              0,
              "#0d0887"
             ],
             [
              0.1111111111111111,
              "#46039f"
             ],
             [
              0.2222222222222222,
              "#7201a8"
             ],
             [
              0.3333333333333333,
              "#9c179e"
             ],
             [
              0.4444444444444444,
              "#bd3786"
             ],
             [
              0.5555555555555556,
              "#d8576b"
             ],
             [
              0.6666666666666666,
              "#ed7953"
             ],
             [
              0.7777777777777778,
              "#fb9f3a"
             ],
             [
              0.8888888888888888,
              "#fdca26"
             ],
             [
              1,
              "#f0f921"
             ]
            ],
            "type": "surface"
           }
          ],
          "table": [
           {
            "cells": {
             "fill": {
              "color": "#EBF0F8"
             },
             "line": {
              "color": "white"
             }
            },
            "header": {
             "fill": {
              "color": "#C8D4E3"
             },
             "line": {
              "color": "white"
             }
            },
            "type": "table"
           }
          ]
         },
         "layout": {
          "annotationdefaults": {
           "arrowcolor": "#2a3f5f",
           "arrowhead": 0,
           "arrowwidth": 1
          },
          "autotypenumbers": "strict",
          "coloraxis": {
           "colorbar": {
            "outlinewidth": 0,
            "ticks": ""
           }
          },
          "colorscale": {
           "diverging": [
            [
             0,
             "#8e0152"
            ],
            [
             0.1,
             "#c51b7d"
            ],
            [
             0.2,
             "#de77ae"
            ],
            [
             0.3,
             "#f1b6da"
            ],
            [
             0.4,
             "#fde0ef"
            ],
            [
             0.5,
             "#f7f7f7"
            ],
            [
             0.6,
             "#e6f5d0"
            ],
            [
             0.7,
             "#b8e186"
            ],
            [
             0.8,
             "#7fbc41"
            ],
            [
             0.9,
             "#4d9221"
            ],
            [
             1,
             "#276419"
            ]
           ],
           "sequential": [
            [
             0,
             "#0d0887"
            ],
            [
             0.1111111111111111,
             "#46039f"
            ],
            [
             0.2222222222222222,
             "#7201a8"
            ],
            [
             0.3333333333333333,
             "#9c179e"
            ],
            [
             0.4444444444444444,
             "#bd3786"
            ],
            [
             0.5555555555555556,
             "#d8576b"
            ],
            [
             0.6666666666666666,
             "#ed7953"
            ],
            [
             0.7777777777777778,
             "#fb9f3a"
            ],
            [
             0.8888888888888888,
             "#fdca26"
            ],
            [
             1,
             "#f0f921"
            ]
           ],
           "sequentialminus": [
            [
             0,
             "#0d0887"
            ],
            [
             0.1111111111111111,
             "#46039f"
            ],
            [
             0.2222222222222222,
             "#7201a8"
            ],
            [
             0.3333333333333333,
             "#9c179e"
            ],
            [
             0.4444444444444444,
             "#bd3786"
            ],
            [
             0.5555555555555556,
             "#d8576b"
            ],
            [
             0.6666666666666666,
             "#ed7953"
            ],
            [
             0.7777777777777778,
             "#fb9f3a"
            ],
            [
             0.8888888888888888,
             "#fdca26"
            ],
            [
             1,
             "#f0f921"
            ]
           ]
          },
          "colorway": [
           "#636efa",
           "#EF553B",
           "#00cc96",
           "#ab63fa",
           "#FFA15A",
           "#19d3f3",
           "#FF6692",
           "#B6E880",
           "#FF97FF",
           "#FECB52"
          ],
          "font": {
           "color": "#2a3f5f"
          },
          "geo": {
           "bgcolor": "white",
           "lakecolor": "white",
           "landcolor": "#E5ECF6",
           "showlakes": true,
           "showland": true,
           "subunitcolor": "white"
          },
          "hoverlabel": {
           "align": "left"
          },
          "hovermode": "closest",
          "mapbox": {
           "style": "light"
          },
          "paper_bgcolor": "white",
          "plot_bgcolor": "#E5ECF6",
          "polar": {
           "angularaxis": {
            "gridcolor": "white",
            "linecolor": "white",
            "ticks": ""
           },
           "bgcolor": "#E5ECF6",
           "radialaxis": {
            "gridcolor": "white",
            "linecolor": "white",
            "ticks": ""
           }
          },
          "scene": {
           "xaxis": {
            "backgroundcolor": "#E5ECF6",
            "gridcolor": "white",
            "gridwidth": 2,
            "linecolor": "white",
            "showbackground": true,
            "ticks": "",
            "zerolinecolor": "white"
           },
           "yaxis": {
            "backgroundcolor": "#E5ECF6",
            "gridcolor": "white",
            "gridwidth": 2,
            "linecolor": "white",
            "showbackground": true,
            "ticks": "",
            "zerolinecolor": "white"
           },
           "zaxis": {
            "backgroundcolor": "#E5ECF6",
            "gridcolor": "white",
            "gridwidth": 2,
            "linecolor": "white",
            "showbackground": true,
            "ticks": "",
            "zerolinecolor": "white"
           }
          },
          "shapedefaults": {
           "line": {
            "color": "#2a3f5f"
           }
          },
          "ternary": {
           "aaxis": {
            "gridcolor": "white",
            "linecolor": "white",
            "ticks": ""
           },
           "baxis": {
            "gridcolor": "white",
            "linecolor": "white",
            "ticks": ""
           },
           "bgcolor": "#E5ECF6",
           "caxis": {
            "gridcolor": "white",
            "linecolor": "white",
            "ticks": ""
           }
          },
          "title": {
           "x": 0.05
          },
          "xaxis": {
           "automargin": true,
           "gridcolor": "white",
           "linecolor": "white",
           "ticks": "",
           "title": {
            "standoff": 15
           },
           "zerolinecolor": "white",
           "zerolinewidth": 2
          },
          "yaxis": {
           "automargin": true,
           "gridcolor": "white",
           "linecolor": "white",
           "ticks": "",
           "title": {
            "standoff": 15
           },
           "zerolinecolor": "white",
           "zerolinewidth": 2
          }
         }
        },
        "title": {
         "text": "3d TSNE Plot for Clusters"
        },
        "width": 900
       }
      }
     },
     "metadata": {},
     "output_type": "display_data"
    }
   ],
   "source": [
    "plot_model(kmeans, plot='tsne')"
   ]
  },
  {
   "cell_type": "code",
   "execution_count": 9,
   "metadata": {},
   "outputs": [
    {
     "data": {
      "text/html": [],
      "text/plain": [
       "<IPython.core.display.HTML object>"
      ]
     },
     "metadata": {},
     "output_type": "display_data"
    },
    {
     "data": {
      "application/vnd.plotly.v1+json": {
       "config": {
        "plotlyServerURL": "https://plot.ly"
       },
       "data": [
        {
         "alignmentgroup": "True",
         "bingroup": "x",
         "hovertemplate": "Cluster=%{x}<br>count=%{y}<extra></extra>",
         "legendgroup": "Cluster 0",
         "marker": {
          "color": "#636efa",
          "opacity": 0.7,
          "pattern": {
           "shape": ""
          }
         },
         "name": "Cluster 0",
         "offsetgroup": "Cluster 0",
         "orientation": "v",
         "showlegend": true,
         "type": "histogram",
         "x": [
          "Cluster 0",
          "Cluster 0",
          "Cluster 0",
          "Cluster 0",
          "Cluster 0",
          "Cluster 0",
          "Cluster 0",
          "Cluster 0",
          "Cluster 0",
          "Cluster 0",
          "Cluster 0",
          "Cluster 0",
          "Cluster 0",
          "Cluster 0",
          "Cluster 0",
          "Cluster 0",
          "Cluster 0",
          "Cluster 0",
          "Cluster 0",
          "Cluster 0",
          "Cluster 0",
          "Cluster 0",
          "Cluster 0",
          "Cluster 0",
          "Cluster 0",
          "Cluster 0",
          "Cluster 0",
          "Cluster 0",
          "Cluster 0",
          "Cluster 0",
          "Cluster 0",
          "Cluster 0",
          "Cluster 0",
          "Cluster 0",
          "Cluster 0",
          "Cluster 0",
          "Cluster 0",
          "Cluster 0",
          "Cluster 0",
          "Cluster 0",
          "Cluster 0",
          "Cluster 0",
          "Cluster 0",
          "Cluster 0",
          "Cluster 0",
          "Cluster 0",
          "Cluster 0",
          "Cluster 0",
          "Cluster 0",
          "Cluster 0",
          "Cluster 0",
          "Cluster 0",
          "Cluster 0",
          "Cluster 0",
          "Cluster 0",
          "Cluster 0",
          "Cluster 0",
          "Cluster 0",
          "Cluster 0",
          "Cluster 0",
          "Cluster 0",
          "Cluster 0",
          "Cluster 0",
          "Cluster 0",
          "Cluster 0",
          "Cluster 0",
          "Cluster 0",
          "Cluster 0",
          "Cluster 0",
          "Cluster 0"
         ],
         "xaxis": "x",
         "yaxis": "y"
        },
        {
         "alignmentgroup": "True",
         "customdata": [
          [
           26,
           126617,
           0.8770521283149719,
           2913.3681640625
          ],
          [
           28,
           123229,
           0.8733219504356384,
           610.4462280273438
          ],
          [
           20,
           122581,
           0.894080638885498,
           4444.44775390625
          ],
          [
           17,
           136255,
           0.9358761310577393,
           4126.2265625
          ],
          [
           24,
           120465,
           0.9074853658676147,
           4838.34814453125
          ],
          [
           24,
           129087,
           0.827117919921875,
           3290.82958984375
          ],
          [
           29,
           122264,
           0.8985788226127625,
           2494.55615234375
          ],
          [
           17,
           134734,
           0.8579216599464417,
           0
          ],
          [
           27,
           122671,
           0.9101071357727051,
           4206.287109375
          ],
          [
           93,
           126601,
           0.02517016977071762,
           14117.447265625
          ],
          [
           28,
           121216,
           0.8569692969322205,
           5349.0654296875
          ],
          [
           17,
           123828,
           0.9420129060745239,
           3798.84033203125
          ],
          [
           28,
           127699,
           0.8814245462417603,
           5490.81494140625
          ],
          [
           23,
           126500,
           0.8650328516960144,
           3270.150390625
          ],
          [
           28,
           123153,
           0.9842407703399658,
           3697.513671875
          ],
          [
           23,
           129937,
           0.8727356791496277,
           4102.0654296875
          ],
          [
           18,
           123718,
           0.8065528869628906,
           4420.44580078125
          ],
          [
           29,
           119366,
           0.3587713837623596,
           15012.8525390625
          ],
          [
           23,
           138443,
           0.9226565361022949,
           3297.058837890625
          ],
          [
           27,
           121468,
           0.920648992061615,
           5011.1123046875
          ],
          [
           24,
           136644,
           0.8716976642608643,
           1617.2257080078125
          ],
          [
           25,
           138021,
           0.9440171718597412,
           3005.577392578125
          ],
          [
           25,
           130934,
           0.9137660264968872,
           3942.38916015625
          ],
          [
           34,
           119877,
           0.30543699860572815,
           15634.7880859375
          ],
          [
           86,
           128378,
           0.1260834038257599,
           13585.7783203125
          ],
          [
           87,
           117564,
           0.12827959656715393,
           14000.2490234375
          ],
          [
           82,
           126257,
           0.07809619605541229,
           15816.1015625
          ],
          [
           24,
           127352,
           0.9054521322250366,
           2961.716796875
          ],
          [
           20,
           129469,
           0.9399954080581665,
           5522.5732421875
          ],
          [
           82,
           121642,
           0.054653190076351166,
           14177.513671875
          ],
          [
           22,
           120525,
           1,
           5495.16552734375
          ],
          [
           25,
           120957,
           0.8776734471321106,
           5590.447265625
          ],
          [
           28,
           117108,
           0.857078492641449,
           4749.87939453125
          ],
          [
           21,
           129726,
           0.951792299747467,
           4550.79931640625
          ],
          [
           88,
           123651,
           0.029027139768004417,
           13504.5771484375
          ],
          [
           26,
           125662,
           0.9268183708190918,
           6089.478515625
          ],
          [
           21,
           123678,
           0.8320252895355225,
           2838.81591796875
          ],
          [
           27,
           125008,
           0.9596453905105591,
           2963.6376953125
          ],
          [
           23,
           120226,
           0.8819129467010498,
           4698.294921875
          ],
          [
           31,
           122924,
           0.8904602527618408,
           3071.944580078125
          ],
          [
           24,
           130974,
           0.9118385910987854,
           4420.07275390625
          ],
          [
           77,
           128596,
           0.04082407057285309,
           14503.4111328125
          ],
          [
           86,
           124372,
           0,
           15374.4658203125
          ],
          [
           91,
           118794,
           0.019212065264582634,
           14047.388671875
          ],
          [
           83,
           119429,
           0.04215480014681816,
           15607.5615234375
          ],
          [
           24,
           134384,
           0.8747208118438721,
           3731.33984375
          ],
          [
           26,
           127320,
           0.8250297904014587,
           5495.64208984375
          ],
          [
           88,
           120678,
           0.06327284872531891,
           14264.4736328125
          ],
          [
           22,
           134209,
           0.8706979751586914,
           5138.109375
          ],
          [
           84,
           122696,
           0.08218683302402496,
           13809.734375
          ],
          [
           18,
           130813,
           0.8908912539482117,
           5256.4345703125
          ],
          [
           90,
           124170,
           0.030751314014196396,
           14773.4072265625
          ],
          [
           89,
           119697,
           0.09167920053005219,
           16215.3994140625
          ],
          [
           22,
           132948,
           0.8898001909255981,
           2839.786376953125
          ],
          [
           30,
           122788,
           0.8728724122047424,
           5706.1494140625
          ],
          [
           17,
           134966,
           0.9072421789169312,
           4128.044921875
          ],
          [
           26,
           131827,
           0.8807194828987122,
           4352.69921875
          ],
          [
           26,
           123005,
           0.9845262169837952,
           4371.23486328125
          ],
          [
           28,
           129019,
           0.9308319687843323,
           3016.820556640625
          ],
          [
           29,
           142000,
           0.9400873184204102,
           5349.8212890625
          ],
          [
           83,
           117943,
           0.07721324265003204,
           15391.9521484375
          ],
          [
           90,
           117668,
           0.0827227458357811,
           12554.6923828125
          ],
          [
           24,
           134389,
           0.9388521313667297,
           4573.6064453125
          ],
          [
           25,
           128625,
           0.8167389631271362,
           4914.1171875
          ],
          [
           85,
           118169,
           0.1231960579752922,
           14855.951171875
          ],
          [
           20,
           129142,
           0.8870519995689392,
           5603.12109375
          ],
          [
           25,
           131009,
           0.8640568852424622,
           4792.4267578125
          ],
          [
           25,
           130361,
           0.9254385828971863,
           4691.55224609375
          ],
          [
           29,
           131578,
           0.8470340967178345,
           3535.514404296875
          ],
          [
           92,
           122879,
           0.060724034905433655,
           13709.669921875
          ]
         ],
         "hovertemplate": "Cluster=%{x}<br>Age=%{customdata[0]}<br>Income=%{customdata[1]}<br>SpendingScore=%{customdata[2]}<br>Savings=%{customdata[3]}<extra></extra>",
         "legendgroup": "Cluster 0",
         "marker": {
          "color": "#636efa"
         },
         "name": "Cluster 0",
         "notched": true,
         "offsetgroup": "Cluster 0",
         "showlegend": false,
         "type": "box",
         "x": [
          "Cluster 0",
          "Cluster 0",
          "Cluster 0",
          "Cluster 0",
          "Cluster 0",
          "Cluster 0",
          "Cluster 0",
          "Cluster 0",
          "Cluster 0",
          "Cluster 0",
          "Cluster 0",
          "Cluster 0",
          "Cluster 0",
          "Cluster 0",
          "Cluster 0",
          "Cluster 0",
          "Cluster 0",
          "Cluster 0",
          "Cluster 0",
          "Cluster 0",
          "Cluster 0",
          "Cluster 0",
          "Cluster 0",
          "Cluster 0",
          "Cluster 0",
          "Cluster 0",
          "Cluster 0",
          "Cluster 0",
          "Cluster 0",
          "Cluster 0",
          "Cluster 0",
          "Cluster 0",
          "Cluster 0",
          "Cluster 0",
          "Cluster 0",
          "Cluster 0",
          "Cluster 0",
          "Cluster 0",
          "Cluster 0",
          "Cluster 0",
          "Cluster 0",
          "Cluster 0",
          "Cluster 0",
          "Cluster 0",
          "Cluster 0",
          "Cluster 0",
          "Cluster 0",
          "Cluster 0",
          "Cluster 0",
          "Cluster 0",
          "Cluster 0",
          "Cluster 0",
          "Cluster 0",
          "Cluster 0",
          "Cluster 0",
          "Cluster 0",
          "Cluster 0",
          "Cluster 0",
          "Cluster 0",
          "Cluster 0",
          "Cluster 0",
          "Cluster 0",
          "Cluster 0",
          "Cluster 0",
          "Cluster 0",
          "Cluster 0",
          "Cluster 0",
          "Cluster 0",
          "Cluster 0",
          "Cluster 0"
         ],
         "xaxis": "x2",
         "yaxis": "y2"
        },
        {
         "alignmentgroup": "True",
         "bingroup": "x",
         "hovertemplate": "Cluster=%{x}<br>count=%{y}<extra></extra>",
         "legendgroup": "Cluster 1",
         "marker": {
          "color": "#EF553B",
          "opacity": 0.7,
          "pattern": {
           "shape": ""
          }
         },
         "name": "Cluster 1",
         "offsetgroup": "Cluster 1",
         "orientation": "v",
         "showlegend": true,
         "type": "histogram",
         "x": [
          "Cluster 1",
          "Cluster 1",
          "Cluster 1",
          "Cluster 1",
          "Cluster 1",
          "Cluster 1",
          "Cluster 1",
          "Cluster 1",
          "Cluster 1",
          "Cluster 1",
          "Cluster 1",
          "Cluster 1",
          "Cluster 1",
          "Cluster 1",
          "Cluster 1",
          "Cluster 1",
          "Cluster 1",
          "Cluster 1",
          "Cluster 1",
          "Cluster 1",
          "Cluster 1",
          "Cluster 1",
          "Cluster 1",
          "Cluster 1",
          "Cluster 1",
          "Cluster 1",
          "Cluster 1",
          "Cluster 1",
          "Cluster 1",
          "Cluster 1",
          "Cluster 1",
          "Cluster 1",
          "Cluster 1",
          "Cluster 1",
          "Cluster 1",
          "Cluster 1",
          "Cluster 1",
          "Cluster 1",
          "Cluster 1",
          "Cluster 1",
          "Cluster 1",
          "Cluster 1",
          "Cluster 1",
          "Cluster 1",
          "Cluster 1",
          "Cluster 1",
          "Cluster 1",
          "Cluster 1",
          "Cluster 1",
          "Cluster 1",
          "Cluster 1",
          "Cluster 1",
          "Cluster 1",
          "Cluster 1",
          "Cluster 1",
          "Cluster 1",
          "Cluster 1",
          "Cluster 1",
          "Cluster 1",
          "Cluster 1",
          "Cluster 1",
          "Cluster 1",
          "Cluster 1",
          "Cluster 1",
          "Cluster 1",
          "Cluster 1",
          "Cluster 1",
          "Cluster 1",
          "Cluster 1",
          "Cluster 1",
          "Cluster 1",
          "Cluster 1",
          "Cluster 1",
          "Cluster 1",
          "Cluster 1",
          "Cluster 1",
          "Cluster 1",
          "Cluster 1",
          "Cluster 1",
          "Cluster 1",
          "Cluster 1",
          "Cluster 1",
          "Cluster 1",
          "Cluster 1",
          "Cluster 1",
          "Cluster 1",
          "Cluster 1",
          "Cluster 1",
          "Cluster 1",
          "Cluster 1",
          "Cluster 1",
          "Cluster 1",
          "Cluster 1",
          "Cluster 1",
          "Cluster 1",
          "Cluster 1",
          "Cluster 1",
          "Cluster 1",
          "Cluster 1",
          "Cluster 1",
          "Cluster 1",
          "Cluster 1",
          "Cluster 1",
          "Cluster 1",
          "Cluster 1",
          "Cluster 1",
          "Cluster 1",
          "Cluster 1",
          "Cluster 1",
          "Cluster 1",
          "Cluster 1",
          "Cluster 1",
          "Cluster 1",
          "Cluster 1",
          "Cluster 1",
          "Cluster 1",
          "Cluster 1",
          "Cluster 1",
          "Cluster 1",
          "Cluster 1",
          "Cluster 1",
          "Cluster 1",
          "Cluster 1",
          "Cluster 1",
          "Cluster 1",
          "Cluster 1",
          "Cluster 1",
          "Cluster 1",
          "Cluster 1",
          "Cluster 1",
          "Cluster 1",
          "Cluster 1",
          "Cluster 1",
          "Cluster 1",
          "Cluster 1",
          "Cluster 1",
          "Cluster 1",
          "Cluster 1",
          "Cluster 1",
          "Cluster 1",
          "Cluster 1",
          "Cluster 1",
          "Cluster 1",
          "Cluster 1",
          "Cluster 1",
          "Cluster 1",
          "Cluster 1"
         ],
         "xaxis": "x",
         "yaxis": "y"
        },
        {
         "alignmentgroup": "True",
         "customdata": [
          [
           88,
           27169,
           0.2800595164299011,
           15260.6357421875
          ],
          [
           90,
           30178,
           0.2823512852191925,
           16182.8388671875
          ],
          [
           86,
           18812,
           0.3415457606315613,
           16157.734375
          ],
          [
           85,
           30794,
           0.28622928261756897,
           17096.390625
          ],
          [
           91,
           26424,
           0.31938865780830383,
           16501.46875
          ],
          [
           86,
           28779,
           0.3365233242511749,
           16047.2685546875
          ],
          [
           91,
           30148,
           0.27738896012306213,
           15324.287109375
          ],
          [
           94,
           27771,
           0.30250322818756104,
           17303.95703125
          ],
          [
           88,
           28585,
           0.3977396786212921,
           16725.841796875
          ],
          [
           85,
           26355,
           0.3423406779766083,
           17971.193359375
          ],
          [
           83,
           26882,
           0.3479796350002289,
           17775.228515625
          ],
          [
           94,
           38923,
           0.33022600412368774,
           16971.181640625
          ],
          [
           91,
           28777,
           0.3241935670375824,
           17808.265625
          ],
          [
           86,
           35998,
           0.3216356337070465,
           20000
          ],
          [
           90,
           25733,
           0.3385629653930664,
           17631.568359375
          ],
          [
           88,
           22602,
           0.35674482583999634,
           16740.34375
          ],
          [
           92,
           32915,
           0.3885749280452728,
           16694.70703125
          ],
          [
           85,
           28401,
           0.3694371283054352,
           15990.494140625
          ],
          [
           83,
           18162,
           0.3013734519481659,
           16029.46875
          ],
          [
           91,
           27168,
           0.3322388231754303,
           15893.7294921875
          ],
          [
           94,
           27169,
           0.31417304277420044,
           15061.7763671875
          ],
          [
           83,
           28497,
           0.3938024044036865,
           15510.11328125
          ],
          [
           94,
           20719,
           0.3364022672176361,
           16281.83203125
          ],
          [
           88,
           17946,
           0.269643634557724,
           16715.16015625
          ],
          [
           89,
           31096,
           0.27858784794807434,
           17736.943359375
          ],
          [
           89,
           25252,
           0.3217652142047882,
           16539.36328125
          ],
          [
           83,
           30492,
           0.30163148045539856,
           15365.8583984375
          ],
          [
           87,
           25566,
           0.3167603611946106,
           15188.05859375
          ],
          [
           91,
           29750,
           0.2884703278541565,
           19201.119140625
          ],
          [
           85,
           34802,
           0.2987969219684601,
           16450.00390625
          ],
          [
           88,
           17388,
           0.466189444065094,
           16698.62109375
          ],
          [
           88,
           32708,
           0.36821532249450684,
           16711.068359375
          ],
          [
           84,
           27384,
           0.31364670395851135,
           16734.671875
          ],
          [
           92,
           35877,
           0.3668917119503021,
           17287.90625
          ],
          [
           84,
           38042,
           0.36608585715293884,
           17465.85546875
          ],
          [
           88,
           19510,
           0.31675103306770325,
           16529.201171875
          ],
          [
           89,
           26127,
           0.3044743835926056,
           17194.828125
          ],
          [
           86,
           46977,
           0.2827284038066864,
           15628.95703125
          ],
          [
           85,
           27599,
           0.2819950580596924,
           13470.970703125
          ],
          [
           87,
           25701,
           0.31522056460380554,
           15738.859375
          ],
          [
           87,
           30178,
           0.2793159782886505,
           16123.0703125
          ],
          [
           89,
           19202,
           0.3819877505302429,
           16626.22265625
          ],
          [
           86,
           31994,
           0.24947693943977356,
           18210.087890625
          ],
          [
           91,
           12038,
           0.34980326890945435,
           16464.9609375
          ],
          [
           88,
           35051,
           0.3860515058040619,
           17593.24609375
          ],
          [
           89,
           33311,
           0.37614697217941284,
           17093.0703125
          ],
          [
           88,
           26351,
           0.3041681945323944,
           14035.91796875
          ],
          [
           85,
           21250,
           0.31041011214256287,
           16033.970703125
          ],
          [
           87,
           12000,
           0.3429909944534302,
           16180.265625
          ],
          [
           91,
           36639,
           0.32619887590408325,
           16275.703125
          ],
          [
           85,
           29204,
           0.32549145817756653,
           16918.904296875
          ],
          [
           90,
           22288,
           0.27132683992385864,
           18434.099609375
          ],
          [
           87,
           30812,
           0.31446313858032227,
           15238.119140625
          ],
          [
           91,
           25237,
           0.3535018265247345,
           17292.732421875
          ],
          [
           95,
           27038,
           0.33135199546813965,
           18126.578125
          ],
          [
           84,
           27544,
           0.2309337705373764,
           18207.361328125
          ],
          [
           87,
           18459,
           0.2645499110221863,
           15637.59765625
          ],
          [
           87,
           46910,
           0.3085617125034332,
           14789.1484375
          ],
          [
           94,
           18937,
           0.3470950722694397,
           17739.775390625
          ],
          [
           82,
           33610,
           0.30125322937965393,
           17755.6640625
          ],
          [
           91,
           16950,
           0.3230040371417999,
           17172.609375
          ],
          [
           93,
           20440,
           0.2975730299949646,
           17406.07421875
          ],
          [
           82,
           32494,
           0.32731539011001587,
           16799.443359375
          ],
          [
           92,
           22484,
           0.3317732512950897,
           18615.6328125
          ],
          [
           89,
           20292,
           0.31214818358421326,
           16023.4453125
          ],
          [
           84,
           27179,
           0.34742340445518494,
           15612.62890625
          ],
          [
           87,
           24578,
           0.3761654496192932,
           17789.248046875
          ],
          [
           90,
           33490,
           0.4199085235595703,
           17091.904296875
          ],
          [
           91,
           20681,
           0.3546791672706604,
           18401.087890625
          ],
          [
           81,
           34425,
           0.27260977029800415,
           16262.6240234375
          ],
          [
           93,
           17672,
           0.3032923638820648,
           18516.451171875
          ],
          [
           89,
           26940,
           0.32600513100624084,
           16555.16015625
          ],
          [
           88,
           33251,
           0.30439135432243347,
           18868.2421875
          ],
          [
           85,
           29610,
           0.31813523173332214,
           18475.48828125
          ],
          [
           82,
           24221,
           0.47354966402053833,
           16251.759765625
          ],
          [
           89,
           30267,
           0.2893100678920746,
           14386.3515625
          ],
          [
           94,
           23854,
           0.31444668769836426,
           16828.41015625
          ],
          [
           88,
           31366,
           0.37962085008621216,
           16079.623046875
          ],
          [
           91,
           26917,
           0.3767135441303253,
           17986.619140625
          ],
          [
           84,
           30481,
           0.39702290296554565,
           16837.205078125
          ],
          [
           90,
           24376,
           0.28127944469451904,
           15134.994140625
          ],
          [
           88,
           17851,
           0.28986597061157227,
           17472.470703125
          ],
          [
           90,
           22782,
           0.35630688071250916,
           15924.0712890625
          ],
          [
           84,
           24105,
           0.27180901169776917,
           16524.90234375
          ],
          [
           91,
           28165,
           0.30369293689727783,
           17460.1796875
          ],
          [
           94,
           28352,
           0.37687572836875916,
           16798.88671875
          ],
          [
           92,
           18724,
           0.32786232233047485,
           15341.380859375
          ],
          [
           89,
           22008,
           0.38190606236457825,
           16458.3984375
          ],
          [
           86,
           15695,
           0.2571749687194824,
           17366.185546875
          ],
          [
           91,
           22672,
           0.27106451988220215,
           15407.646484375
          ],
          [
           97,
           27271,
           0.28392288088798523,
           14928.166015625
          ],
          [
           90,
           37503,
           0.3577883243560791,
           17258.57421875
          ],
          [
           87,
           15671,
           0.35072508454322815,
           14326.6015625
          ],
          [
           92,
           35484,
           0.39706361293792725,
           17324.044921875
          ],
          [
           87,
           26045,
           0.3752921223640442,
           15903.55859375
          ],
          [
           83,
           33170,
           0.2410777509212494,
           16620.009765625
          ],
          [
           92,
           22616,
           0.32285067439079285,
           17275.662109375
          ],
          [
           90,
           33188,
           0.2488100677728653,
           15866.9140625
          ],
          [
           86,
           27705,
           0.3293769657611847,
           17130.85546875
          ],
          [
           87,
           23322,
           0.30682119727134705,
           16131.267578125
          ],
          [
           91,
           25886,
           0.3017537593841553,
           17266.044921875
          ],
          [
           88,
           33303,
           0.39971569180488586,
           15232.59765625
          ],
          [
           79,
           38201,
           0.3697828948497772,
           16393.396484375
          ],
          [
           83,
           34529,
           0.3172075152397156,
           16517.208984375
          ],
          [
           91,
           36991,
           0.26859790086746216,
           19047.771484375
          ],
          [
           84,
           20704,
           0.379496306180954,
           16816.912109375
          ],
          [
           86,
           23400,
           0.27803555130958557,
           15215.28125
          ],
          [
           85,
           21652,
           0.31845614314079285,
           14175.169921875
          ],
          [
           87,
           26665,
           0.402145653963089,
           17376.9140625
          ],
          [
           83,
           28727,
           0.30826303362846375,
           18205.3359375
          ],
          [
           83,
           30721,
           0.33114179968833923,
           17705.9921875
          ],
          [
           84,
           36463,
           0.3536209464073181,
           16563.373046875
          ],
          [
           89,
           24520,
           0.4438326954841614,
           13556.935546875
          ],
          [
           87,
           42592,
           0.35528966784477234,
           18086.287109375
          ],
          [
           91,
           29082,
           0.28248852491378784,
           18794.48828125
          ],
          [
           87,
           23042,
           0.3663119971752167,
           18149.03515625
          ],
          [
           87,
           30102,
           0.3903906047344208,
           16330.0810546875
          ],
          [
           91,
           30756,
           0.30369803309440613,
           15492.0048828125
          ],
          [
           87,
           17760,
           0.34877756237983704,
           16869.5078125
          ],
          [
           89,
           34524,
           0.34811827540397644,
           14051.2568359375
          ],
          [
           88,
           28409,
           0.30565354228019714,
           17326.17578125
          ],
          [
           93,
           19934,
           0.2031402438879013,
           17969.693359375
          ],
          [
           84,
           22286,
           0.39550623297691345,
           17886.537109375
          ],
          [
           92,
           33550,
           0.36851564049720764,
           17106.326171875
          ],
          [
           85,
           28408,
           0.3580738604068756,
           15063.3359375
          ],
          [
           85,
           34634,
           0.3690001666545868,
           16719.81640625
          ],
          [
           90,
           35297,
           0.3551490306854248,
           16091.40234375
          ],
          [
           86,
           36031,
           0.24017663300037384,
           16945.326171875
          ],
          [
           90,
           29029,
           0.30375897884368896,
           15592.9912109375
          ],
          [
           88,
           28802,
           0.40838783979415894,
           16293.0380859375
          ],
          [
           83,
           34384,
           0.3247186839580536,
           14783.37890625
          ],
          [
           84,
           27693,
           0.3670629858970642,
           17879.55859375
          ],
          [
           82,
           24391,
           0.27610135078430176,
           17053.029296875
          ],
          [
           82,
           33636,
           0.37178298830986023,
           17866.833984375
          ],
          [
           79,
           32421,
           0.3032762110233307,
           15319.4677734375
          ],
          [
           87,
           31481,
           0.3174239695072174,
           16180.6884765625
          ],
          [
           90,
           33259,
           0.3775710463523865,
           15315.0283203125
          ],
          [
           91,
           24370,
           0.2963285744190216,
           16141.048828125
          ],
          [
           88,
           34001,
           0.33756932616233826,
           15530.9345703125
          ],
          [
           83,
           23206,
           0.3212403655052185,
           16870.671875
          ],
          [
           87,
           29909,
           0.3421516418457031,
           18142.232421875
          ],
          [
           84,
           29492,
           0.3336031436920166,
           17954.095703125
          ],
          [
           89,
           28160,
           0.33884885907173157,
           15607.0615234375
          ],
          [
           84,
           18244,
           0.2926633656024933,
           17815.34765625
          ],
          [
           88,
           26092,
           0.3128732144832611,
           17105.79296875
          ],
          [
           84,
           42018,
           0.29799360036849976,
           16148.3701171875
          ],
          [
           92,
           36032,
           0.3369683027267456,
           17348.599609375
          ]
         ],
         "hovertemplate": "Cluster=%{x}<br>Age=%{customdata[0]}<br>Income=%{customdata[1]}<br>SpendingScore=%{customdata[2]}<br>Savings=%{customdata[3]}<extra></extra>",
         "legendgroup": "Cluster 1",
         "marker": {
          "color": "#EF553B"
         },
         "name": "Cluster 1",
         "notched": true,
         "offsetgroup": "Cluster 1",
         "showlegend": false,
         "type": "box",
         "x": [
          "Cluster 1",
          "Cluster 1",
          "Cluster 1",
          "Cluster 1",
          "Cluster 1",
          "Cluster 1",
          "Cluster 1",
          "Cluster 1",
          "Cluster 1",
          "Cluster 1",
          "Cluster 1",
          "Cluster 1",
          "Cluster 1",
          "Cluster 1",
          "Cluster 1",
          "Cluster 1",
          "Cluster 1",
          "Cluster 1",
          "Cluster 1",
          "Cluster 1",
          "Cluster 1",
          "Cluster 1",
          "Cluster 1",
          "Cluster 1",
          "Cluster 1",
          "Cluster 1",
          "Cluster 1",
          "Cluster 1",
          "Cluster 1",
          "Cluster 1",
          "Cluster 1",
          "Cluster 1",
          "Cluster 1",
          "Cluster 1",
          "Cluster 1",
          "Cluster 1",
          "Cluster 1",
          "Cluster 1",
          "Cluster 1",
          "Cluster 1",
          "Cluster 1",
          "Cluster 1",
          "Cluster 1",
          "Cluster 1",
          "Cluster 1",
          "Cluster 1",
          "Cluster 1",
          "Cluster 1",
          "Cluster 1",
          "Cluster 1",
          "Cluster 1",
          "Cluster 1",
          "Cluster 1",
          "Cluster 1",
          "Cluster 1",
          "Cluster 1",
          "Cluster 1",
          "Cluster 1",
          "Cluster 1",
          "Cluster 1",
          "Cluster 1",
          "Cluster 1",
          "Cluster 1",
          "Cluster 1",
          "Cluster 1",
          "Cluster 1",
          "Cluster 1",
          "Cluster 1",
          "Cluster 1",
          "Cluster 1",
          "Cluster 1",
          "Cluster 1",
          "Cluster 1",
          "Cluster 1",
          "Cluster 1",
          "Cluster 1",
          "Cluster 1",
          "Cluster 1",
          "Cluster 1",
          "Cluster 1",
          "Cluster 1",
          "Cluster 1",
          "Cluster 1",
          "Cluster 1",
          "Cluster 1",
          "Cluster 1",
          "Cluster 1",
          "Cluster 1",
          "Cluster 1",
          "Cluster 1",
          "Cluster 1",
          "Cluster 1",
          "Cluster 1",
          "Cluster 1",
          "Cluster 1",
          "Cluster 1",
          "Cluster 1",
          "Cluster 1",
          "Cluster 1",
          "Cluster 1",
          "Cluster 1",
          "Cluster 1",
          "Cluster 1",
          "Cluster 1",
          "Cluster 1",
          "Cluster 1",
          "Cluster 1",
          "Cluster 1",
          "Cluster 1",
          "Cluster 1",
          "Cluster 1",
          "Cluster 1",
          "Cluster 1",
          "Cluster 1",
          "Cluster 1",
          "Cluster 1",
          "Cluster 1",
          "Cluster 1",
          "Cluster 1",
          "Cluster 1",
          "Cluster 1",
          "Cluster 1",
          "Cluster 1",
          "Cluster 1",
          "Cluster 1",
          "Cluster 1",
          "Cluster 1",
          "Cluster 1",
          "Cluster 1",
          "Cluster 1",
          "Cluster 1",
          "Cluster 1",
          "Cluster 1",
          "Cluster 1",
          "Cluster 1",
          "Cluster 1",
          "Cluster 1",
          "Cluster 1",
          "Cluster 1",
          "Cluster 1",
          "Cluster 1",
          "Cluster 1",
          "Cluster 1",
          "Cluster 1",
          "Cluster 1",
          "Cluster 1",
          "Cluster 1"
         ],
         "xaxis": "x2",
         "yaxis": "y2"
        },
        {
         "alignmentgroup": "True",
         "bingroup": "x",
         "hovertemplate": "Cluster=%{x}<br>count=%{y}<extra></extra>",
         "legendgroup": "Cluster 2",
         "marker": {
          "color": "#00cc96",
          "opacity": 0.7,
          "pattern": {
           "shape": ""
          }
         },
         "name": "Cluster 2",
         "offsetgroup": "Cluster 2",
         "orientation": "v",
         "showlegend": true,
         "type": "histogram",
         "x": [
          "Cluster 2",
          "Cluster 2",
          "Cluster 2",
          "Cluster 2",
          "Cluster 2",
          "Cluster 2",
          "Cluster 2",
          "Cluster 2",
          "Cluster 2",
          "Cluster 2",
          "Cluster 2",
          "Cluster 2",
          "Cluster 2",
          "Cluster 2",
          "Cluster 2",
          "Cluster 2",
          "Cluster 2",
          "Cluster 2",
          "Cluster 2",
          "Cluster 2",
          "Cluster 2",
          "Cluster 2",
          "Cluster 2",
          "Cluster 2",
          "Cluster 2",
          "Cluster 2",
          "Cluster 2",
          "Cluster 2",
          "Cluster 2",
          "Cluster 2",
          "Cluster 2",
          "Cluster 2",
          "Cluster 2",
          "Cluster 2",
          "Cluster 2",
          "Cluster 2",
          "Cluster 2",
          "Cluster 2",
          "Cluster 2",
          "Cluster 2",
          "Cluster 2",
          "Cluster 2",
          "Cluster 2",
          "Cluster 2",
          "Cluster 2",
          "Cluster 2",
          "Cluster 2",
          "Cluster 2",
          "Cluster 2",
          "Cluster 2",
          "Cluster 2",
          "Cluster 2",
          "Cluster 2",
          "Cluster 2",
          "Cluster 2",
          "Cluster 2",
          "Cluster 2",
          "Cluster 2",
          "Cluster 2",
          "Cluster 2",
          "Cluster 2",
          "Cluster 2",
          "Cluster 2",
          "Cluster 2",
          "Cluster 2",
          "Cluster 2",
          "Cluster 2",
          "Cluster 2",
          "Cluster 2",
          "Cluster 2",
          "Cluster 2",
          "Cluster 2",
          "Cluster 2",
          "Cluster 2",
          "Cluster 2",
          "Cluster 2",
          "Cluster 2",
          "Cluster 2",
          "Cluster 2",
          "Cluster 2",
          "Cluster 2",
          "Cluster 2",
          "Cluster 2",
          "Cluster 2",
          "Cluster 2",
          "Cluster 2",
          "Cluster 2",
          "Cluster 2",
          "Cluster 2",
          "Cluster 2",
          "Cluster 2",
          "Cluster 2",
          "Cluster 2",
          "Cluster 2",
          "Cluster 2",
          "Cluster 2",
          "Cluster 2",
          "Cluster 2",
          "Cluster 2",
          "Cluster 2",
          "Cluster 2",
          "Cluster 2",
          "Cluster 2",
          "Cluster 2",
          "Cluster 2",
          "Cluster 2",
          "Cluster 2",
          "Cluster 2",
          "Cluster 2",
          "Cluster 2",
          "Cluster 2",
          "Cluster 2",
          "Cluster 2",
          "Cluster 2",
          "Cluster 2",
          "Cluster 2",
          "Cluster 2",
          "Cluster 2",
          "Cluster 2",
          "Cluster 2",
          "Cluster 2",
          "Cluster 2",
          "Cluster 2",
          "Cluster 2",
          "Cluster 2",
          "Cluster 2",
          "Cluster 2",
          "Cluster 2",
          "Cluster 2",
          "Cluster 2",
          "Cluster 2",
          "Cluster 2",
          "Cluster 2",
          "Cluster 2",
          "Cluster 2",
          "Cluster 2",
          "Cluster 2",
          "Cluster 2",
          "Cluster 2",
          "Cluster 2",
          "Cluster 2",
          "Cluster 2",
          "Cluster 2",
          "Cluster 2",
          "Cluster 2",
          "Cluster 2",
          "Cluster 2",
          "Cluster 2",
          "Cluster 2",
          "Cluster 2",
          "Cluster 2",
          "Cluster 2",
          "Cluster 2",
          "Cluster 2",
          "Cluster 2",
          "Cluster 2"
         ],
         "xaxis": "x",
         "yaxis": "y"
        },
        {
         "alignmentgroup": "True",
         "customdata": [
          [
           65,
           70430,
           0.6969942450523376,
           6971.1650390625
          ],
          [
           61,
           65647,
           0.7174899578094482,
           7497.2314453125
          ],
          [
           58,
           76052,
           0.7215881943702698,
           6681.984375
          ],
          [
           59,
           69408,
           0.8799059987068176,
           6491.77099609375
          ],
          [
           65,
           71229,
           0.7878897786140442,
           9024.337890625
          ],
          [
           61,
           72060,
           0.8334590196609497,
           7924.64111328125
          ],
          [
           56,
           75599,
           0.7737370729446411,
           6799.62548828125
          ],
          [
           62,
           67731,
           0.8191699385643005,
           5956.5556640625
          ],
          [
           58,
           70369,
           0.9045205116271973,
           7461.5673828125
          ],
          [
           61,
           74282,
           0.6922364830970764,
           7286.7548828125
          ],
          [
           66,
           77052,
           0.7072624564170837,
           6296.41748046875
          ],
          [
           59,
           67401,
           0.7114339470863342,
           6529.58642578125
          ],
          [
           59,
           56321,
           0.8065659403800964,
           6129.2890625
          ],
          [
           56,
           78992,
           0.8122757077217102,
           7285.1806640625
          ],
          [
           59,
           77978,
           0.7188951969146729,
           8316.3115234375
          ],
          [
           60,
           70054,
           0.7143393754959106,
           6609.91845703125
          ],
          [
           62,
           73675,
           0.796619176864624,
           4688.6572265625
          ],
          [
           63,
           67370,
           0.899940550327301,
           5985.0771484375
          ],
          [
           51,
           72086,
           0.7911147475242615,
           6732.09619140625
          ],
          [
           56,
           80431,
           0.7594316005706787,
           8150.5576171875
          ],
          [
           55,
           64768,
           0.7332568764686584,
           6486.35400390625
          ],
          [
           58,
           78611,
           0.9104166626930237,
           7665.88427734375
          ],
          [
           59,
           82199,
           0.8035144805908203,
           5880.81494140625
          ],
          [
           68,
           68944,
           0.7455674409866333,
           6828.70947265625
          ],
          [
           58,
           80248,
           0.724955677986145,
           7641.16015625
          ],
          [
           61,
           68842,
           0.7544065713882446,
           4077.65869140625
          ],
          [
           55,
           76831,
           0.7421137094497681,
           7806.39892578125
          ],
          [
           58,
           69247,
           0.7237212061882019,
           8715.6796875
          ],
          [
           67,
           78702,
           0.7632736563682556,
           5030.36474609375
          ],
          [
           56,
           73516,
           0.806499183177948,
           7696.83251953125
          ],
          [
           57,
           79794,
           0.8224083781242371,
           5893.97509765625
          ],
          [
           67,
           80914,
           0.8196642398834229,
           6833.50732421875
          ],
          [
           59,
           73596,
           0.8567042350769043,
           8281.71875
          ],
          [
           60,
           65942,
           0.8005783557891846,
           5253.26513671875
          ],
          [
           57,
           72055,
           0.7549723386764526,
           6544.84765625
          ],
          [
           61,
           78837,
           0.7459489703178406,
           6811.30322265625
          ],
          [
           60,
           74460,
           0.7545393109321594,
           7567.6474609375
          ],
          [
           64,
           62886,
           0.7480162978172302,
           8302.5888671875
          ],
          [
           62,
           69326,
           0.7980123162269592,
           7003.095703125
          ],
          [
           58,
           70676,
           0.7640283703804016,
           7664.41552734375
          ],
          [
           59,
           69115,
           0.759883463382721,
           5997.6904296875
          ],
          [
           63,
           70580,
           0.7665090560913086,
           7262.10888671875
          ],
          [
           61,
           72027,
           0.7623249292373657,
           6926.12353515625
          ],
          [
           59,
           80876,
           0.6573140621185303,
           7232.8251953125
          ],
          [
           59,
           73057,
           0.8302949070930481,
           7819.39306640625
          ],
          [
           56,
           65313,
           0.7546030282974243,
           5574.24365234375
          ],
          [
           60,
           63476,
           0.7519000172615051,
           7543.54296875
          ],
          [
           57,
           64803,
           0.7285849452018738,
           6255.552734375
          ],
          [
           61,
           67372,
           0.7340673208236694,
           6618.54931640625
          ],
          [
           63,
           82343,
           0.732318639755249,
           8090.70654296875
          ],
          [
           58,
           78078,
           0.7837795615196228,
           6483.0498046875
          ],
          [
           59,
           67346,
           0.7251569032669067,
           8857.8486328125
          ],
          [
           59,
           73350,
           0.6797735691070557,
           6710.57421875
          ],
          [
           61,
           65914,
           0.7781022191047668,
           6406.876953125
          ],
          [
           67,
           68663,
           0.7738336324691772,
           7451.994140625
          ],
          [
           65,
           74430,
           0.7517741322517395,
           7145.2509765625
          ],
          [
           59,
           68038,
           0.8014869689941406,
           7719.28369140625
          ],
          [
           59,
           75495,
           0.7945029139518738,
           6702.9521484375
          ],
          [
           58,
           77769,
           0.7913287878036499,
           6559.830078125
          ],
          [
           61,
           73495,
           0.7727562785148621,
           9288.189453125
          ],
          [
           62,
           73480,
           0.7391949892044067,
           6277.67529296875
          ],
          [
           66,
           72571,
           0.8115483522415161,
           6509.41162109375
          ],
          [
           57,
           76594,
           0.7906578779220581,
           6584.65478515625
          ],
          [
           66,
           64866,
           0.7665941715240479,
           5037.89892578125
          ],
          [
           63,
           72815,
           0.820035994052887,
           5504.3857421875
          ],
          [
           64,
           71692,
           0.8426521420478821,
           7002.9765625
          ],
          [
           62,
           63596,
           0.7453271746635437,
           6142.20166015625
          ],
          [
           62,
           62650,
           0.7665723562240601,
           7533.673828125
          ],
          [
           60,
           71436,
           0.8320590853691101,
           8557.8603515625
          ],
          [
           65,
           65736,
           0.7785687446594238,
           6387.2197265625
          ],
          [
           60,
           70663,
           0.715339720249176,
           7557.9375
          ],
          [
           63,
           80705,
           0.7626699805259705,
           5154.33056640625
          ],
          [
           56,
           84386,
           0.7849450707435608,
           7270.41943359375
          ],
          [
           58,
           75757,
           0.8097944259643555,
           7390.5771484375
          ],
          [
           62,
           71050,
           0.735356867313385,
           6988.197265625
          ],
          [
           56,
           68698,
           0.7162678241729736,
           7070.966796875
          ],
          [
           59,
           67781,
           0.7225483655929565,
           6701.52783203125
          ],
          [
           58,
           78635,
           0.7864400744438171,
           7162.7392578125
          ],
          [
           63,
           69849,
           0.7403870820999146,
           7670.69091796875
          ],
          [
           64,
           86283,
           0.7568019032478333,
           6852.5546875
          ],
          [
           62,
           69391,
           0.7921059727668762,
           6518.28369140625
          ],
          [
           60,
           65054,
           0.7086131572723389,
           5417.2373046875
          ],
          [
           62,
           78413,
           0.7907090783119202,
           6961.2041015625
          ],
          [
           58,
           69879,
           0.7209987044334412,
           6669.03369140625
          ],
          [
           56,
           68463,
           0.8157116770744324,
           8995.1796875
          ],
          [
           62,
           68279,
           0.7196850776672363,
           7028.67529296875
          ],
          [
           64,
           76364,
           0.6993887424468994,
           5772.1171875
          ],
          [
           66,
           82526,
           0.7696800827980042,
           6205.66259765625
          ],
          [
           59,
           67988,
           0.8114706873893738,
           7255.9033203125
          ],
          [
           62,
           80093,
           0.6909167766571045,
           6756.7490234375
          ],
          [
           65,
           66017,
           0.7861892580986023,
           6159.6630859375
          ],
          [
           61,
           69698,
           0.7416839599609375,
           8777.0771484375
          ],
          [
           62,
           67030,
           0.7467384338378906,
           6740.76513671875
          ],
          [
           60,
           79969,
           0.8121049404144287,
           4879.3349609375
          ],
          [
           63,
           85761,
           0.8005979061126709,
           7175.09033203125
          ],
          [
           59,
           81799,
           0.7910820245742798,
           5417.66162109375
          ],
          [
           62,
           74751,
           0.7026569247245789,
           9258.9931640625
          ],
          [
           59,
           74373,
           0.7656795382499695,
           7346.33447265625
          ],
          [
           54,
           76500,
           0.7851978540420532,
           6878.88427734375
          ],
          [
           61,
           71933,
           0.8441067934036255,
           8022.20849609375
          ],
          [
           55,
           71621,
           0.7533426880836487,
           7780.58984375
          ],
          [
           53,
           76667,
           0.7600576281547546,
           5168.2255859375
          ],
          [
           55,
           78761,
           0.827174186706543,
           8376.7490234375
          ],
          [
           61,
           76955,
           0.7771175503730774,
           7467.03662109375
          ],
          [
           59,
           65700,
           0.811471164226532,
           6932.48779296875
          ],
          [
           59,
           69738,
           0.7421121001243591,
           7151.65087890625
          ],
          [
           56,
           63866,
           0.7618879675865173,
           7762.2548828125
          ],
          [
           61,
           74117,
           0.7702140808105469,
           5103.609375
          ],
          [
           61,
           63846,
           0.8278622627258301,
           7283.5048828125
          ],
          [
           60,
           70012,
           0.7944610714912415,
           7263.24267578125
          ],
          [
           57,
           75332,
           0.721502423286438,
           6845.056640625
          ],
          [
           61,
           73245,
           0.8111603856086731,
           7413.78466796875
          ],
          [
           56,
           86484,
           0.7321233749389648,
           8777.49609375
          ],
          [
           58,
           70798,
           0.7535284161567688,
           5330.73974609375
          ],
          [
           64,
           88361,
           0.7745562195777893,
           7240.759765625
          ],
          [
           59,
           74576,
           0.7812961339950562,
           10547.775390625
          ],
          [
           58,
           77101,
           0.7667195796966553,
           8148.49169921875
          ],
          [
           59,
           72588,
           0.8017156720161438,
           6300.84375
          ],
          [
           58,
           70259,
           0.7697129249572754,
           7101.67431640625
          ],
          [
           57,
           79470,
           0.7734352946281433,
           6773.04931640625
          ],
          [
           55,
           71056,
           0.7565897107124329,
           7464.1630859375
          ],
          [
           62,
           69741,
           0.8462195992469788,
           5781.658203125
          ],
          [
           64,
           60493,
           0.768056333065033,
           7708.11279296875
          ],
          [
           61,
           69001,
           0.821668803691864,
           5074.12109375
          ],
          [
           53,
           62117,
           0.7331388592720032,
           7500.45263671875
          ],
          [
           55,
           74356,
           0.799826979637146,
           6484.630859375
          ],
          [
           58,
           74340,
           0.7351650595664978,
           7259.541015625
          ],
          [
           59,
           71302,
           0.7020090222358704,
           6595.72607421875
          ],
          [
           57,
           74014,
           0.7873780727386475,
           5783.84716796875
          ],
          [
           53,
           74996,
           0.7387310862541199,
           7821.44775390625
          ],
          [
           61,
           71171,
           0.721080482006073,
           6457.79052734375
          ],
          [
           56,
           60059,
           0.7275840044021606,
           7166.8583984375
          ],
          [
           60,
           65340,
           0.7316485047340393,
           8354.1962890625
          ],
          [
           58,
           80278,
           0.8233590126037598,
           6335.978515625
          ],
          [
           68,
           77648,
           0.7965446710586548,
           6190.8642578125
          ],
          [
           59,
           69460,
           0.7527238130569458,
           6101.3720703125
          ],
          [
           64,
           78801,
           0.7403674721717834,
           6420.94384765625
          ],
          [
           64,
           76410,
           0.7756041884422302,
           6135.30810546875
          ],
          [
           64,
           64331,
           0.7571277618408203,
           5815.66015625
          ],
          [
           62,
           62747,
           0.7705945372581482,
           5852.326171875
          ],
          [
           66,
           71672,
           0.7538892030715942,
           7387.83544921875
          ],
          [
           59,
           75505,
           0.7682786583900452,
           5006.52880859375
          ],
          [
           57,
           65608,
           0.7662312984466553,
           6904.318359375
          ],
          [
           61,
           71033,
           0.8380950689315796,
           9456.876953125
          ],
          [
           67,
           59243,
           0.7436599731445312,
           5446.5576171875
          ],
          [
           58,
           70272,
           0.8229596018791199,
           5290.0869140625
          ],
          [
           63,
           75078,
           0.7831591367721558,
           7468.85107421875
          ],
          [
           63,
           56875,
           0.7622805833816528,
           7837.2333984375
          ],
          [
           56,
           67274,
           0.7798516750335693,
           6652.39111328125
          ],
          [
           55,
           73895,
           0.7471254467964172,
           5563.90673828125
          ],
          [
           57,
           69655,
           0.6748906970024109,
           5889.8310546875
          ],
          [
           57,
           76573,
           0.8405990600585938,
           6225.3759765625
          ],
          [
           55,
           76057,
           0.8778280019760132,
           6132.8984375
          ],
          [
           60,
           67491,
           0.8466184735298157,
           7180.7138671875
          ],
          [
           58,
           83351,
           0.8406978249549866,
           6673.90966796875
          ],
          [
           58,
           77559,
           0.7122963666915894,
           5742.5244140625
          ]
         ],
         "hovertemplate": "Cluster=%{x}<br>Age=%{customdata[0]}<br>Income=%{customdata[1]}<br>SpendingScore=%{customdata[2]}<br>Savings=%{customdata[3]}<extra></extra>",
         "legendgroup": "Cluster 2",
         "marker": {
          "color": "#00cc96"
         },
         "name": "Cluster 2",
         "notched": true,
         "offsetgroup": "Cluster 2",
         "showlegend": false,
         "type": "box",
         "x": [
          "Cluster 2",
          "Cluster 2",
          "Cluster 2",
          "Cluster 2",
          "Cluster 2",
          "Cluster 2",
          "Cluster 2",
          "Cluster 2",
          "Cluster 2",
          "Cluster 2",
          "Cluster 2",
          "Cluster 2",
          "Cluster 2",
          "Cluster 2",
          "Cluster 2",
          "Cluster 2",
          "Cluster 2",
          "Cluster 2",
          "Cluster 2",
          "Cluster 2",
          "Cluster 2",
          "Cluster 2",
          "Cluster 2",
          "Cluster 2",
          "Cluster 2",
          "Cluster 2",
          "Cluster 2",
          "Cluster 2",
          "Cluster 2",
          "Cluster 2",
          "Cluster 2",
          "Cluster 2",
          "Cluster 2",
          "Cluster 2",
          "Cluster 2",
          "Cluster 2",
          "Cluster 2",
          "Cluster 2",
          "Cluster 2",
          "Cluster 2",
          "Cluster 2",
          "Cluster 2",
          "Cluster 2",
          "Cluster 2",
          "Cluster 2",
          "Cluster 2",
          "Cluster 2",
          "Cluster 2",
          "Cluster 2",
          "Cluster 2",
          "Cluster 2",
          "Cluster 2",
          "Cluster 2",
          "Cluster 2",
          "Cluster 2",
          "Cluster 2",
          "Cluster 2",
          "Cluster 2",
          "Cluster 2",
          "Cluster 2",
          "Cluster 2",
          "Cluster 2",
          "Cluster 2",
          "Cluster 2",
          "Cluster 2",
          "Cluster 2",
          "Cluster 2",
          "Cluster 2",
          "Cluster 2",
          "Cluster 2",
          "Cluster 2",
          "Cluster 2",
          "Cluster 2",
          "Cluster 2",
          "Cluster 2",
          "Cluster 2",
          "Cluster 2",
          "Cluster 2",
          "Cluster 2",
          "Cluster 2",
          "Cluster 2",
          "Cluster 2",
          "Cluster 2",
          "Cluster 2",
          "Cluster 2",
          "Cluster 2",
          "Cluster 2",
          "Cluster 2",
          "Cluster 2",
          "Cluster 2",
          "Cluster 2",
          "Cluster 2",
          "Cluster 2",
          "Cluster 2",
          "Cluster 2",
          "Cluster 2",
          "Cluster 2",
          "Cluster 2",
          "Cluster 2",
          "Cluster 2",
          "Cluster 2",
          "Cluster 2",
          "Cluster 2",
          "Cluster 2",
          "Cluster 2",
          "Cluster 2",
          "Cluster 2",
          "Cluster 2",
          "Cluster 2",
          "Cluster 2",
          "Cluster 2",
          "Cluster 2",
          "Cluster 2",
          "Cluster 2",
          "Cluster 2",
          "Cluster 2",
          "Cluster 2",
          "Cluster 2",
          "Cluster 2",
          "Cluster 2",
          "Cluster 2",
          "Cluster 2",
          "Cluster 2",
          "Cluster 2",
          "Cluster 2",
          "Cluster 2",
          "Cluster 2",
          "Cluster 2",
          "Cluster 2",
          "Cluster 2",
          "Cluster 2",
          "Cluster 2",
          "Cluster 2",
          "Cluster 2",
          "Cluster 2",
          "Cluster 2",
          "Cluster 2",
          "Cluster 2",
          "Cluster 2",
          "Cluster 2",
          "Cluster 2",
          "Cluster 2",
          "Cluster 2",
          "Cluster 2",
          "Cluster 2",
          "Cluster 2",
          "Cluster 2",
          "Cluster 2",
          "Cluster 2",
          "Cluster 2",
          "Cluster 2",
          "Cluster 2",
          "Cluster 2",
          "Cluster 2",
          "Cluster 2",
          "Cluster 2"
         ],
         "xaxis": "x2",
         "yaxis": "y2"
        },
        {
         "alignmentgroup": "True",
         "bingroup": "x",
         "hovertemplate": "Cluster=%{x}<br>count=%{y}<extra></extra>",
         "legendgroup": "Cluster 3",
         "marker": {
          "color": "#ab63fa",
          "opacity": 0.7,
          "pattern": {
           "shape": ""
          }
         },
         "name": "Cluster 3",
         "offsetgroup": "Cluster 3",
         "orientation": "v",
         "showlegend": true,
         "type": "histogram",
         "x": [
          "Cluster 3",
          "Cluster 3",
          "Cluster 3",
          "Cluster 3",
          "Cluster 3",
          "Cluster 3",
          "Cluster 3",
          "Cluster 3",
          "Cluster 3",
          "Cluster 3",
          "Cluster 3",
          "Cluster 3",
          "Cluster 3",
          "Cluster 3",
          "Cluster 3",
          "Cluster 3",
          "Cluster 3",
          "Cluster 3",
          "Cluster 3",
          "Cluster 3",
          "Cluster 3",
          "Cluster 3",
          "Cluster 3",
          "Cluster 3",
          "Cluster 3",
          "Cluster 3",
          "Cluster 3",
          "Cluster 3",
          "Cluster 3",
          "Cluster 3",
          "Cluster 3",
          "Cluster 3",
          "Cluster 3",
          "Cluster 3",
          "Cluster 3",
          "Cluster 3",
          "Cluster 3",
          "Cluster 3",
          "Cluster 3",
          "Cluster 3",
          "Cluster 3",
          "Cluster 3",
          "Cluster 3",
          "Cluster 3",
          "Cluster 3",
          "Cluster 3",
          "Cluster 3",
          "Cluster 3",
          "Cluster 3",
          "Cluster 3",
          "Cluster 3",
          "Cluster 3",
          "Cluster 3",
          "Cluster 3",
          "Cluster 3",
          "Cluster 3",
          "Cluster 3",
          "Cluster 3",
          "Cluster 3",
          "Cluster 3",
          "Cluster 3",
          "Cluster 3",
          "Cluster 3",
          "Cluster 3",
          "Cluster 3",
          "Cluster 3",
          "Cluster 3",
          "Cluster 3",
          "Cluster 3",
          "Cluster 3",
          "Cluster 3",
          "Cluster 3",
          "Cluster 3",
          "Cluster 3",
          "Cluster 3",
          "Cluster 3",
          "Cluster 3",
          "Cluster 3",
          "Cluster 3",
          "Cluster 3",
          "Cluster 3",
          "Cluster 3",
          "Cluster 3",
          "Cluster 3",
          "Cluster 3",
          "Cluster 3",
          "Cluster 3",
          "Cluster 3",
          "Cluster 3",
          "Cluster 3",
          "Cluster 3",
          "Cluster 3",
          "Cluster 3",
          "Cluster 3",
          "Cluster 3",
          "Cluster 3",
          "Cluster 3",
          "Cluster 3",
          "Cluster 3",
          "Cluster 3",
          "Cluster 3",
          "Cluster 3",
          "Cluster 3",
          "Cluster 3",
          "Cluster 3",
          "Cluster 3",
          "Cluster 3",
          "Cluster 3",
          "Cluster 3",
          "Cluster 3",
          "Cluster 3",
          "Cluster 3",
          "Cluster 3",
          "Cluster 3",
          "Cluster 3",
          "Cluster 3",
          "Cluster 3",
          "Cluster 3",
          "Cluster 3",
          "Cluster 3",
          "Cluster 3",
          "Cluster 3",
          "Cluster 3",
          "Cluster 3",
          "Cluster 3",
          "Cluster 3",
          "Cluster 3",
          "Cluster 3",
          "Cluster 3",
          "Cluster 3",
          "Cluster 3",
          "Cluster 3"
         ],
         "xaxis": "x",
         "yaxis": "y"
        },
        {
         "alignmentgroup": "True",
         "customdata": [
          [
           30,
           107302,
           0.23967717587947845,
           13993.244140625
          ],
          [
           31,
           107932,
           0.3742421865463257,
           12207.5263671875
          ],
          [
           31,
           107994,
           0.2944689393043518,
           13685.97265625
          ],
          [
           30,
           107525,
           0.29481643438339233,
           12702.84765625
          ],
          [
           33,
           98033,
           0.30951112508773804,
           15774.6904296875
          ],
          [
           85,
           111389,
           0.03679536283016205,
           16009.2373046875
          ],
          [
           83,
           117347,
           0.15569409728050232,
           15086.701171875
          ],
          [
           36,
           96336,
           0.2880975604057312,
           15286.76953125
          ],
          [
           30,
           102056,
           0.26070061326026917,
           15370.6689453125
          ],
          [
           34,
           102291,
           0.24786227941513062,
           15819.5771484375
          ],
          [
           36,
           104285,
           0.21236005425453186,
           13347.55859375
          ],
          [
           84,
           114406,
           0.12383837252855301,
           16840.5703125
          ],
          [
           36,
           99780,
           0.26543259620666504,
           16398.400390625
          ],
          [
           22,
           109152,
           0.3234464228153229,
           16022.482421875
          ],
          [
           31,
           114833,
           0.3050696849822998,
           13953.029296875
          ],
          [
           30,
           98030,
           0.4111117124557495,
           16316.8427734375
          ],
          [
           35,
           104678,
           0.32799285650253296,
           15422.0556640625
          ],
          [
           34,
           104284,
           0.3445454239845276,
           13541.8017578125
          ],
          [
           37,
           108635,
           0.28649571537971497,
           14558.0546875
          ],
          [
           38,
           94775,
           0.3803901970386505,
           16867.130859375
          ],
          [
           29,
           106014,
           0.34794512391090393,
           15038.0107421875
          ],
          [
           37,
           97678,
           0.2574704587459564,
           15834.11328125
          ],
          [
           28,
           101206,
           0.3874407112598419,
           14936.775390625
          ],
          [
           35,
           117112,
           0.3047918677330017,
           15908.0361328125
          ],
          [
           29,
           91375,
           0.23545043170452118,
           13104.962890625
          ],
          [
           37,
           106664,
           0.27758675813674927,
           14479.3740234375
          ],
          [
           34,
           98993,
           0.32299309968948364,
           16138.0791015625
          ],
          [
           32,
           108417,
           0.28737086057662964,
           16696.3984375
          ],
          [
           30,
           101073,
           0.31438711285591125,
           14324.5556640625
          ],
          [
           35,
           110106,
           0.2867692708969116,
           14924.537109375
          ],
          [
           31,
           112943,
           0.3412395119667053,
           14297.7021484375
          ],
          [
           33,
           105667,
           0.2507508099079132,
           12869.7607421875
          ],
          [
           39,
           100540,
           0.38492298126220703,
           16741.013671875
          ],
          [
           31,
           111449,
           0.29410621523857117,
           13929.62109375
          ],
          [
           33,
           107100,
           0.34243547916412354,
           14895.4736328125
          ],
          [
           33,
           106757,
           0.25839611887931824,
           14431.65234375
          ],
          [
           36,
           100158,
           0.3160604238510132,
           13832.37890625
          ],
          [
           37,
           107958,
           0.34666907787323,
           13641.009765625
          ],
          [
           31,
           108067,
           0.26867425441741943,
           13316.767578125
          ],
          [
           31,
           101481,
           0.2702350616455078,
           15226.6142578125
          ],
          [
           31,
           101209,
           0.3043229877948761,
           16917.572265625
          ],
          [
           33,
           106345,
           0.33923542499542236,
           15300.4541015625
          ],
          [
           31,
           110882,
           0.3252806067466736,
           14004.61328125
          ],
          [
           36,
           98137,
           0.2974012792110443,
           15978.3330078125
          ],
          [
           33,
           101058,
           0.31508153676986694,
           14911.8681640625
          ],
          [
           37,
           106894,
           0.3432357609272003,
           14075.2177734375
          ],
          [
           35,
           106588,
           0.3422141969203949,
           15648.65625
          ],
          [
           25,
           101503,
           0.2884688675403595,
           15026.26171875
          ],
          [
           30,
           108581,
           0.309446781873703,
           15628.7919921875
          ],
          [
           37,
           97831,
           0.37446582317352295,
           14935.14453125
          ],
          [
           28,
           94762,
           0.3035961985588074,
           15352.521484375
          ],
          [
           31,
           107963,
           0.2905086278915405,
           13407.0810546875
          ],
          [
           33,
           116616,
           0.32093003392219543,
           15104.498046875
          ],
          [
           28,
           100592,
           0.25959834456443787,
           15520.35546875
          ],
          [
           34,
           98165,
           0.17412050068378448,
           15721.86328125
          ],
          [
           31,
           105826,
           0.2862743139266968,
           13856.8056640625
          ],
          [
           32,
           117050,
           0.3113555312156677,
           14310.5458984375
          ],
          [
           30,
           99949,
           0.34467923641204834,
           13621.6396484375
          ],
          [
           27,
           106758,
           0.2662947177886963,
           14942.560546875
          ],
          [
           30,
           96241,
           0.3773384988307953,
           15485.15625
          ],
          [
           34,
           111303,
           0.34531256556510925,
           14624.318359375
          ],
          [
           33,
           108345,
           0.3254132866859436,
           15646.3212890625
          ],
          [
           31,
           99457,
           0.3658064901828766,
           14580.61328125
          ],
          [
           30,
           107926,
           0.23016072809696198,
           15520.5361328125
          ],
          [
           29,
           116451,
           0.34065961837768555,
           15294.6611328125
          ],
          [
           30,
           106350,
           0.3694162964820862,
           14863.2333984375
          ],
          [
           84,
           110582,
           0.07904903590679169,
           14937.9951171875
          ],
          [
           39,
           99216,
           0.21660614013671875,
           15230.3447265625
          ],
          [
           86,
           115689,
           0.057842954993247986,
           14803.1533203125
          ],
          [
           29,
           101943,
           0.3256230652332306,
           14619.3544921875
          ],
          [
           35,
           105991,
           0.3433779776096344,
           16616.087890625
          ],
          [
           59,
           90422,
           0.8062102198600769,
           6746.28125
          ],
          [
           28,
           111937,
           0.2537347376346588,
           13669.1103515625
          ],
          [
           33,
           114555,
           0.2792568504810333,
           13746.7451171875
          ],
          [
           38,
           113659,
           0.33348599076271057,
           14364.693359375
          ],
          [
           28,
           99611,
           0.27955785393714905,
           15345.658203125
          ],
          [
           29,
           110860,
           0.3194403052330017,
           16260.4208984375
          ],
          [
           40,
           98821,
           0.2790808379650116,
           15995.16015625
          ],
          [
           32,
           101905,
           0.30747631192207336,
           17532.1640625
          ],
          [
           84,
           115237,
           0.06877820938825607,
           14396.568359375
          ],
          [
           28,
           109075,
           0.3627619743347168,
           14082.4580078125
          ],
          [
           36,
           105567,
           0.3126388490200043,
           14355.310546875
          ],
          [
           32,
           106543,
           0.3107432425022125,
           14337.2880859375
          ],
          [
           29,
           103223,
           0.3388162851333618,
           16252.8828125
          ],
          [
           32,
           95536,
           0.2662460505962372,
           15420.6259765625
          ],
          [
           29,
           111426,
           0.40028116106987,
           14352.6435546875
          ],
          [
           35,
           112878,
           0.30091357231140137,
           13755.482421875
          ],
          [
           34,
           89598,
           0.340152382850647,
           12832.7685546875
          ],
          [
           29,
           99161,
           0.30792000889778137,
           15631.8369140625
          ],
          [
           25,
           106772,
           0.3909047245979309,
           16353.4716796875
          ],
          [
           29,
           102028,
           0.2889604866504669,
           14634.4306640625
          ],
          [
           42,
           106990,
           0.33006542921066284,
           14856.939453125
          ],
          [
           33,
           111813,
           0.23824378848075867,
           15901.2392578125
          ],
          [
           31,
           102618,
           0.27637791633605957,
           13209.3017578125
          ],
          [
           36,
           101811,
           0.340666800737381,
           15048.8994140625
          ],
          [
           36,
           108004,
           0.30892300605773926,
           15813.96484375
          ],
          [
           43,
           101641,
           0.38198381662368774,
           14424.09765625
          ],
          [
           36,
           109038,
           0.3242132067680359,
           16502.388671875
          ],
          [
           33,
           94964,
           0.33023250102996826,
           14018.349609375
          ],
          [
           33,
           99637,
           0.22821708023548126,
           15139.4033203125
          ],
          [
           29,
           112531,
           0.3427661657333374,
           14361.3349609375
          ],
          [
           38,
           104738,
           0.4059588611125946,
           15634.3134765625
          ],
          [
           38,
           115146,
           0.31449007987976074,
           14798.8681640625
          ],
          [
           35,
           102308,
           0.2751372158527374,
           14874.5576171875
          ],
          [
           32,
           110439,
           0.3069901466369629,
           13873.5078125
          ],
          [
           34,
           98752,
           0.3720337152481079,
           14975.3837890625
          ],
          [
           36,
           109809,
           0.35566020011901855,
           14978.501953125
          ],
          [
           31,
           116247,
           0.2943151295185089,
           16178.205078125
          ],
          [
           37,
           110595,
           0.2866485118865967,
           15235.4453125
          ],
          [
           35,
           108499,
           0.2612719237804413,
           16046.0830078125
          ],
          [
           88,
           114767,
           0.03220754116773605,
           17833.09375
          ],
          [
           39,
           100661,
           0.37664124369621277,
           16873.12890625
          ],
          [
           31,
           104388,
           0.28647324442863464,
           14406.5615234375
          ],
          [
           35,
           101691,
           0.34911102056503296,
           14152.671875
          ],
          [
           31,
           105036,
           0.2722280025482178,
           16465.064453125
          ],
          [
           37,
           107877,
           0.3346179723739624,
           17968.5546875
          ],
          [
           37,
           108651,
           0.19234362244606018,
           15881.2421875
          ],
          [
           26,
           97750,
           0.29340875148773193,
           15823.0322265625
          ],
          [
           32,
           102035,
           0.26207035779953003,
           14209.9326171875
          ],
          [
           31,
           105006,
           0.3741658926010132,
           15419.41796875
          ],
          [
           34,
           103428,
           0.2474244087934494,
           13791.0361328125
          ],
          [
           37,
           110732,
           0.32267624139785767,
           14265.3515625
          ],
          [
           34,
           107255,
           0.3283430337905884,
           15130.595703125
          ],
          [
           33,
           100275,
           0.36308568716049194,
           13735.4384765625
          ],
          [
           33,
           92569,
           0.33607980608940125,
           13765.685546875
          ],
          [
           35,
           107131,
           0.24247315526008606,
           16200.0126953125
          ],
          [
           28,
           97965,
           0.313491553068161,
           14981.40234375
          ],
          [
           34,
           103204,
           0.301087349653244,
           15149.810546875
          ],
          [
           30,
           108928,
           0.30386361479759216,
           14339.6533203125
          ],
          [
           44,
           114642,
           0.30920490622520447,
           14067.6181640625
          ],
          [
           24,
           110564,
           0.3049429953098297,
           14967.83984375
          ],
          [
           31,
           107115,
           0.32804208993911743,
           15693.5
          ]
         ],
         "hovertemplate": "Cluster=%{x}<br>Age=%{customdata[0]}<br>Income=%{customdata[1]}<br>SpendingScore=%{customdata[2]}<br>Savings=%{customdata[3]}<extra></extra>",
         "legendgroup": "Cluster 3",
         "marker": {
          "color": "#ab63fa"
         },
         "name": "Cluster 3",
         "notched": true,
         "offsetgroup": "Cluster 3",
         "showlegend": false,
         "type": "box",
         "x": [
          "Cluster 3",
          "Cluster 3",
          "Cluster 3",
          "Cluster 3",
          "Cluster 3",
          "Cluster 3",
          "Cluster 3",
          "Cluster 3",
          "Cluster 3",
          "Cluster 3",
          "Cluster 3",
          "Cluster 3",
          "Cluster 3",
          "Cluster 3",
          "Cluster 3",
          "Cluster 3",
          "Cluster 3",
          "Cluster 3",
          "Cluster 3",
          "Cluster 3",
          "Cluster 3",
          "Cluster 3",
          "Cluster 3",
          "Cluster 3",
          "Cluster 3",
          "Cluster 3",
          "Cluster 3",
          "Cluster 3",
          "Cluster 3",
          "Cluster 3",
          "Cluster 3",
          "Cluster 3",
          "Cluster 3",
          "Cluster 3",
          "Cluster 3",
          "Cluster 3",
          "Cluster 3",
          "Cluster 3",
          "Cluster 3",
          "Cluster 3",
          "Cluster 3",
          "Cluster 3",
          "Cluster 3",
          "Cluster 3",
          "Cluster 3",
          "Cluster 3",
          "Cluster 3",
          "Cluster 3",
          "Cluster 3",
          "Cluster 3",
          "Cluster 3",
          "Cluster 3",
          "Cluster 3",
          "Cluster 3",
          "Cluster 3",
          "Cluster 3",
          "Cluster 3",
          "Cluster 3",
          "Cluster 3",
          "Cluster 3",
          "Cluster 3",
          "Cluster 3",
          "Cluster 3",
          "Cluster 3",
          "Cluster 3",
          "Cluster 3",
          "Cluster 3",
          "Cluster 3",
          "Cluster 3",
          "Cluster 3",
          "Cluster 3",
          "Cluster 3",
          "Cluster 3",
          "Cluster 3",
          "Cluster 3",
          "Cluster 3",
          "Cluster 3",
          "Cluster 3",
          "Cluster 3",
          "Cluster 3",
          "Cluster 3",
          "Cluster 3",
          "Cluster 3",
          "Cluster 3",
          "Cluster 3",
          "Cluster 3",
          "Cluster 3",
          "Cluster 3",
          "Cluster 3",
          "Cluster 3",
          "Cluster 3",
          "Cluster 3",
          "Cluster 3",
          "Cluster 3",
          "Cluster 3",
          "Cluster 3",
          "Cluster 3",
          "Cluster 3",
          "Cluster 3",
          "Cluster 3",
          "Cluster 3",
          "Cluster 3",
          "Cluster 3",
          "Cluster 3",
          "Cluster 3",
          "Cluster 3",
          "Cluster 3",
          "Cluster 3",
          "Cluster 3",
          "Cluster 3",
          "Cluster 3",
          "Cluster 3",
          "Cluster 3",
          "Cluster 3",
          "Cluster 3",
          "Cluster 3",
          "Cluster 3",
          "Cluster 3",
          "Cluster 3",
          "Cluster 3",
          "Cluster 3",
          "Cluster 3",
          "Cluster 3",
          "Cluster 3",
          "Cluster 3",
          "Cluster 3",
          "Cluster 3",
          "Cluster 3",
          "Cluster 3",
          "Cluster 3",
          "Cluster 3",
          "Cluster 3"
         ],
         "xaxis": "x2",
         "yaxis": "y2"
        }
       ],
       "layout": {
        "barmode": "relative",
        "height": 600,
        "legend": {
         "title": {
          "text": "Cluster"
         },
         "tracegroupgap": 0
        },
        "margin": {
         "t": 60
        },
        "template": {
         "data": {
          "bar": [
           {
            "error_x": {
             "color": "#2a3f5f"
            },
            "error_y": {
             "color": "#2a3f5f"
            },
            "marker": {
             "line": {
              "color": "#E5ECF6",
              "width": 0.5
             },
             "pattern": {
              "fillmode": "overlay",
              "size": 10,
              "solidity": 0.2
             }
            },
            "type": "bar"
           }
          ],
          "barpolar": [
           {
            "marker": {
             "line": {
              "color": "#E5ECF6",
              "width": 0.5
             },
             "pattern": {
              "fillmode": "overlay",
              "size": 10,
              "solidity": 0.2
             }
            },
            "type": "barpolar"
           }
          ],
          "carpet": [
           {
            "aaxis": {
             "endlinecolor": "#2a3f5f",
             "gridcolor": "white",
             "linecolor": "white",
             "minorgridcolor": "white",
             "startlinecolor": "#2a3f5f"
            },
            "baxis": {
             "endlinecolor": "#2a3f5f",
             "gridcolor": "white",
             "linecolor": "white",
             "minorgridcolor": "white",
             "startlinecolor": "#2a3f5f"
            },
            "type": "carpet"
           }
          ],
          "choropleth": [
           {
            "colorbar": {
             "outlinewidth": 0,
             "ticks": ""
            },
            "type": "choropleth"
           }
          ],
          "contour": [
           {
            "colorbar": {
             "outlinewidth": 0,
             "ticks": ""
            },
            "colorscale": [
             [
              0,
              "#0d0887"
             ],
             [
              0.1111111111111111,
              "#46039f"
             ],
             [
              0.2222222222222222,
              "#7201a8"
             ],
             [
              0.3333333333333333,
              "#9c179e"
             ],
             [
              0.4444444444444444,
              "#bd3786"
             ],
             [
              0.5555555555555556,
              "#d8576b"
             ],
             [
              0.6666666666666666,
              "#ed7953"
             ],
             [
              0.7777777777777778,
              "#fb9f3a"
             ],
             [
              0.8888888888888888,
              "#fdca26"
             ],
             [
              1,
              "#f0f921"
             ]
            ],
            "type": "contour"
           }
          ],
          "contourcarpet": [
           {
            "colorbar": {
             "outlinewidth": 0,
             "ticks": ""
            },
            "type": "contourcarpet"
           }
          ],
          "heatmap": [
           {
            "colorbar": {
             "outlinewidth": 0,
             "ticks": ""
            },
            "colorscale": [
             [
              0,
              "#0d0887"
             ],
             [
              0.1111111111111111,
              "#46039f"
             ],
             [
              0.2222222222222222,
              "#7201a8"
             ],
             [
              0.3333333333333333,
              "#9c179e"
             ],
             [
              0.4444444444444444,
              "#bd3786"
             ],
             [
              0.5555555555555556,
              "#d8576b"
             ],
             [
              0.6666666666666666,
              "#ed7953"
             ],
             [
              0.7777777777777778,
              "#fb9f3a"
             ],
             [
              0.8888888888888888,
              "#fdca26"
             ],
             [
              1,
              "#f0f921"
             ]
            ],
            "type": "heatmap"
           }
          ],
          "heatmapgl": [
           {
            "colorbar": {
             "outlinewidth": 0,
             "ticks": ""
            },
            "colorscale": [
             [
              0,
              "#0d0887"
             ],
             [
              0.1111111111111111,
              "#46039f"
             ],
             [
              0.2222222222222222,
              "#7201a8"
             ],
             [
              0.3333333333333333,
              "#9c179e"
             ],
             [
              0.4444444444444444,
              "#bd3786"
             ],
             [
              0.5555555555555556,
              "#d8576b"
             ],
             [
              0.6666666666666666,
              "#ed7953"
             ],
             [
              0.7777777777777778,
              "#fb9f3a"
             ],
             [
              0.8888888888888888,
              "#fdca26"
             ],
             [
              1,
              "#f0f921"
             ]
            ],
            "type": "heatmapgl"
           }
          ],
          "histogram": [
           {
            "marker": {
             "pattern": {
              "fillmode": "overlay",
              "size": 10,
              "solidity": 0.2
             }
            },
            "type": "histogram"
           }
          ],
          "histogram2d": [
           {
            "colorbar": {
             "outlinewidth": 0,
             "ticks": ""
            },
            "colorscale": [
             [
              0,
              "#0d0887"
             ],
             [
              0.1111111111111111,
              "#46039f"
             ],
             [
              0.2222222222222222,
              "#7201a8"
             ],
             [
              0.3333333333333333,
              "#9c179e"
             ],
             [
              0.4444444444444444,
              "#bd3786"
             ],
             [
              0.5555555555555556,
              "#d8576b"
             ],
             [
              0.6666666666666666,
              "#ed7953"
             ],
             [
              0.7777777777777778,
              "#fb9f3a"
             ],
             [
              0.8888888888888888,
              "#fdca26"
             ],
             [
              1,
              "#f0f921"
             ]
            ],
            "type": "histogram2d"
           }
          ],
          "histogram2dcontour": [
           {
            "colorbar": {
             "outlinewidth": 0,
             "ticks": ""
            },
            "colorscale": [
             [
              0,
              "#0d0887"
             ],
             [
              0.1111111111111111,
              "#46039f"
             ],
             [
              0.2222222222222222,
              "#7201a8"
             ],
             [
              0.3333333333333333,
              "#9c179e"
             ],
             [
              0.4444444444444444,
              "#bd3786"
             ],
             [
              0.5555555555555556,
              "#d8576b"
             ],
             [
              0.6666666666666666,
              "#ed7953"
             ],
             [
              0.7777777777777778,
              "#fb9f3a"
             ],
             [
              0.8888888888888888,
              "#fdca26"
             ],
             [
              1,
              "#f0f921"
             ]
            ],
            "type": "histogram2dcontour"
           }
          ],
          "mesh3d": [
           {
            "colorbar": {
             "outlinewidth": 0,
             "ticks": ""
            },
            "type": "mesh3d"
           }
          ],
          "parcoords": [
           {
            "line": {
             "colorbar": {
              "outlinewidth": 0,
              "ticks": ""
             }
            },
            "type": "parcoords"
           }
          ],
          "pie": [
           {
            "automargin": true,
            "type": "pie"
           }
          ],
          "scatter": [
           {
            "fillpattern": {
             "fillmode": "overlay",
             "size": 10,
             "solidity": 0.2
            },
            "type": "scatter"
           }
          ],
          "scatter3d": [
           {
            "line": {
             "colorbar": {
              "outlinewidth": 0,
              "ticks": ""
             }
            },
            "marker": {
             "colorbar": {
              "outlinewidth": 0,
              "ticks": ""
             }
            },
            "type": "scatter3d"
           }
          ],
          "scattercarpet": [
           {
            "marker": {
             "colorbar": {
              "outlinewidth": 0,
              "ticks": ""
             }
            },
            "type": "scattercarpet"
           }
          ],
          "scattergeo": [
           {
            "marker": {
             "colorbar": {
              "outlinewidth": 0,
              "ticks": ""
             }
            },
            "type": "scattergeo"
           }
          ],
          "scattergl": [
           {
            "marker": {
             "colorbar": {
              "outlinewidth": 0,
              "ticks": ""
             }
            },
            "type": "scattergl"
           }
          ],
          "scattermapbox": [
           {
            "marker": {
             "colorbar": {
              "outlinewidth": 0,
              "ticks": ""
             }
            },
            "type": "scattermapbox"
           }
          ],
          "scatterpolar": [
           {
            "marker": {
             "colorbar": {
              "outlinewidth": 0,
              "ticks": ""
             }
            },
            "type": "scatterpolar"
           }
          ],
          "scatterpolargl": [
           {
            "marker": {
             "colorbar": {
              "outlinewidth": 0,
              "ticks": ""
             }
            },
            "type": "scatterpolargl"
           }
          ],
          "scatterternary": [
           {
            "marker": {
             "colorbar": {
              "outlinewidth": 0,
              "ticks": ""
             }
            },
            "type": "scatterternary"
           }
          ],
          "surface": [
           {
            "colorbar": {
             "outlinewidth": 0,
             "ticks": ""
            },
            "colorscale": [
             [
              0,
              "#0d0887"
             ],
             [
              0.1111111111111111,
              "#46039f"
             ],
             [
              0.2222222222222222,
              "#7201a8"
             ],
             [
              0.3333333333333333,
              "#9c179e"
             ],
             [
              0.4444444444444444,
              "#bd3786"
             ],
             [
              0.5555555555555556,
              "#d8576b"
             ],
             [
              0.6666666666666666,
              "#ed7953"
             ],
             [
              0.7777777777777778,
              "#fb9f3a"
             ],
             [
              0.8888888888888888,
              "#fdca26"
             ],
             [
              1,
              "#f0f921"
             ]
            ],
            "type": "surface"
           }
          ],
          "table": [
           {
            "cells": {
             "fill": {
              "color": "#EBF0F8"
             },
             "line": {
              "color": "white"
             }
            },
            "header": {
             "fill": {
              "color": "#C8D4E3"
             },
             "line": {
              "color": "white"
             }
            },
            "type": "table"
           }
          ]
         },
         "layout": {
          "annotationdefaults": {
           "arrowcolor": "#2a3f5f",
           "arrowhead": 0,
           "arrowwidth": 1
          },
          "autotypenumbers": "strict",
          "coloraxis": {
           "colorbar": {
            "outlinewidth": 0,
            "ticks": ""
           }
          },
          "colorscale": {
           "diverging": [
            [
             0,
             "#8e0152"
            ],
            [
             0.1,
             "#c51b7d"
            ],
            [
             0.2,
             "#de77ae"
            ],
            [
             0.3,
             "#f1b6da"
            ],
            [
             0.4,
             "#fde0ef"
            ],
            [
             0.5,
             "#f7f7f7"
            ],
            [
             0.6,
             "#e6f5d0"
            ],
            [
             0.7,
             "#b8e186"
            ],
            [
             0.8,
             "#7fbc41"
            ],
            [
             0.9,
             "#4d9221"
            ],
            [
             1,
             "#276419"
            ]
           ],
           "sequential": [
            [
             0,
             "#0d0887"
            ],
            [
             0.1111111111111111,
             "#46039f"
            ],
            [
             0.2222222222222222,
             "#7201a8"
            ],
            [
             0.3333333333333333,
             "#9c179e"
            ],
            [
             0.4444444444444444,
             "#bd3786"
            ],
            [
             0.5555555555555556,
             "#d8576b"
            ],
            [
             0.6666666666666666,
             "#ed7953"
            ],
            [
             0.7777777777777778,
             "#fb9f3a"
            ],
            [
             0.8888888888888888,
             "#fdca26"
            ],
            [
             1,
             "#f0f921"
            ]
           ],
           "sequentialminus": [
            [
             0,
             "#0d0887"
            ],
            [
             0.1111111111111111,
             "#46039f"
            ],
            [
             0.2222222222222222,
             "#7201a8"
            ],
            [
             0.3333333333333333,
             "#9c179e"
            ],
            [
             0.4444444444444444,
             "#bd3786"
            ],
            [
             0.5555555555555556,
             "#d8576b"
            ],
            [
             0.6666666666666666,
             "#ed7953"
            ],
            [
             0.7777777777777778,
             "#fb9f3a"
            ],
            [
             0.8888888888888888,
             "#fdca26"
            ],
            [
             1,
             "#f0f921"
            ]
           ]
          },
          "colorway": [
           "#636efa",
           "#EF553B",
           "#00cc96",
           "#ab63fa",
           "#FFA15A",
           "#19d3f3",
           "#FF6692",
           "#B6E880",
           "#FF97FF",
           "#FECB52"
          ],
          "font": {
           "color": "#2a3f5f"
          },
          "geo": {
           "bgcolor": "white",
           "lakecolor": "white",
           "landcolor": "#E5ECF6",
           "showlakes": true,
           "showland": true,
           "subunitcolor": "white"
          },
          "hoverlabel": {
           "align": "left"
          },
          "hovermode": "closest",
          "mapbox": {
           "style": "light"
          },
          "paper_bgcolor": "white",
          "plot_bgcolor": "#E5ECF6",
          "polar": {
           "angularaxis": {
            "gridcolor": "white",
            "linecolor": "white",
            "ticks": ""
           },
           "bgcolor": "#E5ECF6",
           "radialaxis": {
            "gridcolor": "white",
            "linecolor": "white",
            "ticks": ""
           }
          },
          "scene": {
           "xaxis": {
            "backgroundcolor": "#E5ECF6",
            "gridcolor": "white",
            "gridwidth": 2,
            "linecolor": "white",
            "showbackground": true,
            "ticks": "",
            "zerolinecolor": "white"
           },
           "yaxis": {
            "backgroundcolor": "#E5ECF6",
            "gridcolor": "white",
            "gridwidth": 2,
            "linecolor": "white",
            "showbackground": true,
            "ticks": "",
            "zerolinecolor": "white"
           },
           "zaxis": {
            "backgroundcolor": "#E5ECF6",
            "gridcolor": "white",
            "gridwidth": 2,
            "linecolor": "white",
            "showbackground": true,
            "ticks": "",
            "zerolinecolor": "white"
           }
          },
          "shapedefaults": {
           "line": {
            "color": "#2a3f5f"
           }
          },
          "ternary": {
           "aaxis": {
            "gridcolor": "white",
            "linecolor": "white",
            "ticks": ""
           },
           "baxis": {
            "gridcolor": "white",
            "linecolor": "white",
            "ticks": ""
           },
           "bgcolor": "#E5ECF6",
           "caxis": {
            "gridcolor": "white",
            "linecolor": "white",
            "ticks": ""
           }
          },
          "title": {
           "x": 0.05
          },
          "xaxis": {
           "automargin": true,
           "gridcolor": "white",
           "linecolor": "white",
           "ticks": "",
           "title": {
            "standoff": 15
           },
           "zerolinecolor": "white",
           "zerolinewidth": 2
          },
          "yaxis": {
           "automargin": true,
           "gridcolor": "white",
           "linecolor": "white",
           "ticks": "",
           "title": {
            "standoff": 15
           },
           "zerolinecolor": "white",
           "zerolinewidth": 2
          }
         }
        },
        "xaxis": {
         "anchor": "y",
         "categoryarray": [
          "Cluster 0",
          "Cluster 1",
          "Cluster 2",
          "Cluster 3"
         ],
         "categoryorder": "array",
         "domain": [
          0,
          1
         ],
         "title": {
          "text": "Cluster"
         }
        },
        "xaxis2": {
         "anchor": "y2",
         "domain": [
          0,
          1
         ],
         "matches": "x",
         "showgrid": true,
         "showticklabels": false
        },
        "yaxis": {
         "anchor": "x",
         "domain": [
          0,
          0.7326
         ],
         "title": {
          "text": "count"
         }
        },
        "yaxis2": {
         "anchor": "x2",
         "domain": [
          0.7426,
          1
         ],
         "matches": "y2",
         "showgrid": false,
         "showline": false,
         "showticklabels": false,
         "ticks": ""
        }
       }
      }
     },
     "metadata": {},
     "output_type": "display_data"
    }
   ],
   "source": [
    "plot_model(kmeans, plot='distribution')"
   ]
  },
  {
   "cell_type": "code",
   "execution_count": 10,
   "metadata": {},
   "outputs": [
    {
     "data": {
      "application/vnd.jupyter.widget-view+json": {
       "model_id": "06a9af9b767d4072a0511b4f5a341a5b",
       "version_major": 2,
       "version_minor": 0
      },
      "text/plain": [
       "interactive(children=(ToggleButtons(description='Plot Type:', icons=('',), options=(('Pipeline Plot', 'pipelin…"
      ]
     },
     "metadata": {},
     "output_type": "display_data"
    },
    {
     "data": {
      "application/vnd.plotly.v1+json": {
       "config": {
        "plotlyServerURL": "https://plot.ly"
       },
       "data": [
        {
         "customdata": [
          [
           26
          ],
          [
           28
          ],
          [
           20
          ],
          [
           17
          ],
          [
           24
          ],
          [
           24
          ],
          [
           29
          ],
          [
           17
          ],
          [
           27
          ],
          [
           93
          ],
          [
           28
          ],
          [
           17
          ],
          [
           28
          ],
          [
           23
          ],
          [
           28
          ],
          [
           23
          ],
          [
           18
          ],
          [
           29
          ],
          [
           23
          ],
          [
           27
          ],
          [
           24
          ],
          [
           25
          ],
          [
           25
          ],
          [
           34
          ],
          [
           86
          ],
          [
           87
          ],
          [
           82
          ],
          [
           24
          ],
          [
           20
          ],
          [
           82
          ],
          [
           22
          ],
          [
           25
          ],
          [
           28
          ],
          [
           21
          ],
          [
           88
          ],
          [
           26
          ],
          [
           21
          ],
          [
           27
          ],
          [
           23
          ],
          [
           31
          ],
          [
           24
          ],
          [
           77
          ],
          [
           86
          ],
          [
           91
          ],
          [
           83
          ],
          [
           24
          ],
          [
           26
          ],
          [
           88
          ],
          [
           22
          ],
          [
           84
          ],
          [
           18
          ],
          [
           90
          ],
          [
           89
          ],
          [
           22
          ],
          [
           30
          ],
          [
           17
          ],
          [
           26
          ],
          [
           26
          ],
          [
           28
          ],
          [
           29
          ],
          [
           83
          ],
          [
           90
          ],
          [
           24
          ],
          [
           25
          ],
          [
           85
          ],
          [
           20
          ],
          [
           25
          ],
          [
           25
          ],
          [
           29
          ],
          [
           92
          ]
         ],
         "hovertemplate": "Cluster=Cluster 0<br>PCA1=%{x}<br>PCA2=%{y}<br>Feature=%{customdata[0]}<extra></extra>",
         "legendgroup": "Cluster 0",
         "marker": {
          "color": "#636efa",
          "opacity": 0.5,
          "symbol": "circle"
         },
         "mode": "markers",
         "name": "Cluster 0",
         "orientation": "v",
         "showlegend": true,
         "textposition": "top center",
         "type": "scatter",
         "x": [
          51532.47005468583,
          48281.964760281204,
          47415.38915596524,
          61085.161818166314,
          45280.29646688092,
          53976.78999307682,
          47210.61128826451,
          59803.04557597504,
          47518.88132347983,
          50874.59371963915,
          46000.80248340854,
          48697.32854572946,
          52465.033585302146,
          51395.224355863356,
          48029.23597884724,
          54778.91990697279,
          48551.8977898876,
          43600.21620721055,
          63317.06653029426,
          46271.74997443967,
          61617.25601853899,
          62912.4571003927,
          55783.4288540903,
          44074.74433395846,
          52679.13743936508,
          41859.154366077826,
          50433.851405074165,
          52263.49411048383,
          54230.31142876461,
          45920.30382555986,
          45302.57091364998,
          45728.401139272275,
          41933.876337644055,
          54542.56027032774,
          47964.5522850611,
          50397.08388459143,
          48602.57110350961,
          49923.23240059176,
          45049.71302323952,
          47836.448388874895,
          55795.99791010052,
          52844.214520669055,
          48577.245951971614,
          43084.43131856258,
          43629.0127400591,
          59239.85352122595,
          52086.38065950194,
          44952.9020471801,
          58984.55028389013,
          46993.64107086381,
          55587.351727935136,
          48410.00928895812,
          43861.747071619975,
          57857.289053149856,
          47549.76255316084,
          59798.17481891007,
          56651.455486319566,
          47842.88366913237,
          53924.59704186735,
          66750.62107639131,
          42157.80543094875,
          42045.79572232815,
          59196.593078354126,
          53422.55247996485,
          42414.139835251306,
          53899.234054063396,
          55809.60824754347,
          55168.45153662272,
          56449.67813276759,
          47182.06860121161
         ],
         "xaxis": "x",
         "y": [
          6006.733800938243,
          8499.966919747441,
          4709.388721993278,
          4243.72180398018,
          4437.356755042895,
          5488.389848804962,
          6674.23478313565,
          8450.307548937866,
          4941.999476017804,
          -5178.053057007961,
          3884.452852169688,
          5282.497861655178,
          3371.5330641923233,
          5657.241523409535,
          5422.323715263647,
          4629.7913457227,
          4668.214701347181,
          -5657.478374018925,
          4946.177503380891,
          4207.414538362315,
          6726.313729421171,
          5261.355290099562,
          4732.087674705491,
          -6307.668957592921,
          -4749.056737128192,
          -4543.326342656835,
          -6854.205790290357,
          5916.358116348493,
          3238.4289374841255,
          -4953.92149406202,
          3778.181609385129,
          3658.3064353496698,
          4717.997031231375,
          4193.883189681694,
          -4397.185708241021,
          2890.5507602719595,
          6249.537248101816,
          6048.724076369265,
          4590.8723562927735,
          6059.983303443474,
          4252.897482631877,
          -5677.667836398251,
          -6305.307643166639,
          -4660.855325409056,
          -6254.840940318058,
          4745.14449328446,
          3388.4270675204825,
          -4985.5146043490795,
          3350.711797535984,
          -4647.129392602869,
          3427.1351701713456,
          -5693.665477980647,
          -6877.036237163739,
          5717.501103769997,
          3437.896625297283,
          4315.751653167787,
          4271.292256835256,
          4758.1885834484165,
          5765.842917677416,
          2693.008067325201,
          -5954.4545753329285,
          -3106.1031340527984,
          3903.974813791067,
          3894.235404068599,
          -5432.281984340312,
          3176.746804746794,
          3879.149542578088,
          4016.9815008394594,
          5101.398631128976,
          -4557.716265875756
         ],
         "yaxis": "y"
        },
        {
         "customdata": [
          [
           88
          ],
          [
           90
          ],
          [
           86
          ],
          [
           85
          ],
          [
           91
          ],
          [
           86
          ],
          [
           91
          ],
          [
           94
          ],
          [
           88
          ],
          [
           85
          ],
          [
           83
          ],
          [
           94
          ],
          [
           91
          ],
          [
           86
          ],
          [
           90
          ],
          [
           88
          ],
          [
           92
          ],
          [
           85
          ],
          [
           83
          ],
          [
           91
          ],
          [
           94
          ],
          [
           83
          ],
          [
           94
          ],
          [
           88
          ],
          [
           89
          ],
          [
           89
          ],
          [
           83
          ],
          [
           87
          ],
          [
           91
          ],
          [
           85
          ],
          [
           88
          ],
          [
           88
          ],
          [
           84
          ],
          [
           92
          ],
          [
           84
          ],
          [
           88
          ],
          [
           89
          ],
          [
           86
          ],
          [
           85
          ],
          [
           87
          ],
          [
           87
          ],
          [
           89
          ],
          [
           86
          ],
          [
           91
          ],
          [
           88
          ],
          [
           89
          ],
          [
           88
          ],
          [
           85
          ],
          [
           87
          ],
          [
           91
          ],
          [
           85
          ],
          [
           90
          ],
          [
           87
          ],
          [
           91
          ],
          [
           95
          ],
          [
           84
          ],
          [
           87
          ],
          [
           87
          ],
          [
           94
          ],
          [
           82
          ],
          [
           91
          ],
          [
           93
          ],
          [
           82
          ],
          [
           92
          ],
          [
           89
          ],
          [
           84
          ],
          [
           87
          ],
          [
           90
          ],
          [
           91
          ],
          [
           81
          ],
          [
           93
          ],
          [
           89
          ],
          [
           88
          ],
          [
           85
          ],
          [
           82
          ],
          [
           89
          ],
          [
           94
          ],
          [
           88
          ],
          [
           91
          ],
          [
           84
          ],
          [
           90
          ],
          [
           88
          ],
          [
           90
          ],
          [
           84
          ],
          [
           91
          ],
          [
           94
          ],
          [
           92
          ],
          [
           89
          ],
          [
           86
          ],
          [
           91
          ],
          [
           97
          ],
          [
           90
          ],
          [
           87
          ],
          [
           92
          ],
          [
           87
          ],
          [
           83
          ],
          [
           92
          ],
          [
           90
          ],
          [
           86
          ],
          [
           87
          ],
          [
           91
          ],
          [
           88
          ],
          [
           79
          ],
          [
           83
          ],
          [
           91
          ],
          [
           84
          ],
          [
           86
          ],
          [
           85
          ],
          [
           87
          ],
          [
           83
          ],
          [
           83
          ],
          [
           84
          ],
          [
           89
          ],
          [
           87
          ],
          [
           91
          ],
          [
           87
          ],
          [
           87
          ],
          [
           91
          ],
          [
           87
          ],
          [
           89
          ],
          [
           88
          ],
          [
           93
          ],
          [
           84
          ],
          [
           92
          ],
          [
           85
          ],
          [
           85
          ],
          [
           90
          ],
          [
           86
          ],
          [
           90
          ],
          [
           88
          ],
          [
           83
          ],
          [
           84
          ],
          [
           82
          ],
          [
           82
          ],
          [
           79
          ],
          [
           87
          ],
          [
           90
          ],
          [
           91
          ],
          [
           88
          ],
          [
           83
          ],
          [
           87
          ],
          [
           84
          ],
          [
           89
          ],
          [
           84
          ],
          [
           88
          ],
          [
           84
          ],
          [
           92
          ]
         ],
         "hovertemplate": "Cluster=Cluster 1<br>PCA1=%{x}<br>PCA2=%{y}<br>Feature=%{customdata[0]}<extra></extra>",
         "legendgroup": "Cluster 1",
         "marker": {
          "color": "#EF553B",
          "opacity": 0.5,
          "symbol": "circle"
         },
         "mode": "markers",
         "name": "Cluster 1",
         "orientation": "v",
         "showlegend": true,
         "textposition": "top center",
         "type": "scatter",
         "x": [
          -48459.57886574741,
          -45508.35391168651,
          -56854.24492927825,
          -44945.698964713854,
          -49274.44239573872,
          -46897.28721880453,
          -45489.12000858342,
          -47975.629885853064,
          -47129.844161164736,
          -49427.524121758914,
          -48890.16206340343,
          -36822.882735679654,
          -47000.171674283956,
          -39916.590611805936,
          -50029.04864430804,
          -53103.84792851195,
          -42805.174705655045,
          -47271.413278008884,
          -57495.82749294879,
          -48496.84791008097,
          -48448.189831499265,
          -47148.0495251319,
          -54957.490976530295,
          -57750.75775521808,
          -44680.89355364254,
          -50446.68720778384,
          -45148.06214368706,
          -50055.787556764575,
          -46108.56437415357,
          -40907.25151543583,
          -58306.89374562323,
          -43012.769806193035,
          -48329.37517055249,
          -39882.02328828025,
          -37730.76929457198,
          -56178.673292178406,
          -49610.67501721536,
          -28705.212825263392,
          -47927.756160689096,
          -49952.563870074904,
          -45504.92819267488,
          -56491.72617965694,
          -43811.47260914547,
          -63634.72202883475,
          -40724.15684584522,
          -42432.64512102196,
          -49206.073004638245,
          -54413.15852823444,
          -63656.34761270813,
          -39063.286664840656,
          -46522.919468664084,
          -53514.366110009585,
          -44821.271964881125,
          -50504.823104629184,
          -48754.55326230387,
          -48254.00620956814,
          -57176.86780758164,
          -28723.99191856934,
          -56820.087514001316,
          -42172.091374211675,
          -58771.330100057654,
          -55300.438368620016,
          -43231.47785779809,
          -53329.08892211863,
          -55368.984257140175,
          -48469.75824737511,
          -51191.18314121463,
          -42253.872882755255,
          -55116.83598721053,
          -41272.89535426135,
          -58127.50383446996,
          -48762.36471399606,
          -42594.24303541747,
          -46206.76075642493,
          -51459.5135250055,
          -45316.58138942745,
          -51858.95285548033,
          -44316.39099715637,
          -48867.33425333965,
          -45243.33594590516,
          -51240.794671401636,
          -57888.986939968054,
          -52877.38162330982,
          -51590.97204811321,
          -47591.225131434665,
          -47366.64942872543,
          -56895.33601319739,
          -53680.720605912546,
          -60035.355695188904,
          -52957.61627730345,
          -48338.70468800099,
          -38257.0124803068,
          -59885.183477818384,
          -40276.448120984634,
          -49618.564266246955,
          -42546.309247475176,
          -53120.540755307644,
          -42485.19893881772,
          -48031.600303378495,
          -52350.136878173325,
          -49855.36019377396,
          -42334.047649157576,
          -37510.588057403605,
          -41183.65208626926,
          -38870.672592895164,
          -55003.11474871318,
          -52219.78891088447,
          -53905.33081243273,
          -49083.989006407064,
          -47072.8326904848,
          -45053.50114082122,
          -39255.473892599606,
          -51006.625949623885,
          -33223.78792540314,
          -46752.17189818303,
          -52745.271954827665,
          -45592.66270794391,
          -44891.7269512594,
          -57945.29404961142,
          -41047.376386734504,
          -47339.94734492919,
          -55837.89619000491,
          -53484.99043374058,
          -42194.798750822665,
          -47211.309228383645,
          -41090.432743024765,
          -40392.52356154928,
          -39708.646986385145,
          -46621.6751728767,
          -46888.40588576989,
          -41229.08531754967,
          -48086.47159801665,
          -51335.696316784815,
          -42152.50284228485,
          -43219.570638447236,
          -44207.36922040727,
          -42382.698822799655,
          -51304.42078363728,
          -41654.28539711417,
          -52508.30352712907,
          -45889.16122740457,
          -46294.696563603444,
          -47490.05336010278,
          -57516.273141569836,
          -49640.51628007665,
          -33685.82301953534,
          -39730.7549089785
         ],
         "xaxis": "x",
         "y": [
          -623.0250548560488,
          -1716.0962167717569,
          -1039.887236747618,
          -2663.4354555556233,
          -1819.1411226436473,
          -1500.600011877083,
          -857.2362973575496,
          -2697.4805218756405,
          -2166.945504634239,
          -3282.496539528994,
          -3117.043952131992,
          -3004.1360440515814,
          -3258.592151182354,
          -5860.4070049476195,
          -2907.797692364691,
          -1838.6649351563995,
          -2383.923812810523,
          -1422.263297740208,
          -874.5934065316542,
          -1255.0228766467965,
          -424.4946391842387,
          -948.1703671149719,
          -1273.0338864987416,
          -1546.7861986769094,
          -3320.2389025799553,
          -1789.8301942200417,
          -918.4435120938804,
          -458.7328186883238,
          -4704.899979069116,
          -2247.723767110278,
          -1498.3071568123494,
          -2388.3979285656496,
          -2106.955706664307,
          -3145.8380799741617,
          -3447.522083521275,
          -1450.7322712124171,
          -2494.346157927881,
          -2125.5165605467528,
          1139.0675913831208,
          -1016.3629330534916,
          -1656.4246533860944,
          -1529.9498518651953,
          -3844.050469725096,
          -958.5370357661089,
          -3403.3543346107654,
          -2804.3179897641216,
          646.5434219075411,
          -1055.99646739923,
          -672.1307761420608,
          -2178.951078899758,
          -2395.15149085078,
          -3511.6510358173878,
          -809.2480282398324,
          -2541.103429757958,
          -3476.758241532857,
          -3586.3925803309535,
          -500.38226527672924,
          -1283.2493348069165,
          -2626.494091038499,
          -3482.950082631111,
          -1946.425647320715,
          -2379.4456307220707,
          -2464.365635646983,
          -3704.115462201343,
          -990.6072888551711,
          -975.0114136119705,
          -2999.048697401421,
          -2813.408968099346,
          -3386.630871370054,
          -2039.0522118035885,
          -3329.4235557220813,
          -1902.3045662332288,
          -4573.1365583188735,
          -3972.4381382736638,
          -1443.6315773519368,
          72.34217763365194,
          -1998.3145888103256,
          -1681.108190825446,
          -3330.0956203911073,
          -2386.7438202843014,
          -337.5830610287047,
          -2297.410483104437,
          -1034.0459046785431,
          -1709.680834714089,
          -2876.0171941981057,
          -2226.524522178829,
          -219.83546115271207,
          -1523.1535588510794,
          -2067.7845249042252,
          -512.1679220763324,
          -296.9483635317872,
          -3209.7049807915,
          968.1817045075694,
          -3159.4029087705617,
          -1200.4989785914927,
          -2323.9543527396127,
          -2373.907682943562,
          -1573.1294931068767,
          -2520.879074299022,
          -1271.836652252878,
          -2551.640176025431,
          -946.4423236598786,
          -2385.931492912864,
          -2299.1778477879407,
          -4966.632164446517,
          -1806.3718853762591,
          -361.8229000741431,
          776.7212819595685,
          -2706.953602076428,
          -3652.142734722459,
          -3267.8529257017826,
          -2456.062958384287,
          1229.6345018341212,
          -4327.599784659084,
          -4260.668084206517,
          -3270.249333202926,
          -1858.741442949726,
          -1059.5101766806472,
          -1690.2242432392875,
          163.00824757784557,
          -2756.210664925761,
          -2913.15095503896,
          -2964.8709350520144,
          -2831.2452680158362,
          -497.0289075072252,
          -2507.4686024831617,
          -1918.0710771595075,
          -2812.640793364645,
          -1061.392546047768,
          -1747.2843051407006,
          -559.8885893852705,
          -3267.6642579009513,
          -2253.3241819888635,
          -3595.426920160011,
          -982.6375502407418,
          -1788.5954480508212,
          -1026.2176795347018,
          -1341.6420338652322,
          -1284.2768049213942,
          -2003.3794666631097,
          -3656.859751453871,
          -3445.141443035062,
          -1025.6554152767999,
          -2662.237205665568,
          -2403.4517367005983,
          -2359.9807573111716,
          -3215.3115156639396
         ],
         "yaxis": "y"
        },
        {
         "customdata": [
          [
           65
          ],
          [
           61
          ],
          [
           58
          ],
          [
           59
          ],
          [
           65
          ],
          [
           61
          ],
          [
           56
          ],
          [
           62
          ],
          [
           58
          ],
          [
           61
          ],
          [
           66
          ],
          [
           59
          ],
          [
           59
          ],
          [
           56
          ],
          [
           59
          ],
          [
           60
          ],
          [
           62
          ],
          [
           63
          ],
          [
           51
          ],
          [
           56
          ],
          [
           55
          ],
          [
           58
          ],
          [
           59
          ],
          [
           68
          ],
          [
           58
          ],
          [
           61
          ],
          [
           55
          ],
          [
           58
          ],
          [
           67
          ],
          [
           56
          ],
          [
           57
          ],
          [
           67
          ],
          [
           59
          ],
          [
           60
          ],
          [
           57
          ],
          [
           61
          ],
          [
           60
          ],
          [
           64
          ],
          [
           62
          ],
          [
           58
          ],
          [
           59
          ],
          [
           63
          ],
          [
           61
          ],
          [
           59
          ],
          [
           59
          ],
          [
           56
          ],
          [
           60
          ],
          [
           57
          ],
          [
           61
          ],
          [
           63
          ],
          [
           58
          ],
          [
           59
          ],
          [
           59
          ],
          [
           61
          ],
          [
           67
          ],
          [
           65
          ],
          [
           59
          ],
          [
           59
          ],
          [
           58
          ],
          [
           61
          ],
          [
           62
          ],
          [
           66
          ],
          [
           57
          ],
          [
           66
          ],
          [
           63
          ],
          [
           64
          ],
          [
           62
          ],
          [
           62
          ],
          [
           60
          ],
          [
           65
          ],
          [
           60
          ],
          [
           63
          ],
          [
           56
          ],
          [
           58
          ],
          [
           62
          ],
          [
           56
          ],
          [
           59
          ],
          [
           58
          ],
          [
           63
          ],
          [
           64
          ],
          [
           62
          ],
          [
           60
          ],
          [
           62
          ],
          [
           58
          ],
          [
           56
          ],
          [
           62
          ],
          [
           64
          ],
          [
           66
          ],
          [
           59
          ],
          [
           62
          ],
          [
           65
          ],
          [
           61
          ],
          [
           62
          ],
          [
           60
          ],
          [
           63
          ],
          [
           59
          ],
          [
           62
          ],
          [
           59
          ],
          [
           54
          ],
          [
           61
          ],
          [
           55
          ],
          [
           53
          ],
          [
           55
          ],
          [
           61
          ],
          [
           59
          ],
          [
           59
          ],
          [
           56
          ],
          [
           61
          ],
          [
           61
          ],
          [
           60
          ],
          [
           57
          ],
          [
           61
          ],
          [
           56
          ],
          [
           58
          ],
          [
           64
          ],
          [
           59
          ],
          [
           58
          ],
          [
           59
          ],
          [
           58
          ],
          [
           57
          ],
          [
           55
          ],
          [
           62
          ],
          [
           64
          ],
          [
           61
          ],
          [
           53
          ],
          [
           55
          ],
          [
           58
          ],
          [
           59
          ],
          [
           57
          ],
          [
           53
          ],
          [
           61
          ],
          [
           56
          ],
          [
           60
          ],
          [
           58
          ],
          [
           68
          ],
          [
           59
          ],
          [
           64
          ],
          [
           64
          ],
          [
           64
          ],
          [
           62
          ],
          [
           66
          ],
          [
           59
          ],
          [
           57
          ],
          [
           61
          ],
          [
           67
          ],
          [
           58
          ],
          [
           63
          ],
          [
           63
          ],
          [
           56
          ],
          [
           55
          ],
          [
           57
          ],
          [
           57
          ],
          [
           55
          ],
          [
           60
          ],
          [
           58
          ],
          [
           58
          ]
         ],
         "hovertemplate": "Cluster=Cluster 2<br>PCA1=%{x}<br>PCA2=%{y}<br>Feature=%{customdata[0]}<extra></extra>",
         "legendgroup": "Cluster 2",
         "marker": {
          "color": "#00cc96",
          "opacity": 0.5,
          "symbol": "circle"
         },
         "mode": "markers",
         "name": "Cluster 2",
         "orientation": "v",
         "showlegend": true,
         "textposition": "top center",
         "type": "scatter",
         "x": [
          -4794.730197271387,
          -9600.009518947501,
          834.6063397987239,
          -5787.5844511746345,
          -4114.665839253165,
          -3222.028498023302,
          375.61201032836914,
          -7431.1699486358175,
          -4883.720557377947,
          -967.1345392121426,
          1855.0479746174021,
          -7793.454361394597,
          -18832.323097259672,
          3735.2222847238368,
          2663.8141164030026,
          -5149.414552703789,
          -1424.2968597298877,
          -7793.211518497579,
          -3127.7464850155143,
          5122.28254993268,
          -10419.650737321675,
          3333.0370068762827,
          7017.407221041005,
          -6270.130047136981,
          4968.764656493565,
          -6214.35492291285,
          1547.9124272172,
          -6075.723954598629,
          3574.867630749813,
          -1755.366367107969,
          4615.604597857521,
          5679.935019062444,
          -1709.0067144922584,
          -9176.939927564554,
          -3147.9717017775224,
          3607.6218458178514,
          -805.5182754639179,
          -12402.614021503572,
          -5898.744482221803,
          -4588.845678205521,
          -6051.798043076616,
          -4661.643211273588,
          -3197.7706738433235,
          5619.125533378012,
          -2220.635444393814,
          -9823.29297291479,
          -11770.096233982851,
          -10371.487065175947,
          -7827.504394122581,
          7034.567000940574,
          2868.6753241163105,
          -7981.746785180185,
          -1864.594073104944,
          -9270.98323867498,
          -6586.375025316483,
          -811.2732950246649,
          -7225.656657280493,
          277.31943945234934,
          2555.7842237303084,
          -1867.5011781843573,
          -1710.0091114415097,
          -2630.794144410175,
          1381.292535302742,
          -10238.837919558984,
          -2329.6167739359735,
          -3536.6249026123223,
          -11570.013634605884,
          -12594.175257191957,
          -3881.2792386591896,
          -9447.56696158068,
          -4595.7254645257335,
          5567.478118222898,
          9121.20833327475,
          499.49662400636305,
          -4176.722628358176,
          -6529.597903259436,
          -7423.928781748686,
          3385.8220344187566,
          -5414.849621040682,
          11039.02694992706,
          -5806.077068066842,
          -10072.875122355044,
          3175.730103636427,
          -5327.512632351792,
          -6874.447279795799,
          -6945.490210959259,
          1198.2155216057672,
          7325.256189942477,
          -7249.0281441127045,
          4864.683651762642,
          -9153.992112275359,
          -5628.983755072121,
          -8175.944783875947,
          4848.442756486665,
          10499.407287118545,
          6644.597598902891,
          -611.89209011093,
          -879.6961238367905,
          1270.5926144944294,
          -3354.4093952257367,
          -3652.051625562802,
          1535.3200257259405,
          3442.0678892712613,
          1691.1470012917064,
          -9514.74211691895,
          -5495.930033917732,
          -11393.264273317023,
          -1006.7942920597833,
          -11385.8073066192,
          -5228.773563698115,
          106.44731571900182,
          -2009.7086269484525,
          11129.424152003647,
          -4333.353165561375,
          13091.374146760905,
          -860.4354508721326,
          1797.8692909309734,
          -2601.869630596785,
          -4972.922132318901,
          4241.775879690278,
          -4197.995988224728,
          -5414.451735591047,
          -14757.626867529676,
          -6112.7019630314835,
          -13124.39161935542,
          -847.3002323292305,
          -907.6690954314638,
          -3902.650766405369,
          -1148.5927303150029,
          -284.93461560424475,
          -4025.534582979213,
          -15159.901907030271,
          -9955.598990292237,
          5073.487342754963,
          2456.1149302637136,
          -5713.304473394483,
          3594.0424319377607,
          1223.3332868105201,
          -10817.51488771064,
          -12401.012613234338,
          -3578.6411698602037,
          384.4886441749401,
          -9604.976111586087,
          -4335.121225148144,
          -15876.01420619958,
          -4856.160273050598,
          -182.87509914870898,
          -18377.080909021177,
          -7927.279401739004,
          -1254.7960958097472,
          -5506.504771609421,
          1380.9095889215503,
          871.056128883004,
          -7740.904886148216,
          8122.08038043186,
          2392.9514015408067
         ],
         "xaxis": "x",
         "y": [
          5174.4703666073665,
          4923.281736972953,
          5141.101353125809,
          5711.628519863212,
          3078.8959824923863,
          4129.181187750035,
          5049.606055105599,
          6342.036887449032,
          4688.370839749893,
          4638.724083111238,
          5468.743079867753,
          5788.853750291174,
          6823.253221994699,
          4370.467576915713,
          3399.11990874667,
          5556.666162538318,
          7267.328447090959,
          6334.2431060429335,
          5318.2818445710855,
          3424.0734017075033,
          5982.858062463154,
          4012.215485337335,
          5588.8004716788055,
          5401.821899173068,
          3943.117273821872,
          8154.20047191016,
          3973.906796940992,
          3500.59631421138,
          6638.189555586529,
          4273.205130157195,
          5713.442204003189,
          4711.285755352456,
          3684.6952600892073,
          7146.662700635196,
          5506.996438516336,
          4852.444506942649,
          4348.095844750873,
          4277.420175996693,
          5205.84012735838,
          4468.268199202183,
          6221.683197407632,
          4875.411844599679,
          5127.949297943513,
          4314.803831727296,
          4177.140252105043,
          6862.247568550063,
          5001.420588195518,
          6211.274367328164,
          5701.697567388543,
          3374.287306288761,
          5223.6421444650405,
          3467.5664301232227,
          5267.352326944862,
          5996.549301848854,
          4795.6594687271945,
          4771.515278723625,
          4564.617535912253,
          5152.077474584809,
          5164.690207216539,
          2685.6629912897993,
          5692.091535965753,
          5512.809747300325,
          5207.220968280951,
          7423.315553060325,
          6502.20765839998,
          5070.413063690275,
          6393.584858504243,
          5058.593260676149,
          3532.750550096707,
          6026.370077872553,
          4575.315312500271,
          6399.6795013389,
          4076.188940417802,
          4450.572584113241,
          5121.948253776999,
          5174.060198642412,
          5595.425013755242,
          4513.159188235653,
          4509.378968992936,
          4384.687445082082,
          5686.132099777832,
          7033.832267439065,
          4727.079878527437,
          5507.674338617667,
          3266.4705558115984,
          5240.28388742206,
          6031.59770294742,
          5245.750184774915,
          5030.101276940076,
          4834.954016262214,
          6237.454829267942,
          3413.4612857981783,
          5599.274846074155,
          6716.389157420828,
          4092.5866735586183,
          6074.108602891864,
          2642.856238209561,
          4574.029857294047,
          4918.8610453966885,
          4039.04972662622,
          4298.147977719963,
          6617.143268176031,
          3293.9261383034677,
          4305.6055689682435,
          5484.062321469937,
          5033.927141363292,
          4760.726839204426,
          6827.736581903389,
          5239.834348120344,
          4906.821114529843,
          5019.545227332754,
          4571.311395238494,
          2451.395705037181,
          6791.121854812108,
          3878.0739044405004,
          1366.217457286171,
          3616.906745545873,
          5720.063891344352,
          5053.9745650978975,
          4854.373360315699,
          4646.423182047714,
          6401.496667099202,
          5008.011891703143,
          7150.265776891149,
          5122.298324176325,
          5435.293660917676,
          4662.571681544213,
          5499.33924219725,
          6154.518340801139,
          4064.0083597599173,
          5644.552286645011,
          5573.243770197058,
          4085.312440945947,
          5244.436589238655,
          5539.978054207794,
          6098.407220683629,
          5244.223965614586,
          5666.3680206659055,
          6677.482013672124,
          6731.622413481731,
          4687.3312678713755,
          6845.141671584174,
          5517.456836124636,
          2658.2975017239987,
          7337.4624110052655,
          6861.841813756603,
          4411.324333177543,
          5086.374515846034,
          5673.527612414183,
          6380.91567846293,
          6298.430264198256,
          5567.11275396265,
          5689.000195132608,
          5133.639365463523,
          4731.012077645313,
          5992.684142669525
         ],
         "yaxis": "y"
        },
        {
         "customdata": [
          [
           30
          ],
          [
           31
          ],
          [
           31
          ],
          [
           30
          ],
          [
           33
          ],
          [
           85
          ],
          [
           83
          ],
          [
           36
          ],
          [
           30
          ],
          [
           34
          ],
          [
           36
          ],
          [
           84
          ],
          [
           36
          ],
          [
           22
          ],
          [
           31
          ],
          [
           30
          ],
          [
           35
          ],
          [
           34
          ],
          [
           37
          ],
          [
           38
          ],
          [
           29
          ],
          [
           37
          ],
          [
           28
          ],
          [
           35
          ],
          [
           29
          ],
          [
           37
          ],
          [
           34
          ],
          [
           32
          ],
          [
           30
          ],
          [
           35
          ],
          [
           31
          ],
          [
           33
          ],
          [
           39
          ],
          [
           31
          ],
          [
           33
          ],
          [
           33
          ],
          [
           36
          ],
          [
           37
          ],
          [
           31
          ],
          [
           31
          ],
          [
           31
          ],
          [
           33
          ],
          [
           31
          ],
          [
           36
          ],
          [
           33
          ],
          [
           37
          ],
          [
           35
          ],
          [
           25
          ],
          [
           30
          ],
          [
           37
          ],
          [
           28
          ],
          [
           31
          ],
          [
           33
          ],
          [
           28
          ],
          [
           34
          ],
          [
           31
          ],
          [
           32
          ],
          [
           30
          ],
          [
           27
          ],
          [
           30
          ],
          [
           34
          ],
          [
           33
          ],
          [
           31
          ],
          [
           30
          ],
          [
           29
          ],
          [
           30
          ],
          [
           84
          ],
          [
           39
          ],
          [
           86
          ],
          [
           29
          ],
          [
           35
          ],
          [
           59
          ],
          [
           28
          ],
          [
           33
          ],
          [
           38
          ],
          [
           28
          ],
          [
           29
          ],
          [
           40
          ],
          [
           32
          ],
          [
           84
          ],
          [
           28
          ],
          [
           36
          ],
          [
           32
          ],
          [
           29
          ],
          [
           32
          ],
          [
           29
          ],
          [
           35
          ],
          [
           34
          ],
          [
           29
          ],
          [
           25
          ],
          [
           29
          ],
          [
           42
          ],
          [
           33
          ],
          [
           31
          ],
          [
           36
          ],
          [
           36
          ],
          [
           43
          ],
          [
           36
          ],
          [
           33
          ],
          [
           33
          ],
          [
           29
          ],
          [
           38
          ],
          [
           38
          ],
          [
           35
          ],
          [
           32
          ],
          [
           34
          ],
          [
           36
          ],
          [
           31
          ],
          [
           37
          ],
          [
           35
          ],
          [
           88
          ],
          [
           39
          ],
          [
           31
          ],
          [
           35
          ],
          [
           31
          ],
          [
           37
          ],
          [
           37
          ],
          [
           26
          ],
          [
           32
          ],
          [
           31
          ],
          [
           34
          ],
          [
           37
          ],
          [
           34
          ],
          [
           33
          ],
          [
           33
          ],
          [
           35
          ],
          [
           28
          ],
          [
           34
          ],
          [
           30
          ],
          [
           44
          ],
          [
           24
          ],
          [
           31
          ]
         ],
         "hovertemplate": "Cluster=Cluster 3<br>PCA1=%{x}<br>PCA2=%{y}<br>Feature=%{customdata[0]}<extra></extra>",
         "legendgroup": "Cluster 3",
         "marker": {
          "color": "#ab63fa",
          "opacity": 0.5,
          "symbol": "circle"
         },
         "mode": "markers",
         "name": "Cluster 3",
         "orientation": "v",
         "showlegend": true,
         "textposition": "top center",
         "type": "scatter",
         "x": [
          31614.44255775001,
          32345.7084111081,
          32322.90853552384,
          31911.00122289606,
          22258.60867822995,
          35579.205841847666,
          41580.271741364086,
          20592.34660124054,
          26298.148403025272,
          26507.04289793959,
          28639.38501225217,
          38543.62513846529,
          23967.006141706453,
          33345.15627446265,
          39135.37624685962,
          22224.556150677527,
          28912.895143562077,
          28627.259856345197,
          32912.89205445825,
          18943.372815329043,
          30268.705481027453,
          21900.785293459754,
          25474.402763132653,
          41298.631284922725,
          15764.491422930714,
          30949.636906806907,
          23196.21332168356,
          32572.750284951748,
          25376.69328333066,
          34360.481813439495,
          37228.73474929932,
          30046.489099008413,
          24706.128365431097,
          35758.275461121135,
          31361.085258501203,
          31045.220281184625,
          24491.388924465668,
          32289.54019339472,
          32416.9398563682,
          25732.34496458891,
          25363.919193669753,
          30584.12459685682,
          35187.910560505545,
          22350.769806170996,
          25328.069975138693,
          31202.41265845168,
          30806.77636569973,
          25765.790066438367,
          32797.64364946067,
          22105.034606632664,
          19017.169490301203,
          32307.936747625587,
          40849.48060118116,
          24827.97879769225,
          22393.417704629752,
          30148.682682831197,
          41328.25268046836,
          24294.808481974393,
          31016.952780284315,
          20486.14068168536,
          35572.715402147165,
          32561.025384279346,
          23748.677826025556,
          32149.92130246573,
          40673.8596657264,
          30614.165788924827,
          34834.90179722812,
          23470.847054512218,
          39941.23737200698,
          26228.376273797625,
          30155.33417948101,
          15177.319702791374,
          36260.39987248518,
          38869.64947043892,
          37939.717010227374,
          23858.59823485609,
          35036.71586290591,
          23032.68011842763,
          26023.566392701574,
          39513.27355052192,
          33379.42059724405,
          29861.546691899774,
          30836.97832091281,
          27412.691418946528,
          19785.99437370537,
          35711.08000630003,
          37194.902271544655,
          14006.000973765198,
          23392.942038336743,
          30950.10184584332,
          26312.372969945707,
          31253.468503847314,
          36008.72534227604,
          26983.046355085924,
          26071.981192203417,
          32210.979752849853,
          25938.05051554677,
          33203.84261491333,
          19295.267700776123,
          23896.368797199062,
          36813.76713471415,
          28960.634987007867,
          39399.40138079228,
          26578.153217150357,
          34753.14847117059,
          23022.218288328833,
          34060.877510973005,
          40419.576674193486,
          34830.86604526117,
          32691.869561885116,
          38847.16975192885,
          24819.36093398276,
          28681.549871210224,
          26003.522420593927,
          29210.55689290381,
          31960.754470883134,
          32853.06228404302,
          21973.307957773006,
          26343.678683823586,
          29240.50973646178,
          27758.387553781664,
          35023.21628615085,
          31502.360315169415,
          24613.75199474728,
          16918.676225923777,
          31317.298082397007,
          22236.169465667903,
          27456.913258989443,
          33217.92658728103,
          38938.11811665466,
          34815.25490758302,
          31330.343959587746
         ],
         "xaxis": "x",
         "y": [
          -3948.4132949879468,
          -2201.7207440339225,
          -3681.2906989074822,
          -2672.9115870036812,
          -5195.925254869425,
          -6195.256076450421,
          -5615.560841025151,
          -4611.5878657027715,
          -5023.0388936156805,
          -5484.674224534325,
          -3130.9503738580543,
          -7198.063500096838,
          -5918.695473496262,
          -6080.2997846473045,
          -4339.706610389612,
          -5737.014106158459,
          -5224.554320132961,
          -3324.816428758567,
          -4588.664848267575,
          -6099.926572904171,
          -4917.675610318426,
          -5234.914564220788,
          -4541.161734519421,
          -6422.065158701379,
          -2149.1523643994014,
          -4397.197247861158,
          -5613.714696123642,
          -6711.005612774816,
          -3922.3289154774966,
          -5038.816345608889,
          -4575.53758572933,
          -2733.109173664298,
          -6304.286669733974,
          -4122.471659041032,
          -4837.589777514413,
          -4354.8802382613985,
          -3378.54364763287,
          -3634.3416070178246,
          -3316.8740951794725,
          -4846.28015427884,
          -6518.878337708812,
          -5198.652074260108,
          -4164.857943447225,
          -5405.192571717655,
          -4507.818639633956,
          -4006.881209005658,
          -5560.204279339269,
          -4647.514683014747,
          -5654.54720858524,
          -4346.187481501862,
          -4587.056170558116,
          -3401.081205177549,
          -5591.430813146151,
          -5088.608026609533,
          -5150.747387385603,
          -3727.6410744728196,
          -4823.645609095859,
          -3156.1748108191523,
          -4865.0042507751195,
          -4804.203961851942,
          -4807.664945608781,
          -5658.528738891308,
          -4085.3877140573504,
          -5508.945012028883,
          -5771.827355976941,
          -4762.434742638737,
          -5079.540897002676,
          -4720.2485683084515,
          -5237.495096676828,
          -4266.484394821192,
          -6491.8455875247955,
          4253.670080185394,
          -3890.3445341678894,
          -4117.835744147897,
          -4683.4402679132145,
          -4857.997405051622,
          -6415.699422707936,
          -5461.17916779445,
          -7172.3340862970435,
          -4805.682615179913,
          -4139.05283321281,
          -4210.49136349358,
          -4248.410776130161,
          -5970.659385853914,
          -4699.391881256258,
          -4543.480905662903,
          -4030.4862142381494,
          -1775.6048970799563,
          -5117.926531788415,
          -6274.399316410813,
          -4286.405352481009,
          -4792.820646769852,
          -6111.705479451003,
          -2897.41827579851,
          -4687.76444193894,
          -5806.362656038753,
          -4054.25252362105,
          -6552.892383943655,
          -3266.6498646156997,
          -4653.572749186025,
          -4615.462129937939,
          -5439.90201085886,
          -5202.090372452889,
          -4542.181119259875,
          -4008.589273701793,
          -4439.122431386044,
          -5075.678179352539,
          -6642.234020142048,
          -5377.228895403815,
          -6066.4571344577525,
          -8209.639605398548,
          -6443.11685581786,
          -4194.112749071153,
          -3786.1338481571643,
          -6286.357858424542,
          -7950.138456796384,
          -5910.59573288654,
          -5227.972192633888,
          -3863.006710456127,
          -5240.7101050214205,
          -3524.6022728079934,
          -4416.577014358725,
          -5081.205828124805,
          -3288.4640447513398,
          -2877.1941821022256,
          -6141.762968151073,
          -4400.042493871468,
          -4868.312310128513,
          -4387.405057818719,
          -4443.17020761207,
          -5108.281907469457,
          -5635.16399292634
         ],
         "yaxis": "y"
        }
       ],
       "layout": {
        "height": 600,
        "legend": {
         "title": {
          "text": "Cluster"
         },
         "tracegroupgap": 0
        },
        "margin": {
         "t": 60
        },
        "plot_bgcolor": "rgb(240,240,240)",
        "template": {
         "data": {
          "bar": [
           {
            "error_x": {
             "color": "#2a3f5f"
            },
            "error_y": {
             "color": "#2a3f5f"
            },
            "marker": {
             "line": {
              "color": "#E5ECF6",
              "width": 0.5
             },
             "pattern": {
              "fillmode": "overlay",
              "size": 10,
              "solidity": 0.2
             }
            },
            "type": "bar"
           }
          ],
          "barpolar": [
           {
            "marker": {
             "line": {
              "color": "#E5ECF6",
              "width": 0.5
             },
             "pattern": {
              "fillmode": "overlay",
              "size": 10,
              "solidity": 0.2
             }
            },
            "type": "barpolar"
           }
          ],
          "carpet": [
           {
            "aaxis": {
             "endlinecolor": "#2a3f5f",
             "gridcolor": "white",
             "linecolor": "white",
             "minorgridcolor": "white",
             "startlinecolor": "#2a3f5f"
            },
            "baxis": {
             "endlinecolor": "#2a3f5f",
             "gridcolor": "white",
             "linecolor": "white",
             "minorgridcolor": "white",
             "startlinecolor": "#2a3f5f"
            },
            "type": "carpet"
           }
          ],
          "choropleth": [
           {
            "colorbar": {
             "outlinewidth": 0,
             "ticks": ""
            },
            "type": "choropleth"
           }
          ],
          "contour": [
           {
            "colorbar": {
             "outlinewidth": 0,
             "ticks": ""
            },
            "colorscale": [
             [
              0,
              "#0d0887"
             ],
             [
              0.1111111111111111,
              "#46039f"
             ],
             [
              0.2222222222222222,
              "#7201a8"
             ],
             [
              0.3333333333333333,
              "#9c179e"
             ],
             [
              0.4444444444444444,
              "#bd3786"
             ],
             [
              0.5555555555555556,
              "#d8576b"
             ],
             [
              0.6666666666666666,
              "#ed7953"
             ],
             [
              0.7777777777777778,
              "#fb9f3a"
             ],
             [
              0.8888888888888888,
              "#fdca26"
             ],
             [
              1,
              "#f0f921"
             ]
            ],
            "type": "contour"
           }
          ],
          "contourcarpet": [
           {
            "colorbar": {
             "outlinewidth": 0,
             "ticks": ""
            },
            "type": "contourcarpet"
           }
          ],
          "heatmap": [
           {
            "colorbar": {
             "outlinewidth": 0,
             "ticks": ""
            },
            "colorscale": [
             [
              0,
              "#0d0887"
             ],
             [
              0.1111111111111111,
              "#46039f"
             ],
             [
              0.2222222222222222,
              "#7201a8"
             ],
             [
              0.3333333333333333,
              "#9c179e"
             ],
             [
              0.4444444444444444,
              "#bd3786"
             ],
             [
              0.5555555555555556,
              "#d8576b"
             ],
             [
              0.6666666666666666,
              "#ed7953"
             ],
             [
              0.7777777777777778,
              "#fb9f3a"
             ],
             [
              0.8888888888888888,
              "#fdca26"
             ],
             [
              1,
              "#f0f921"
             ]
            ],
            "type": "heatmap"
           }
          ],
          "heatmapgl": [
           {
            "colorbar": {
             "outlinewidth": 0,
             "ticks": ""
            },
            "colorscale": [
             [
              0,
              "#0d0887"
             ],
             [
              0.1111111111111111,
              "#46039f"
             ],
             [
              0.2222222222222222,
              "#7201a8"
             ],
             [
              0.3333333333333333,
              "#9c179e"
             ],
             [
              0.4444444444444444,
              "#bd3786"
             ],
             [
              0.5555555555555556,
              "#d8576b"
             ],
             [
              0.6666666666666666,
              "#ed7953"
             ],
             [
              0.7777777777777778,
              "#fb9f3a"
             ],
             [
              0.8888888888888888,
              "#fdca26"
             ],
             [
              1,
              "#f0f921"
             ]
            ],
            "type": "heatmapgl"
           }
          ],
          "histogram": [
           {
            "marker": {
             "pattern": {
              "fillmode": "overlay",
              "size": 10,
              "solidity": 0.2
             }
            },
            "type": "histogram"
           }
          ],
          "histogram2d": [
           {
            "colorbar": {
             "outlinewidth": 0,
             "ticks": ""
            },
            "colorscale": [
             [
              0,
              "#0d0887"
             ],
             [
              0.1111111111111111,
              "#46039f"
             ],
             [
              0.2222222222222222,
              "#7201a8"
             ],
             [
              0.3333333333333333,
              "#9c179e"
             ],
             [
              0.4444444444444444,
              "#bd3786"
             ],
             [
              0.5555555555555556,
              "#d8576b"
             ],
             [
              0.6666666666666666,
              "#ed7953"
             ],
             [
              0.7777777777777778,
              "#fb9f3a"
             ],
             [
              0.8888888888888888,
              "#fdca26"
             ],
             [
              1,
              "#f0f921"
             ]
            ],
            "type": "histogram2d"
           }
          ],
          "histogram2dcontour": [
           {
            "colorbar": {
             "outlinewidth": 0,
             "ticks": ""
            },
            "colorscale": [
             [
              0,
              "#0d0887"
             ],
             [
              0.1111111111111111,
              "#46039f"
             ],
             [
              0.2222222222222222,
              "#7201a8"
             ],
             [
              0.3333333333333333,
              "#9c179e"
             ],
             [
              0.4444444444444444,
              "#bd3786"
             ],
             [
              0.5555555555555556,
              "#d8576b"
             ],
             [
              0.6666666666666666,
              "#ed7953"
             ],
             [
              0.7777777777777778,
              "#fb9f3a"
             ],
             [
              0.8888888888888888,
              "#fdca26"
             ],
             [
              1,
              "#f0f921"
             ]
            ],
            "type": "histogram2dcontour"
           }
          ],
          "mesh3d": [
           {
            "colorbar": {
             "outlinewidth": 0,
             "ticks": ""
            },
            "type": "mesh3d"
           }
          ],
          "parcoords": [
           {
            "line": {
             "colorbar": {
              "outlinewidth": 0,
              "ticks": ""
             }
            },
            "type": "parcoords"
           }
          ],
          "pie": [
           {
            "automargin": true,
            "type": "pie"
           }
          ],
          "scatter": [
           {
            "fillpattern": {
             "fillmode": "overlay",
             "size": 10,
             "solidity": 0.2
            },
            "type": "scatter"
           }
          ],
          "scatter3d": [
           {
            "line": {
             "colorbar": {
              "outlinewidth": 0,
              "ticks": ""
             }
            },
            "marker": {
             "colorbar": {
              "outlinewidth": 0,
              "ticks": ""
             }
            },
            "type": "scatter3d"
           }
          ],
          "scattercarpet": [
           {
            "marker": {
             "colorbar": {
              "outlinewidth": 0,
              "ticks": ""
             }
            },
            "type": "scattercarpet"
           }
          ],
          "scattergeo": [
           {
            "marker": {
             "colorbar": {
              "outlinewidth": 0,
              "ticks": ""
             }
            },
            "type": "scattergeo"
           }
          ],
          "scattergl": [
           {
            "marker": {
             "colorbar": {
              "outlinewidth": 0,
              "ticks": ""
             }
            },
            "type": "scattergl"
           }
          ],
          "scattermapbox": [
           {
            "marker": {
             "colorbar": {
              "outlinewidth": 0,
              "ticks": ""
             }
            },
            "type": "scattermapbox"
           }
          ],
          "scatterpolar": [
           {
            "marker": {
             "colorbar": {
              "outlinewidth": 0,
              "ticks": ""
             }
            },
            "type": "scatterpolar"
           }
          ],
          "scatterpolargl": [
           {
            "marker": {
             "colorbar": {
              "outlinewidth": 0,
              "ticks": ""
             }
            },
            "type": "scatterpolargl"
           }
          ],
          "scatterternary": [
           {
            "marker": {
             "colorbar": {
              "outlinewidth": 0,
              "ticks": ""
             }
            },
            "type": "scatterternary"
           }
          ],
          "surface": [
           {
            "colorbar": {
             "outlinewidth": 0,
             "ticks": ""
            },
            "colorscale": [
             [
              0,
              "#0d0887"
             ],
             [
              0.1111111111111111,
              "#46039f"
             ],
             [
              0.2222222222222222,
              "#7201a8"
             ],
             [
              0.3333333333333333,
              "#9c179e"
             ],
             [
              0.4444444444444444,
              "#bd3786"
             ],
             [
              0.5555555555555556,
              "#d8576b"
             ],
             [
              0.6666666666666666,
              "#ed7953"
             ],
             [
              0.7777777777777778,
              "#fb9f3a"
             ],
             [
              0.8888888888888888,
              "#fdca26"
             ],
             [
              1,
              "#f0f921"
             ]
            ],
            "type": "surface"
           }
          ],
          "table": [
           {
            "cells": {
             "fill": {
              "color": "#EBF0F8"
             },
             "line": {
              "color": "white"
             }
            },
            "header": {
             "fill": {
              "color": "#C8D4E3"
             },
             "line": {
              "color": "white"
             }
            },
            "type": "table"
           }
          ]
         },
         "layout": {
          "annotationdefaults": {
           "arrowcolor": "#2a3f5f",
           "arrowhead": 0,
           "arrowwidth": 1
          },
          "autotypenumbers": "strict",
          "coloraxis": {
           "colorbar": {
            "outlinewidth": 0,
            "ticks": ""
           }
          },
          "colorscale": {
           "diverging": [
            [
             0,
             "#8e0152"
            ],
            [
             0.1,
             "#c51b7d"
            ],
            [
             0.2,
             "#de77ae"
            ],
            [
             0.3,
             "#f1b6da"
            ],
            [
             0.4,
             "#fde0ef"
            ],
            [
             0.5,
             "#f7f7f7"
            ],
            [
             0.6,
             "#e6f5d0"
            ],
            [
             0.7,
             "#b8e186"
            ],
            [
             0.8,
             "#7fbc41"
            ],
            [
             0.9,
             "#4d9221"
            ],
            [
             1,
             "#276419"
            ]
           ],
           "sequential": [
            [
             0,
             "#0d0887"
            ],
            [
             0.1111111111111111,
             "#46039f"
            ],
            [
             0.2222222222222222,
             "#7201a8"
            ],
            [
             0.3333333333333333,
             "#9c179e"
            ],
            [
             0.4444444444444444,
             "#bd3786"
            ],
            [
             0.5555555555555556,
             "#d8576b"
            ],
            [
             0.6666666666666666,
             "#ed7953"
            ],
            [
             0.7777777777777778,
             "#fb9f3a"
            ],
            [
             0.8888888888888888,
             "#fdca26"
            ],
            [
             1,
             "#f0f921"
            ]
           ],
           "sequentialminus": [
            [
             0,
             "#0d0887"
            ],
            [
             0.1111111111111111,
             "#46039f"
            ],
            [
             0.2222222222222222,
             "#7201a8"
            ],
            [
             0.3333333333333333,
             "#9c179e"
            ],
            [
             0.4444444444444444,
             "#bd3786"
            ],
            [
             0.5555555555555556,
             "#d8576b"
            ],
            [
             0.6666666666666666,
             "#ed7953"
            ],
            [
             0.7777777777777778,
             "#fb9f3a"
            ],
            [
             0.8888888888888888,
             "#fdca26"
            ],
            [
             1,
             "#f0f921"
            ]
           ]
          },
          "colorway": [
           "#636efa",
           "#EF553B",
           "#00cc96",
           "#ab63fa",
           "#FFA15A",
           "#19d3f3",
           "#FF6692",
           "#B6E880",
           "#FF97FF",
           "#FECB52"
          ],
          "font": {
           "color": "#2a3f5f"
          },
          "geo": {
           "bgcolor": "white",
           "lakecolor": "white",
           "landcolor": "#E5ECF6",
           "showlakes": true,
           "showland": true,
           "subunitcolor": "white"
          },
          "hoverlabel": {
           "align": "left"
          },
          "hovermode": "closest",
          "mapbox": {
           "style": "light"
          },
          "paper_bgcolor": "white",
          "plot_bgcolor": "#E5ECF6",
          "polar": {
           "angularaxis": {
            "gridcolor": "white",
            "linecolor": "white",
            "ticks": ""
           },
           "bgcolor": "#E5ECF6",
           "radialaxis": {
            "gridcolor": "white",
            "linecolor": "white",
            "ticks": ""
           }
          },
          "scene": {
           "xaxis": {
            "backgroundcolor": "#E5ECF6",
            "gridcolor": "white",
            "gridwidth": 2,
            "linecolor": "white",
            "showbackground": true,
            "ticks": "",
            "zerolinecolor": "white"
           },
           "yaxis": {
            "backgroundcolor": "#E5ECF6",
            "gridcolor": "white",
            "gridwidth": 2,
            "linecolor": "white",
            "showbackground": true,
            "ticks": "",
            "zerolinecolor": "white"
           },
           "zaxis": {
            "backgroundcolor": "#E5ECF6",
            "gridcolor": "white",
            "gridwidth": 2,
            "linecolor": "white",
            "showbackground": true,
            "ticks": "",
            "zerolinecolor": "white"
           }
          },
          "shapedefaults": {
           "line": {
            "color": "#2a3f5f"
           }
          },
          "ternary": {
           "aaxis": {
            "gridcolor": "white",
            "linecolor": "white",
            "ticks": ""
           },
           "baxis": {
            "gridcolor": "white",
            "linecolor": "white",
            "ticks": ""
           },
           "bgcolor": "#E5ECF6",
           "caxis": {
            "gridcolor": "white",
            "linecolor": "white",
            "ticks": ""
           }
          },
          "title": {
           "x": 0.05
          },
          "xaxis": {
           "automargin": true,
           "gridcolor": "white",
           "linecolor": "white",
           "ticks": "",
           "title": {
            "standoff": 15
           },
           "zerolinecolor": "white",
           "zerolinewidth": 2
          },
          "yaxis": {
           "automargin": true,
           "gridcolor": "white",
           "linecolor": "white",
           "ticks": "",
           "title": {
            "standoff": 15
           },
           "zerolinecolor": "white",
           "zerolinewidth": 2
          }
         }
        },
        "title": {
         "text": "2D Cluster PCA Plot"
        },
        "xaxis": {
         "anchor": "y",
         "domain": [
          0,
          1
         ],
         "title": {
          "text": "PCA1"
         }
        },
        "yaxis": {
         "anchor": "x",
         "domain": [
          0,
          1
         ],
         "title": {
          "text": "PCA2"
         }
        }
       }
      }
     },
     "metadata": {},
     "output_type": "display_data"
    },
    {
     "data": {
      "application/vnd.plotly.v1+json": {
       "config": {
        "plotlyServerURL": "https://plot.ly"
       },
       "data": [
        {
         "customdata": [
          [
           26
          ],
          [
           28
          ],
          [
           20
          ],
          [
           17
          ],
          [
           24
          ],
          [
           24
          ],
          [
           29
          ],
          [
           17
          ],
          [
           27
          ],
          [
           93
          ],
          [
           28
          ],
          [
           17
          ],
          [
           28
          ],
          [
           23
          ],
          [
           28
          ],
          [
           23
          ],
          [
           18
          ],
          [
           29
          ],
          [
           23
          ],
          [
           27
          ],
          [
           24
          ],
          [
           25
          ],
          [
           25
          ],
          [
           34
          ],
          [
           86
          ],
          [
           87
          ],
          [
           82
          ],
          [
           24
          ],
          [
           20
          ],
          [
           82
          ],
          [
           22
          ],
          [
           25
          ],
          [
           28
          ],
          [
           21
          ],
          [
           88
          ],
          [
           26
          ],
          [
           21
          ],
          [
           27
          ],
          [
           23
          ],
          [
           31
          ],
          [
           24
          ],
          [
           77
          ],
          [
           86
          ],
          [
           91
          ],
          [
           83
          ],
          [
           24
          ],
          [
           26
          ],
          [
           88
          ],
          [
           22
          ],
          [
           84
          ],
          [
           18
          ],
          [
           90
          ],
          [
           89
          ],
          [
           22
          ],
          [
           30
          ],
          [
           17
          ],
          [
           26
          ],
          [
           26
          ],
          [
           28
          ],
          [
           29
          ],
          [
           83
          ],
          [
           90
          ],
          [
           24
          ],
          [
           25
          ],
          [
           85
          ],
          [
           20
          ],
          [
           25
          ],
          [
           25
          ],
          [
           29
          ],
          [
           92
          ]
         ],
         "hovertemplate": "Cluster=Cluster 0<br>0=%{x}<br>1=%{y}<br>2=%{z}<br>Feature=%{customdata[0]}<extra></extra>",
         "legendgroup": "Cluster 0",
         "marker": {
          "color": "#636efa",
          "opacity": 0.7,
          "symbol": "circle"
         },
         "mode": "markers",
         "name": "Cluster 0",
         "scene": "scene",
         "showlegend": true,
         "type": "scatter3d",
         "x": [
          14.078836,
          14.482587,
          14.822831,
          13.291831,
          14.754,
          13.7192745,
          14.527661,
          13.124304,
          14.838459,
          14.67467,
          14.762836,
          14.5505295,
          13.890618,
          14.087028,
          14.193553,
          13.406957,
          14.393345,
          14.133874,
          13.079679,
          14.426002,
          13.104522,
          13.075655,
          13.713367,
          14.361341,
          14.715989,
          13.672373,
          14.668587,
          13.979124,
          13.573031,
          14.392302,
          14.73958,
          14.696362,
          14.88507,
          13.937281,
          14.543143,
          14.171291,
          14.346296,
          14.285916,
          14.764095,
          14.709059,
          13.254852,
          14.716969,
          14.599158,
          13.935718,
          14.341378,
          13.035527,
          13.952332,
          14.264085,
          13.339882,
          14.480206,
          13.515094,
          14.580543,
          14.427084,
          13.501721,
          14.508419,
          13.039143,
          13.252227,
          14.232015,
          13.756776,
          13.012535,
          13.973923,
          13.554724,
          13.523768,
          13.814658,
          14.154422,
          13.744581,
          13.754935,
          13.890204,
          13.367832,
          14.492296
         ],
         "y": [
          5.883097,
          5.467618,
          4.585666,
          7.7942996,
          4.1780543,
          6.555356,
          4.9476047,
          8.110004,
          4.6905212,
          0.2963467,
          4.1052427,
          5.016496,
          5.708765,
          5.793021,
          4.813677,
          6.5643315,
          4.757719,
          -1.6567837,
          8.082078,
          4.2054906,
          8.126149,
          8.077859,
          6.9938025,
          -1.5373296,
          0.54879075,
          -2.295793,
          0.20763563,
          6.09367,
          6.0990753,
          -0.87542087,
          4.004655,
          4.0098886,
          3.7422476,
          6.5109673,
          -0.2917819,
          5.046704,
          5.2055354,
          5.4654536,
          4.168637,
          5.0346475,
          6.6961036,
          0.5261211,
          -0.15692165,
          -1.812321,
          -1.7177016,
          7.5025115,
          5.6165257,
          -1.1728668,
          7.2508316,
          -0.55898,
          6.4716973,
          -0.19503814,
          -1.6475086,
          7.5354166,
          4.2512345,
          7.502305,
          6.8659034,
          4.5817027,
          6.5844297,
          8.160008,
          -2.2117984,
          -2.1737447,
          7.470449,
          6.0561013,
          -2.2013369,
          6.034866,
          6.7024846,
          6.629877,
          7.1283307,
          -0.50281847
         ],
         "z": [
          1.0373929,
          2.2765315,
          1.713759,
          -1.271618,
          2.3310437,
          0.39245817,
          2.3061461,
          -0.57092553,
          1.7599638,
          0.5034501,
          1.9874544,
          1.5101914,
          0.2193785,
          1.0028373,
          1.8766918,
          0.050406102,
          1.4145831,
          0.54382527,
          -1.389067,
          2.0932317,
          -0.97513145,
          -1.3135593,
          -0.20105891,
          0.42228097,
          0.47772375,
          0.80541056,
          0.4894932,
          0.832926,
          -0.26771927,
          0.6137338,
          2.1944232,
          2.0508385,
          2.6289208,
          -0.11602074,
          0.5878942,
          0.706894,
          1.8687843,
          1.4595958,
          2.3800178,
          1.9873977,
          -0.3283706,
          0.47477892,
          0.5111937,
          0.812443,
          0.40415296,
          -0.85748446,
          0.31579518,
          0.67406005,
          -1.1784848,
          0.59861326,
          -0.6124611,
          0.53219205,
          0.26107067,
          -0.49360135,
          1.5119166,
          -1.0729492,
          -0.59124213,
          1.7275201,
          0.4437304,
          -1.7255843,
          0.25577497,
          1.13955,
          -1.0772382,
          0.09099548,
          0.65711814,
          -0.22039491,
          -0.5881587,
          -0.35108218,
          -0.23179917,
          0.5993422
         ]
        },
        {
         "customdata": [
          [
           88
          ],
          [
           90
          ],
          [
           86
          ],
          [
           85
          ],
          [
           91
          ],
          [
           86
          ],
          [
           91
          ],
          [
           94
          ],
          [
           88
          ],
          [
           85
          ],
          [
           83
          ],
          [
           94
          ],
          [
           91
          ],
          [
           86
          ],
          [
           90
          ],
          [
           88
          ],
          [
           92
          ],
          [
           85
          ],
          [
           83
          ],
          [
           91
          ],
          [
           94
          ],
          [
           83
          ],
          [
           94
          ],
          [
           88
          ],
          [
           89
          ],
          [
           89
          ],
          [
           83
          ],
          [
           87
          ],
          [
           91
          ],
          [
           85
          ],
          [
           88
          ],
          [
           88
          ],
          [
           84
          ],
          [
           92
          ],
          [
           84
          ],
          [
           88
          ],
          [
           89
          ],
          [
           86
          ],
          [
           85
          ],
          [
           87
          ],
          [
           87
          ],
          [
           89
          ],
          [
           86
          ],
          [
           91
          ],
          [
           88
          ],
          [
           89
          ],
          [
           88
          ],
          [
           85
          ],
          [
           87
          ],
          [
           91
          ],
          [
           85
          ],
          [
           90
          ],
          [
           87
          ],
          [
           91
          ],
          [
           95
          ],
          [
           84
          ],
          [
           87
          ],
          [
           87
          ],
          [
           94
          ],
          [
           82
          ],
          [
           91
          ],
          [
           93
          ],
          [
           82
          ],
          [
           92
          ],
          [
           89
          ],
          [
           84
          ],
          [
           87
          ],
          [
           90
          ],
          [
           91
          ],
          [
           81
          ],
          [
           93
          ],
          [
           89
          ],
          [
           88
          ],
          [
           85
          ],
          [
           82
          ],
          [
           89
          ],
          [
           94
          ],
          [
           88
          ],
          [
           91
          ],
          [
           84
          ],
          [
           90
          ],
          [
           88
          ],
          [
           90
          ],
          [
           84
          ],
          [
           91
          ],
          [
           94
          ],
          [
           92
          ],
          [
           89
          ],
          [
           86
          ],
          [
           91
          ],
          [
           97
          ],
          [
           90
          ],
          [
           87
          ],
          [
           92
          ],
          [
           87
          ],
          [
           83
          ],
          [
           92
          ],
          [
           90
          ],
          [
           86
          ],
          [
           87
          ],
          [
           91
          ],
          [
           88
          ],
          [
           79
          ],
          [
           83
          ],
          [
           91
          ],
          [
           84
          ],
          [
           86
          ],
          [
           85
          ],
          [
           87
          ],
          [
           83
          ],
          [
           83
          ],
          [
           84
          ],
          [
           89
          ],
          [
           87
          ],
          [
           91
          ],
          [
           87
          ],
          [
           87
          ],
          [
           91
          ],
          [
           87
          ],
          [
           89
          ],
          [
           88
          ],
          [
           93
          ],
          [
           84
          ],
          [
           92
          ],
          [
           85
          ],
          [
           85
          ],
          [
           90
          ],
          [
           86
          ],
          [
           90
          ],
          [
           88
          ],
          [
           83
          ],
          [
           84
          ],
          [
           82
          ],
          [
           82
          ],
          [
           79
          ],
          [
           87
          ],
          [
           90
          ],
          [
           91
          ],
          [
           88
          ],
          [
           83
          ],
          [
           87
          ],
          [
           84
          ],
          [
           89
          ],
          [
           84
          ],
          [
           88
          ],
          [
           84
          ],
          [
           92
          ]
         ],
         "hovertemplate": "Cluster=Cluster 1<br>0=%{x}<br>1=%{y}<br>2=%{z}<br>Feature=%{customdata[0]}<extra></extra>",
         "legendgroup": "Cluster 1",
         "marker": {
          "color": "#EF553B",
          "opacity": 0.7,
          "symbol": "circle"
         },
         "mode": "markers",
         "name": "Cluster 1",
         "scene": "scene",
         "showlegend": true,
         "type": "scatter3d",
         "x": [
          -14.040224,
          -14.130913,
          -13.949607,
          -14.288116,
          -14.34836,
          -14.163412,
          -13.982392,
          -14.552192,
          -14.35858,
          -14.652263,
          -14.642325,
          -13.205015,
          -14.603937,
          -13.8658285,
          -14.555892,
          -14.141796,
          -14.036631,
          -14.165786,
          -13.920293,
          -14.178268,
          -14.005196,
          -14.05596,
          -13.923679,
          -13.585265,
          -14.373755,
          -14.314262,
          -13.978622,
          -14.050349,
          -14.689752,
          -13.866181,
          -13.691142,
          -14.053624,
          -14.414419,
          -13.901184,
          -13.445841,
          -13.875966,
          -14.507518,
          -12.153022,
          -13.818631,
          -14.1538,
          -14.118781,
          -13.752329,
          -14.30919,
          -14.214182,
          -13.983159,
          -14.077361,
          -13.88557,
          -13.933973,
          -14.210694,
          -13.633942,
          -14.364711,
          -14.331754,
          -13.951752,
          -14.455334,
          -14.697913,
          -14.71027,
          -13.666513,
          -12.143481,
          -14.009351,
          -14.130409,
          -13.913451,
          -14.05758,
          -14.083838,
          -14.361459,
          -13.86244,
          -14.111687,
          -14.455011,
          -14.063972,
          -14.189105,
          -13.852119,
          -14.040823,
          -14.364499,
          -14.2454405,
          -14.635144,
          -14.189204,
          -13.876838,
          -14.263993,
          -14.044729,
          -14.676026,
          -14.25419,
          -14.012759,
          -14.164566,
          -14.032333,
          -14.230305,
          -14.570738,
          -14.393578,
          -13.682506,
          -14.048895,
          -14.018897,
          -13.956292,
          -13.982005,
          -13.577692,
          -13.851261,
          -13.937892,
          -14.192259,
          -14.009982,
          -14.226156,
          -13.877478,
          -14.512803,
          -14.104273,
          -14.5067425,
          -13.769959,
          -13.372413,
          -13.921088,
          -13.702859,
          -13.994987,
          -13.976385,
          -13.794462,
          -14.563844,
          -14.664284,
          -14.410088,
          -13.708065,
          -13.862425,
          -12.472761,
          -14.699974,
          -14.366664,
          -14.165128,
          -13.988301,
          -13.624327,
          -13.577314,
          -14.526024,
          -14.090604,
          -14.27644,
          -14.061899,
          -13.986413,
          -13.944956,
          -13.746863,
          -13.85021,
          -14.057762,
          -14.225804,
          -13.645321,
          -14.663724,
          -14.341948,
          -14.138613,
          -13.854827,
          -14.052647,
          -13.784396,
          -14.178613,
          -13.767835,
          -14.217928,
          -14.565527,
          -14.574628,
          -14.082217,
          -13.973077,
          -14.486035,
          -12.515136,
          -13.876227
         ],
         "y": [
          -1.9094884,
          -5.230305,
          4.604287,
          -5.8857813,
          -1.286416,
          -3.6847105,
          -5.1033764,
          -2.8908985,
          -3.61215,
          -1.4763476,
          -1.9783409,
          -11.073506,
          -4.0213923,
          -10.401596,
          -0.76206833,
          2.1412697,
          -7.9044776,
          -3.294382,
          4.9333224,
          -1.9726014,
          -1.8816946,
          -3.266808,
          3.4966216,
          5.0091634,
          -6.1750107,
          -0.13118768,
          -5.4120255,
          -0.40359485,
          -5.0064692,
          -9.332786,
          5.273181,
          -7.7327204,
          -2.3502471,
          -10.109599,
          -10.932273,
          4.223199,
          -1.089903,
          -11.393801,
          -1.860075,
          -0.53163666,
          -5.220974,
          4.37584,
          -7.2184196,
          6.267186,
          -9.623471,
          -8.289723,
          -1.1406404,
          3.1150763,
          6.268534,
          -10.390291,
          -4.2528033,
          2.5137382,
          -5.6528234,
          -0.19697052,
          -2.2073228,
          -2.7639356,
          4.79679,
          -11.396938,
          4.549767,
          -8.616776,
          5.4310017,
          3.7023206,
          -7.5632052,
          2.4097872,
          3.7726238,
          -1.9576542,
          0.44921473,
          -8.440003,
          3.5441813,
          -9.029643,
          5.1667805,
          -1.8206476,
          -8.404811,
          -4.9039702,
          0.846876,
          -5.1205535,
          1.1650764,
          -6.272632,
          -2.0546381,
          -5.606506,
          0.7005484,
          5.058631,
          1.9513253,
          0.9459652,
          -3.3316827,
          -3.40372,
          4.669912,
          2.5817306,
          5.7721562,
          2.010726,
          -1.9513164,
          -10.799192,
          5.775221,
          -9.870195,
          -0.86979455,
          -8.112026,
          2.174855,
          -8.039354,
          -2.7893872,
          1.5518069,
          -0.85231996,
          -8.100407,
          -10.95143,
          -9.142059,
          -10.672631,
          3.517949,
          1.4543108,
          2.6534488,
          -1.6717682,
          -4.092343,
          -5.8394346,
          -10.33714,
          0.4159659,
          -11.297567,
          -4.5664024,
          1.9881815,
          -5.175209,
          -5.650066,
          5.101187,
          -8.794031,
          -3.5481575,
          4.0283413,
          2.477939,
          -8.491923,
          -3.0253637,
          -9.24447,
          -9.618919,
          -10.160956,
          -3.8757644,
          -3.7512128,
          -8.801234,
          -2.892009,
          0.6749949,
          -8.650163,
          -7.345344,
          -6.40824,
          -8.068004,
          0.71841943,
          -8.629773,
          1.678423,
          -5.140345,
          -4.7601414,
          -2.942033,
          4.887363,
          -1.038136,
          -11.279619,
          -10.204196
         ],
         "z": [
          1.152037,
          0.9447855,
          -0.07970217,
          0.25480753,
          -0.13254926,
          0.8721421,
          1.5198132,
          -0.67955315,
          0.14112295,
          -1.3326576,
          -1.1897485,
          1.0287795,
          -0.8542055,
          -0.06206514,
          -1.1144565,
          -0.42673433,
          0.9073502,
          0.8501046,
          -0.03356508,
          0.6543731,
          1.2739205,
          1.2415277,
          -0.14997995,
          -0.45964178,
          -0.14331372,
          -0.32310703,
          1.5176905,
          0.7595865,
          -1.2453911,
          1.3037924,
          -0.4003591,
          0.869203,
          -0.18905693,
          0.8900009,
          0.8826605,
          -0.28015345,
          -0.8206205,
          1.1564915,
          1.9332427,
          0.41142112,
          0.9921307,
          -0.38038144,
          -0.10975096,
          -0.087817535,
          0.5998973,
          0.6639528,
          1.5472881,
          -0.03535337,
          -0.07355188,
          1.4125121,
          0.10657711,
          -1.2798104,
          1.5964342,
          -0.8675616,
          -1.3858154,
          -1.3725648,
          0.075763874,
          1.1604705,
          -0.8840729,
          0.29244635,
          -0.5719683,
          -0.72716814,
          0.78247565,
          -1.3530616,
          -0.034402404,
          0.89943284,
          -1.0691704,
          0.69313776,
          -1.1417854,
          1.383183,
          -1.0465378,
          -0.08172551,
          -0.21609204,
          -1.0224414,
          -0.14161192,
          1.9190557,
          -0.54475665,
          1.1550488,
          -1.3188457,
          0.43096474,
          0.5666927,
          -0.6610364,
          0.05566508,
          -0.34026527,
          -0.725939,
          -0.0020133927,
          0.18760554,
          -0.24301499,
          -0.49582708,
          0.3183756,
          1.3689691,
          0.9397787,
          0.18168478,
          0.81775624,
          0.35764664,
          1.0011524,
          -0.75765496,
          1.5238987,
          -0.52579284,
          -0.06902357,
          -0.8843616,
          1.9000778,
          1.1929718,
          1.216365,
          0.2939066,
          -0.4234132,
          0.443897,
          0.6832911,
          -0.91606694,
          -1.1128368,
          -0.23149933,
          1.3086953,
          1.2138366,
          1.088917,
          -1.2673796,
          -1.2222159,
          0.81766355,
          1.4581923,
          -0.52645314,
          2.3778775,
          -0.52941173,
          -0.9645831,
          -1.0607568,
          0.69133466,
          1.4716296,
          1.0729241,
          1.5544105,
          1.1237195,
          1.2538956,
          0.6444267,
          2.1483724,
          -1.1606348,
          -0.68780476,
          0.23818749,
          1.7145423,
          1.1022062,
          1.8533622,
          -0.06539507,
          1.7907203,
          -0.5470833,
          -0.7623991,
          -0.76855767,
          1.1249925,
          -0.9062235,
          -0.7457781,
          1.1176963,
          0.86223745
         ]
        },
        {
         "customdata": [
          [
           65
          ],
          [
           61
          ],
          [
           58
          ],
          [
           59
          ],
          [
           65
          ],
          [
           61
          ],
          [
           56
          ],
          [
           62
          ],
          [
           58
          ],
          [
           61
          ],
          [
           66
          ],
          [
           59
          ],
          [
           59
          ],
          [
           56
          ],
          [
           59
          ],
          [
           60
          ],
          [
           62
          ],
          [
           63
          ],
          [
           51
          ],
          [
           56
          ],
          [
           55
          ],
          [
           58
          ],
          [
           59
          ],
          [
           68
          ],
          [
           58
          ],
          [
           61
          ],
          [
           55
          ],
          [
           58
          ],
          [
           67
          ],
          [
           56
          ],
          [
           57
          ],
          [
           67
          ],
          [
           59
          ],
          [
           60
          ],
          [
           57
          ],
          [
           61
          ],
          [
           60
          ],
          [
           64
          ],
          [
           62
          ],
          [
           58
          ],
          [
           59
          ],
          [
           63
          ],
          [
           61
          ],
          [
           59
          ],
          [
           59
          ],
          [
           56
          ],
          [
           60
          ],
          [
           57
          ],
          [
           61
          ],
          [
           63
          ],
          [
           58
          ],
          [
           59
          ],
          [
           59
          ],
          [
           61
          ],
          [
           67
          ],
          [
           65
          ],
          [
           59
          ],
          [
           59
          ],
          [
           58
          ],
          [
           61
          ],
          [
           62
          ],
          [
           66
          ],
          [
           57
          ],
          [
           66
          ],
          [
           63
          ],
          [
           64
          ],
          [
           62
          ],
          [
           62
          ],
          [
           60
          ],
          [
           65
          ],
          [
           60
          ],
          [
           63
          ],
          [
           56
          ],
          [
           58
          ],
          [
           62
          ],
          [
           56
          ],
          [
           59
          ],
          [
           58
          ],
          [
           63
          ],
          [
           64
          ],
          [
           62
          ],
          [
           60
          ],
          [
           62
          ],
          [
           58
          ],
          [
           56
          ],
          [
           62
          ],
          [
           64
          ],
          [
           66
          ],
          [
           59
          ],
          [
           62
          ],
          [
           65
          ],
          [
           61
          ],
          [
           62
          ],
          [
           60
          ],
          [
           63
          ],
          [
           59
          ],
          [
           62
          ],
          [
           59
          ],
          [
           54
          ],
          [
           61
          ],
          [
           55
          ],
          [
           53
          ],
          [
           55
          ],
          [
           61
          ],
          [
           59
          ],
          [
           59
          ],
          [
           56
          ],
          [
           61
          ],
          [
           61
          ],
          [
           60
          ],
          [
           57
          ],
          [
           61
          ],
          [
           56
          ],
          [
           58
          ],
          [
           64
          ],
          [
           59
          ],
          [
           58
          ],
          [
           59
          ],
          [
           58
          ],
          [
           57
          ],
          [
           55
          ],
          [
           62
          ],
          [
           64
          ],
          [
           61
          ],
          [
           53
          ],
          [
           55
          ],
          [
           58
          ],
          [
           59
          ],
          [
           57
          ],
          [
           53
          ],
          [
           61
          ],
          [
           56
          ],
          [
           60
          ],
          [
           58
          ],
          [
           68
          ],
          [
           59
          ],
          [
           64
          ],
          [
           64
          ],
          [
           64
          ],
          [
           62
          ],
          [
           66
          ],
          [
           59
          ],
          [
           57
          ],
          [
           61
          ],
          [
           67
          ],
          [
           58
          ],
          [
           63
          ],
          [
           63
          ],
          [
           56
          ],
          [
           55
          ],
          [
           57
          ],
          [
           57
          ],
          [
           55
          ],
          [
           60
          ],
          [
           58
          ],
          [
           58
          ]
         ],
         "hovertemplate": "Cluster=Cluster 2<br>0=%{x}<br>1=%{y}<br>2=%{z}<br>Feature=%{customdata[0]}<extra></extra>",
         "legendgroup": "Cluster 2",
         "marker": {
          "color": "#00cc96",
          "opacity": 0.7,
          "symbol": "circle"
         },
         "mode": "markers",
         "name": "Cluster 2",
         "scene": "scene",
         "showlegend": true,
         "type": "scatter3d",
         "x": [
          -0.9959876,
          -2.1255589,
          -0.3718724,
          -1.3042814,
          -0.6824368,
          -0.61203986,
          -0.37596294,
          -1.7853233,
          -0.9413611,
          -0.40306973,
          -0.3996769,
          -1.7952621,
          -3.8055012,
          -0.2968368,
          -0.22598065,
          -1.1386334,
          -0.66169494,
          -1.8572628,
          -0.7155311,
          -0.24521922,
          -2.2668023,
          -0.26570898,
          -0.371556,
          -1.3872954,
          -0.27479926,
          -1.6010991,
          -0.2616055,
          -1.1459993,
          -0.483884,
          -0.4297571,
          -0.4202356,
          -0.34350002,
          -0.37918267,
          -2.1873684,
          -0.73444283,
          -0.34389016,
          -0.36492857,
          -2.706497,
          -1.2580874,
          -0.8563838,
          -1.4371135,
          -0.9193103,
          -0.7069637,
          -0.3078299,
          -0.4738123,
          -2.263877,
          -2.5442827,
          -2.2709448,
          -1.7913334,
          -0.25648844,
          -0.37846318,
          -1.5125563,
          -0.54887766,
          -2.105351,
          -1.4012662,
          -0.40678182,
          -1.5177243,
          -0.39019525,
          -0.37095386,
          -0.31613344,
          -0.5806393,
          -0.66553885,
          -0.3733593,
          -2.3809175,
          -0.6879842,
          -0.7500324,
          -2.534364,
          -2.7359216,
          -0.66591096,
          -2.1362565,
          -0.8692073,
          -0.44850427,
          -0.24525271,
          -0.32130858,
          -0.8624931,
          -1.4304106,
          -1.6905814,
          -0.30950606,
          -1.047177,
          -0.19227259,
          -1.3050538,
          -2.3342445,
          -0.32949442,
          -1.1653191,
          -1.2936664,
          -1.5432371,
          -0.46190786,
          -0.34443232,
          -1.5804458,
          -0.3492184,
          -2.1047523,
          -1.0459027,
          -1.8562319,
          -0.47612262,
          -0.20420808,
          -0.40724844,
          -0.26075292,
          -0.391051,
          -0.34402514,
          -0.6238517,
          -0.6826285,
          -0.49765104,
          -0.22242875,
          -0.2860294,
          -2.1226866,
          -1.1309776,
          -2.4817338,
          -0.6282014,
          -2.4540064,
          -1.0467743,
          -0.38334718,
          -0.48515692,
          -0.16345915,
          -1.2292799,
          -0.13698037,
          -0.24326017,
          -0.23874395,
          -0.6769646,
          -1.0115205,
          -0.3454547,
          -0.8015313,
          -1.340009,
          -3.2935817,
          -1.5357175,
          -2.8809319,
          -0.4841422,
          -0.40168118,
          -0.8598517,
          -0.58574665,
          -0.3208096,
          -0.9051824,
          -3.403505,
          -2.1982698,
          -0.38474908,
          -0.40720466,
          -1.3474121,
          -0.382616,
          -0.42543584,
          -2.4393842,
          -2.7429178,
          -0.7113309,
          -0.5471952,
          -2.1405008,
          -0.6992661,
          -3.6046422,
          -1.315389,
          -0.34374684,
          -3.769907,
          -1.8092974,
          -0.6113262,
          -1.3397207,
          -0.41314983,
          -0.43179017,
          -1.6988722,
          -0.29606584,
          -0.4444758
         ],
         "y": [
          9.781764,
          14.740043,
          3.3400452,
          11.1132145,
          8.917789,
          7.9391274,
          3.8255742,
          13.107726,
          9.849119,
          5.325978,
          2.2990801,
          13.341966,
          16.996107,
          0.6143432,
          1.5030406,
          10.326647,
          5.5813336,
          13.468297,
          7.6787515,
          -0.30759183,
          15.395088,
          0.9472744,
          -1.2768883,
          11.646562,
          -0.21228188,
          11.574287,
          2.5482779,
          11.13333,
          0.6087732,
          6.1368527,
          -0.073529474,
          -0.6591865,
          6.122845,
          14.812551,
          7.6656423,
          0.70991445,
          5.1949883,
          16.188843,
          11.169075,
          9.465786,
          11.431026,
          9.580334,
          7.7903686,
          -0.6151522,
          6.6665382,
          15.167245,
          15.972931,
          15.403659,
          13.351547,
          -1.2900434,
          1.3319166,
          12.628964,
          6.227225,
          14.606958,
          11.939349,
          5.13172,
          12.494321,
          3.916568,
          1.6254451,
          6.1775784,
          6.0249133,
          7.071653,
          2.7783525,
          15.467367,
          6.410837,
          8.193723,
          16.011671,
          16.291239,
          8.678357,
          14.749016,
          9.480881,
          -0.665517,
          -2.0161467,
          3.7851858,
          8.975318,
          11.930474,
          12.93548,
          0.8984325,
          10.454582,
          -2.4615054,
          11.131785,
          15.333622,
          1.0760512,
          10.533132,
          11.777387,
          12.393673,
          2.9129722,
          -1.3929081,
          12.639009,
          -0.17515498,
          14.566772,
          10.695881,
          13.64597,
          -0.28970122,
          -2.360686,
          -1.1310555,
          5.5693855,
          5.237886,
          2.9125485,
          8.099752,
          8.391961,
          2.6157537,
          0.87131953,
          2.446712,
          14.717327,
          10.647608,
          15.771256,
          5.342415,
          15.809226,
          10.29913,
          4.132526,
          6.4105115,
          -2.611726,
          9.905926,
          -2.845096,
          5.770764,
          2.2572913,
          6.9869027,
          9.99848,
          0.23803985,
          8.997362,
          10.803908,
          16.705915,
          11.461992,
          16.42372,
          5.1443243,
          5.2562246,
          8.607567,
          5.467813,
          4.7346587,
          8.786832,
          16.770386,
          14.954001,
          -0.33405164,
          1.729303,
          11.067102,
          0.70607305,
          2.9079614,
          15.685834,
          16.310417,
          8.2805,
          3.7042618,
          14.7918005,
          9.086854,
          16.8715,
          10.388373,
          4.5446625,
          16.980364,
          13.438342,
          5.5466933,
          10.873574,
          2.7529733,
          3.252055,
          13.10713,
          -1.681078,
          1.8049891
         ],
         "z": [
          0.21329564,
          -0.74333286,
          -0.51253295,
          0.6450066,
          -1.6328561,
          -0.9005354,
          -0.5480447,
          0.6132343,
          -0.3469919,
          -0.7056808,
          -0.25916994,
          0.15154074,
          -0.6373363,
          -1.1859516,
          -1.676999,
          0.5816184,
          1.1507834,
          0.48072892,
          0.21969953,
          -1.5810462,
          -0.25002253,
          -1.3956403,
          -0.6940788,
          0.26398852,
          -1.3931477,
          2.0374875,
          -1.3797717,
          -1.3949364,
          0.18220213,
          -0.91534495,
          -0.3648281,
          -0.9928713,
          -1.3442134,
          0.6120226,
          0.36573607,
          -0.8167295,
          -0.96730673,
          -1.1179656,
          0.1059542,
          -0.555477,
          1.0824845,
          -0.109060556,
          0.061924767,
          -1.1950285,
          -0.9470816,
          0.3720529,
          -0.8892428,
          -0.099663965,
          0.080285184,
          -1.39081,
          -0.49553397,
          -1.3283924,
          -0.020544635,
          -0.020737268,
          -0.34085292,
          -0.6026812,
          -0.61942357,
          -0.4524642,
          -0.52874714,
          -1.9378378,
          0.3410749,
          0.3050393,
          -0.4729155,
          0.5068065,
          0.89792514,
          0.052073464,
          -0.20014793,
          -0.8881786,
          -1.3699744,
          -0.038758624,
          -0.44340962,
          -0.21073045,
          -1.1786458,
          -0.99821436,
          0.1403862,
          0.012092797,
          0.12606272,
          -1.0663341,
          -0.5537932,
          -1.2579813,
          0.61491615,
          0.39656746,
          -0.8908682,
          0.5063211,
          -1.4234586,
          -0.0159537,
          0.19259676,
          -0.8385038,
          -0.26106527,
          -0.91477793,
          0.15834568,
          -1.4463667,
          -0.06350028,
          0.0138705475,
          -1.2427654,
          -0.48371708,
          -2.039304,
          -0.7724883,
          -0.7147536,
          -0.97592574,
          -0.7298231,
          0.4717706,
          -1.731493,
          -1.1722041,
          -0.4124521,
          -0.029454596,
          -0.97686094,
          0.98942757,
          -0.76423544,
          -0.139128,
          -0.540654,
          -0.646632,
          -1.3209468,
          1.6802157,
          -1.3452201,
          -2.285132,
          -1.5686444,
          0.44993976,
          0.057986915,
          -0.8752178,
          -0.35938773,
          1.3667419,
          -0.856078,
          1.7411479,
          -0.8824379,
          -0.01614894,
          -0.69033974,
          0.46349606,
          0.6393271,
          -1.1937134,
          0.606511,
          -0.77173436,
          -1.1403543,
          -0.6669586,
          -0.24606547,
          1.049666,
          -0.5371038,
          -0.07662421,
          0.07763618,
          -0.24670134,
          -0.3376756,
          0.7196937,
          -0.40964678,
          -1.7788522,
          -0.62773865,
          1.7083963,
          -0.95148635,
          -0.67594534,
          0.034979895,
          0.7959647,
          1.2694637,
          -0.16382207,
          -0.041540556,
          -0.2963353,
          -1.0327328,
          0.03581781
         ]
        },
        {
         "customdata": [
          [
           30
          ],
          [
           31
          ],
          [
           31
          ],
          [
           30
          ],
          [
           33
          ],
          [
           85
          ],
          [
           83
          ],
          [
           36
          ],
          [
           30
          ],
          [
           34
          ],
          [
           36
          ],
          [
           84
          ],
          [
           36
          ],
          [
           22
          ],
          [
           31
          ],
          [
           30
          ],
          [
           35
          ],
          [
           34
          ],
          [
           37
          ],
          [
           38
          ],
          [
           29
          ],
          [
           37
          ],
          [
           28
          ],
          [
           35
          ],
          [
           29
          ],
          [
           37
          ],
          [
           34
          ],
          [
           32
          ],
          [
           30
          ],
          [
           35
          ],
          [
           31
          ],
          [
           33
          ],
          [
           39
          ],
          [
           31
          ],
          [
           33
          ],
          [
           33
          ],
          [
           36
          ],
          [
           37
          ],
          [
           31
          ],
          [
           31
          ],
          [
           31
          ],
          [
           33
          ],
          [
           31
          ],
          [
           36
          ],
          [
           33
          ],
          [
           37
          ],
          [
           35
          ],
          [
           25
          ],
          [
           30
          ],
          [
           37
          ],
          [
           28
          ],
          [
           31
          ],
          [
           33
          ],
          [
           28
          ],
          [
           34
          ],
          [
           31
          ],
          [
           32
          ],
          [
           30
          ],
          [
           27
          ],
          [
           30
          ],
          [
           34
          ],
          [
           33
          ],
          [
           31
          ],
          [
           30
          ],
          [
           29
          ],
          [
           30
          ],
          [
           84
          ],
          [
           39
          ],
          [
           86
          ],
          [
           29
          ],
          [
           35
          ],
          [
           59
          ],
          [
           28
          ],
          [
           33
          ],
          [
           38
          ],
          [
           28
          ],
          [
           29
          ],
          [
           40
          ],
          [
           32
          ],
          [
           84
          ],
          [
           28
          ],
          [
           36
          ],
          [
           32
          ],
          [
           29
          ],
          [
           32
          ],
          [
           29
          ],
          [
           35
          ],
          [
           34
          ],
          [
           29
          ],
          [
           25
          ],
          [
           29
          ],
          [
           42
          ],
          [
           33
          ],
          [
           31
          ],
          [
           36
          ],
          [
           36
          ],
          [
           43
          ],
          [
           36
          ],
          [
           33
          ],
          [
           33
          ],
          [
           29
          ],
          [
           38
          ],
          [
           38
          ],
          [
           35
          ],
          [
           32
          ],
          [
           34
          ],
          [
           36
          ],
          [
           31
          ],
          [
           37
          ],
          [
           35
          ],
          [
           88
          ],
          [
           39
          ],
          [
           31
          ],
          [
           35
          ],
          [
           31
          ],
          [
           37
          ],
          [
           37
          ],
          [
           26
          ],
          [
           32
          ],
          [
           31
          ],
          [
           34
          ],
          [
           37
          ],
          [
           34
          ],
          [
           33
          ],
          [
           33
          ],
          [
           35
          ],
          [
           28
          ],
          [
           34
          ],
          [
           30
          ],
          [
           44
          ],
          [
           24
          ],
          [
           31
          ]
         ],
         "hovertemplate": "Cluster=Cluster 3<br>0=%{x}<br>1=%{y}<br>2=%{z}<br>Feature=%{customdata[0]}<extra></extra>",
         "legendgroup": "Cluster 3",
         "marker": {
          "color": "#ab63fa",
          "opacity": 0.7,
          "symbol": "circle"
         },
         "mode": "markers",
         "name": "Cluster 3",
         "scene": "scene",
         "showlegend": true,
         "type": "scatter3d",
         "x": [
          8.712046,
          8.955586,
          9.265617,
          8.810374,
          0.868244,
          12.014461,
          14.057504,
          0.4820915,
          4.050566,
          4.217879,
          5.973062,
          13.61693,
          2.1485803,
          10.646386,
          13.093375,
          1.0250419,
          6.7028117,
          5.986347,
          10.040167,
          0.29360694,
          7.79265,
          0.8395081,
          3.2621326,
          14.031771,
          0.21254262,
          8.241775,
          1.5724573,
          10.213848,
          3.1408103,
          11.204328,
          12.524656,
          7.031291,
          2.780676,
          11.879732,
          8.766615,
          8.315561,
          2.4081638,
          9.223697,
          9.22467,
          3.5343485,
          3.2517982,
          8.163915,
          11.595912,
          1.1701603,
          3.1408176,
          8.361458,
          8.464963,
          3.5144696,
          10.227986,
          0.88305086,
          0.3567647,
          9.171814,
          13.836508,
          2.7678378,
          0.93690896,
          7.362582,
          13.614376,
          2.2726052,
          8.463926,
          0.4657965,
          11.872404,
          10.046269,
          1.8263689,
          9.669493,
          13.722867,
          8.056405,
          11.50757,
          1.6324791,
          13.492888,
          3.9234326,
          8.055892,
          -0.09771986,
          12.090198,
          12.988442,
          12.795791,
          1.9214253,
          11.767379,
          1.444383,
          3.6296997,
          13.283468,
          10.241921,
          7.244929,
          8.091848,
          5.010745,
          0.40897742,
          11.902929,
          12.460753,
          0.140487,
          1.6253141,
          8.781853,
          4.0222917,
          8.658273,
          12.18556,
          4.6340303,
          3.8153126,
          9.796224,
          3.6269827,
          10.587447,
          0.3898349,
          1.9329687,
          12.362517,
          6.7970476,
          13.358718,
          4.269674,
          11.3227215,
          1.3411279,
          11.008039,
          13.8976555,
          11.548236,
          10.223476,
          13.790018,
          2.881591,
          6.210235,
          3.6800954,
          7.1988187,
          9.939156,
          10.310551,
          0.7766027,
          4.020568,
          6.976169,
          5.278958,
          11.525542,
          8.967886,
          2.4980955,
          0.27058566,
          9.1048765,
          0.94891334,
          5.001889,
          10.201443,
          13.060821,
          11.499944,
          8.979382
         ],
         "y": [
          -7.8229065,
          -7.459624,
          -7.4289403,
          -7.569386,
          -7.302579,
          -5.6170835,
          -2.5636249,
          -6.4125547,
          -8.604553,
          -8.583573,
          -8.558177,
          -3.7501683,
          -7.869641,
          -6.926785,
          -3.5650914,
          -7.1503825,
          -8.545685,
          -8.562173,
          -7.0703964,
          -5.9749,
          -8.365548,
          -6.9888678,
          -8.492959,
          -2.6336205,
          -4.886988,
          -8.173551,
          -7.585784,
          -7.3409176,
          -8.430857,
          -6.204506,
          -4.551464,
          -8.290998,
          -8.123129,
          -5.3121943,
          -8.039474,
          -8.12868,
          -8.153447,
          -7.4489365,
          -7.398832,
          -8.525341,
          -8.287348,
          -8.286995,
          -5.627894,
          -7.1076055,
          -8.442498,
          -8.004522,
          -8.193824,
          -8.633177,
          -7.210795,
          -7.0747085,
          -5.8568068,
          -7.4440556,
          -2.8566818,
          -8.251372,
          -7.3826923,
          -8.321237,
          -2.542604,
          -8.098016,
          -8.207859,
          -6.387104,
          -5.4885216,
          -7.3498383,
          -7.8422785,
          -7.5881367,
          -2.8689528,
          -8.304543,
          -5.9391847,
          -7.742313,
          -3.194089,
          -8.700858,
          -8.283618,
          -3.1115832,
          -5.0368414,
          -3.7119377,
          -4.1686935,
          -7.884099,
          -5.915658,
          -7.544609,
          -8.36563,
          -3.3740435,
          -6.809267,
          -8.413762,
          -8.183723,
          -8.595751,
          -6.1095934,
          -5.3816743,
          -4.5594144,
          -4.513992,
          -7.7066197,
          -8.055519,
          -8.6367855,
          -8.096092,
          -5.385309,
          -8.623571,
          -8.66571,
          -7.5407453,
          -8.57248,
          -7.03971,
          -5.775665,
          -7.9012995,
          -4.794986,
          -8.536659,
          -3.4430358,
          -8.65952,
          -5.8598313,
          -7.5319552,
          -6.380973,
          -3.033183,
          -5.9628825,
          -7.2794147,
          -3.6551974,
          -8.15488,
          -8.569085,
          -8.542635,
          -8.47933,
          -7.572022,
          -7.1895547,
          -7.108832,
          -8.602029,
          -8.513679,
          -8.621486,
          -5.7549424,
          -7.963144,
          -8.192965,
          -5.188097,
          -7.9236703,
          -7.1406794,
          -8.639783,
          -6.890769,
          -3.669793,
          -5.9515796,
          -7.987272
         ],
         "z": [
          0.4379258,
          1.4158095,
          0.76880467,
          1.2254596,
          -2.1664739,
          -0.4777201,
          0.54815614,
          -1.992144,
          -1.7158914,
          -1.9862324,
          -0.26448783,
          -0.2862038,
          -2.5588725,
          -0.97907513,
          0.68080074,
          -2.5240264,
          -1.3295264,
          -0.3288746,
          0.18752894,
          -2.2898543,
          -0.81276685,
          -2.2485533,
          -1.3957926,
          0.12799364,
          -1.7518522,
          -0.12209455,
          -2.444003,
          -1.5633843,
          -0.9117722,
          0.013262248,
          0.44175842,
          0.41238028,
          -2.7129536,
          0.57795125,
          -0.43480277,
          -0.05175162,
          -0.7983687,
          0.79362535,
          0.9967388,
          -1.6522843,
          -2.7532785,
          -0.98291373,
          0.58158296,
          -2.330553,
          -1.3810076,
          0.29049987,
          -1.236102,
          -1.4795656,
          -0.83310616,
          -1.675691,
          -1.9894631,
          0.9376968,
          0.49387127,
          -1.8962764,
          -2.1290123,
          0.033774897,
          0.72134626,
          -0.735469,
          -0.5602887,
          -2.0583937,
          0.22021367,
          -0.9004112,
          -1.3104017,
          -0.89533216,
          0.30011222,
          -0.5774459,
          0.02353136,
          -1.772795,
          0.50552756,
          -1.0944668,
          -1.8573282,
          -1.395667,
          0.6306199,
          0.6953326,
          0.48581758,
          -1.8515344,
          -0.67372876,
          -2.3629186,
          -2.908032,
          0.609085,
          0.53554094,
          -0.3891876,
          -0.031237442,
          -2.0077388,
          -2.0217123,
          0.3694599,
          0.5779272,
          -1.6821337,
          -2.0983007,
          -1.6906347,
          -1.1092086,
          -0.41738623,
          -0.36619753,
          -0.4013939,
          -1.495523,
          -1.1122236,
          -0.91888726,
          -1.2980083,
          -1.8511215,
          -1.6846194,
          0.38607946,
          -1.4322532,
          0.44832188,
          -1.303762,
          0.63935757,
          -1.6139605,
          -0.047557145,
          0.021152787,
          -0.17508423,
          -1.1694498,
          -0.4400759,
          -2.7645192,
          -0.7341461,
          -0.7424589,
          -1.7762877,
          -2.1411,
          -1.0137054,
          -2.2112055,
          -0.7944035,
          -1.2802764,
          -0.5780555,
          0.45255998,
          -0.6489389,
          -0.7327063,
          -1.8120798,
          -1.535329,
          -1.6763301,
          -1.4016432,
          0.3788566,
          0.6272065,
          0.0024683657,
          -1.1797656
         ]
        }
       ],
       "layout": {
        "height": 800,
        "legend": {
         "title": {
          "text": "Cluster"
         },
         "tracegroupgap": 0
        },
        "scene": {
         "domain": {
          "x": [
           0,
           1
          ],
          "y": [
           0,
           1
          ]
         },
         "xaxis": {
          "title": {
           "text": "0"
          }
         },
         "yaxis": {
          "title": {
           "text": "1"
          }
         },
         "zaxis": {
          "title": {
           "text": "2"
          }
         }
        },
        "template": {
         "data": {
          "bar": [
           {
            "error_x": {
             "color": "#2a3f5f"
            },
            "error_y": {
             "color": "#2a3f5f"
            },
            "marker": {
             "line": {
              "color": "#E5ECF6",
              "width": 0.5
             },
             "pattern": {
              "fillmode": "overlay",
              "size": 10,
              "solidity": 0.2
             }
            },
            "type": "bar"
           }
          ],
          "barpolar": [
           {
            "marker": {
             "line": {
              "color": "#E5ECF6",
              "width": 0.5
             },
             "pattern": {
              "fillmode": "overlay",
              "size": 10,
              "solidity": 0.2
             }
            },
            "type": "barpolar"
           }
          ],
          "carpet": [
           {
            "aaxis": {
             "endlinecolor": "#2a3f5f",
             "gridcolor": "white",
             "linecolor": "white",
             "minorgridcolor": "white",
             "startlinecolor": "#2a3f5f"
            },
            "baxis": {
             "endlinecolor": "#2a3f5f",
             "gridcolor": "white",
             "linecolor": "white",
             "minorgridcolor": "white",
             "startlinecolor": "#2a3f5f"
            },
            "type": "carpet"
           }
          ],
          "choropleth": [
           {
            "colorbar": {
             "outlinewidth": 0,
             "ticks": ""
            },
            "type": "choropleth"
           }
          ],
          "contour": [
           {
            "colorbar": {
             "outlinewidth": 0,
             "ticks": ""
            },
            "colorscale": [
             [
              0,
              "#0d0887"
             ],
             [
              0.1111111111111111,
              "#46039f"
             ],
             [
              0.2222222222222222,
              "#7201a8"
             ],
             [
              0.3333333333333333,
              "#9c179e"
             ],
             [
              0.4444444444444444,
              "#bd3786"
             ],
             [
              0.5555555555555556,
              "#d8576b"
             ],
             [
              0.6666666666666666,
              "#ed7953"
             ],
             [
              0.7777777777777778,
              "#fb9f3a"
             ],
             [
              0.8888888888888888,
              "#fdca26"
             ],
             [
              1,
              "#f0f921"
             ]
            ],
            "type": "contour"
           }
          ],
          "contourcarpet": [
           {
            "colorbar": {
             "outlinewidth": 0,
             "ticks": ""
            },
            "type": "contourcarpet"
           }
          ],
          "heatmap": [
           {
            "colorbar": {
             "outlinewidth": 0,
             "ticks": ""
            },
            "colorscale": [
             [
              0,
              "#0d0887"
             ],
             [
              0.1111111111111111,
              "#46039f"
             ],
             [
              0.2222222222222222,
              "#7201a8"
             ],
             [
              0.3333333333333333,
              "#9c179e"
             ],
             [
              0.4444444444444444,
              "#bd3786"
             ],
             [
              0.5555555555555556,
              "#d8576b"
             ],
             [
              0.6666666666666666,
              "#ed7953"
             ],
             [
              0.7777777777777778,
              "#fb9f3a"
             ],
             [
              0.8888888888888888,
              "#fdca26"
             ],
             [
              1,
              "#f0f921"
             ]
            ],
            "type": "heatmap"
           }
          ],
          "heatmapgl": [
           {
            "colorbar": {
             "outlinewidth": 0,
             "ticks": ""
            },
            "colorscale": [
             [
              0,
              "#0d0887"
             ],
             [
              0.1111111111111111,
              "#46039f"
             ],
             [
              0.2222222222222222,
              "#7201a8"
             ],
             [
              0.3333333333333333,
              "#9c179e"
             ],
             [
              0.4444444444444444,
              "#bd3786"
             ],
             [
              0.5555555555555556,
              "#d8576b"
             ],
             [
              0.6666666666666666,
              "#ed7953"
             ],
             [
              0.7777777777777778,
              "#fb9f3a"
             ],
             [
              0.8888888888888888,
              "#fdca26"
             ],
             [
              1,
              "#f0f921"
             ]
            ],
            "type": "heatmapgl"
           }
          ],
          "histogram": [
           {
            "marker": {
             "pattern": {
              "fillmode": "overlay",
              "size": 10,
              "solidity": 0.2
             }
            },
            "type": "histogram"
           }
          ],
          "histogram2d": [
           {
            "colorbar": {
             "outlinewidth": 0,
             "ticks": ""
            },
            "colorscale": [
             [
              0,
              "#0d0887"
             ],
             [
              0.1111111111111111,
              "#46039f"
             ],
             [
              0.2222222222222222,
              "#7201a8"
             ],
             [
              0.3333333333333333,
              "#9c179e"
             ],
             [
              0.4444444444444444,
              "#bd3786"
             ],
             [
              0.5555555555555556,
              "#d8576b"
             ],
             [
              0.6666666666666666,
              "#ed7953"
             ],
             [
              0.7777777777777778,
              "#fb9f3a"
             ],
             [
              0.8888888888888888,
              "#fdca26"
             ],
             [
              1,
              "#f0f921"
             ]
            ],
            "type": "histogram2d"
           }
          ],
          "histogram2dcontour": [
           {
            "colorbar": {
             "outlinewidth": 0,
             "ticks": ""
            },
            "colorscale": [
             [
              0,
              "#0d0887"
             ],
             [
              0.1111111111111111,
              "#46039f"
             ],
             [
              0.2222222222222222,
              "#7201a8"
             ],
             [
              0.3333333333333333,
              "#9c179e"
             ],
             [
              0.4444444444444444,
              "#bd3786"
             ],
             [
              0.5555555555555556,
              "#d8576b"
             ],
             [
              0.6666666666666666,
              "#ed7953"
             ],
             [
              0.7777777777777778,
              "#fb9f3a"
             ],
             [
              0.8888888888888888,
              "#fdca26"
             ],
             [
              1,
              "#f0f921"
             ]
            ],
            "type": "histogram2dcontour"
           }
          ],
          "mesh3d": [
           {
            "colorbar": {
             "outlinewidth": 0,
             "ticks": ""
            },
            "type": "mesh3d"
           }
          ],
          "parcoords": [
           {
            "line": {
             "colorbar": {
              "outlinewidth": 0,
              "ticks": ""
             }
            },
            "type": "parcoords"
           }
          ],
          "pie": [
           {
            "automargin": true,
            "type": "pie"
           }
          ],
          "scatter": [
           {
            "fillpattern": {
             "fillmode": "overlay",
             "size": 10,
             "solidity": 0.2
            },
            "type": "scatter"
           }
          ],
          "scatter3d": [
           {
            "line": {
             "colorbar": {
              "outlinewidth": 0,
              "ticks": ""
             }
            },
            "marker": {
             "colorbar": {
              "outlinewidth": 0,
              "ticks": ""
             }
            },
            "type": "scatter3d"
           }
          ],
          "scattercarpet": [
           {
            "marker": {
             "colorbar": {
              "outlinewidth": 0,
              "ticks": ""
             }
            },
            "type": "scattercarpet"
           }
          ],
          "scattergeo": [
           {
            "marker": {
             "colorbar": {
              "outlinewidth": 0,
              "ticks": ""
             }
            },
            "type": "scattergeo"
           }
          ],
          "scattergl": [
           {
            "marker": {
             "colorbar": {
              "outlinewidth": 0,
              "ticks": ""
             }
            },
            "type": "scattergl"
           }
          ],
          "scattermapbox": [
           {
            "marker": {
             "colorbar": {
              "outlinewidth": 0,
              "ticks": ""
             }
            },
            "type": "scattermapbox"
           }
          ],
          "scatterpolar": [
           {
            "marker": {
             "colorbar": {
              "outlinewidth": 0,
              "ticks": ""
             }
            },
            "type": "scatterpolar"
           }
          ],
          "scatterpolargl": [
           {
            "marker": {
             "colorbar": {
              "outlinewidth": 0,
              "ticks": ""
             }
            },
            "type": "scatterpolargl"
           }
          ],
          "scatterternary": [
           {
            "marker": {
             "colorbar": {
              "outlinewidth": 0,
              "ticks": ""
             }
            },
            "type": "scatterternary"
           }
          ],
          "surface": [
           {
            "colorbar": {
             "outlinewidth": 0,
             "ticks": ""
            },
            "colorscale": [
             [
              0,
              "#0d0887"
             ],
             [
              0.1111111111111111,
              "#46039f"
             ],
             [
              0.2222222222222222,
              "#7201a8"
             ],
             [
              0.3333333333333333,
              "#9c179e"
             ],
             [
              0.4444444444444444,
              "#bd3786"
             ],
             [
              0.5555555555555556,
              "#d8576b"
             ],
             [
              0.6666666666666666,
              "#ed7953"
             ],
             [
              0.7777777777777778,
              "#fb9f3a"
             ],
             [
              0.8888888888888888,
              "#fdca26"
             ],
             [
              1,
              "#f0f921"
             ]
            ],
            "type": "surface"
           }
          ],
          "table": [
           {
            "cells": {
             "fill": {
              "color": "#EBF0F8"
             },
             "line": {
              "color": "white"
             }
            },
            "header": {
             "fill": {
              "color": "#C8D4E3"
             },
             "line": {
              "color": "white"
             }
            },
            "type": "table"
           }
          ]
         },
         "layout": {
          "annotationdefaults": {
           "arrowcolor": "#2a3f5f",
           "arrowhead": 0,
           "arrowwidth": 1
          },
          "autotypenumbers": "strict",
          "coloraxis": {
           "colorbar": {
            "outlinewidth": 0,
            "ticks": ""
           }
          },
          "colorscale": {
           "diverging": [
            [
             0,
             "#8e0152"
            ],
            [
             0.1,
             "#c51b7d"
            ],
            [
             0.2,
             "#de77ae"
            ],
            [
             0.3,
             "#f1b6da"
            ],
            [
             0.4,
             "#fde0ef"
            ],
            [
             0.5,
             "#f7f7f7"
            ],
            [
             0.6,
             "#e6f5d0"
            ],
            [
             0.7,
             "#b8e186"
            ],
            [
             0.8,
             "#7fbc41"
            ],
            [
             0.9,
             "#4d9221"
            ],
            [
             1,
             "#276419"
            ]
           ],
           "sequential": [
            [
             0,
             "#0d0887"
            ],
            [
             0.1111111111111111,
             "#46039f"
            ],
            [
             0.2222222222222222,
             "#7201a8"
            ],
            [
             0.3333333333333333,
             "#9c179e"
            ],
            [
             0.4444444444444444,
             "#bd3786"
            ],
            [
             0.5555555555555556,
             "#d8576b"
            ],
            [
             0.6666666666666666,
             "#ed7953"
            ],
            [
             0.7777777777777778,
             "#fb9f3a"
            ],
            [
             0.8888888888888888,
             "#fdca26"
            ],
            [
             1,
             "#f0f921"
            ]
           ],
           "sequentialminus": [
            [
             0,
             "#0d0887"
            ],
            [
             0.1111111111111111,
             "#46039f"
            ],
            [
             0.2222222222222222,
             "#7201a8"
            ],
            [
             0.3333333333333333,
             "#9c179e"
            ],
            [
             0.4444444444444444,
             "#bd3786"
            ],
            [
             0.5555555555555556,
             "#d8576b"
            ],
            [
             0.6666666666666666,
             "#ed7953"
            ],
            [
             0.7777777777777778,
             "#fb9f3a"
            ],
            [
             0.8888888888888888,
             "#fdca26"
            ],
            [
             1,
             "#f0f921"
            ]
           ]
          },
          "colorway": [
           "#636efa",
           "#EF553B",
           "#00cc96",
           "#ab63fa",
           "#FFA15A",
           "#19d3f3",
           "#FF6692",
           "#B6E880",
           "#FF97FF",
           "#FECB52"
          ],
          "font": {
           "color": "#2a3f5f"
          },
          "geo": {
           "bgcolor": "white",
           "lakecolor": "white",
           "landcolor": "#E5ECF6",
           "showlakes": true,
           "showland": true,
           "subunitcolor": "white"
          },
          "hoverlabel": {
           "align": "left"
          },
          "hovermode": "closest",
          "mapbox": {
           "style": "light"
          },
          "paper_bgcolor": "white",
          "plot_bgcolor": "#E5ECF6",
          "polar": {
           "angularaxis": {
            "gridcolor": "white",
            "linecolor": "white",
            "ticks": ""
           },
           "bgcolor": "#E5ECF6",
           "radialaxis": {
            "gridcolor": "white",
            "linecolor": "white",
            "ticks": ""
           }
          },
          "scene": {
           "xaxis": {
            "backgroundcolor": "#E5ECF6",
            "gridcolor": "white",
            "gridwidth": 2,
            "linecolor": "white",
            "showbackground": true,
            "ticks": "",
            "zerolinecolor": "white"
           },
           "yaxis": {
            "backgroundcolor": "#E5ECF6",
            "gridcolor": "white",
            "gridwidth": 2,
            "linecolor": "white",
            "showbackground": true,
            "ticks": "",
            "zerolinecolor": "white"
           },
           "zaxis": {
            "backgroundcolor": "#E5ECF6",
            "gridcolor": "white",
            "gridwidth": 2,
            "linecolor": "white",
            "showbackground": true,
            "ticks": "",
            "zerolinecolor": "white"
           }
          },
          "shapedefaults": {
           "line": {
            "color": "#2a3f5f"
           }
          },
          "ternary": {
           "aaxis": {
            "gridcolor": "white",
            "linecolor": "white",
            "ticks": ""
           },
           "baxis": {
            "gridcolor": "white",
            "linecolor": "white",
            "ticks": ""
           },
           "bgcolor": "#E5ECF6",
           "caxis": {
            "gridcolor": "white",
            "linecolor": "white",
            "ticks": ""
           }
          },
          "title": {
           "x": 0.05
          },
          "xaxis": {
           "automargin": true,
           "gridcolor": "white",
           "linecolor": "white",
           "ticks": "",
           "title": {
            "standoff": 15
           },
           "zerolinecolor": "white",
           "zerolinewidth": 2
          },
          "yaxis": {
           "automargin": true,
           "gridcolor": "white",
           "linecolor": "white",
           "ticks": "",
           "title": {
            "standoff": 15
           },
           "zerolinecolor": "white",
           "zerolinewidth": 2
          }
         }
        },
        "title": {
         "text": "3d TSNE Plot for Clusters"
        },
        "width": 900
       }
      }
     },
     "metadata": {},
     "output_type": "display_data"
    },
    {
     "data": {
      "application/vnd.plotly.v1+json": {
       "config": {
        "plotlyServerURL": "https://plot.ly"
       },
       "data": [
        {
         "alignmentgroup": "True",
         "bingroup": "x",
         "hovertemplate": "Cluster=%{x}<br>count=%{y}<extra></extra>",
         "legendgroup": "Cluster 0",
         "marker": {
          "color": "#636efa",
          "opacity": 0.7,
          "pattern": {
           "shape": ""
          }
         },
         "name": "Cluster 0",
         "offsetgroup": "Cluster 0",
         "orientation": "v",
         "showlegend": true,
         "type": "histogram",
         "x": [
          "Cluster 0",
          "Cluster 0",
          "Cluster 0",
          "Cluster 0",
          "Cluster 0",
          "Cluster 0",
          "Cluster 0",
          "Cluster 0",
          "Cluster 0",
          "Cluster 0",
          "Cluster 0",
          "Cluster 0",
          "Cluster 0",
          "Cluster 0",
          "Cluster 0",
          "Cluster 0",
          "Cluster 0",
          "Cluster 0",
          "Cluster 0",
          "Cluster 0",
          "Cluster 0",
          "Cluster 0",
          "Cluster 0",
          "Cluster 0",
          "Cluster 0",
          "Cluster 0",
          "Cluster 0",
          "Cluster 0",
          "Cluster 0",
          "Cluster 0",
          "Cluster 0",
          "Cluster 0",
          "Cluster 0",
          "Cluster 0",
          "Cluster 0",
          "Cluster 0",
          "Cluster 0",
          "Cluster 0",
          "Cluster 0",
          "Cluster 0",
          "Cluster 0",
          "Cluster 0",
          "Cluster 0",
          "Cluster 0",
          "Cluster 0",
          "Cluster 0",
          "Cluster 0",
          "Cluster 0",
          "Cluster 0",
          "Cluster 0",
          "Cluster 0",
          "Cluster 0",
          "Cluster 0",
          "Cluster 0",
          "Cluster 0",
          "Cluster 0",
          "Cluster 0",
          "Cluster 0",
          "Cluster 0",
          "Cluster 0",
          "Cluster 0",
          "Cluster 0",
          "Cluster 0",
          "Cluster 0",
          "Cluster 0",
          "Cluster 0",
          "Cluster 0",
          "Cluster 0",
          "Cluster 0",
          "Cluster 0"
         ],
         "xaxis": "x",
         "yaxis": "y"
        },
        {
         "alignmentgroup": "True",
         "customdata": [
          [
           26,
           126617,
           0.8770521283149719,
           2913.3681640625
          ],
          [
           28,
           123229,
           0.8733219504356384,
           610.4462280273438
          ],
          [
           20,
           122581,
           0.894080638885498,
           4444.44775390625
          ],
          [
           17,
           136255,
           0.9358761310577393,
           4126.2265625
          ],
          [
           24,
           120465,
           0.9074853658676147,
           4838.34814453125
          ],
          [
           24,
           129087,
           0.827117919921875,
           3290.82958984375
          ],
          [
           29,
           122264,
           0.8985788226127625,
           2494.55615234375
          ],
          [
           17,
           134734,
           0.8579216599464417,
           0
          ],
          [
           27,
           122671,
           0.9101071357727051,
           4206.287109375
          ],
          [
           93,
           126601,
           0.02517016977071762,
           14117.447265625
          ],
          [
           28,
           121216,
           0.8569692969322205,
           5349.0654296875
          ],
          [
           17,
           123828,
           0.9420129060745239,
           3798.84033203125
          ],
          [
           28,
           127699,
           0.8814245462417603,
           5490.81494140625
          ],
          [
           23,
           126500,
           0.8650328516960144,
           3270.150390625
          ],
          [
           28,
           123153,
           0.9842407703399658,
           3697.513671875
          ],
          [
           23,
           129937,
           0.8727356791496277,
           4102.0654296875
          ],
          [
           18,
           123718,
           0.8065528869628906,
           4420.44580078125
          ],
          [
           29,
           119366,
           0.3587713837623596,
           15012.8525390625
          ],
          [
           23,
           138443,
           0.9226565361022949,
           3297.058837890625
          ],
          [
           27,
           121468,
           0.920648992061615,
           5011.1123046875
          ],
          [
           24,
           136644,
           0.8716976642608643,
           1617.2257080078125
          ],
          [
           25,
           138021,
           0.9440171718597412,
           3005.577392578125
          ],
          [
           25,
           130934,
           0.9137660264968872,
           3942.38916015625
          ],
          [
           34,
           119877,
           0.30543699860572815,
           15634.7880859375
          ],
          [
           86,
           128378,
           0.1260834038257599,
           13585.7783203125
          ],
          [
           87,
           117564,
           0.12827959656715393,
           14000.2490234375
          ],
          [
           82,
           126257,
           0.07809619605541229,
           15816.1015625
          ],
          [
           24,
           127352,
           0.9054521322250366,
           2961.716796875
          ],
          [
           20,
           129469,
           0.9399954080581665,
           5522.5732421875
          ],
          [
           82,
           121642,
           0.054653190076351166,
           14177.513671875
          ],
          [
           22,
           120525,
           1,
           5495.16552734375
          ],
          [
           25,
           120957,
           0.8776734471321106,
           5590.447265625
          ],
          [
           28,
           117108,
           0.857078492641449,
           4749.87939453125
          ],
          [
           21,
           129726,
           0.951792299747467,
           4550.79931640625
          ],
          [
           88,
           123651,
           0.029027139768004417,
           13504.5771484375
          ],
          [
           26,
           125662,
           0.9268183708190918,
           6089.478515625
          ],
          [
           21,
           123678,
           0.8320252895355225,
           2838.81591796875
          ],
          [
           27,
           125008,
           0.9596453905105591,
           2963.6376953125
          ],
          [
           23,
           120226,
           0.8819129467010498,
           4698.294921875
          ],
          [
           31,
           122924,
           0.8904602527618408,
           3071.944580078125
          ],
          [
           24,
           130974,
           0.9118385910987854,
           4420.07275390625
          ],
          [
           77,
           128596,
           0.04082407057285309,
           14503.4111328125
          ],
          [
           86,
           124372,
           0,
           15374.4658203125
          ],
          [
           91,
           118794,
           0.019212065264582634,
           14047.388671875
          ],
          [
           83,
           119429,
           0.04215480014681816,
           15607.5615234375
          ],
          [
           24,
           134384,
           0.8747208118438721,
           3731.33984375
          ],
          [
           26,
           127320,
           0.8250297904014587,
           5495.64208984375
          ],
          [
           88,
           120678,
           0.06327284872531891,
           14264.4736328125
          ],
          [
           22,
           134209,
           0.8706979751586914,
           5138.109375
          ],
          [
           84,
           122696,
           0.08218683302402496,
           13809.734375
          ],
          [
           18,
           130813,
           0.8908912539482117,
           5256.4345703125
          ],
          [
           90,
           124170,
           0.030751314014196396,
           14773.4072265625
          ],
          [
           89,
           119697,
           0.09167920053005219,
           16215.3994140625
          ],
          [
           22,
           132948,
           0.8898001909255981,
           2839.786376953125
          ],
          [
           30,
           122788,
           0.8728724122047424,
           5706.1494140625
          ],
          [
           17,
           134966,
           0.9072421789169312,
           4128.044921875
          ],
          [
           26,
           131827,
           0.8807194828987122,
           4352.69921875
          ],
          [
           26,
           123005,
           0.9845262169837952,
           4371.23486328125
          ],
          [
           28,
           129019,
           0.9308319687843323,
           3016.820556640625
          ],
          [
           29,
           142000,
           0.9400873184204102,
           5349.8212890625
          ],
          [
           83,
           117943,
           0.07721324265003204,
           15391.9521484375
          ],
          [
           90,
           117668,
           0.0827227458357811,
           12554.6923828125
          ],
          [
           24,
           134389,
           0.9388521313667297,
           4573.6064453125
          ],
          [
           25,
           128625,
           0.8167389631271362,
           4914.1171875
          ],
          [
           85,
           118169,
           0.1231960579752922,
           14855.951171875
          ],
          [
           20,
           129142,
           0.8870519995689392,
           5603.12109375
          ],
          [
           25,
           131009,
           0.8640568852424622,
           4792.4267578125
          ],
          [
           25,
           130361,
           0.9254385828971863,
           4691.55224609375
          ],
          [
           29,
           131578,
           0.8470340967178345,
           3535.514404296875
          ],
          [
           92,
           122879,
           0.060724034905433655,
           13709.669921875
          ]
         ],
         "hovertemplate": "Cluster=%{x}<br>Age=%{customdata[0]}<br>Income=%{customdata[1]}<br>SpendingScore=%{customdata[2]}<br>Savings=%{customdata[3]}<extra></extra>",
         "legendgroup": "Cluster 0",
         "marker": {
          "color": "#636efa"
         },
         "name": "Cluster 0",
         "notched": true,
         "offsetgroup": "Cluster 0",
         "showlegend": false,
         "type": "box",
         "x": [
          "Cluster 0",
          "Cluster 0",
          "Cluster 0",
          "Cluster 0",
          "Cluster 0",
          "Cluster 0",
          "Cluster 0",
          "Cluster 0",
          "Cluster 0",
          "Cluster 0",
          "Cluster 0",
          "Cluster 0",
          "Cluster 0",
          "Cluster 0",
          "Cluster 0",
          "Cluster 0",
          "Cluster 0",
          "Cluster 0",
          "Cluster 0",
          "Cluster 0",
          "Cluster 0",
          "Cluster 0",
          "Cluster 0",
          "Cluster 0",
          "Cluster 0",
          "Cluster 0",
          "Cluster 0",
          "Cluster 0",
          "Cluster 0",
          "Cluster 0",
          "Cluster 0",
          "Cluster 0",
          "Cluster 0",
          "Cluster 0",
          "Cluster 0",
          "Cluster 0",
          "Cluster 0",
          "Cluster 0",
          "Cluster 0",
          "Cluster 0",
          "Cluster 0",
          "Cluster 0",
          "Cluster 0",
          "Cluster 0",
          "Cluster 0",
          "Cluster 0",
          "Cluster 0",
          "Cluster 0",
          "Cluster 0",
          "Cluster 0",
          "Cluster 0",
          "Cluster 0",
          "Cluster 0",
          "Cluster 0",
          "Cluster 0",
          "Cluster 0",
          "Cluster 0",
          "Cluster 0",
          "Cluster 0",
          "Cluster 0",
          "Cluster 0",
          "Cluster 0",
          "Cluster 0",
          "Cluster 0",
          "Cluster 0",
          "Cluster 0",
          "Cluster 0",
          "Cluster 0",
          "Cluster 0",
          "Cluster 0"
         ],
         "xaxis": "x2",
         "yaxis": "y2"
        },
        {
         "alignmentgroup": "True",
         "bingroup": "x",
         "hovertemplate": "Cluster=%{x}<br>count=%{y}<extra></extra>",
         "legendgroup": "Cluster 1",
         "marker": {
          "color": "#EF553B",
          "opacity": 0.7,
          "pattern": {
           "shape": ""
          }
         },
         "name": "Cluster 1",
         "offsetgroup": "Cluster 1",
         "orientation": "v",
         "showlegend": true,
         "type": "histogram",
         "x": [
          "Cluster 1",
          "Cluster 1",
          "Cluster 1",
          "Cluster 1",
          "Cluster 1",
          "Cluster 1",
          "Cluster 1",
          "Cluster 1",
          "Cluster 1",
          "Cluster 1",
          "Cluster 1",
          "Cluster 1",
          "Cluster 1",
          "Cluster 1",
          "Cluster 1",
          "Cluster 1",
          "Cluster 1",
          "Cluster 1",
          "Cluster 1",
          "Cluster 1",
          "Cluster 1",
          "Cluster 1",
          "Cluster 1",
          "Cluster 1",
          "Cluster 1",
          "Cluster 1",
          "Cluster 1",
          "Cluster 1",
          "Cluster 1",
          "Cluster 1",
          "Cluster 1",
          "Cluster 1",
          "Cluster 1",
          "Cluster 1",
          "Cluster 1",
          "Cluster 1",
          "Cluster 1",
          "Cluster 1",
          "Cluster 1",
          "Cluster 1",
          "Cluster 1",
          "Cluster 1",
          "Cluster 1",
          "Cluster 1",
          "Cluster 1",
          "Cluster 1",
          "Cluster 1",
          "Cluster 1",
          "Cluster 1",
          "Cluster 1",
          "Cluster 1",
          "Cluster 1",
          "Cluster 1",
          "Cluster 1",
          "Cluster 1",
          "Cluster 1",
          "Cluster 1",
          "Cluster 1",
          "Cluster 1",
          "Cluster 1",
          "Cluster 1",
          "Cluster 1",
          "Cluster 1",
          "Cluster 1",
          "Cluster 1",
          "Cluster 1",
          "Cluster 1",
          "Cluster 1",
          "Cluster 1",
          "Cluster 1",
          "Cluster 1",
          "Cluster 1",
          "Cluster 1",
          "Cluster 1",
          "Cluster 1",
          "Cluster 1",
          "Cluster 1",
          "Cluster 1",
          "Cluster 1",
          "Cluster 1",
          "Cluster 1",
          "Cluster 1",
          "Cluster 1",
          "Cluster 1",
          "Cluster 1",
          "Cluster 1",
          "Cluster 1",
          "Cluster 1",
          "Cluster 1",
          "Cluster 1",
          "Cluster 1",
          "Cluster 1",
          "Cluster 1",
          "Cluster 1",
          "Cluster 1",
          "Cluster 1",
          "Cluster 1",
          "Cluster 1",
          "Cluster 1",
          "Cluster 1",
          "Cluster 1",
          "Cluster 1",
          "Cluster 1",
          "Cluster 1",
          "Cluster 1",
          "Cluster 1",
          "Cluster 1",
          "Cluster 1",
          "Cluster 1",
          "Cluster 1",
          "Cluster 1",
          "Cluster 1",
          "Cluster 1",
          "Cluster 1",
          "Cluster 1",
          "Cluster 1",
          "Cluster 1",
          "Cluster 1",
          "Cluster 1",
          "Cluster 1",
          "Cluster 1",
          "Cluster 1",
          "Cluster 1",
          "Cluster 1",
          "Cluster 1",
          "Cluster 1",
          "Cluster 1",
          "Cluster 1",
          "Cluster 1",
          "Cluster 1",
          "Cluster 1",
          "Cluster 1",
          "Cluster 1",
          "Cluster 1",
          "Cluster 1",
          "Cluster 1",
          "Cluster 1",
          "Cluster 1",
          "Cluster 1",
          "Cluster 1",
          "Cluster 1",
          "Cluster 1",
          "Cluster 1",
          "Cluster 1",
          "Cluster 1",
          "Cluster 1",
          "Cluster 1"
         ],
         "xaxis": "x",
         "yaxis": "y"
        },
        {
         "alignmentgroup": "True",
         "customdata": [
          [
           88,
           27169,
           0.2800595164299011,
           15260.6357421875
          ],
          [
           90,
           30178,
           0.2823512852191925,
           16182.8388671875
          ],
          [
           86,
           18812,
           0.3415457606315613,
           16157.734375
          ],
          [
           85,
           30794,
           0.28622928261756897,
           17096.390625
          ],
          [
           91,
           26424,
           0.31938865780830383,
           16501.46875
          ],
          [
           86,
           28779,
           0.3365233242511749,
           16047.2685546875
          ],
          [
           91,
           30148,
           0.27738896012306213,
           15324.287109375
          ],
          [
           94,
           27771,
           0.30250322818756104,
           17303.95703125
          ],
          [
           88,
           28585,
           0.3977396786212921,
           16725.841796875
          ],
          [
           85,
           26355,
           0.3423406779766083,
           17971.193359375
          ],
          [
           83,
           26882,
           0.3479796350002289,
           17775.228515625
          ],
          [
           94,
           38923,
           0.33022600412368774,
           16971.181640625
          ],
          [
           91,
           28777,
           0.3241935670375824,
           17808.265625
          ],
          [
           86,
           35998,
           0.3216356337070465,
           20000
          ],
          [
           90,
           25733,
           0.3385629653930664,
           17631.568359375
          ],
          [
           88,
           22602,
           0.35674482583999634,
           16740.34375
          ],
          [
           92,
           32915,
           0.3885749280452728,
           16694.70703125
          ],
          [
           85,
           28401,
           0.3694371283054352,
           15990.494140625
          ],
          [
           83,
           18162,
           0.3013734519481659,
           16029.46875
          ],
          [
           91,
           27168,
           0.3322388231754303,
           15893.7294921875
          ],
          [
           94,
           27169,
           0.31417304277420044,
           15061.7763671875
          ],
          [
           83,
           28497,
           0.3938024044036865,
           15510.11328125
          ],
          [
           94,
           20719,
           0.3364022672176361,
           16281.83203125
          ],
          [
           88,
           17946,
           0.269643634557724,
           16715.16015625
          ],
          [
           89,
           31096,
           0.27858784794807434,
           17736.943359375
          ],
          [
           89,
           25252,
           0.3217652142047882,
           16539.36328125
          ],
          [
           83,
           30492,
           0.30163148045539856,
           15365.8583984375
          ],
          [
           87,
           25566,
           0.3167603611946106,
           15188.05859375
          ],
          [
           91,
           29750,
           0.2884703278541565,
           19201.119140625
          ],
          [
           85,
           34802,
           0.2987969219684601,
           16450.00390625
          ],
          [
           88,
           17388,
           0.466189444065094,
           16698.62109375
          ],
          [
           88,
           32708,
           0.36821532249450684,
           16711.068359375
          ],
          [
           84,
           27384,
           0.31364670395851135,
           16734.671875
          ],
          [
           92,
           35877,
           0.3668917119503021,
           17287.90625
          ],
          [
           84,
           38042,
           0.36608585715293884,
           17465.85546875
          ],
          [
           88,
           19510,
           0.31675103306770325,
           16529.201171875
          ],
          [
           89,
           26127,
           0.3044743835926056,
           17194.828125
          ],
          [
           86,
           46977,
           0.2827284038066864,
           15628.95703125
          ],
          [
           85,
           27599,
           0.2819950580596924,
           13470.970703125
          ],
          [
           87,
           25701,
           0.31522056460380554,
           15738.859375
          ],
          [
           87,
           30178,
           0.2793159782886505,
           16123.0703125
          ],
          [
           89,
           19202,
           0.3819877505302429,
           16626.22265625
          ],
          [
           86,
           31994,
           0.24947693943977356,
           18210.087890625
          ],
          [
           91,
           12038,
           0.34980326890945435,
           16464.9609375
          ],
          [
           88,
           35051,
           0.3860515058040619,
           17593.24609375
          ],
          [
           89,
           33311,
           0.37614697217941284,
           17093.0703125
          ],
          [
           88,
           26351,
           0.3041681945323944,
           14035.91796875
          ],
          [
           85,
           21250,
           0.31041011214256287,
           16033.970703125
          ],
          [
           87,
           12000,
           0.3429909944534302,
           16180.265625
          ],
          [
           91,
           36639,
           0.32619887590408325,
           16275.703125
          ],
          [
           85,
           29204,
           0.32549145817756653,
           16918.904296875
          ],
          [
           90,
           22288,
           0.27132683992385864,
           18434.099609375
          ],
          [
           87,
           30812,
           0.31446313858032227,
           15238.119140625
          ],
          [
           91,
           25237,
           0.3535018265247345,
           17292.732421875
          ],
          [
           95,
           27038,
           0.33135199546813965,
           18126.578125
          ],
          [
           84,
           27544,
           0.2309337705373764,
           18207.361328125
          ],
          [
           87,
           18459,
           0.2645499110221863,
           15637.59765625
          ],
          [
           87,
           46910,
           0.3085617125034332,
           14789.1484375
          ],
          [
           94,
           18937,
           0.3470950722694397,
           17739.775390625
          ],
          [
           82,
           33610,
           0.30125322937965393,
           17755.6640625
          ],
          [
           91,
           16950,
           0.3230040371417999,
           17172.609375
          ],
          [
           93,
           20440,
           0.2975730299949646,
           17406.07421875
          ],
          [
           82,
           32494,
           0.32731539011001587,
           16799.443359375
          ],
          [
           92,
           22484,
           0.3317732512950897,
           18615.6328125
          ],
          [
           89,
           20292,
           0.31214818358421326,
           16023.4453125
          ],
          [
           84,
           27179,
           0.34742340445518494,
           15612.62890625
          ],
          [
           87,
           24578,
           0.3761654496192932,
           17789.248046875
          ],
          [
           90,
           33490,
           0.4199085235595703,
           17091.904296875
          ],
          [
           91,
           20681,
           0.3546791672706604,
           18401.087890625
          ],
          [
           81,
           34425,
           0.27260977029800415,
           16262.6240234375
          ],
          [
           93,
           17672,
           0.3032923638820648,
           18516.451171875
          ],
          [
           89,
           26940,
           0.32600513100624084,
           16555.16015625
          ],
          [
           88,
           33251,
           0.30439135432243347,
           18868.2421875
          ],
          [
           85,
           29610,
           0.31813523173332214,
           18475.48828125
          ],
          [
           82,
           24221,
           0.47354966402053833,
           16251.759765625
          ],
          [
           89,
           30267,
           0.2893100678920746,
           14386.3515625
          ],
          [
           94,
           23854,
           0.31444668769836426,
           16828.41015625
          ],
          [
           88,
           31366,
           0.37962085008621216,
           16079.623046875
          ],
          [
           91,
           26917,
           0.3767135441303253,
           17986.619140625
          ],
          [
           84,
           30481,
           0.39702290296554565,
           16837.205078125
          ],
          [
           90,
           24376,
           0.28127944469451904,
           15134.994140625
          ],
          [
           88,
           17851,
           0.28986597061157227,
           17472.470703125
          ],
          [
           90,
           22782,
           0.35630688071250916,
           15924.0712890625
          ],
          [
           84,
           24105,
           0.27180901169776917,
           16524.90234375
          ],
          [
           91,
           28165,
           0.30369293689727783,
           17460.1796875
          ],
          [
           94,
           28352,
           0.37687572836875916,
           16798.88671875
          ],
          [
           92,
           18724,
           0.32786232233047485,
           15341.380859375
          ],
          [
           89,
           22008,
           0.38190606236457825,
           16458.3984375
          ],
          [
           86,
           15695,
           0.2571749687194824,
           17366.185546875
          ],
          [
           91,
           22672,
           0.27106451988220215,
           15407.646484375
          ],
          [
           97,
           27271,
           0.28392288088798523,
           14928.166015625
          ],
          [
           90,
           37503,
           0.3577883243560791,
           17258.57421875
          ],
          [
           87,
           15671,
           0.35072508454322815,
           14326.6015625
          ],
          [
           92,
           35484,
           0.39706361293792725,
           17324.044921875
          ],
          [
           87,
           26045,
           0.3752921223640442,
           15903.55859375
          ],
          [
           83,
           33170,
           0.2410777509212494,
           16620.009765625
          ],
          [
           92,
           22616,
           0.32285067439079285,
           17275.662109375
          ],
          [
           90,
           33188,
           0.2488100677728653,
           15866.9140625
          ],
          [
           86,
           27705,
           0.3293769657611847,
           17130.85546875
          ],
          [
           87,
           23322,
           0.30682119727134705,
           16131.267578125
          ],
          [
           91,
           25886,
           0.3017537593841553,
           17266.044921875
          ],
          [
           88,
           33303,
           0.39971569180488586,
           15232.59765625
          ],
          [
           79,
           38201,
           0.3697828948497772,
           16393.396484375
          ],
          [
           83,
           34529,
           0.3172075152397156,
           16517.208984375
          ],
          [
           91,
           36991,
           0.26859790086746216,
           19047.771484375
          ],
          [
           84,
           20704,
           0.379496306180954,
           16816.912109375
          ],
          [
           86,
           23400,
           0.27803555130958557,
           15215.28125
          ],
          [
           85,
           21652,
           0.31845614314079285,
           14175.169921875
          ],
          [
           87,
           26665,
           0.402145653963089,
           17376.9140625
          ],
          [
           83,
           28727,
           0.30826303362846375,
           18205.3359375
          ],
          [
           83,
           30721,
           0.33114179968833923,
           17705.9921875
          ],
          [
           84,
           36463,
           0.3536209464073181,
           16563.373046875
          ],
          [
           89,
           24520,
           0.4438326954841614,
           13556.935546875
          ],
          [
           87,
           42592,
           0.35528966784477234,
           18086.287109375
          ],
          [
           91,
           29082,
           0.28248852491378784,
           18794.48828125
          ],
          [
           87,
           23042,
           0.3663119971752167,
           18149.03515625
          ],
          [
           87,
           30102,
           0.3903906047344208,
           16330.0810546875
          ],
          [
           91,
           30756,
           0.30369803309440613,
           15492.0048828125
          ],
          [
           87,
           17760,
           0.34877756237983704,
           16869.5078125
          ],
          [
           89,
           34524,
           0.34811827540397644,
           14051.2568359375
          ],
          [
           88,
           28409,
           0.30565354228019714,
           17326.17578125
          ],
          [
           93,
           19934,
           0.2031402438879013,
           17969.693359375
          ],
          [
           84,
           22286,
           0.39550623297691345,
           17886.537109375
          ],
          [
           92,
           33550,
           0.36851564049720764,
           17106.326171875
          ],
          [
           85,
           28408,
           0.3580738604068756,
           15063.3359375
          ],
          [
           85,
           34634,
           0.3690001666545868,
           16719.81640625
          ],
          [
           90,
           35297,
           0.3551490306854248,
           16091.40234375
          ],
          [
           86,
           36031,
           0.24017663300037384,
           16945.326171875
          ],
          [
           90,
           29029,
           0.30375897884368896,
           15592.9912109375
          ],
          [
           88,
           28802,
           0.40838783979415894,
           16293.0380859375
          ],
          [
           83,
           34384,
           0.3247186839580536,
           14783.37890625
          ],
          [
           84,
           27693,
           0.3670629858970642,
           17879.55859375
          ],
          [
           82,
           24391,
           0.27610135078430176,
           17053.029296875
          ],
          [
           82,
           33636,
           0.37178298830986023,
           17866.833984375
          ],
          [
           79,
           32421,
           0.3032762110233307,
           15319.4677734375
          ],
          [
           87,
           31481,
           0.3174239695072174,
           16180.6884765625
          ],
          [
           90,
           33259,
           0.3775710463523865,
           15315.0283203125
          ],
          [
           91,
           24370,
           0.2963285744190216,
           16141.048828125
          ],
          [
           88,
           34001,
           0.33756932616233826,
           15530.9345703125
          ],
          [
           83,
           23206,
           0.3212403655052185,
           16870.671875
          ],
          [
           87,
           29909,
           0.3421516418457031,
           18142.232421875
          ],
          [
           84,
           29492,
           0.3336031436920166,
           17954.095703125
          ],
          [
           89,
           28160,
           0.33884885907173157,
           15607.0615234375
          ],
          [
           84,
           18244,
           0.2926633656024933,
           17815.34765625
          ],
          [
           88,
           26092,
           0.3128732144832611,
           17105.79296875
          ],
          [
           84,
           42018,
           0.29799360036849976,
           16148.3701171875
          ],
          [
           92,
           36032,
           0.3369683027267456,
           17348.599609375
          ]
         ],
         "hovertemplate": "Cluster=%{x}<br>Age=%{customdata[0]}<br>Income=%{customdata[1]}<br>SpendingScore=%{customdata[2]}<br>Savings=%{customdata[3]}<extra></extra>",
         "legendgroup": "Cluster 1",
         "marker": {
          "color": "#EF553B"
         },
         "name": "Cluster 1",
         "notched": true,
         "offsetgroup": "Cluster 1",
         "showlegend": false,
         "type": "box",
         "x": [
          "Cluster 1",
          "Cluster 1",
          "Cluster 1",
          "Cluster 1",
          "Cluster 1",
          "Cluster 1",
          "Cluster 1",
          "Cluster 1",
          "Cluster 1",
          "Cluster 1",
          "Cluster 1",
          "Cluster 1",
          "Cluster 1",
          "Cluster 1",
          "Cluster 1",
          "Cluster 1",
          "Cluster 1",
          "Cluster 1",
          "Cluster 1",
          "Cluster 1",
          "Cluster 1",
          "Cluster 1",
          "Cluster 1",
          "Cluster 1",
          "Cluster 1",
          "Cluster 1",
          "Cluster 1",
          "Cluster 1",
          "Cluster 1",
          "Cluster 1",
          "Cluster 1",
          "Cluster 1",
          "Cluster 1",
          "Cluster 1",
          "Cluster 1",
          "Cluster 1",
          "Cluster 1",
          "Cluster 1",
          "Cluster 1",
          "Cluster 1",
          "Cluster 1",
          "Cluster 1",
          "Cluster 1",
          "Cluster 1",
          "Cluster 1",
          "Cluster 1",
          "Cluster 1",
          "Cluster 1",
          "Cluster 1",
          "Cluster 1",
          "Cluster 1",
          "Cluster 1",
          "Cluster 1",
          "Cluster 1",
          "Cluster 1",
          "Cluster 1",
          "Cluster 1",
          "Cluster 1",
          "Cluster 1",
          "Cluster 1",
          "Cluster 1",
          "Cluster 1",
          "Cluster 1",
          "Cluster 1",
          "Cluster 1",
          "Cluster 1",
          "Cluster 1",
          "Cluster 1",
          "Cluster 1",
          "Cluster 1",
          "Cluster 1",
          "Cluster 1",
          "Cluster 1",
          "Cluster 1",
          "Cluster 1",
          "Cluster 1",
          "Cluster 1",
          "Cluster 1",
          "Cluster 1",
          "Cluster 1",
          "Cluster 1",
          "Cluster 1",
          "Cluster 1",
          "Cluster 1",
          "Cluster 1",
          "Cluster 1",
          "Cluster 1",
          "Cluster 1",
          "Cluster 1",
          "Cluster 1",
          "Cluster 1",
          "Cluster 1",
          "Cluster 1",
          "Cluster 1",
          "Cluster 1",
          "Cluster 1",
          "Cluster 1",
          "Cluster 1",
          "Cluster 1",
          "Cluster 1",
          "Cluster 1",
          "Cluster 1",
          "Cluster 1",
          "Cluster 1",
          "Cluster 1",
          "Cluster 1",
          "Cluster 1",
          "Cluster 1",
          "Cluster 1",
          "Cluster 1",
          "Cluster 1",
          "Cluster 1",
          "Cluster 1",
          "Cluster 1",
          "Cluster 1",
          "Cluster 1",
          "Cluster 1",
          "Cluster 1",
          "Cluster 1",
          "Cluster 1",
          "Cluster 1",
          "Cluster 1",
          "Cluster 1",
          "Cluster 1",
          "Cluster 1",
          "Cluster 1",
          "Cluster 1",
          "Cluster 1",
          "Cluster 1",
          "Cluster 1",
          "Cluster 1",
          "Cluster 1",
          "Cluster 1",
          "Cluster 1",
          "Cluster 1",
          "Cluster 1",
          "Cluster 1",
          "Cluster 1",
          "Cluster 1",
          "Cluster 1",
          "Cluster 1",
          "Cluster 1",
          "Cluster 1",
          "Cluster 1",
          "Cluster 1",
          "Cluster 1",
          "Cluster 1"
         ],
         "xaxis": "x2",
         "yaxis": "y2"
        },
        {
         "alignmentgroup": "True",
         "bingroup": "x",
         "hovertemplate": "Cluster=%{x}<br>count=%{y}<extra></extra>",
         "legendgroup": "Cluster 2",
         "marker": {
          "color": "#00cc96",
          "opacity": 0.7,
          "pattern": {
           "shape": ""
          }
         },
         "name": "Cluster 2",
         "offsetgroup": "Cluster 2",
         "orientation": "v",
         "showlegend": true,
         "type": "histogram",
         "x": [
          "Cluster 2",
          "Cluster 2",
          "Cluster 2",
          "Cluster 2",
          "Cluster 2",
          "Cluster 2",
          "Cluster 2",
          "Cluster 2",
          "Cluster 2",
          "Cluster 2",
          "Cluster 2",
          "Cluster 2",
          "Cluster 2",
          "Cluster 2",
          "Cluster 2",
          "Cluster 2",
          "Cluster 2",
          "Cluster 2",
          "Cluster 2",
          "Cluster 2",
          "Cluster 2",
          "Cluster 2",
          "Cluster 2",
          "Cluster 2",
          "Cluster 2",
          "Cluster 2",
          "Cluster 2",
          "Cluster 2",
          "Cluster 2",
          "Cluster 2",
          "Cluster 2",
          "Cluster 2",
          "Cluster 2",
          "Cluster 2",
          "Cluster 2",
          "Cluster 2",
          "Cluster 2",
          "Cluster 2",
          "Cluster 2",
          "Cluster 2",
          "Cluster 2",
          "Cluster 2",
          "Cluster 2",
          "Cluster 2",
          "Cluster 2",
          "Cluster 2",
          "Cluster 2",
          "Cluster 2",
          "Cluster 2",
          "Cluster 2",
          "Cluster 2",
          "Cluster 2",
          "Cluster 2",
          "Cluster 2",
          "Cluster 2",
          "Cluster 2",
          "Cluster 2",
          "Cluster 2",
          "Cluster 2",
          "Cluster 2",
          "Cluster 2",
          "Cluster 2",
          "Cluster 2",
          "Cluster 2",
          "Cluster 2",
          "Cluster 2",
          "Cluster 2",
          "Cluster 2",
          "Cluster 2",
          "Cluster 2",
          "Cluster 2",
          "Cluster 2",
          "Cluster 2",
          "Cluster 2",
          "Cluster 2",
          "Cluster 2",
          "Cluster 2",
          "Cluster 2",
          "Cluster 2",
          "Cluster 2",
          "Cluster 2",
          "Cluster 2",
          "Cluster 2",
          "Cluster 2",
          "Cluster 2",
          "Cluster 2",
          "Cluster 2",
          "Cluster 2",
          "Cluster 2",
          "Cluster 2",
          "Cluster 2",
          "Cluster 2",
          "Cluster 2",
          "Cluster 2",
          "Cluster 2",
          "Cluster 2",
          "Cluster 2",
          "Cluster 2",
          "Cluster 2",
          "Cluster 2",
          "Cluster 2",
          "Cluster 2",
          "Cluster 2",
          "Cluster 2",
          "Cluster 2",
          "Cluster 2",
          "Cluster 2",
          "Cluster 2",
          "Cluster 2",
          "Cluster 2",
          "Cluster 2",
          "Cluster 2",
          "Cluster 2",
          "Cluster 2",
          "Cluster 2",
          "Cluster 2",
          "Cluster 2",
          "Cluster 2",
          "Cluster 2",
          "Cluster 2",
          "Cluster 2",
          "Cluster 2",
          "Cluster 2",
          "Cluster 2",
          "Cluster 2",
          "Cluster 2",
          "Cluster 2",
          "Cluster 2",
          "Cluster 2",
          "Cluster 2",
          "Cluster 2",
          "Cluster 2",
          "Cluster 2",
          "Cluster 2",
          "Cluster 2",
          "Cluster 2",
          "Cluster 2",
          "Cluster 2",
          "Cluster 2",
          "Cluster 2",
          "Cluster 2",
          "Cluster 2",
          "Cluster 2",
          "Cluster 2",
          "Cluster 2",
          "Cluster 2",
          "Cluster 2",
          "Cluster 2",
          "Cluster 2",
          "Cluster 2",
          "Cluster 2",
          "Cluster 2",
          "Cluster 2",
          "Cluster 2",
          "Cluster 2",
          "Cluster 2"
         ],
         "xaxis": "x",
         "yaxis": "y"
        },
        {
         "alignmentgroup": "True",
         "customdata": [
          [
           65,
           70430,
           0.6969942450523376,
           6971.1650390625
          ],
          [
           61,
           65647,
           0.7174899578094482,
           7497.2314453125
          ],
          [
           58,
           76052,
           0.7215881943702698,
           6681.984375
          ],
          [
           59,
           69408,
           0.8799059987068176,
           6491.77099609375
          ],
          [
           65,
           71229,
           0.7878897786140442,
           9024.337890625
          ],
          [
           61,
           72060,
           0.8334590196609497,
           7924.64111328125
          ],
          [
           56,
           75599,
           0.7737370729446411,
           6799.62548828125
          ],
          [
           62,
           67731,
           0.8191699385643005,
           5956.5556640625
          ],
          [
           58,
           70369,
           0.9045205116271973,
           7461.5673828125
          ],
          [
           61,
           74282,
           0.6922364830970764,
           7286.7548828125
          ],
          [
           66,
           77052,
           0.7072624564170837,
           6296.41748046875
          ],
          [
           59,
           67401,
           0.7114339470863342,
           6529.58642578125
          ],
          [
           59,
           56321,
           0.8065659403800964,
           6129.2890625
          ],
          [
           56,
           78992,
           0.8122757077217102,
           7285.1806640625
          ],
          [
           59,
           77978,
           0.7188951969146729,
           8316.3115234375
          ],
          [
           60,
           70054,
           0.7143393754959106,
           6609.91845703125
          ],
          [
           62,
           73675,
           0.796619176864624,
           4688.6572265625
          ],
          [
           63,
           67370,
           0.899940550327301,
           5985.0771484375
          ],
          [
           51,
           72086,
           0.7911147475242615,
           6732.09619140625
          ],
          [
           56,
           80431,
           0.7594316005706787,
           8150.5576171875
          ],
          [
           55,
           64768,
           0.7332568764686584,
           6486.35400390625
          ],
          [
           58,
           78611,
           0.9104166626930237,
           7665.88427734375
          ],
          [
           59,
           82199,
           0.8035144805908203,
           5880.81494140625
          ],
          [
           68,
           68944,
           0.7455674409866333,
           6828.70947265625
          ],
          [
           58,
           80248,
           0.724955677986145,
           7641.16015625
          ],
          [
           61,
           68842,
           0.7544065713882446,
           4077.65869140625
          ],
          [
           55,
           76831,
           0.7421137094497681,
           7806.39892578125
          ],
          [
           58,
           69247,
           0.7237212061882019,
           8715.6796875
          ],
          [
           67,
           78702,
           0.7632736563682556,
           5030.36474609375
          ],
          [
           56,
           73516,
           0.806499183177948,
           7696.83251953125
          ],
          [
           57,
           79794,
           0.8224083781242371,
           5893.97509765625
          ],
          [
           67,
           80914,
           0.8196642398834229,
           6833.50732421875
          ],
          [
           59,
           73596,
           0.8567042350769043,
           8281.71875
          ],
          [
           60,
           65942,
           0.8005783557891846,
           5253.26513671875
          ],
          [
           57,
           72055,
           0.7549723386764526,
           6544.84765625
          ],
          [
           61,
           78837,
           0.7459489703178406,
           6811.30322265625
          ],
          [
           60,
           74460,
           0.7545393109321594,
           7567.6474609375
          ],
          [
           64,
           62886,
           0.7480162978172302,
           8302.5888671875
          ],
          [
           62,
           69326,
           0.7980123162269592,
           7003.095703125
          ],
          [
           58,
           70676,
           0.7640283703804016,
           7664.41552734375
          ],
          [
           59,
           69115,
           0.759883463382721,
           5997.6904296875
          ],
          [
           63,
           70580,
           0.7665090560913086,
           7262.10888671875
          ],
          [
           61,
           72027,
           0.7623249292373657,
           6926.12353515625
          ],
          [
           59,
           80876,
           0.6573140621185303,
           7232.8251953125
          ],
          [
           59,
           73057,
           0.8302949070930481,
           7819.39306640625
          ],
          [
           56,
           65313,
           0.7546030282974243,
           5574.24365234375
          ],
          [
           60,
           63476,
           0.7519000172615051,
           7543.54296875
          ],
          [
           57,
           64803,
           0.7285849452018738,
           6255.552734375
          ],
          [
           61,
           67372,
           0.7340673208236694,
           6618.54931640625
          ],
          [
           63,
           82343,
           0.732318639755249,
           8090.70654296875
          ],
          [
           58,
           78078,
           0.7837795615196228,
           6483.0498046875
          ],
          [
           59,
           67346,
           0.7251569032669067,
           8857.8486328125
          ],
          [
           59,
           73350,
           0.6797735691070557,
           6710.57421875
          ],
          [
           61,
           65914,
           0.7781022191047668,
           6406.876953125
          ],
          [
           67,
           68663,
           0.7738336324691772,
           7451.994140625
          ],
          [
           65,
           74430,
           0.7517741322517395,
           7145.2509765625
          ],
          [
           59,
           68038,
           0.8014869689941406,
           7719.28369140625
          ],
          [
           59,
           75495,
           0.7945029139518738,
           6702.9521484375
          ],
          [
           58,
           77769,
           0.7913287878036499,
           6559.830078125
          ],
          [
           61,
           73495,
           0.7727562785148621,
           9288.189453125
          ],
          [
           62,
           73480,
           0.7391949892044067,
           6277.67529296875
          ],
          [
           66,
           72571,
           0.8115483522415161,
           6509.41162109375
          ],
          [
           57,
           76594,
           0.7906578779220581,
           6584.65478515625
          ],
          [
           66,
           64866,
           0.7665941715240479,
           5037.89892578125
          ],
          [
           63,
           72815,
           0.820035994052887,
           5504.3857421875
          ],
          [
           64,
           71692,
           0.8426521420478821,
           7002.9765625
          ],
          [
           62,
           63596,
           0.7453271746635437,
           6142.20166015625
          ],
          [
           62,
           62650,
           0.7665723562240601,
           7533.673828125
          ],
          [
           60,
           71436,
           0.8320590853691101,
           8557.8603515625
          ],
          [
           65,
           65736,
           0.7785687446594238,
           6387.2197265625
          ],
          [
           60,
           70663,
           0.715339720249176,
           7557.9375
          ],
          [
           63,
           80705,
           0.7626699805259705,
           5154.33056640625
          ],
          [
           56,
           84386,
           0.7849450707435608,
           7270.41943359375
          ],
          [
           58,
           75757,
           0.8097944259643555,
           7390.5771484375
          ],
          [
           62,
           71050,
           0.735356867313385,
           6988.197265625
          ],
          [
           56,
           68698,
           0.7162678241729736,
           7070.966796875
          ],
          [
           59,
           67781,
           0.7225483655929565,
           6701.52783203125
          ],
          [
           58,
           78635,
           0.7864400744438171,
           7162.7392578125
          ],
          [
           63,
           69849,
           0.7403870820999146,
           7670.69091796875
          ],
          [
           64,
           86283,
           0.7568019032478333,
           6852.5546875
          ],
          [
           62,
           69391,
           0.7921059727668762,
           6518.28369140625
          ],
          [
           60,
           65054,
           0.7086131572723389,
           5417.2373046875
          ],
          [
           62,
           78413,
           0.7907090783119202,
           6961.2041015625
          ],
          [
           58,
           69879,
           0.7209987044334412,
           6669.03369140625
          ],
          [
           56,
           68463,
           0.8157116770744324,
           8995.1796875
          ],
          [
           62,
           68279,
           0.7196850776672363,
           7028.67529296875
          ],
          [
           64,
           76364,
           0.6993887424468994,
           5772.1171875
          ],
          [
           66,
           82526,
           0.7696800827980042,
           6205.66259765625
          ],
          [
           59,
           67988,
           0.8114706873893738,
           7255.9033203125
          ],
          [
           62,
           80093,
           0.6909167766571045,
           6756.7490234375
          ],
          [
           65,
           66017,
           0.7861892580986023,
           6159.6630859375
          ],
          [
           61,
           69698,
           0.7416839599609375,
           8777.0771484375
          ],
          [
           62,
           67030,
           0.7467384338378906,
           6740.76513671875
          ],
          [
           60,
           79969,
           0.8121049404144287,
           4879.3349609375
          ],
          [
           63,
           85761,
           0.8005979061126709,
           7175.09033203125
          ],
          [
           59,
           81799,
           0.7910820245742798,
           5417.66162109375
          ],
          [
           62,
           74751,
           0.7026569247245789,
           9258.9931640625
          ],
          [
           59,
           74373,
           0.7656795382499695,
           7346.33447265625
          ],
          [
           54,
           76500,
           0.7851978540420532,
           6878.88427734375
          ],
          [
           61,
           71933,
           0.8441067934036255,
           8022.20849609375
          ],
          [
           55,
           71621,
           0.7533426880836487,
           7780.58984375
          ],
          [
           53,
           76667,
           0.7600576281547546,
           5168.2255859375
          ],
          [
           55,
           78761,
           0.827174186706543,
           8376.7490234375
          ],
          [
           61,
           76955,
           0.7771175503730774,
           7467.03662109375
          ],
          [
           59,
           65700,
           0.811471164226532,
           6932.48779296875
          ],
          [
           59,
           69738,
           0.7421121001243591,
           7151.65087890625
          ],
          [
           56,
           63866,
           0.7618879675865173,
           7762.2548828125
          ],
          [
           61,
           74117,
           0.7702140808105469,
           5103.609375
          ],
          [
           61,
           63846,
           0.8278622627258301,
           7283.5048828125
          ],
          [
           60,
           70012,
           0.7944610714912415,
           7263.24267578125
          ],
          [
           57,
           75332,
           0.721502423286438,
           6845.056640625
          ],
          [
           61,
           73245,
           0.8111603856086731,
           7413.78466796875
          ],
          [
           56,
           86484,
           0.7321233749389648,
           8777.49609375
          ],
          [
           58,
           70798,
           0.7535284161567688,
           5330.73974609375
          ],
          [
           64,
           88361,
           0.7745562195777893,
           7240.759765625
          ],
          [
           59,
           74576,
           0.7812961339950562,
           10547.775390625
          ],
          [
           58,
           77101,
           0.7667195796966553,
           8148.49169921875
          ],
          [
           59,
           72588,
           0.8017156720161438,
           6300.84375
          ],
          [
           58,
           70259,
           0.7697129249572754,
           7101.67431640625
          ],
          [
           57,
           79470,
           0.7734352946281433,
           6773.04931640625
          ],
          [
           55,
           71056,
           0.7565897107124329,
           7464.1630859375
          ],
          [
           62,
           69741,
           0.8462195992469788,
           5781.658203125
          ],
          [
           64,
           60493,
           0.768056333065033,
           7708.11279296875
          ],
          [
           61,
           69001,
           0.821668803691864,
           5074.12109375
          ],
          [
           53,
           62117,
           0.7331388592720032,
           7500.45263671875
          ],
          [
           55,
           74356,
           0.799826979637146,
           6484.630859375
          ],
          [
           58,
           74340,
           0.7351650595664978,
           7259.541015625
          ],
          [
           59,
           71302,
           0.7020090222358704,
           6595.72607421875
          ],
          [
           57,
           74014,
           0.7873780727386475,
           5783.84716796875
          ],
          [
           53,
           74996,
           0.7387310862541199,
           7821.44775390625
          ],
          [
           61,
           71171,
           0.721080482006073,
           6457.79052734375
          ],
          [
           56,
           60059,
           0.7275840044021606,
           7166.8583984375
          ],
          [
           60,
           65340,
           0.7316485047340393,
           8354.1962890625
          ],
          [
           58,
           80278,
           0.8233590126037598,
           6335.978515625
          ],
          [
           68,
           77648,
           0.7965446710586548,
           6190.8642578125
          ],
          [
           59,
           69460,
           0.7527238130569458,
           6101.3720703125
          ],
          [
           64,
           78801,
           0.7403674721717834,
           6420.94384765625
          ],
          [
           64,
           76410,
           0.7756041884422302,
           6135.30810546875
          ],
          [
           64,
           64331,
           0.7571277618408203,
           5815.66015625
          ],
          [
           62,
           62747,
           0.7705945372581482,
           5852.326171875
          ],
          [
           66,
           71672,
           0.7538892030715942,
           7387.83544921875
          ],
          [
           59,
           75505,
           0.7682786583900452,
           5006.52880859375
          ],
          [
           57,
           65608,
           0.7662312984466553,
           6904.318359375
          ],
          [
           61,
           71033,
           0.8380950689315796,
           9456.876953125
          ],
          [
           67,
           59243,
           0.7436599731445312,
           5446.5576171875
          ],
          [
           58,
           70272,
           0.8229596018791199,
           5290.0869140625
          ],
          [
           63,
           75078,
           0.7831591367721558,
           7468.85107421875
          ],
          [
           63,
           56875,
           0.7622805833816528,
           7837.2333984375
          ],
          [
           56,
           67274,
           0.7798516750335693,
           6652.39111328125
          ],
          [
           55,
           73895,
           0.7471254467964172,
           5563.90673828125
          ],
          [
           57,
           69655,
           0.6748906970024109,
           5889.8310546875
          ],
          [
           57,
           76573,
           0.8405990600585938,
           6225.3759765625
          ],
          [
           55,
           76057,
           0.8778280019760132,
           6132.8984375
          ],
          [
           60,
           67491,
           0.8466184735298157,
           7180.7138671875
          ],
          [
           58,
           83351,
           0.8406978249549866,
           6673.90966796875
          ],
          [
           58,
           77559,
           0.7122963666915894,
           5742.5244140625
          ]
         ],
         "hovertemplate": "Cluster=%{x}<br>Age=%{customdata[0]}<br>Income=%{customdata[1]}<br>SpendingScore=%{customdata[2]}<br>Savings=%{customdata[3]}<extra></extra>",
         "legendgroup": "Cluster 2",
         "marker": {
          "color": "#00cc96"
         },
         "name": "Cluster 2",
         "notched": true,
         "offsetgroup": "Cluster 2",
         "showlegend": false,
         "type": "box",
         "x": [
          "Cluster 2",
          "Cluster 2",
          "Cluster 2",
          "Cluster 2",
          "Cluster 2",
          "Cluster 2",
          "Cluster 2",
          "Cluster 2",
          "Cluster 2",
          "Cluster 2",
          "Cluster 2",
          "Cluster 2",
          "Cluster 2",
          "Cluster 2",
          "Cluster 2",
          "Cluster 2",
          "Cluster 2",
          "Cluster 2",
          "Cluster 2",
          "Cluster 2",
          "Cluster 2",
          "Cluster 2",
          "Cluster 2",
          "Cluster 2",
          "Cluster 2",
          "Cluster 2",
          "Cluster 2",
          "Cluster 2",
          "Cluster 2",
          "Cluster 2",
          "Cluster 2",
          "Cluster 2",
          "Cluster 2",
          "Cluster 2",
          "Cluster 2",
          "Cluster 2",
          "Cluster 2",
          "Cluster 2",
          "Cluster 2",
          "Cluster 2",
          "Cluster 2",
          "Cluster 2",
          "Cluster 2",
          "Cluster 2",
          "Cluster 2",
          "Cluster 2",
          "Cluster 2",
          "Cluster 2",
          "Cluster 2",
          "Cluster 2",
          "Cluster 2",
          "Cluster 2",
          "Cluster 2",
          "Cluster 2",
          "Cluster 2",
          "Cluster 2",
          "Cluster 2",
          "Cluster 2",
          "Cluster 2",
          "Cluster 2",
          "Cluster 2",
          "Cluster 2",
          "Cluster 2",
          "Cluster 2",
          "Cluster 2",
          "Cluster 2",
          "Cluster 2",
          "Cluster 2",
          "Cluster 2",
          "Cluster 2",
          "Cluster 2",
          "Cluster 2",
          "Cluster 2",
          "Cluster 2",
          "Cluster 2",
          "Cluster 2",
          "Cluster 2",
          "Cluster 2",
          "Cluster 2",
          "Cluster 2",
          "Cluster 2",
          "Cluster 2",
          "Cluster 2",
          "Cluster 2",
          "Cluster 2",
          "Cluster 2",
          "Cluster 2",
          "Cluster 2",
          "Cluster 2",
          "Cluster 2",
          "Cluster 2",
          "Cluster 2",
          "Cluster 2",
          "Cluster 2",
          "Cluster 2",
          "Cluster 2",
          "Cluster 2",
          "Cluster 2",
          "Cluster 2",
          "Cluster 2",
          "Cluster 2",
          "Cluster 2",
          "Cluster 2",
          "Cluster 2",
          "Cluster 2",
          "Cluster 2",
          "Cluster 2",
          "Cluster 2",
          "Cluster 2",
          "Cluster 2",
          "Cluster 2",
          "Cluster 2",
          "Cluster 2",
          "Cluster 2",
          "Cluster 2",
          "Cluster 2",
          "Cluster 2",
          "Cluster 2",
          "Cluster 2",
          "Cluster 2",
          "Cluster 2",
          "Cluster 2",
          "Cluster 2",
          "Cluster 2",
          "Cluster 2",
          "Cluster 2",
          "Cluster 2",
          "Cluster 2",
          "Cluster 2",
          "Cluster 2",
          "Cluster 2",
          "Cluster 2",
          "Cluster 2",
          "Cluster 2",
          "Cluster 2",
          "Cluster 2",
          "Cluster 2",
          "Cluster 2",
          "Cluster 2",
          "Cluster 2",
          "Cluster 2",
          "Cluster 2",
          "Cluster 2",
          "Cluster 2",
          "Cluster 2",
          "Cluster 2",
          "Cluster 2",
          "Cluster 2",
          "Cluster 2",
          "Cluster 2",
          "Cluster 2",
          "Cluster 2",
          "Cluster 2",
          "Cluster 2",
          "Cluster 2",
          "Cluster 2"
         ],
         "xaxis": "x2",
         "yaxis": "y2"
        },
        {
         "alignmentgroup": "True",
         "bingroup": "x",
         "hovertemplate": "Cluster=%{x}<br>count=%{y}<extra></extra>",
         "legendgroup": "Cluster 3",
         "marker": {
          "color": "#ab63fa",
          "opacity": 0.7,
          "pattern": {
           "shape": ""
          }
         },
         "name": "Cluster 3",
         "offsetgroup": "Cluster 3",
         "orientation": "v",
         "showlegend": true,
         "type": "histogram",
         "x": [
          "Cluster 3",
          "Cluster 3",
          "Cluster 3",
          "Cluster 3",
          "Cluster 3",
          "Cluster 3",
          "Cluster 3",
          "Cluster 3",
          "Cluster 3",
          "Cluster 3",
          "Cluster 3",
          "Cluster 3",
          "Cluster 3",
          "Cluster 3",
          "Cluster 3",
          "Cluster 3",
          "Cluster 3",
          "Cluster 3",
          "Cluster 3",
          "Cluster 3",
          "Cluster 3",
          "Cluster 3",
          "Cluster 3",
          "Cluster 3",
          "Cluster 3",
          "Cluster 3",
          "Cluster 3",
          "Cluster 3",
          "Cluster 3",
          "Cluster 3",
          "Cluster 3",
          "Cluster 3",
          "Cluster 3",
          "Cluster 3",
          "Cluster 3",
          "Cluster 3",
          "Cluster 3",
          "Cluster 3",
          "Cluster 3",
          "Cluster 3",
          "Cluster 3",
          "Cluster 3",
          "Cluster 3",
          "Cluster 3",
          "Cluster 3",
          "Cluster 3",
          "Cluster 3",
          "Cluster 3",
          "Cluster 3",
          "Cluster 3",
          "Cluster 3",
          "Cluster 3",
          "Cluster 3",
          "Cluster 3",
          "Cluster 3",
          "Cluster 3",
          "Cluster 3",
          "Cluster 3",
          "Cluster 3",
          "Cluster 3",
          "Cluster 3",
          "Cluster 3",
          "Cluster 3",
          "Cluster 3",
          "Cluster 3",
          "Cluster 3",
          "Cluster 3",
          "Cluster 3",
          "Cluster 3",
          "Cluster 3",
          "Cluster 3",
          "Cluster 3",
          "Cluster 3",
          "Cluster 3",
          "Cluster 3",
          "Cluster 3",
          "Cluster 3",
          "Cluster 3",
          "Cluster 3",
          "Cluster 3",
          "Cluster 3",
          "Cluster 3",
          "Cluster 3",
          "Cluster 3",
          "Cluster 3",
          "Cluster 3",
          "Cluster 3",
          "Cluster 3",
          "Cluster 3",
          "Cluster 3",
          "Cluster 3",
          "Cluster 3",
          "Cluster 3",
          "Cluster 3",
          "Cluster 3",
          "Cluster 3",
          "Cluster 3",
          "Cluster 3",
          "Cluster 3",
          "Cluster 3",
          "Cluster 3",
          "Cluster 3",
          "Cluster 3",
          "Cluster 3",
          "Cluster 3",
          "Cluster 3",
          "Cluster 3",
          "Cluster 3",
          "Cluster 3",
          "Cluster 3",
          "Cluster 3",
          "Cluster 3",
          "Cluster 3",
          "Cluster 3",
          "Cluster 3",
          "Cluster 3",
          "Cluster 3",
          "Cluster 3",
          "Cluster 3",
          "Cluster 3",
          "Cluster 3",
          "Cluster 3",
          "Cluster 3",
          "Cluster 3",
          "Cluster 3",
          "Cluster 3",
          "Cluster 3",
          "Cluster 3",
          "Cluster 3",
          "Cluster 3",
          "Cluster 3",
          "Cluster 3"
         ],
         "xaxis": "x",
         "yaxis": "y"
        },
        {
         "alignmentgroup": "True",
         "customdata": [
          [
           30,
           107302,
           0.23967717587947845,
           13993.244140625
          ],
          [
           31,
           107932,
           0.3742421865463257,
           12207.5263671875
          ],
          [
           31,
           107994,
           0.2944689393043518,
           13685.97265625
          ],
          [
           30,
           107525,
           0.29481643438339233,
           12702.84765625
          ],
          [
           33,
           98033,
           0.30951112508773804,
           15774.6904296875
          ],
          [
           85,
           111389,
           0.03679536283016205,
           16009.2373046875
          ],
          [
           83,
           117347,
           0.15569409728050232,
           15086.701171875
          ],
          [
           36,
           96336,
           0.2880975604057312,
           15286.76953125
          ],
          [
           30,
           102056,
           0.26070061326026917,
           15370.6689453125
          ],
          [
           34,
           102291,
           0.24786227941513062,
           15819.5771484375
          ],
          [
           36,
           104285,
           0.21236005425453186,
           13347.55859375
          ],
          [
           84,
           114406,
           0.12383837252855301,
           16840.5703125
          ],
          [
           36,
           99780,
           0.26543259620666504,
           16398.400390625
          ],
          [
           22,
           109152,
           0.3234464228153229,
           16022.482421875
          ],
          [
           31,
           114833,
           0.3050696849822998,
           13953.029296875
          ],
          [
           30,
           98030,
           0.4111117124557495,
           16316.8427734375
          ],
          [
           35,
           104678,
           0.32799285650253296,
           15422.0556640625
          ],
          [
           34,
           104284,
           0.3445454239845276,
           13541.8017578125
          ],
          [
           37,
           108635,
           0.28649571537971497,
           14558.0546875
          ],
          [
           38,
           94775,
           0.3803901970386505,
           16867.130859375
          ],
          [
           29,
           106014,
           0.34794512391090393,
           15038.0107421875
          ],
          [
           37,
           97678,
           0.2574704587459564,
           15834.11328125
          ],
          [
           28,
           101206,
           0.3874407112598419,
           14936.775390625
          ],
          [
           35,
           117112,
           0.3047918677330017,
           15908.0361328125
          ],
          [
           29,
           91375,
           0.23545043170452118,
           13104.962890625
          ],
          [
           37,
           106664,
           0.27758675813674927,
           14479.3740234375
          ],
          [
           34,
           98993,
           0.32299309968948364,
           16138.0791015625
          ],
          [
           32,
           108417,
           0.28737086057662964,
           16696.3984375
          ],
          [
           30,
           101073,
           0.31438711285591125,
           14324.5556640625
          ],
          [
           35,
           110106,
           0.2867692708969116,
           14924.537109375
          ],
          [
           31,
           112943,
           0.3412395119667053,
           14297.7021484375
          ],
          [
           33,
           105667,
           0.2507508099079132,
           12869.7607421875
          ],
          [
           39,
           100540,
           0.38492298126220703,
           16741.013671875
          ],
          [
           31,
           111449,
           0.29410621523857117,
           13929.62109375
          ],
          [
           33,
           107100,
           0.34243547916412354,
           14895.4736328125
          ],
          [
           33,
           106757,
           0.25839611887931824,
           14431.65234375
          ],
          [
           36,
           100158,
           0.3160604238510132,
           13832.37890625
          ],
          [
           37,
           107958,
           0.34666907787323,
           13641.009765625
          ],
          [
           31,
           108067,
           0.26867425441741943,
           13316.767578125
          ],
          [
           31,
           101481,
           0.2702350616455078,
           15226.6142578125
          ],
          [
           31,
           101209,
           0.3043229877948761,
           16917.572265625
          ],
          [
           33,
           106345,
           0.33923542499542236,
           15300.4541015625
          ],
          [
           31,
           110882,
           0.3252806067466736,
           14004.61328125
          ],
          [
           36,
           98137,
           0.2974012792110443,
           15978.3330078125
          ],
          [
           33,
           101058,
           0.31508153676986694,
           14911.8681640625
          ],
          [
           37,
           106894,
           0.3432357609272003,
           14075.2177734375
          ],
          [
           35,
           106588,
           0.3422141969203949,
           15648.65625
          ],
          [
           25,
           101503,
           0.2884688675403595,
           15026.26171875
          ],
          [
           30,
           108581,
           0.309446781873703,
           15628.7919921875
          ],
          [
           37,
           97831,
           0.37446582317352295,
           14935.14453125
          ],
          [
           28,
           94762,
           0.3035961985588074,
           15352.521484375
          ],
          [
           31,
           107963,
           0.2905086278915405,
           13407.0810546875
          ],
          [
           33,
           116616,
           0.32093003392219543,
           15104.498046875
          ],
          [
           28,
           100592,
           0.25959834456443787,
           15520.35546875
          ],
          [
           34,
           98165,
           0.17412050068378448,
           15721.86328125
          ],
          [
           31,
           105826,
           0.2862743139266968,
           13856.8056640625
          ],
          [
           32,
           117050,
           0.3113555312156677,
           14310.5458984375
          ],
          [
           30,
           99949,
           0.34467923641204834,
           13621.6396484375
          ],
          [
           27,
           106758,
           0.2662947177886963,
           14942.560546875
          ],
          [
           30,
           96241,
           0.3773384988307953,
           15485.15625
          ],
          [
           34,
           111303,
           0.34531256556510925,
           14624.318359375
          ],
          [
           33,
           108345,
           0.3254132866859436,
           15646.3212890625
          ],
          [
           31,
           99457,
           0.3658064901828766,
           14580.61328125
          ],
          [
           30,
           107926,
           0.23016072809696198,
           15520.5361328125
          ],
          [
           29,
           116451,
           0.34065961837768555,
           15294.6611328125
          ],
          [
           30,
           106350,
           0.3694162964820862,
           14863.2333984375
          ],
          [
           84,
           110582,
           0.07904903590679169,
           14937.9951171875
          ],
          [
           39,
           99216,
           0.21660614013671875,
           15230.3447265625
          ],
          [
           86,
           115689,
           0.057842954993247986,
           14803.1533203125
          ],
          [
           29,
           101943,
           0.3256230652332306,
           14619.3544921875
          ],
          [
           35,
           105991,
           0.3433779776096344,
           16616.087890625
          ],
          [
           59,
           90422,
           0.8062102198600769,
           6746.28125
          ],
          [
           28,
           111937,
           0.2537347376346588,
           13669.1103515625
          ],
          [
           33,
           114555,
           0.2792568504810333,
           13746.7451171875
          ],
          [
           38,
           113659,
           0.33348599076271057,
           14364.693359375
          ],
          [
           28,
           99611,
           0.27955785393714905,
           15345.658203125
          ],
          [
           29,
           110860,
           0.3194403052330017,
           16260.4208984375
          ],
          [
           40,
           98821,
           0.2790808379650116,
           15995.16015625
          ],
          [
           32,
           101905,
           0.30747631192207336,
           17532.1640625
          ],
          [
           84,
           115237,
           0.06877820938825607,
           14396.568359375
          ],
          [
           28,
           109075,
           0.3627619743347168,
           14082.4580078125
          ],
          [
           36,
           105567,
           0.3126388490200043,
           14355.310546875
          ],
          [
           32,
           106543,
           0.3107432425022125,
           14337.2880859375
          ],
          [
           29,
           103223,
           0.3388162851333618,
           16252.8828125
          ],
          [
           32,
           95536,
           0.2662460505962372,
           15420.6259765625
          ],
          [
           29,
           111426,
           0.40028116106987,
           14352.6435546875
          ],
          [
           35,
           112878,
           0.30091357231140137,
           13755.482421875
          ],
          [
           34,
           89598,
           0.340152382850647,
           12832.7685546875
          ],
          [
           29,
           99161,
           0.30792000889778137,
           15631.8369140625
          ],
          [
           25,
           106772,
           0.3909047245979309,
           16353.4716796875
          ],
          [
           29,
           102028,
           0.2889604866504669,
           14634.4306640625
          ],
          [
           42,
           106990,
           0.33006542921066284,
           14856.939453125
          ],
          [
           33,
           111813,
           0.23824378848075867,
           15901.2392578125
          ],
          [
           31,
           102618,
           0.27637791633605957,
           13209.3017578125
          ],
          [
           36,
           101811,
           0.340666800737381,
           15048.8994140625
          ],
          [
           36,
           108004,
           0.30892300605773926,
           15813.96484375
          ],
          [
           43,
           101641,
           0.38198381662368774,
           14424.09765625
          ],
          [
           36,
           109038,
           0.3242132067680359,
           16502.388671875
          ],
          [
           33,
           94964,
           0.33023250102996826,
           14018.349609375
          ],
          [
           33,
           99637,
           0.22821708023548126,
           15139.4033203125
          ],
          [
           29,
           112531,
           0.3427661657333374,
           14361.3349609375
          ],
          [
           38,
           104738,
           0.4059588611125946,
           15634.3134765625
          ],
          [
           38,
           115146,
           0.31449007987976074,
           14798.8681640625
          ],
          [
           35,
           102308,
           0.2751372158527374,
           14874.5576171875
          ],
          [
           32,
           110439,
           0.3069901466369629,
           13873.5078125
          ],
          [
           34,
           98752,
           0.3720337152481079,
           14975.3837890625
          ],
          [
           36,
           109809,
           0.35566020011901855,
           14978.501953125
          ],
          [
           31,
           116247,
           0.2943151295185089,
           16178.205078125
          ],
          [
           37,
           110595,
           0.2866485118865967,
           15235.4453125
          ],
          [
           35,
           108499,
           0.2612719237804413,
           16046.0830078125
          ],
          [
           88,
           114767,
           0.03220754116773605,
           17833.09375
          ],
          [
           39,
           100661,
           0.37664124369621277,
           16873.12890625
          ],
          [
           31,
           104388,
           0.28647324442863464,
           14406.5615234375
          ],
          [
           35,
           101691,
           0.34911102056503296,
           14152.671875
          ],
          [
           31,
           105036,
           0.2722280025482178,
           16465.064453125
          ],
          [
           37,
           107877,
           0.3346179723739624,
           17968.5546875
          ],
          [
           37,
           108651,
           0.19234362244606018,
           15881.2421875
          ],
          [
           26,
           97750,
           0.29340875148773193,
           15823.0322265625
          ],
          [
           32,
           102035,
           0.26207035779953003,
           14209.9326171875
          ],
          [
           31,
           105006,
           0.3741658926010132,
           15419.41796875
          ],
          [
           34,
           103428,
           0.2474244087934494,
           13791.0361328125
          ],
          [
           37,
           110732,
           0.32267624139785767,
           14265.3515625
          ],
          [
           34,
           107255,
           0.3283430337905884,
           15130.595703125
          ],
          [
           33,
           100275,
           0.36308568716049194,
           13735.4384765625
          ],
          [
           33,
           92569,
           0.33607980608940125,
           13765.685546875
          ],
          [
           35,
           107131,
           0.24247315526008606,
           16200.0126953125
          ],
          [
           28,
           97965,
           0.313491553068161,
           14981.40234375
          ],
          [
           34,
           103204,
           0.301087349653244,
           15149.810546875
          ],
          [
           30,
           108928,
           0.30386361479759216,
           14339.6533203125
          ],
          [
           44,
           114642,
           0.30920490622520447,
           14067.6181640625
          ],
          [
           24,
           110564,
           0.3049429953098297,
           14967.83984375
          ],
          [
           31,
           107115,
           0.32804208993911743,
           15693.5
          ]
         ],
         "hovertemplate": "Cluster=%{x}<br>Age=%{customdata[0]}<br>Income=%{customdata[1]}<br>SpendingScore=%{customdata[2]}<br>Savings=%{customdata[3]}<extra></extra>",
         "legendgroup": "Cluster 3",
         "marker": {
          "color": "#ab63fa"
         },
         "name": "Cluster 3",
         "notched": true,
         "offsetgroup": "Cluster 3",
         "showlegend": false,
         "type": "box",
         "x": [
          "Cluster 3",
          "Cluster 3",
          "Cluster 3",
          "Cluster 3",
          "Cluster 3",
          "Cluster 3",
          "Cluster 3",
          "Cluster 3",
          "Cluster 3",
          "Cluster 3",
          "Cluster 3",
          "Cluster 3",
          "Cluster 3",
          "Cluster 3",
          "Cluster 3",
          "Cluster 3",
          "Cluster 3",
          "Cluster 3",
          "Cluster 3",
          "Cluster 3",
          "Cluster 3",
          "Cluster 3",
          "Cluster 3",
          "Cluster 3",
          "Cluster 3",
          "Cluster 3",
          "Cluster 3",
          "Cluster 3",
          "Cluster 3",
          "Cluster 3",
          "Cluster 3",
          "Cluster 3",
          "Cluster 3",
          "Cluster 3",
          "Cluster 3",
          "Cluster 3",
          "Cluster 3",
          "Cluster 3",
          "Cluster 3",
          "Cluster 3",
          "Cluster 3",
          "Cluster 3",
          "Cluster 3",
          "Cluster 3",
          "Cluster 3",
          "Cluster 3",
          "Cluster 3",
          "Cluster 3",
          "Cluster 3",
          "Cluster 3",
          "Cluster 3",
          "Cluster 3",
          "Cluster 3",
          "Cluster 3",
          "Cluster 3",
          "Cluster 3",
          "Cluster 3",
          "Cluster 3",
          "Cluster 3",
          "Cluster 3",
          "Cluster 3",
          "Cluster 3",
          "Cluster 3",
          "Cluster 3",
          "Cluster 3",
          "Cluster 3",
          "Cluster 3",
          "Cluster 3",
          "Cluster 3",
          "Cluster 3",
          "Cluster 3",
          "Cluster 3",
          "Cluster 3",
          "Cluster 3",
          "Cluster 3",
          "Cluster 3",
          "Cluster 3",
          "Cluster 3",
          "Cluster 3",
          "Cluster 3",
          "Cluster 3",
          "Cluster 3",
          "Cluster 3",
          "Cluster 3",
          "Cluster 3",
          "Cluster 3",
          "Cluster 3",
          "Cluster 3",
          "Cluster 3",
          "Cluster 3",
          "Cluster 3",
          "Cluster 3",
          "Cluster 3",
          "Cluster 3",
          "Cluster 3",
          "Cluster 3",
          "Cluster 3",
          "Cluster 3",
          "Cluster 3",
          "Cluster 3",
          "Cluster 3",
          "Cluster 3",
          "Cluster 3",
          "Cluster 3",
          "Cluster 3",
          "Cluster 3",
          "Cluster 3",
          "Cluster 3",
          "Cluster 3",
          "Cluster 3",
          "Cluster 3",
          "Cluster 3",
          "Cluster 3",
          "Cluster 3",
          "Cluster 3",
          "Cluster 3",
          "Cluster 3",
          "Cluster 3",
          "Cluster 3",
          "Cluster 3",
          "Cluster 3",
          "Cluster 3",
          "Cluster 3",
          "Cluster 3",
          "Cluster 3",
          "Cluster 3",
          "Cluster 3",
          "Cluster 3",
          "Cluster 3",
          "Cluster 3",
          "Cluster 3",
          "Cluster 3"
         ],
         "xaxis": "x2",
         "yaxis": "y2"
        }
       ],
       "layout": {
        "barmode": "relative",
        "height": 600,
        "legend": {
         "title": {
          "text": "Cluster"
         },
         "tracegroupgap": 0
        },
        "margin": {
         "t": 60
        },
        "template": {
         "data": {
          "bar": [
           {
            "error_x": {
             "color": "#2a3f5f"
            },
            "error_y": {
             "color": "#2a3f5f"
            },
            "marker": {
             "line": {
              "color": "#E5ECF6",
              "width": 0.5
             },
             "pattern": {
              "fillmode": "overlay",
              "size": 10,
              "solidity": 0.2
             }
            },
            "type": "bar"
           }
          ],
          "barpolar": [
           {
            "marker": {
             "line": {
              "color": "#E5ECF6",
              "width": 0.5
             },
             "pattern": {
              "fillmode": "overlay",
              "size": 10,
              "solidity": 0.2
             }
            },
            "type": "barpolar"
           }
          ],
          "carpet": [
           {
            "aaxis": {
             "endlinecolor": "#2a3f5f",
             "gridcolor": "white",
             "linecolor": "white",
             "minorgridcolor": "white",
             "startlinecolor": "#2a3f5f"
            },
            "baxis": {
             "endlinecolor": "#2a3f5f",
             "gridcolor": "white",
             "linecolor": "white",
             "minorgridcolor": "white",
             "startlinecolor": "#2a3f5f"
            },
            "type": "carpet"
           }
          ],
          "choropleth": [
           {
            "colorbar": {
             "outlinewidth": 0,
             "ticks": ""
            },
            "type": "choropleth"
           }
          ],
          "contour": [
           {
            "colorbar": {
             "outlinewidth": 0,
             "ticks": ""
            },
            "colorscale": [
             [
              0,
              "#0d0887"
             ],
             [
              0.1111111111111111,
              "#46039f"
             ],
             [
              0.2222222222222222,
              "#7201a8"
             ],
             [
              0.3333333333333333,
              "#9c179e"
             ],
             [
              0.4444444444444444,
              "#bd3786"
             ],
             [
              0.5555555555555556,
              "#d8576b"
             ],
             [
              0.6666666666666666,
              "#ed7953"
             ],
             [
              0.7777777777777778,
              "#fb9f3a"
             ],
             [
              0.8888888888888888,
              "#fdca26"
             ],
             [
              1,
              "#f0f921"
             ]
            ],
            "type": "contour"
           }
          ],
          "contourcarpet": [
           {
            "colorbar": {
             "outlinewidth": 0,
             "ticks": ""
            },
            "type": "contourcarpet"
           }
          ],
          "heatmap": [
           {
            "colorbar": {
             "outlinewidth": 0,
             "ticks": ""
            },
            "colorscale": [
             [
              0,
              "#0d0887"
             ],
             [
              0.1111111111111111,
              "#46039f"
             ],
             [
              0.2222222222222222,
              "#7201a8"
             ],
             [
              0.3333333333333333,
              "#9c179e"
             ],
             [
              0.4444444444444444,
              "#bd3786"
             ],
             [
              0.5555555555555556,
              "#d8576b"
             ],
             [
              0.6666666666666666,
              "#ed7953"
             ],
             [
              0.7777777777777778,
              "#fb9f3a"
             ],
             [
              0.8888888888888888,
              "#fdca26"
             ],
             [
              1,
              "#f0f921"
             ]
            ],
            "type": "heatmap"
           }
          ],
          "heatmapgl": [
           {
            "colorbar": {
             "outlinewidth": 0,
             "ticks": ""
            },
            "colorscale": [
             [
              0,
              "#0d0887"
             ],
             [
              0.1111111111111111,
              "#46039f"
             ],
             [
              0.2222222222222222,
              "#7201a8"
             ],
             [
              0.3333333333333333,
              "#9c179e"
             ],
             [
              0.4444444444444444,
              "#bd3786"
             ],
             [
              0.5555555555555556,
              "#d8576b"
             ],
             [
              0.6666666666666666,
              "#ed7953"
             ],
             [
              0.7777777777777778,
              "#fb9f3a"
             ],
             [
              0.8888888888888888,
              "#fdca26"
             ],
             [
              1,
              "#f0f921"
             ]
            ],
            "type": "heatmapgl"
           }
          ],
          "histogram": [
           {
            "marker": {
             "pattern": {
              "fillmode": "overlay",
              "size": 10,
              "solidity": 0.2
             }
            },
            "type": "histogram"
           }
          ],
          "histogram2d": [
           {
            "colorbar": {
             "outlinewidth": 0,
             "ticks": ""
            },
            "colorscale": [
             [
              0,
              "#0d0887"
             ],
             [
              0.1111111111111111,
              "#46039f"
             ],
             [
              0.2222222222222222,
              "#7201a8"
             ],
             [
              0.3333333333333333,
              "#9c179e"
             ],
             [
              0.4444444444444444,
              "#bd3786"
             ],
             [
              0.5555555555555556,
              "#d8576b"
             ],
             [
              0.6666666666666666,
              "#ed7953"
             ],
             [
              0.7777777777777778,
              "#fb9f3a"
             ],
             [
              0.8888888888888888,
              "#fdca26"
             ],
             [
              1,
              "#f0f921"
             ]
            ],
            "type": "histogram2d"
           }
          ],
          "histogram2dcontour": [
           {
            "colorbar": {
             "outlinewidth": 0,
             "ticks": ""
            },
            "colorscale": [
             [
              0,
              "#0d0887"
             ],
             [
              0.1111111111111111,
              "#46039f"
             ],
             [
              0.2222222222222222,
              "#7201a8"
             ],
             [
              0.3333333333333333,
              "#9c179e"
             ],
             [
              0.4444444444444444,
              "#bd3786"
             ],
             [
              0.5555555555555556,
              "#d8576b"
             ],
             [
              0.6666666666666666,
              "#ed7953"
             ],
             [
              0.7777777777777778,
              "#fb9f3a"
             ],
             [
              0.8888888888888888,
              "#fdca26"
             ],
             [
              1,
              "#f0f921"
             ]
            ],
            "type": "histogram2dcontour"
           }
          ],
          "mesh3d": [
           {
            "colorbar": {
             "outlinewidth": 0,
             "ticks": ""
            },
            "type": "mesh3d"
           }
          ],
          "parcoords": [
           {
            "line": {
             "colorbar": {
              "outlinewidth": 0,
              "ticks": ""
             }
            },
            "type": "parcoords"
           }
          ],
          "pie": [
           {
            "automargin": true,
            "type": "pie"
           }
          ],
          "scatter": [
           {
            "fillpattern": {
             "fillmode": "overlay",
             "size": 10,
             "solidity": 0.2
            },
            "type": "scatter"
           }
          ],
          "scatter3d": [
           {
            "line": {
             "colorbar": {
              "outlinewidth": 0,
              "ticks": ""
             }
            },
            "marker": {
             "colorbar": {
              "outlinewidth": 0,
              "ticks": ""
             }
            },
            "type": "scatter3d"
           }
          ],
          "scattercarpet": [
           {
            "marker": {
             "colorbar": {
              "outlinewidth": 0,
              "ticks": ""
             }
            },
            "type": "scattercarpet"
           }
          ],
          "scattergeo": [
           {
            "marker": {
             "colorbar": {
              "outlinewidth": 0,
              "ticks": ""
             }
            },
            "type": "scattergeo"
           }
          ],
          "scattergl": [
           {
            "marker": {
             "colorbar": {
              "outlinewidth": 0,
              "ticks": ""
             }
            },
            "type": "scattergl"
           }
          ],
          "scattermapbox": [
           {
            "marker": {
             "colorbar": {
              "outlinewidth": 0,
              "ticks": ""
             }
            },
            "type": "scattermapbox"
           }
          ],
          "scatterpolar": [
           {
            "marker": {
             "colorbar": {
              "outlinewidth": 0,
              "ticks": ""
             }
            },
            "type": "scatterpolar"
           }
          ],
          "scatterpolargl": [
           {
            "marker": {
             "colorbar": {
              "outlinewidth": 0,
              "ticks": ""
             }
            },
            "type": "scatterpolargl"
           }
          ],
          "scatterternary": [
           {
            "marker": {
             "colorbar": {
              "outlinewidth": 0,
              "ticks": ""
             }
            },
            "type": "scatterternary"
           }
          ],
          "surface": [
           {
            "colorbar": {
             "outlinewidth": 0,
             "ticks": ""
            },
            "colorscale": [
             [
              0,
              "#0d0887"
             ],
             [
              0.1111111111111111,
              "#46039f"
             ],
             [
              0.2222222222222222,
              "#7201a8"
             ],
             [
              0.3333333333333333,
              "#9c179e"
             ],
             [
              0.4444444444444444,
              "#bd3786"
             ],
             [
              0.5555555555555556,
              "#d8576b"
             ],
             [
              0.6666666666666666,
              "#ed7953"
             ],
             [
              0.7777777777777778,
              "#fb9f3a"
             ],
             [
              0.8888888888888888,
              "#fdca26"
             ],
             [
              1,
              "#f0f921"
             ]
            ],
            "type": "surface"
           }
          ],
          "table": [
           {
            "cells": {
             "fill": {
              "color": "#EBF0F8"
             },
             "line": {
              "color": "white"
             }
            },
            "header": {
             "fill": {
              "color": "#C8D4E3"
             },
             "line": {
              "color": "white"
             }
            },
            "type": "table"
           }
          ]
         },
         "layout": {
          "annotationdefaults": {
           "arrowcolor": "#2a3f5f",
           "arrowhead": 0,
           "arrowwidth": 1
          },
          "autotypenumbers": "strict",
          "coloraxis": {
           "colorbar": {
            "outlinewidth": 0,
            "ticks": ""
           }
          },
          "colorscale": {
           "diverging": [
            [
             0,
             "#8e0152"
            ],
            [
             0.1,
             "#c51b7d"
            ],
            [
             0.2,
             "#de77ae"
            ],
            [
             0.3,
             "#f1b6da"
            ],
            [
             0.4,
             "#fde0ef"
            ],
            [
             0.5,
             "#f7f7f7"
            ],
            [
             0.6,
             "#e6f5d0"
            ],
            [
             0.7,
             "#b8e186"
            ],
            [
             0.8,
             "#7fbc41"
            ],
            [
             0.9,
             "#4d9221"
            ],
            [
             1,
             "#276419"
            ]
           ],
           "sequential": [
            [
             0,
             "#0d0887"
            ],
            [
             0.1111111111111111,
             "#46039f"
            ],
            [
             0.2222222222222222,
             "#7201a8"
            ],
            [
             0.3333333333333333,
             "#9c179e"
            ],
            [
             0.4444444444444444,
             "#bd3786"
            ],
            [
             0.5555555555555556,
             "#d8576b"
            ],
            [
             0.6666666666666666,
             "#ed7953"
            ],
            [
             0.7777777777777778,
             "#fb9f3a"
            ],
            [
             0.8888888888888888,
             "#fdca26"
            ],
            [
             1,
             "#f0f921"
            ]
           ],
           "sequentialminus": [
            [
             0,
             "#0d0887"
            ],
            [
             0.1111111111111111,
             "#46039f"
            ],
            [
             0.2222222222222222,
             "#7201a8"
            ],
            [
             0.3333333333333333,
             "#9c179e"
            ],
            [
             0.4444444444444444,
             "#bd3786"
            ],
            [
             0.5555555555555556,
             "#d8576b"
            ],
            [
             0.6666666666666666,
             "#ed7953"
            ],
            [
             0.7777777777777778,
             "#fb9f3a"
            ],
            [
             0.8888888888888888,
             "#fdca26"
            ],
            [
             1,
             "#f0f921"
            ]
           ]
          },
          "colorway": [
           "#636efa",
           "#EF553B",
           "#00cc96",
           "#ab63fa",
           "#FFA15A",
           "#19d3f3",
           "#FF6692",
           "#B6E880",
           "#FF97FF",
           "#FECB52"
          ],
          "font": {
           "color": "#2a3f5f"
          },
          "geo": {
           "bgcolor": "white",
           "lakecolor": "white",
           "landcolor": "#E5ECF6",
           "showlakes": true,
           "showland": true,
           "subunitcolor": "white"
          },
          "hoverlabel": {
           "align": "left"
          },
          "hovermode": "closest",
          "mapbox": {
           "style": "light"
          },
          "paper_bgcolor": "white",
          "plot_bgcolor": "#E5ECF6",
          "polar": {
           "angularaxis": {
            "gridcolor": "white",
            "linecolor": "white",
            "ticks": ""
           },
           "bgcolor": "#E5ECF6",
           "radialaxis": {
            "gridcolor": "white",
            "linecolor": "white",
            "ticks": ""
           }
          },
          "scene": {
           "xaxis": {
            "backgroundcolor": "#E5ECF6",
            "gridcolor": "white",
            "gridwidth": 2,
            "linecolor": "white",
            "showbackground": true,
            "ticks": "",
            "zerolinecolor": "white"
           },
           "yaxis": {
            "backgroundcolor": "#E5ECF6",
            "gridcolor": "white",
            "gridwidth": 2,
            "linecolor": "white",
            "showbackground": true,
            "ticks": "",
            "zerolinecolor": "white"
           },
           "zaxis": {
            "backgroundcolor": "#E5ECF6",
            "gridcolor": "white",
            "gridwidth": 2,
            "linecolor": "white",
            "showbackground": true,
            "ticks": "",
            "zerolinecolor": "white"
           }
          },
          "shapedefaults": {
           "line": {
            "color": "#2a3f5f"
           }
          },
          "ternary": {
           "aaxis": {
            "gridcolor": "white",
            "linecolor": "white",
            "ticks": ""
           },
           "baxis": {
            "gridcolor": "white",
            "linecolor": "white",
            "ticks": ""
           },
           "bgcolor": "#E5ECF6",
           "caxis": {
            "gridcolor": "white",
            "linecolor": "white",
            "ticks": ""
           }
          },
          "title": {
           "x": 0.05
          },
          "xaxis": {
           "automargin": true,
           "gridcolor": "white",
           "linecolor": "white",
           "ticks": "",
           "title": {
            "standoff": 15
           },
           "zerolinecolor": "white",
           "zerolinewidth": 2
          },
          "yaxis": {
           "automargin": true,
           "gridcolor": "white",
           "linecolor": "white",
           "ticks": "",
           "title": {
            "standoff": 15
           },
           "zerolinecolor": "white",
           "zerolinewidth": 2
          }
         }
        },
        "xaxis": {
         "anchor": "y",
         "categoryarray": [
          "Cluster 0",
          "Cluster 1",
          "Cluster 2",
          "Cluster 3"
         ],
         "categoryorder": "array",
         "domain": [
          0,
          1
         ],
         "title": {
          "text": "Cluster"
         }
        },
        "xaxis2": {
         "anchor": "y2",
         "domain": [
          0,
          1
         ],
         "matches": "x",
         "showgrid": true,
         "showticklabels": false
        },
        "yaxis": {
         "anchor": "x",
         "domain": [
          0,
          0.7326
         ],
         "title": {
          "text": "count"
         }
        },
        "yaxis2": {
         "anchor": "x2",
         "domain": [
          0.7426,
          1
         ],
         "matches": "y2",
         "showgrid": false,
         "showline": false,
         "showticklabels": false,
         "ticks": ""
        }
       }
      }
     },
     "metadata": {},
     "output_type": "display_data"
    },
    {
     "data": {
      "application/vnd.plotly.v1+json": {
       "config": {
        "plotlyServerURL": "https://plot.ly"
       },
       "data": [
        {
         "customdata": [
          [
           26
          ],
          [
           28
          ],
          [
           20
          ],
          [
           17
          ],
          [
           24
          ],
          [
           24
          ],
          [
           29
          ],
          [
           17
          ],
          [
           27
          ],
          [
           93
          ],
          [
           28
          ],
          [
           17
          ],
          [
           28
          ],
          [
           23
          ],
          [
           28
          ],
          [
           23
          ],
          [
           18
          ],
          [
           29
          ],
          [
           23
          ],
          [
           27
          ],
          [
           24
          ],
          [
           25
          ],
          [
           25
          ],
          [
           34
          ],
          [
           86
          ],
          [
           87
          ],
          [
           82
          ],
          [
           24
          ],
          [
           20
          ],
          [
           82
          ],
          [
           22
          ],
          [
           25
          ],
          [
           28
          ],
          [
           21
          ],
          [
           88
          ],
          [
           26
          ],
          [
           21
          ],
          [
           27
          ],
          [
           23
          ],
          [
           31
          ],
          [
           24
          ],
          [
           77
          ],
          [
           86
          ],
          [
           91
          ],
          [
           83
          ],
          [
           24
          ],
          [
           26
          ],
          [
           88
          ],
          [
           22
          ],
          [
           84
          ],
          [
           18
          ],
          [
           90
          ],
          [
           89
          ],
          [
           22
          ],
          [
           30
          ],
          [
           17
          ],
          [
           26
          ],
          [
           26
          ],
          [
           28
          ],
          [
           29
          ],
          [
           83
          ],
          [
           90
          ],
          [
           24
          ],
          [
           25
          ],
          [
           85
          ],
          [
           20
          ],
          [
           25
          ],
          [
           25
          ],
          [
           29
          ],
          [
           92
          ]
         ],
         "hovertemplate": "Cluster=Cluster 0<br>PCA1=%{x}<br>PCA2=%{y}<br>Feature=%{customdata[0]}<extra></extra>",
         "legendgroup": "Cluster 0",
         "marker": {
          "color": "#636efa",
          "opacity": 0.5,
          "symbol": "circle"
         },
         "mode": "markers",
         "name": "Cluster 0",
         "orientation": "v",
         "showlegend": true,
         "textposition": "top center",
         "type": "scatter",
         "x": [
          51532.47005468583,
          48281.964760281204,
          47415.38915596524,
          61085.161818166314,
          45280.29646688092,
          53976.78999307682,
          47210.61128826451,
          59803.04557597504,
          47518.88132347983,
          50874.59371963915,
          46000.80248340854,
          48697.32854572946,
          52465.033585302146,
          51395.224355863356,
          48029.23597884724,
          54778.91990697279,
          48551.8977898876,
          43600.21620721055,
          63317.06653029426,
          46271.74997443967,
          61617.25601853899,
          62912.4571003927,
          55783.4288540903,
          44074.74433395846,
          52679.13743936508,
          41859.154366077826,
          50433.851405074165,
          52263.49411048383,
          54230.31142876461,
          45920.30382555986,
          45302.57091364998,
          45728.401139272275,
          41933.876337644055,
          54542.56027032774,
          47964.5522850611,
          50397.08388459143,
          48602.57110350961,
          49923.23240059176,
          45049.71302323952,
          47836.448388874895,
          55795.99791010052,
          52844.214520669055,
          48577.245951971614,
          43084.43131856258,
          43629.0127400591,
          59239.85352122595,
          52086.38065950194,
          44952.9020471801,
          58984.55028389013,
          46993.64107086381,
          55587.351727935136,
          48410.00928895812,
          43861.747071619975,
          57857.289053149856,
          47549.76255316084,
          59798.17481891007,
          56651.455486319566,
          47842.88366913237,
          53924.59704186735,
          66750.62107639131,
          42157.80543094875,
          42045.79572232815,
          59196.593078354126,
          53422.55247996485,
          42414.139835251306,
          53899.234054063396,
          55809.60824754347,
          55168.45153662272,
          56449.67813276759,
          47182.06860121161
         ],
         "xaxis": "x",
         "y": [
          6006.733800938243,
          8499.966919747441,
          4709.388721993278,
          4243.72180398018,
          4437.356755042895,
          5488.389848804962,
          6674.23478313565,
          8450.307548937866,
          4941.999476017804,
          -5178.053057007961,
          3884.452852169688,
          5282.497861655178,
          3371.5330641923233,
          5657.241523409535,
          5422.323715263647,
          4629.7913457227,
          4668.214701347181,
          -5657.478374018925,
          4946.177503380891,
          4207.414538362315,
          6726.313729421171,
          5261.355290099562,
          4732.087674705491,
          -6307.668957592921,
          -4749.056737128192,
          -4543.326342656835,
          -6854.205790290357,
          5916.358116348493,
          3238.4289374841255,
          -4953.92149406202,
          3778.181609385129,
          3658.3064353496698,
          4717.997031231375,
          4193.883189681694,
          -4397.185708241021,
          2890.5507602719595,
          6249.537248101816,
          6048.724076369265,
          4590.8723562927735,
          6059.983303443474,
          4252.897482631877,
          -5677.667836398251,
          -6305.307643166639,
          -4660.855325409056,
          -6254.840940318058,
          4745.14449328446,
          3388.4270675204825,
          -4985.5146043490795,
          3350.711797535984,
          -4647.129392602869,
          3427.1351701713456,
          -5693.665477980647,
          -6877.036237163739,
          5717.501103769997,
          3437.896625297283,
          4315.751653167787,
          4271.292256835256,
          4758.1885834484165,
          5765.842917677416,
          2693.008067325201,
          -5954.4545753329285,
          -3106.1031340527984,
          3903.974813791067,
          3894.235404068599,
          -5432.281984340312,
          3176.746804746794,
          3879.149542578088,
          4016.9815008394594,
          5101.398631128976,
          -4557.716265875756
         ],
         "yaxis": "y"
        },
        {
         "customdata": [
          [
           88
          ],
          [
           90
          ],
          [
           86
          ],
          [
           85
          ],
          [
           91
          ],
          [
           86
          ],
          [
           91
          ],
          [
           94
          ],
          [
           88
          ],
          [
           85
          ],
          [
           83
          ],
          [
           94
          ],
          [
           91
          ],
          [
           86
          ],
          [
           90
          ],
          [
           88
          ],
          [
           92
          ],
          [
           85
          ],
          [
           83
          ],
          [
           91
          ],
          [
           94
          ],
          [
           83
          ],
          [
           94
          ],
          [
           88
          ],
          [
           89
          ],
          [
           89
          ],
          [
           83
          ],
          [
           87
          ],
          [
           91
          ],
          [
           85
          ],
          [
           88
          ],
          [
           88
          ],
          [
           84
          ],
          [
           92
          ],
          [
           84
          ],
          [
           88
          ],
          [
           89
          ],
          [
           86
          ],
          [
           85
          ],
          [
           87
          ],
          [
           87
          ],
          [
           89
          ],
          [
           86
          ],
          [
           91
          ],
          [
           88
          ],
          [
           89
          ],
          [
           88
          ],
          [
           85
          ],
          [
           87
          ],
          [
           91
          ],
          [
           85
          ],
          [
           90
          ],
          [
           87
          ],
          [
           91
          ],
          [
           95
          ],
          [
           84
          ],
          [
           87
          ],
          [
           87
          ],
          [
           94
          ],
          [
           82
          ],
          [
           91
          ],
          [
           93
          ],
          [
           82
          ],
          [
           92
          ],
          [
           89
          ],
          [
           84
          ],
          [
           87
          ],
          [
           90
          ],
          [
           91
          ],
          [
           81
          ],
          [
           93
          ],
          [
           89
          ],
          [
           88
          ],
          [
           85
          ],
          [
           82
          ],
          [
           89
          ],
          [
           94
          ],
          [
           88
          ],
          [
           91
          ],
          [
           84
          ],
          [
           90
          ],
          [
           88
          ],
          [
           90
          ],
          [
           84
          ],
          [
           91
          ],
          [
           94
          ],
          [
           92
          ],
          [
           89
          ],
          [
           86
          ],
          [
           91
          ],
          [
           97
          ],
          [
           90
          ],
          [
           87
          ],
          [
           92
          ],
          [
           87
          ],
          [
           83
          ],
          [
           92
          ],
          [
           90
          ],
          [
           86
          ],
          [
           87
          ],
          [
           91
          ],
          [
           88
          ],
          [
           79
          ],
          [
           83
          ],
          [
           91
          ],
          [
           84
          ],
          [
           86
          ],
          [
           85
          ],
          [
           87
          ],
          [
           83
          ],
          [
           83
          ],
          [
           84
          ],
          [
           89
          ],
          [
           87
          ],
          [
           91
          ],
          [
           87
          ],
          [
           87
          ],
          [
           91
          ],
          [
           87
          ],
          [
           89
          ],
          [
           88
          ],
          [
           93
          ],
          [
           84
          ],
          [
           92
          ],
          [
           85
          ],
          [
           85
          ],
          [
           90
          ],
          [
           86
          ],
          [
           90
          ],
          [
           88
          ],
          [
           83
          ],
          [
           84
          ],
          [
           82
          ],
          [
           82
          ],
          [
           79
          ],
          [
           87
          ],
          [
           90
          ],
          [
           91
          ],
          [
           88
          ],
          [
           83
          ],
          [
           87
          ],
          [
           84
          ],
          [
           89
          ],
          [
           84
          ],
          [
           88
          ],
          [
           84
          ],
          [
           92
          ]
         ],
         "hovertemplate": "Cluster=Cluster 1<br>PCA1=%{x}<br>PCA2=%{y}<br>Feature=%{customdata[0]}<extra></extra>",
         "legendgroup": "Cluster 1",
         "marker": {
          "color": "#EF553B",
          "opacity": 0.5,
          "symbol": "circle"
         },
         "mode": "markers",
         "name": "Cluster 1",
         "orientation": "v",
         "showlegend": true,
         "textposition": "top center",
         "type": "scatter",
         "x": [
          -48459.57886574741,
          -45508.35391168651,
          -56854.24492927825,
          -44945.698964713854,
          -49274.44239573872,
          -46897.28721880453,
          -45489.12000858342,
          -47975.629885853064,
          -47129.844161164736,
          -49427.524121758914,
          -48890.16206340343,
          -36822.882735679654,
          -47000.171674283956,
          -39916.590611805936,
          -50029.04864430804,
          -53103.84792851195,
          -42805.174705655045,
          -47271.413278008884,
          -57495.82749294879,
          -48496.84791008097,
          -48448.189831499265,
          -47148.0495251319,
          -54957.490976530295,
          -57750.75775521808,
          -44680.89355364254,
          -50446.68720778384,
          -45148.06214368706,
          -50055.787556764575,
          -46108.56437415357,
          -40907.25151543583,
          -58306.89374562323,
          -43012.769806193035,
          -48329.37517055249,
          -39882.02328828025,
          -37730.76929457198,
          -56178.673292178406,
          -49610.67501721536,
          -28705.212825263392,
          -47927.756160689096,
          -49952.563870074904,
          -45504.92819267488,
          -56491.72617965694,
          -43811.47260914547,
          -63634.72202883475,
          -40724.15684584522,
          -42432.64512102196,
          -49206.073004638245,
          -54413.15852823444,
          -63656.34761270813,
          -39063.286664840656,
          -46522.919468664084,
          -53514.366110009585,
          -44821.271964881125,
          -50504.823104629184,
          -48754.55326230387,
          -48254.00620956814,
          -57176.86780758164,
          -28723.99191856934,
          -56820.087514001316,
          -42172.091374211675,
          -58771.330100057654,
          -55300.438368620016,
          -43231.47785779809,
          -53329.08892211863,
          -55368.984257140175,
          -48469.75824737511,
          -51191.18314121463,
          -42253.872882755255,
          -55116.83598721053,
          -41272.89535426135,
          -58127.50383446996,
          -48762.36471399606,
          -42594.24303541747,
          -46206.76075642493,
          -51459.5135250055,
          -45316.58138942745,
          -51858.95285548033,
          -44316.39099715637,
          -48867.33425333965,
          -45243.33594590516,
          -51240.794671401636,
          -57888.986939968054,
          -52877.38162330982,
          -51590.97204811321,
          -47591.225131434665,
          -47366.64942872543,
          -56895.33601319739,
          -53680.720605912546,
          -60035.355695188904,
          -52957.61627730345,
          -48338.70468800099,
          -38257.0124803068,
          -59885.183477818384,
          -40276.448120984634,
          -49618.564266246955,
          -42546.309247475176,
          -53120.540755307644,
          -42485.19893881772,
          -48031.600303378495,
          -52350.136878173325,
          -49855.36019377396,
          -42334.047649157576,
          -37510.588057403605,
          -41183.65208626926,
          -38870.672592895164,
          -55003.11474871318,
          -52219.78891088447,
          -53905.33081243273,
          -49083.989006407064,
          -47072.8326904848,
          -45053.50114082122,
          -39255.473892599606,
          -51006.625949623885,
          -33223.78792540314,
          -46752.17189818303,
          -52745.271954827665,
          -45592.66270794391,
          -44891.7269512594,
          -57945.29404961142,
          -41047.376386734504,
          -47339.94734492919,
          -55837.89619000491,
          -53484.99043374058,
          -42194.798750822665,
          -47211.309228383645,
          -41090.432743024765,
          -40392.52356154928,
          -39708.646986385145,
          -46621.6751728767,
          -46888.40588576989,
          -41229.08531754967,
          -48086.47159801665,
          -51335.696316784815,
          -42152.50284228485,
          -43219.570638447236,
          -44207.36922040727,
          -42382.698822799655,
          -51304.42078363728,
          -41654.28539711417,
          -52508.30352712907,
          -45889.16122740457,
          -46294.696563603444,
          -47490.05336010278,
          -57516.273141569836,
          -49640.51628007665,
          -33685.82301953534,
          -39730.7549089785
         ],
         "xaxis": "x",
         "y": [
          -623.0250548560488,
          -1716.0962167717569,
          -1039.887236747618,
          -2663.4354555556233,
          -1819.1411226436473,
          -1500.600011877083,
          -857.2362973575496,
          -2697.4805218756405,
          -2166.945504634239,
          -3282.496539528994,
          -3117.043952131992,
          -3004.1360440515814,
          -3258.592151182354,
          -5860.4070049476195,
          -2907.797692364691,
          -1838.6649351563995,
          -2383.923812810523,
          -1422.263297740208,
          -874.5934065316542,
          -1255.0228766467965,
          -424.4946391842387,
          -948.1703671149719,
          -1273.0338864987416,
          -1546.7861986769094,
          -3320.2389025799553,
          -1789.8301942200417,
          -918.4435120938804,
          -458.7328186883238,
          -4704.899979069116,
          -2247.723767110278,
          -1498.3071568123494,
          -2388.3979285656496,
          -2106.955706664307,
          -3145.8380799741617,
          -3447.522083521275,
          -1450.7322712124171,
          -2494.346157927881,
          -2125.5165605467528,
          1139.0675913831208,
          -1016.3629330534916,
          -1656.4246533860944,
          -1529.9498518651953,
          -3844.050469725096,
          -958.5370357661089,
          -3403.3543346107654,
          -2804.3179897641216,
          646.5434219075411,
          -1055.99646739923,
          -672.1307761420608,
          -2178.951078899758,
          -2395.15149085078,
          -3511.6510358173878,
          -809.2480282398324,
          -2541.103429757958,
          -3476.758241532857,
          -3586.3925803309535,
          -500.38226527672924,
          -1283.2493348069165,
          -2626.494091038499,
          -3482.950082631111,
          -1946.425647320715,
          -2379.4456307220707,
          -2464.365635646983,
          -3704.115462201343,
          -990.6072888551711,
          -975.0114136119705,
          -2999.048697401421,
          -2813.408968099346,
          -3386.630871370054,
          -2039.0522118035885,
          -3329.4235557220813,
          -1902.3045662332288,
          -4573.1365583188735,
          -3972.4381382736638,
          -1443.6315773519368,
          72.34217763365194,
          -1998.3145888103256,
          -1681.108190825446,
          -3330.0956203911073,
          -2386.7438202843014,
          -337.5830610287047,
          -2297.410483104437,
          -1034.0459046785431,
          -1709.680834714089,
          -2876.0171941981057,
          -2226.524522178829,
          -219.83546115271207,
          -1523.1535588510794,
          -2067.7845249042252,
          -512.1679220763324,
          -296.9483635317872,
          -3209.7049807915,
          968.1817045075694,
          -3159.4029087705617,
          -1200.4989785914927,
          -2323.9543527396127,
          -2373.907682943562,
          -1573.1294931068767,
          -2520.879074299022,
          -1271.836652252878,
          -2551.640176025431,
          -946.4423236598786,
          -2385.931492912864,
          -2299.1778477879407,
          -4966.632164446517,
          -1806.3718853762591,
          -361.8229000741431,
          776.7212819595685,
          -2706.953602076428,
          -3652.142734722459,
          -3267.8529257017826,
          -2456.062958384287,
          1229.6345018341212,
          -4327.599784659084,
          -4260.668084206517,
          -3270.249333202926,
          -1858.741442949726,
          -1059.5101766806472,
          -1690.2242432392875,
          163.00824757784557,
          -2756.210664925761,
          -2913.15095503896,
          -2964.8709350520144,
          -2831.2452680158362,
          -497.0289075072252,
          -2507.4686024831617,
          -1918.0710771595075,
          -2812.640793364645,
          -1061.392546047768,
          -1747.2843051407006,
          -559.8885893852705,
          -3267.6642579009513,
          -2253.3241819888635,
          -3595.426920160011,
          -982.6375502407418,
          -1788.5954480508212,
          -1026.2176795347018,
          -1341.6420338652322,
          -1284.2768049213942,
          -2003.3794666631097,
          -3656.859751453871,
          -3445.141443035062,
          -1025.6554152767999,
          -2662.237205665568,
          -2403.4517367005983,
          -2359.9807573111716,
          -3215.3115156639396
         ],
         "yaxis": "y"
        },
        {
         "customdata": [
          [
           65
          ],
          [
           61
          ],
          [
           58
          ],
          [
           59
          ],
          [
           65
          ],
          [
           61
          ],
          [
           56
          ],
          [
           62
          ],
          [
           58
          ],
          [
           61
          ],
          [
           66
          ],
          [
           59
          ],
          [
           59
          ],
          [
           56
          ],
          [
           59
          ],
          [
           60
          ],
          [
           62
          ],
          [
           63
          ],
          [
           51
          ],
          [
           56
          ],
          [
           55
          ],
          [
           58
          ],
          [
           59
          ],
          [
           68
          ],
          [
           58
          ],
          [
           61
          ],
          [
           55
          ],
          [
           58
          ],
          [
           67
          ],
          [
           56
          ],
          [
           57
          ],
          [
           67
          ],
          [
           59
          ],
          [
           60
          ],
          [
           57
          ],
          [
           61
          ],
          [
           60
          ],
          [
           64
          ],
          [
           62
          ],
          [
           58
          ],
          [
           59
          ],
          [
           63
          ],
          [
           61
          ],
          [
           59
          ],
          [
           59
          ],
          [
           56
          ],
          [
           60
          ],
          [
           57
          ],
          [
           61
          ],
          [
           63
          ],
          [
           58
          ],
          [
           59
          ],
          [
           59
          ],
          [
           61
          ],
          [
           67
          ],
          [
           65
          ],
          [
           59
          ],
          [
           59
          ],
          [
           58
          ],
          [
           61
          ],
          [
           62
          ],
          [
           66
          ],
          [
           57
          ],
          [
           66
          ],
          [
           63
          ],
          [
           64
          ],
          [
           62
          ],
          [
           62
          ],
          [
           60
          ],
          [
           65
          ],
          [
           60
          ],
          [
           63
          ],
          [
           56
          ],
          [
           58
          ],
          [
           62
          ],
          [
           56
          ],
          [
           59
          ],
          [
           58
          ],
          [
           63
          ],
          [
           64
          ],
          [
           62
          ],
          [
           60
          ],
          [
           62
          ],
          [
           58
          ],
          [
           56
          ],
          [
           62
          ],
          [
           64
          ],
          [
           66
          ],
          [
           59
          ],
          [
           62
          ],
          [
           65
          ],
          [
           61
          ],
          [
           62
          ],
          [
           60
          ],
          [
           63
          ],
          [
           59
          ],
          [
           62
          ],
          [
           59
          ],
          [
           54
          ],
          [
           61
          ],
          [
           55
          ],
          [
           53
          ],
          [
           55
          ],
          [
           61
          ],
          [
           59
          ],
          [
           59
          ],
          [
           56
          ],
          [
           61
          ],
          [
           61
          ],
          [
           60
          ],
          [
           57
          ],
          [
           61
          ],
          [
           56
          ],
          [
           58
          ],
          [
           64
          ],
          [
           59
          ],
          [
           58
          ],
          [
           59
          ],
          [
           58
          ],
          [
           57
          ],
          [
           55
          ],
          [
           62
          ],
          [
           64
          ],
          [
           61
          ],
          [
           53
          ],
          [
           55
          ],
          [
           58
          ],
          [
           59
          ],
          [
           57
          ],
          [
           53
          ],
          [
           61
          ],
          [
           56
          ],
          [
           60
          ],
          [
           58
          ],
          [
           68
          ],
          [
           59
          ],
          [
           64
          ],
          [
           64
          ],
          [
           64
          ],
          [
           62
          ],
          [
           66
          ],
          [
           59
          ],
          [
           57
          ],
          [
           61
          ],
          [
           67
          ],
          [
           58
          ],
          [
           63
          ],
          [
           63
          ],
          [
           56
          ],
          [
           55
          ],
          [
           57
          ],
          [
           57
          ],
          [
           55
          ],
          [
           60
          ],
          [
           58
          ],
          [
           58
          ]
         ],
         "hovertemplate": "Cluster=Cluster 2<br>PCA1=%{x}<br>PCA2=%{y}<br>Feature=%{customdata[0]}<extra></extra>",
         "legendgroup": "Cluster 2",
         "marker": {
          "color": "#00cc96",
          "opacity": 0.5,
          "symbol": "circle"
         },
         "mode": "markers",
         "name": "Cluster 2",
         "orientation": "v",
         "showlegend": true,
         "textposition": "top center",
         "type": "scatter",
         "x": [
          -4794.730197271387,
          -9600.009518947501,
          834.6063397987239,
          -5787.5844511746345,
          -4114.665839253165,
          -3222.028498023302,
          375.61201032836914,
          -7431.1699486358175,
          -4883.720557377947,
          -967.1345392121426,
          1855.0479746174021,
          -7793.454361394597,
          -18832.323097259672,
          3735.2222847238368,
          2663.8141164030026,
          -5149.414552703789,
          -1424.2968597298877,
          -7793.211518497579,
          -3127.7464850155143,
          5122.28254993268,
          -10419.650737321675,
          3333.0370068762827,
          7017.407221041005,
          -6270.130047136981,
          4968.764656493565,
          -6214.35492291285,
          1547.9124272172,
          -6075.723954598629,
          3574.867630749813,
          -1755.366367107969,
          4615.604597857521,
          5679.935019062444,
          -1709.0067144922584,
          -9176.939927564554,
          -3147.9717017775224,
          3607.6218458178514,
          -805.5182754639179,
          -12402.614021503572,
          -5898.744482221803,
          -4588.845678205521,
          -6051.798043076616,
          -4661.643211273588,
          -3197.7706738433235,
          5619.125533378012,
          -2220.635444393814,
          -9823.29297291479,
          -11770.096233982851,
          -10371.487065175947,
          -7827.504394122581,
          7034.567000940574,
          2868.6753241163105,
          -7981.746785180185,
          -1864.594073104944,
          -9270.98323867498,
          -6586.375025316483,
          -811.2732950246649,
          -7225.656657280493,
          277.31943945234934,
          2555.7842237303084,
          -1867.5011781843573,
          -1710.0091114415097,
          -2630.794144410175,
          1381.292535302742,
          -10238.837919558984,
          -2329.6167739359735,
          -3536.6249026123223,
          -11570.013634605884,
          -12594.175257191957,
          -3881.2792386591896,
          -9447.56696158068,
          -4595.7254645257335,
          5567.478118222898,
          9121.20833327475,
          499.49662400636305,
          -4176.722628358176,
          -6529.597903259436,
          -7423.928781748686,
          3385.8220344187566,
          -5414.849621040682,
          11039.02694992706,
          -5806.077068066842,
          -10072.875122355044,
          3175.730103636427,
          -5327.512632351792,
          -6874.447279795799,
          -6945.490210959259,
          1198.2155216057672,
          7325.256189942477,
          -7249.0281441127045,
          4864.683651762642,
          -9153.992112275359,
          -5628.983755072121,
          -8175.944783875947,
          4848.442756486665,
          10499.407287118545,
          6644.597598902891,
          -611.89209011093,
          -879.6961238367905,
          1270.5926144944294,
          -3354.4093952257367,
          -3652.051625562802,
          1535.3200257259405,
          3442.0678892712613,
          1691.1470012917064,
          -9514.74211691895,
          -5495.930033917732,
          -11393.264273317023,
          -1006.7942920597833,
          -11385.8073066192,
          -5228.773563698115,
          106.44731571900182,
          -2009.7086269484525,
          11129.424152003647,
          -4333.353165561375,
          13091.374146760905,
          -860.4354508721326,
          1797.8692909309734,
          -2601.869630596785,
          -4972.922132318901,
          4241.775879690278,
          -4197.995988224728,
          -5414.451735591047,
          -14757.626867529676,
          -6112.7019630314835,
          -13124.39161935542,
          -847.3002323292305,
          -907.6690954314638,
          -3902.650766405369,
          -1148.5927303150029,
          -284.93461560424475,
          -4025.534582979213,
          -15159.901907030271,
          -9955.598990292237,
          5073.487342754963,
          2456.1149302637136,
          -5713.304473394483,
          3594.0424319377607,
          1223.3332868105201,
          -10817.51488771064,
          -12401.012613234338,
          -3578.6411698602037,
          384.4886441749401,
          -9604.976111586087,
          -4335.121225148144,
          -15876.01420619958,
          -4856.160273050598,
          -182.87509914870898,
          -18377.080909021177,
          -7927.279401739004,
          -1254.7960958097472,
          -5506.504771609421,
          1380.9095889215503,
          871.056128883004,
          -7740.904886148216,
          8122.08038043186,
          2392.9514015408067
         ],
         "xaxis": "x",
         "y": [
          5174.4703666073665,
          4923.281736972953,
          5141.101353125809,
          5711.628519863212,
          3078.8959824923863,
          4129.181187750035,
          5049.606055105599,
          6342.036887449032,
          4688.370839749893,
          4638.724083111238,
          5468.743079867753,
          5788.853750291174,
          6823.253221994699,
          4370.467576915713,
          3399.11990874667,
          5556.666162538318,
          7267.328447090959,
          6334.2431060429335,
          5318.2818445710855,
          3424.0734017075033,
          5982.858062463154,
          4012.215485337335,
          5588.8004716788055,
          5401.821899173068,
          3943.117273821872,
          8154.20047191016,
          3973.906796940992,
          3500.59631421138,
          6638.189555586529,
          4273.205130157195,
          5713.442204003189,
          4711.285755352456,
          3684.6952600892073,
          7146.662700635196,
          5506.996438516336,
          4852.444506942649,
          4348.095844750873,
          4277.420175996693,
          5205.84012735838,
          4468.268199202183,
          6221.683197407632,
          4875.411844599679,
          5127.949297943513,
          4314.803831727296,
          4177.140252105043,
          6862.247568550063,
          5001.420588195518,
          6211.274367328164,
          5701.697567388543,
          3374.287306288761,
          5223.6421444650405,
          3467.5664301232227,
          5267.352326944862,
          5996.549301848854,
          4795.6594687271945,
          4771.515278723625,
          4564.617535912253,
          5152.077474584809,
          5164.690207216539,
          2685.6629912897993,
          5692.091535965753,
          5512.809747300325,
          5207.220968280951,
          7423.315553060325,
          6502.20765839998,
          5070.413063690275,
          6393.584858504243,
          5058.593260676149,
          3532.750550096707,
          6026.370077872553,
          4575.315312500271,
          6399.6795013389,
          4076.188940417802,
          4450.572584113241,
          5121.948253776999,
          5174.060198642412,
          5595.425013755242,
          4513.159188235653,
          4509.378968992936,
          4384.687445082082,
          5686.132099777832,
          7033.832267439065,
          4727.079878527437,
          5507.674338617667,
          3266.4705558115984,
          5240.28388742206,
          6031.59770294742,
          5245.750184774915,
          5030.101276940076,
          4834.954016262214,
          6237.454829267942,
          3413.4612857981783,
          5599.274846074155,
          6716.389157420828,
          4092.5866735586183,
          6074.108602891864,
          2642.856238209561,
          4574.029857294047,
          4918.8610453966885,
          4039.04972662622,
          4298.147977719963,
          6617.143268176031,
          3293.9261383034677,
          4305.6055689682435,
          5484.062321469937,
          5033.927141363292,
          4760.726839204426,
          6827.736581903389,
          5239.834348120344,
          4906.821114529843,
          5019.545227332754,
          4571.311395238494,
          2451.395705037181,
          6791.121854812108,
          3878.0739044405004,
          1366.217457286171,
          3616.906745545873,
          5720.063891344352,
          5053.9745650978975,
          4854.373360315699,
          4646.423182047714,
          6401.496667099202,
          5008.011891703143,
          7150.265776891149,
          5122.298324176325,
          5435.293660917676,
          4662.571681544213,
          5499.33924219725,
          6154.518340801139,
          4064.0083597599173,
          5644.552286645011,
          5573.243770197058,
          4085.312440945947,
          5244.436589238655,
          5539.978054207794,
          6098.407220683629,
          5244.223965614586,
          5666.3680206659055,
          6677.482013672124,
          6731.622413481731,
          4687.3312678713755,
          6845.141671584174,
          5517.456836124636,
          2658.2975017239987,
          7337.4624110052655,
          6861.841813756603,
          4411.324333177543,
          5086.374515846034,
          5673.527612414183,
          6380.91567846293,
          6298.430264198256,
          5567.11275396265,
          5689.000195132608,
          5133.639365463523,
          4731.012077645313,
          5992.684142669525
         ],
         "yaxis": "y"
        },
        {
         "customdata": [
          [
           30
          ],
          [
           31
          ],
          [
           31
          ],
          [
           30
          ],
          [
           33
          ],
          [
           85
          ],
          [
           83
          ],
          [
           36
          ],
          [
           30
          ],
          [
           34
          ],
          [
           36
          ],
          [
           84
          ],
          [
           36
          ],
          [
           22
          ],
          [
           31
          ],
          [
           30
          ],
          [
           35
          ],
          [
           34
          ],
          [
           37
          ],
          [
           38
          ],
          [
           29
          ],
          [
           37
          ],
          [
           28
          ],
          [
           35
          ],
          [
           29
          ],
          [
           37
          ],
          [
           34
          ],
          [
           32
          ],
          [
           30
          ],
          [
           35
          ],
          [
           31
          ],
          [
           33
          ],
          [
           39
          ],
          [
           31
          ],
          [
           33
          ],
          [
           33
          ],
          [
           36
          ],
          [
           37
          ],
          [
           31
          ],
          [
           31
          ],
          [
           31
          ],
          [
           33
          ],
          [
           31
          ],
          [
           36
          ],
          [
           33
          ],
          [
           37
          ],
          [
           35
          ],
          [
           25
          ],
          [
           30
          ],
          [
           37
          ],
          [
           28
          ],
          [
           31
          ],
          [
           33
          ],
          [
           28
          ],
          [
           34
          ],
          [
           31
          ],
          [
           32
          ],
          [
           30
          ],
          [
           27
          ],
          [
           30
          ],
          [
           34
          ],
          [
           33
          ],
          [
           31
          ],
          [
           30
          ],
          [
           29
          ],
          [
           30
          ],
          [
           84
          ],
          [
           39
          ],
          [
           86
          ],
          [
           29
          ],
          [
           35
          ],
          [
           59
          ],
          [
           28
          ],
          [
           33
          ],
          [
           38
          ],
          [
           28
          ],
          [
           29
          ],
          [
           40
          ],
          [
           32
          ],
          [
           84
          ],
          [
           28
          ],
          [
           36
          ],
          [
           32
          ],
          [
           29
          ],
          [
           32
          ],
          [
           29
          ],
          [
           35
          ],
          [
           34
          ],
          [
           29
          ],
          [
           25
          ],
          [
           29
          ],
          [
           42
          ],
          [
           33
          ],
          [
           31
          ],
          [
           36
          ],
          [
           36
          ],
          [
           43
          ],
          [
           36
          ],
          [
           33
          ],
          [
           33
          ],
          [
           29
          ],
          [
           38
          ],
          [
           38
          ],
          [
           35
          ],
          [
           32
          ],
          [
           34
          ],
          [
           36
          ],
          [
           31
          ],
          [
           37
          ],
          [
           35
          ],
          [
           88
          ],
          [
           39
          ],
          [
           31
          ],
          [
           35
          ],
          [
           31
          ],
          [
           37
          ],
          [
           37
          ],
          [
           26
          ],
          [
           32
          ],
          [
           31
          ],
          [
           34
          ],
          [
           37
          ],
          [
           34
          ],
          [
           33
          ],
          [
           33
          ],
          [
           35
          ],
          [
           28
          ],
          [
           34
          ],
          [
           30
          ],
          [
           44
          ],
          [
           24
          ],
          [
           31
          ]
         ],
         "hovertemplate": "Cluster=Cluster 3<br>PCA1=%{x}<br>PCA2=%{y}<br>Feature=%{customdata[0]}<extra></extra>",
         "legendgroup": "Cluster 3",
         "marker": {
          "color": "#ab63fa",
          "opacity": 0.5,
          "symbol": "circle"
         },
         "mode": "markers",
         "name": "Cluster 3",
         "orientation": "v",
         "showlegend": true,
         "textposition": "top center",
         "type": "scatter",
         "x": [
          31614.44255775001,
          32345.7084111081,
          32322.90853552384,
          31911.00122289606,
          22258.60867822995,
          35579.205841847666,
          41580.271741364086,
          20592.34660124054,
          26298.148403025272,
          26507.04289793959,
          28639.38501225217,
          38543.62513846529,
          23967.006141706453,
          33345.15627446265,
          39135.37624685962,
          22224.556150677527,
          28912.895143562077,
          28627.259856345197,
          32912.89205445825,
          18943.372815329043,
          30268.705481027453,
          21900.785293459754,
          25474.402763132653,
          41298.631284922725,
          15764.491422930714,
          30949.636906806907,
          23196.21332168356,
          32572.750284951748,
          25376.69328333066,
          34360.481813439495,
          37228.73474929932,
          30046.489099008413,
          24706.128365431097,
          35758.275461121135,
          31361.085258501203,
          31045.220281184625,
          24491.388924465668,
          32289.54019339472,
          32416.9398563682,
          25732.34496458891,
          25363.919193669753,
          30584.12459685682,
          35187.910560505545,
          22350.769806170996,
          25328.069975138693,
          31202.41265845168,
          30806.77636569973,
          25765.790066438367,
          32797.64364946067,
          22105.034606632664,
          19017.169490301203,
          32307.936747625587,
          40849.48060118116,
          24827.97879769225,
          22393.417704629752,
          30148.682682831197,
          41328.25268046836,
          24294.808481974393,
          31016.952780284315,
          20486.14068168536,
          35572.715402147165,
          32561.025384279346,
          23748.677826025556,
          32149.92130246573,
          40673.8596657264,
          30614.165788924827,
          34834.90179722812,
          23470.847054512218,
          39941.23737200698,
          26228.376273797625,
          30155.33417948101,
          15177.319702791374,
          36260.39987248518,
          38869.64947043892,
          37939.717010227374,
          23858.59823485609,
          35036.71586290591,
          23032.68011842763,
          26023.566392701574,
          39513.27355052192,
          33379.42059724405,
          29861.546691899774,
          30836.97832091281,
          27412.691418946528,
          19785.99437370537,
          35711.08000630003,
          37194.902271544655,
          14006.000973765198,
          23392.942038336743,
          30950.10184584332,
          26312.372969945707,
          31253.468503847314,
          36008.72534227604,
          26983.046355085924,
          26071.981192203417,
          32210.979752849853,
          25938.05051554677,
          33203.84261491333,
          19295.267700776123,
          23896.368797199062,
          36813.76713471415,
          28960.634987007867,
          39399.40138079228,
          26578.153217150357,
          34753.14847117059,
          23022.218288328833,
          34060.877510973005,
          40419.576674193486,
          34830.86604526117,
          32691.869561885116,
          38847.16975192885,
          24819.36093398276,
          28681.549871210224,
          26003.522420593927,
          29210.55689290381,
          31960.754470883134,
          32853.06228404302,
          21973.307957773006,
          26343.678683823586,
          29240.50973646178,
          27758.387553781664,
          35023.21628615085,
          31502.360315169415,
          24613.75199474728,
          16918.676225923777,
          31317.298082397007,
          22236.169465667903,
          27456.913258989443,
          33217.92658728103,
          38938.11811665466,
          34815.25490758302,
          31330.343959587746
         ],
         "xaxis": "x",
         "y": [
          -3948.4132949879468,
          -2201.7207440339225,
          -3681.2906989074822,
          -2672.9115870036812,
          -5195.925254869425,
          -6195.256076450421,
          -5615.560841025151,
          -4611.5878657027715,
          -5023.0388936156805,
          -5484.674224534325,
          -3130.9503738580543,
          -7198.063500096838,
          -5918.695473496262,
          -6080.2997846473045,
          -4339.706610389612,
          -5737.014106158459,
          -5224.554320132961,
          -3324.816428758567,
          -4588.664848267575,
          -6099.926572904171,
          -4917.675610318426,
          -5234.914564220788,
          -4541.161734519421,
          -6422.065158701379,
          -2149.1523643994014,
          -4397.197247861158,
          -5613.714696123642,
          -6711.005612774816,
          -3922.3289154774966,
          -5038.816345608889,
          -4575.53758572933,
          -2733.109173664298,
          -6304.286669733974,
          -4122.471659041032,
          -4837.589777514413,
          -4354.8802382613985,
          -3378.54364763287,
          -3634.3416070178246,
          -3316.8740951794725,
          -4846.28015427884,
          -6518.878337708812,
          -5198.652074260108,
          -4164.857943447225,
          -5405.192571717655,
          -4507.818639633956,
          -4006.881209005658,
          -5560.204279339269,
          -4647.514683014747,
          -5654.54720858524,
          -4346.187481501862,
          -4587.056170558116,
          -3401.081205177549,
          -5591.430813146151,
          -5088.608026609533,
          -5150.747387385603,
          -3727.6410744728196,
          -4823.645609095859,
          -3156.1748108191523,
          -4865.0042507751195,
          -4804.203961851942,
          -4807.664945608781,
          -5658.528738891308,
          -4085.3877140573504,
          -5508.945012028883,
          -5771.827355976941,
          -4762.434742638737,
          -5079.540897002676,
          -4720.2485683084515,
          -5237.495096676828,
          -4266.484394821192,
          -6491.8455875247955,
          4253.670080185394,
          -3890.3445341678894,
          -4117.835744147897,
          -4683.4402679132145,
          -4857.997405051622,
          -6415.699422707936,
          -5461.17916779445,
          -7172.3340862970435,
          -4805.682615179913,
          -4139.05283321281,
          -4210.49136349358,
          -4248.410776130161,
          -5970.659385853914,
          -4699.391881256258,
          -4543.480905662903,
          -4030.4862142381494,
          -1775.6048970799563,
          -5117.926531788415,
          -6274.399316410813,
          -4286.405352481009,
          -4792.820646769852,
          -6111.705479451003,
          -2897.41827579851,
          -4687.76444193894,
          -5806.362656038753,
          -4054.25252362105,
          -6552.892383943655,
          -3266.6498646156997,
          -4653.572749186025,
          -4615.462129937939,
          -5439.90201085886,
          -5202.090372452889,
          -4542.181119259875,
          -4008.589273701793,
          -4439.122431386044,
          -5075.678179352539,
          -6642.234020142048,
          -5377.228895403815,
          -6066.4571344577525,
          -8209.639605398548,
          -6443.11685581786,
          -4194.112749071153,
          -3786.1338481571643,
          -6286.357858424542,
          -7950.138456796384,
          -5910.59573288654,
          -5227.972192633888,
          -3863.006710456127,
          -5240.7101050214205,
          -3524.6022728079934,
          -4416.577014358725,
          -5081.205828124805,
          -3288.4640447513398,
          -2877.1941821022256,
          -6141.762968151073,
          -4400.042493871468,
          -4868.312310128513,
          -4387.405057818719,
          -4443.17020761207,
          -5108.281907469457,
          -5635.16399292634
         ],
         "yaxis": "y"
        }
       ],
       "layout": {
        "height": 600,
        "legend": {
         "title": {
          "text": "Cluster"
         },
         "tracegroupgap": 0
        },
        "margin": {
         "t": 60
        },
        "plot_bgcolor": "rgb(240,240,240)",
        "template": {
         "data": {
          "bar": [
           {
            "error_x": {
             "color": "#2a3f5f"
            },
            "error_y": {
             "color": "#2a3f5f"
            },
            "marker": {
             "line": {
              "color": "#E5ECF6",
              "width": 0.5
             },
             "pattern": {
              "fillmode": "overlay",
              "size": 10,
              "solidity": 0.2
             }
            },
            "type": "bar"
           }
          ],
          "barpolar": [
           {
            "marker": {
             "line": {
              "color": "#E5ECF6",
              "width": 0.5
             },
             "pattern": {
              "fillmode": "overlay",
              "size": 10,
              "solidity": 0.2
             }
            },
            "type": "barpolar"
           }
          ],
          "carpet": [
           {
            "aaxis": {
             "endlinecolor": "#2a3f5f",
             "gridcolor": "white",
             "linecolor": "white",
             "minorgridcolor": "white",
             "startlinecolor": "#2a3f5f"
            },
            "baxis": {
             "endlinecolor": "#2a3f5f",
             "gridcolor": "white",
             "linecolor": "white",
             "minorgridcolor": "white",
             "startlinecolor": "#2a3f5f"
            },
            "type": "carpet"
           }
          ],
          "choropleth": [
           {
            "colorbar": {
             "outlinewidth": 0,
             "ticks": ""
            },
            "type": "choropleth"
           }
          ],
          "contour": [
           {
            "colorbar": {
             "outlinewidth": 0,
             "ticks": ""
            },
            "colorscale": [
             [
              0,
              "#0d0887"
             ],
             [
              0.1111111111111111,
              "#46039f"
             ],
             [
              0.2222222222222222,
              "#7201a8"
             ],
             [
              0.3333333333333333,
              "#9c179e"
             ],
             [
              0.4444444444444444,
              "#bd3786"
             ],
             [
              0.5555555555555556,
              "#d8576b"
             ],
             [
              0.6666666666666666,
              "#ed7953"
             ],
             [
              0.7777777777777778,
              "#fb9f3a"
             ],
             [
              0.8888888888888888,
              "#fdca26"
             ],
             [
              1,
              "#f0f921"
             ]
            ],
            "type": "contour"
           }
          ],
          "contourcarpet": [
           {
            "colorbar": {
             "outlinewidth": 0,
             "ticks": ""
            },
            "type": "contourcarpet"
           }
          ],
          "heatmap": [
           {
            "colorbar": {
             "outlinewidth": 0,
             "ticks": ""
            },
            "colorscale": [
             [
              0,
              "#0d0887"
             ],
             [
              0.1111111111111111,
              "#46039f"
             ],
             [
              0.2222222222222222,
              "#7201a8"
             ],
             [
              0.3333333333333333,
              "#9c179e"
             ],
             [
              0.4444444444444444,
              "#bd3786"
             ],
             [
              0.5555555555555556,
              "#d8576b"
             ],
             [
              0.6666666666666666,
              "#ed7953"
             ],
             [
              0.7777777777777778,
              "#fb9f3a"
             ],
             [
              0.8888888888888888,
              "#fdca26"
             ],
             [
              1,
              "#f0f921"
             ]
            ],
            "type": "heatmap"
           }
          ],
          "heatmapgl": [
           {
            "colorbar": {
             "outlinewidth": 0,
             "ticks": ""
            },
            "colorscale": [
             [
              0,
              "#0d0887"
             ],
             [
              0.1111111111111111,
              "#46039f"
             ],
             [
              0.2222222222222222,
              "#7201a8"
             ],
             [
              0.3333333333333333,
              "#9c179e"
             ],
             [
              0.4444444444444444,
              "#bd3786"
             ],
             [
              0.5555555555555556,
              "#d8576b"
             ],
             [
              0.6666666666666666,
              "#ed7953"
             ],
             [
              0.7777777777777778,
              "#fb9f3a"
             ],
             [
              0.8888888888888888,
              "#fdca26"
             ],
             [
              1,
              "#f0f921"
             ]
            ],
            "type": "heatmapgl"
           }
          ],
          "histogram": [
           {
            "marker": {
             "pattern": {
              "fillmode": "overlay",
              "size": 10,
              "solidity": 0.2
             }
            },
            "type": "histogram"
           }
          ],
          "histogram2d": [
           {
            "colorbar": {
             "outlinewidth": 0,
             "ticks": ""
            },
            "colorscale": [
             [
              0,
              "#0d0887"
             ],
             [
              0.1111111111111111,
              "#46039f"
             ],
             [
              0.2222222222222222,
              "#7201a8"
             ],
             [
              0.3333333333333333,
              "#9c179e"
             ],
             [
              0.4444444444444444,
              "#bd3786"
             ],
             [
              0.5555555555555556,
              "#d8576b"
             ],
             [
              0.6666666666666666,
              "#ed7953"
             ],
             [
              0.7777777777777778,
              "#fb9f3a"
             ],
             [
              0.8888888888888888,
              "#fdca26"
             ],
             [
              1,
              "#f0f921"
             ]
            ],
            "type": "histogram2d"
           }
          ],
          "histogram2dcontour": [
           {
            "colorbar": {
             "outlinewidth": 0,
             "ticks": ""
            },
            "colorscale": [
             [
              0,
              "#0d0887"
             ],
             [
              0.1111111111111111,
              "#46039f"
             ],
             [
              0.2222222222222222,
              "#7201a8"
             ],
             [
              0.3333333333333333,
              "#9c179e"
             ],
             [
              0.4444444444444444,
              "#bd3786"
             ],
             [
              0.5555555555555556,
              "#d8576b"
             ],
             [
              0.6666666666666666,
              "#ed7953"
             ],
             [
              0.7777777777777778,
              "#fb9f3a"
             ],
             [
              0.8888888888888888,
              "#fdca26"
             ],
             [
              1,
              "#f0f921"
             ]
            ],
            "type": "histogram2dcontour"
           }
          ],
          "mesh3d": [
           {
            "colorbar": {
             "outlinewidth": 0,
             "ticks": ""
            },
            "type": "mesh3d"
           }
          ],
          "parcoords": [
           {
            "line": {
             "colorbar": {
              "outlinewidth": 0,
              "ticks": ""
             }
            },
            "type": "parcoords"
           }
          ],
          "pie": [
           {
            "automargin": true,
            "type": "pie"
           }
          ],
          "scatter": [
           {
            "fillpattern": {
             "fillmode": "overlay",
             "size": 10,
             "solidity": 0.2
            },
            "type": "scatter"
           }
          ],
          "scatter3d": [
           {
            "line": {
             "colorbar": {
              "outlinewidth": 0,
              "ticks": ""
             }
            },
            "marker": {
             "colorbar": {
              "outlinewidth": 0,
              "ticks": ""
             }
            },
            "type": "scatter3d"
           }
          ],
          "scattercarpet": [
           {
            "marker": {
             "colorbar": {
              "outlinewidth": 0,
              "ticks": ""
             }
            },
            "type": "scattercarpet"
           }
          ],
          "scattergeo": [
           {
            "marker": {
             "colorbar": {
              "outlinewidth": 0,
              "ticks": ""
             }
            },
            "type": "scattergeo"
           }
          ],
          "scattergl": [
           {
            "marker": {
             "colorbar": {
              "outlinewidth": 0,
              "ticks": ""
             }
            },
            "type": "scattergl"
           }
          ],
          "scattermapbox": [
           {
            "marker": {
             "colorbar": {
              "outlinewidth": 0,
              "ticks": ""
             }
            },
            "type": "scattermapbox"
           }
          ],
          "scatterpolar": [
           {
            "marker": {
             "colorbar": {
              "outlinewidth": 0,
              "ticks": ""
             }
            },
            "type": "scatterpolar"
           }
          ],
          "scatterpolargl": [
           {
            "marker": {
             "colorbar": {
              "outlinewidth": 0,
              "ticks": ""
             }
            },
            "type": "scatterpolargl"
           }
          ],
          "scatterternary": [
           {
            "marker": {
             "colorbar": {
              "outlinewidth": 0,
              "ticks": ""
             }
            },
            "type": "scatterternary"
           }
          ],
          "surface": [
           {
            "colorbar": {
             "outlinewidth": 0,
             "ticks": ""
            },
            "colorscale": [
             [
              0,
              "#0d0887"
             ],
             [
              0.1111111111111111,
              "#46039f"
             ],
             [
              0.2222222222222222,
              "#7201a8"
             ],
             [
              0.3333333333333333,
              "#9c179e"
             ],
             [
              0.4444444444444444,
              "#bd3786"
             ],
             [
              0.5555555555555556,
              "#d8576b"
             ],
             [
              0.6666666666666666,
              "#ed7953"
             ],
             [
              0.7777777777777778,
              "#fb9f3a"
             ],
             [
              0.8888888888888888,
              "#fdca26"
             ],
             [
              1,
              "#f0f921"
             ]
            ],
            "type": "surface"
           }
          ],
          "table": [
           {
            "cells": {
             "fill": {
              "color": "#EBF0F8"
             },
             "line": {
              "color": "white"
             }
            },
            "header": {
             "fill": {
              "color": "#C8D4E3"
             },
             "line": {
              "color": "white"
             }
            },
            "type": "table"
           }
          ]
         },
         "layout": {
          "annotationdefaults": {
           "arrowcolor": "#2a3f5f",
           "arrowhead": 0,
           "arrowwidth": 1
          },
          "autotypenumbers": "strict",
          "coloraxis": {
           "colorbar": {
            "outlinewidth": 0,
            "ticks": ""
           }
          },
          "colorscale": {
           "diverging": [
            [
             0,
             "#8e0152"
            ],
            [
             0.1,
             "#c51b7d"
            ],
            [
             0.2,
             "#de77ae"
            ],
            [
             0.3,
             "#f1b6da"
            ],
            [
             0.4,
             "#fde0ef"
            ],
            [
             0.5,
             "#f7f7f7"
            ],
            [
             0.6,
             "#e6f5d0"
            ],
            [
             0.7,
             "#b8e186"
            ],
            [
             0.8,
             "#7fbc41"
            ],
            [
             0.9,
             "#4d9221"
            ],
            [
             1,
             "#276419"
            ]
           ],
           "sequential": [
            [
             0,
             "#0d0887"
            ],
            [
             0.1111111111111111,
             "#46039f"
            ],
            [
             0.2222222222222222,
             "#7201a8"
            ],
            [
             0.3333333333333333,
             "#9c179e"
            ],
            [
             0.4444444444444444,
             "#bd3786"
            ],
            [
             0.5555555555555556,
             "#d8576b"
            ],
            [
             0.6666666666666666,
             "#ed7953"
            ],
            [
             0.7777777777777778,
             "#fb9f3a"
            ],
            [
             0.8888888888888888,
             "#fdca26"
            ],
            [
             1,
             "#f0f921"
            ]
           ],
           "sequentialminus": [
            [
             0,
             "#0d0887"
            ],
            [
             0.1111111111111111,
             "#46039f"
            ],
            [
             0.2222222222222222,
             "#7201a8"
            ],
            [
             0.3333333333333333,
             "#9c179e"
            ],
            [
             0.4444444444444444,
             "#bd3786"
            ],
            [
             0.5555555555555556,
             "#d8576b"
            ],
            [
             0.6666666666666666,
             "#ed7953"
            ],
            [
             0.7777777777777778,
             "#fb9f3a"
            ],
            [
             0.8888888888888888,
             "#fdca26"
            ],
            [
             1,
             "#f0f921"
            ]
           ]
          },
          "colorway": [
           "#636efa",
           "#EF553B",
           "#00cc96",
           "#ab63fa",
           "#FFA15A",
           "#19d3f3",
           "#FF6692",
           "#B6E880",
           "#FF97FF",
           "#FECB52"
          ],
          "font": {
           "color": "#2a3f5f"
          },
          "geo": {
           "bgcolor": "white",
           "lakecolor": "white",
           "landcolor": "#E5ECF6",
           "showlakes": true,
           "showland": true,
           "subunitcolor": "white"
          },
          "hoverlabel": {
           "align": "left"
          },
          "hovermode": "closest",
          "mapbox": {
           "style": "light"
          },
          "paper_bgcolor": "white",
          "plot_bgcolor": "#E5ECF6",
          "polar": {
           "angularaxis": {
            "gridcolor": "white",
            "linecolor": "white",
            "ticks": ""
           },
           "bgcolor": "#E5ECF6",
           "radialaxis": {
            "gridcolor": "white",
            "linecolor": "white",
            "ticks": ""
           }
          },
          "scene": {
           "xaxis": {
            "backgroundcolor": "#E5ECF6",
            "gridcolor": "white",
            "gridwidth": 2,
            "linecolor": "white",
            "showbackground": true,
            "ticks": "",
            "zerolinecolor": "white"
           },
           "yaxis": {
            "backgroundcolor": "#E5ECF6",
            "gridcolor": "white",
            "gridwidth": 2,
            "linecolor": "white",
            "showbackground": true,
            "ticks": "",
            "zerolinecolor": "white"
           },
           "zaxis": {
            "backgroundcolor": "#E5ECF6",
            "gridcolor": "white",
            "gridwidth": 2,
            "linecolor": "white",
            "showbackground": true,
            "ticks": "",
            "zerolinecolor": "white"
           }
          },
          "shapedefaults": {
           "line": {
            "color": "#2a3f5f"
           }
          },
          "ternary": {
           "aaxis": {
            "gridcolor": "white",
            "linecolor": "white",
            "ticks": ""
           },
           "baxis": {
            "gridcolor": "white",
            "linecolor": "white",
            "ticks": ""
           },
           "bgcolor": "#E5ECF6",
           "caxis": {
            "gridcolor": "white",
            "linecolor": "white",
            "ticks": ""
           }
          },
          "title": {
           "x": 0.05
          },
          "xaxis": {
           "automargin": true,
           "gridcolor": "white",
           "linecolor": "white",
           "ticks": "",
           "title": {
            "standoff": 15
           },
           "zerolinecolor": "white",
           "zerolinewidth": 2
          },
          "yaxis": {
           "automargin": true,
           "gridcolor": "white",
           "linecolor": "white",
           "ticks": "",
           "title": {
            "standoff": 15
           },
           "zerolinecolor": "white",
           "zerolinewidth": 2
          }
         }
        },
        "title": {
         "text": "2D Cluster PCA Plot"
        },
        "xaxis": {
         "anchor": "y",
         "domain": [
          0,
          1
         ],
         "title": {
          "text": "PCA1"
         }
        },
        "yaxis": {
         "anchor": "x",
         "domain": [
          0,
          1
         ],
         "title": {
          "text": "PCA2"
         }
        }
       }
      }
     },
     "metadata": {},
     "output_type": "display_data"
    }
   ],
   "source": [
    "evaluate_model(kmeans)"
   ]
  },
  {
   "cell_type": "code",
   "execution_count": 11,
   "metadata": {},
   "outputs": [
    {
     "data": {
      "text/html": [
       "<div>\n",
       "<style scoped>\n",
       "    .dataframe tbody tr th:only-of-type {\n",
       "        vertical-align: middle;\n",
       "    }\n",
       "\n",
       "    .dataframe tbody tr th {\n",
       "        vertical-align: top;\n",
       "    }\n",
       "\n",
       "    .dataframe thead th {\n",
       "        text-align: right;\n",
       "    }\n",
       "</style>\n",
       "<table border=\"1\" class=\"dataframe\">\n",
       "  <thead>\n",
       "    <tr style=\"text-align: right;\">\n",
       "      <th></th>\n",
       "      <th>Age</th>\n",
       "      <th>Income</th>\n",
       "      <th>SpendingScore</th>\n",
       "      <th>Savings</th>\n",
       "      <th>Cluster</th>\n",
       "    </tr>\n",
       "  </thead>\n",
       "  <tbody>\n",
       "    <tr>\n",
       "      <th>0</th>\n",
       "      <td>58</td>\n",
       "      <td>77769</td>\n",
       "      <td>0.791329</td>\n",
       "      <td>6559.830078</td>\n",
       "      <td>Cluster 2</td>\n",
       "    </tr>\n",
       "    <tr>\n",
       "      <th>1</th>\n",
       "      <td>59</td>\n",
       "      <td>81799</td>\n",
       "      <td>0.791082</td>\n",
       "      <td>5417.661621</td>\n",
       "      <td>Cluster 2</td>\n",
       "    </tr>\n",
       "    <tr>\n",
       "      <th>2</th>\n",
       "      <td>62</td>\n",
       "      <td>74751</td>\n",
       "      <td>0.702657</td>\n",
       "      <td>9258.993164</td>\n",
       "      <td>Cluster 2</td>\n",
       "    </tr>\n",
       "    <tr>\n",
       "      <th>3</th>\n",
       "      <td>59</td>\n",
       "      <td>74373</td>\n",
       "      <td>0.765680</td>\n",
       "      <td>7346.334473</td>\n",
       "      <td>Cluster 2</td>\n",
       "    </tr>\n",
       "    <tr>\n",
       "      <th>4</th>\n",
       "      <td>87</td>\n",
       "      <td>17760</td>\n",
       "      <td>0.348778</td>\n",
       "      <td>16869.507812</td>\n",
       "      <td>Cluster 1</td>\n",
       "    </tr>\n",
       "  </tbody>\n",
       "</table>\n",
       "</div>"
      ],
      "text/plain": [
       "   Age  Income  SpendingScore       Savings    Cluster\n",
       "0   58   77769       0.791329   6559.830078  Cluster 2\n",
       "1   59   81799       0.791082   5417.661621  Cluster 2\n",
       "2   62   74751       0.702657   9258.993164  Cluster 2\n",
       "3   59   74373       0.765680   7346.334473  Cluster 2\n",
       "4   87   17760       0.348778  16869.507812  Cluster 1"
      ]
     },
     "execution_count": 11,
     "metadata": {},
     "output_type": "execute_result"
    }
   ],
   "source": [
    "kmeans_df = assign_model(kmeans)\n",
    "kmeans_df.head()"
   ]
  },
  {
   "cell_type": "code",
   "execution_count": 12,
   "metadata": {},
   "outputs": [
    {
     "data": {
      "text/html": [],
      "text/plain": [
       "<IPython.core.display.HTML object>"
      ]
     },
     "metadata": {},
     "output_type": "display_data"
    },
    {
     "data": {
      "text/html": [
       "<style type=\"text/css\">\n",
       "</style>\n",
       "<table id=\"T_13d62\">\n",
       "  <thead>\n",
       "    <tr>\n",
       "      <th class=\"blank level0\" >&nbsp;</th>\n",
       "      <th id=\"T_13d62_level0_col0\" class=\"col_heading level0 col0\" >Silhouette</th>\n",
       "      <th id=\"T_13d62_level0_col1\" class=\"col_heading level0 col1\" >Calinski-Harabasz</th>\n",
       "      <th id=\"T_13d62_level0_col2\" class=\"col_heading level0 col2\" >Davies-Bouldin</th>\n",
       "      <th id=\"T_13d62_level0_col3\" class=\"col_heading level0 col3\" >Homogeneity</th>\n",
       "      <th id=\"T_13d62_level0_col4\" class=\"col_heading level0 col4\" >Rand Index</th>\n",
       "      <th id=\"T_13d62_level0_col5\" class=\"col_heading level0 col5\" >Completeness</th>\n",
       "    </tr>\n",
       "  </thead>\n",
       "  <tbody>\n",
       "    <tr>\n",
       "      <th id=\"T_13d62_level0_row0\" class=\"row_heading level0 row0\" >0</th>\n",
       "      <td id=\"T_13d62_row0_col0\" class=\"data row0 col0\" >0.7060</td>\n",
       "      <td id=\"T_13d62_row0_col1\" class=\"data row0 col1\" >4827.2243</td>\n",
       "      <td id=\"T_13d62_row0_col2\" class=\"data row0 col2\" >0.4339</td>\n",
       "      <td id=\"T_13d62_row0_col3\" class=\"data row0 col3\" >0</td>\n",
       "      <td id=\"T_13d62_row0_col4\" class=\"data row0 col4\" >0</td>\n",
       "      <td id=\"T_13d62_row0_col5\" class=\"data row0 col5\" >0</td>\n",
       "    </tr>\n",
       "  </tbody>\n",
       "</table>\n"
      ],
      "text/plain": [
       "<pandas.io.formats.style.Styler at 0x2a52000e710>"
      ]
     },
     "metadata": {},
     "output_type": "display_data"
    },
    {
     "data": {
      "text/html": [],
      "text/plain": [
       "<IPython.core.display.HTML object>"
      ]
     },
     "metadata": {},
     "output_type": "display_data"
    }
   ],
   "source": [
    "hierarchical = create_model('hclust')"
   ]
  },
  {
   "cell_type": "code",
   "execution_count": 13,
   "metadata": {},
   "outputs": [
    {
     "data": {
      "text/html": [],
      "text/plain": [
       "<IPython.core.display.HTML object>"
      ]
     },
     "metadata": {},
     "output_type": "display_data"
    },
    {
     "data": {
      "application/vnd.plotly.v1+json": {
       "config": {
        "plotlyServerURL": "https://plot.ly"
       },
       "data": [
        {
         "hovertemplate": "Cluster=Cluster 0<br>PCA1=%{x}<br>PCA2=%{y}<br>Label=%{text}<extra></extra>",
         "legendgroup": "Cluster 0",
         "marker": {
          "color": "#636efa",
          "opacity": 0.5,
          "symbol": "circle"
         },
         "mode": "markers+text",
         "name": "Cluster 0",
         "orientation": "v",
         "showlegend": true,
         "text": [
          26,
          24,
          91,
          24,
          25,
          24,
          23,
          17,
          24,
          84,
          20,
          84,
          29,
          29,
          93,
          17,
          28,
          23,
          24,
          33,
          17,
          23,
          28,
          18,
          29,
          33,
          31,
          31,
          23,
          34,
          86,
          87,
          38,
          86,
          20,
          28,
          26,
          82,
          24,
          25,
          44,
          27,
          31,
          82,
          21,
          28,
          88,
          22,
          26,
          29,
          28,
          21,
          38,
          35,
          77,
          86,
          25,
          27,
          89,
          28,
          29,
          25,
          90,
          83,
          88,
          22,
          85,
          26,
          35,
          17,
          30,
          26,
          92,
          84,
          20,
          29,
          31,
          18,
          83,
          32,
          22,
          27,
          24,
          90,
          25,
          25,
          88,
          83
         ],
         "textposition": "top center",
         "type": "scatter",
         "x": [
          52086.38065950194,
          55795.99791010052,
          43084.43131856258,
          59239.85352122595,
          55783.4288540903,
          61617.25601853899,
          54778.91990697279,
          61085.161818166314,
          45280.29646688092,
          39513.27355052192,
          47415.38915596524,
          38543.62513846529,
          47210.61128826451,
          43600.21620721055,
          50874.59371963915,
          48697.32854572946,
          52465.033585302146,
          63317.06653029426,
          53976.78999307682,
          40849.48060118116,
          59803.04557597504,
          51395.224355863356,
          48029.23597884724,
          48551.8977898876,
          40673.8596657264,
          38869.64947043892,
          40419.576674193486,
          39135.37624685962,
          45049.71302323952,
          44074.74433395846,
          39941.23737200698,
          41859.154366077826,
          37939.717010227374,
          52679.13743936508,
          54230.31142876461,
          46000.80248340854,
          51532.47005468583,
          50433.851405074165,
          52263.49411048383,
          45728.401139272275,
          38938.11811665466,
          49923.23240059176,
          47836.448388874895,
          45920.30382555986,
          54542.56027032774,
          41933.876337644055,
          47964.5522850611,
          45302.57091364998,
          50397.08388459143,
          36813.76713471415,
          48281.964760281204,
          48602.57110350961,
          39399.40138079228,
          37194.902271544655,
          52844.214520669055,
          48577.245951971614,
          55809.60824754347,
          47518.88132347983,
          43861.747071619975,
          53924.59704186735,
          56449.67813276759,
          55168.45153662272,
          48410.00928895812,
          42157.80543094875,
          38847.16975192885,
          57857.289053149856,
          42414.139835251306,
          47842.88366913237,
          41298.631284922725,
          59798.17481891007,
          47549.76255316084,
          56651.455486319566,
          47182.06860121161,
          46993.64107086381,
          53899.234054063396,
          66750.62107639131,
          37228.73474929932,
          55587.351727935136,
          41580.271741364086,
          41328.25268046836,
          58984.55028389013,
          46271.74997443967,
          59196.593078354126,
          42045.79572232815,
          53422.55247996485,
          62912.4571003927,
          44952.9020471801,
          43629.0127400591
         ],
         "xaxis": "x",
         "y": [
          3388.4270675204825,
          4252.897482631877,
          -4660.855325409056,
          4745.14449328446,
          4732.087674705491,
          6726.313729421171,
          4629.7913457227,
          4243.72180398018,
          4437.356755042895,
          -4805.682615179913,
          4709.388721993278,
          -7198.063500096838,
          6674.23478313565,
          -5657.478374018925,
          -5178.053057007961,
          5282.497861655178,
          3371.5330641923233,
          4946.177503380891,
          5488.389848804962,
          -5591.430813146151,
          8450.307548937866,
          5657.241523409535,
          5422.323715263647,
          4668.214701347181,
          -5771.827355976941,
          -4117.835744147897,
          -6642.234020142048,
          -4339.706610389612,
          4590.8723562927735,
          -6307.668957592921,
          -5237.495096676828,
          -4543.326342656835,
          -4683.4402679132145,
          -4749.056737128192,
          3238.4289374841255,
          3884.452852169688,
          6006.733800938243,
          -6854.205790290357,
          5916.358116348493,
          3658.3064353496698,
          -4443.17020761207,
          6048.724076369265,
          6059.983303443474,
          -4953.92149406202,
          4193.883189681694,
          4717.997031231375,
          -4397.185708241021,
          3778.181609385129,
          2890.5507602719595,
          -4615.462129937939,
          8499.966919747441,
          6249.537248101816,
          -5202.090372452889,
          -4030.4862142381494,
          -5677.667836398251,
          -6305.307643166639,
          3879.149542578088,
          4941.999476017804,
          -6877.036237163739,
          5765.842917677416,
          5101.398631128976,
          4016.9815008394594,
          -5693.665477980647,
          -5954.4545753329285,
          -8209.639605398548,
          5717.501103769997,
          -5432.281984340312,
          4758.1885834484165,
          -6422.065158701379,
          4315.751653167787,
          3437.896625297283,
          4271.292256835256,
          -4557.716265875756,
          -4647.129392602869,
          3176.746804746794,
          2693.008067325201,
          -4575.53758572933,
          3427.1351701713456,
          -5615.560841025151,
          -4823.645609095859,
          3350.711797535984,
          4207.414538362315,
          3903.974813791067,
          -3106.1031340527984,
          3894.235404068599,
          5261.355290099562,
          -4985.5146043490795,
          -6254.840940318058
         ],
         "yaxis": "y"
        },
        {
         "hovertemplate": "Cluster=Cluster 1<br>PCA1=%{x}<br>PCA2=%{y}<br>Label=%{text}<extra></extra>",
         "legendgroup": "Cluster 1",
         "marker": {
          "color": "#EF553B",
          "opacity": 0.5,
          "symbol": "circle"
         },
         "mode": "markers+text",
         "name": "Cluster 1",
         "orientation": "v",
         "showlegend": true,
         "text": [
          88,
          83,
          91,
          84,
          93,
          84,
          83,
          94,
          88,
          87,
          90,
          88,
          83,
          85,
          85,
          90,
          88,
          87,
          91,
          92,
          91,
          91,
          94,
          89,
          88,
          88,
          85,
          91,
          87,
          89,
          87,
          86,
          91,
          92,
          91,
          81,
          89,
          83,
          90,
          89,
          84,
          87,
          85,
          93,
          89,
          92,
          88,
          91,
          91,
          88,
          82,
          87,
          82,
          88,
          89,
          84,
          87,
          86,
          94,
          90,
          85,
          94,
          88,
          82,
          95,
          89,
          86,
          85,
          86,
          86,
          89,
          87,
          87,
          84,
          92,
          84,
          88,
          90,
          88,
          91,
          94,
          90,
          90,
          92,
          91,
          97,
          89,
          88,
          90,
          88,
          86,
          87,
          85,
          84,
          91,
          91,
          83,
          87,
          90,
          83,
          83,
          84,
          83,
          92,
          86,
          91,
          86,
          94,
          83,
          91,
          85,
          84,
          89,
          82,
          90,
          87,
          85,
          87,
          84,
          91,
          89,
          91,
          92,
          87,
          85,
          93,
          85,
          90,
          94,
          86,
          79,
          88,
          83,
          87,
          88,
          87,
          84,
          84,
          82,
          88,
          84,
          87,
          91,
          87,
          89,
          92,
          79
         ],
         "textposition": "top center",
         "type": "scatter",
         "x": [
          -53103.84792851195,
          -48890.16206340343,
          -49274.44239573872,
          -48329.37517055249,
          -55300.438368620016,
          -53484.99043374058,
          -57495.82749294879,
          -36822.882735679654,
          -56178.673292178406,
          -50055.787556764575,
          -45508.35391168651,
          -58306.89374562323,
          -45148.06214368706,
          -49427.524121758914,
          -40907.25151543583,
          -50029.04864430804,
          -48459.57886574741,
          -44821.271964881125,
          -47000.171674283956,
          -42805.174705655045,
          -48496.84791008097,
          -46108.56437415357,
          -47975.629885853064,
          -44680.89355364254,
          -43012.769806193035,
          -47129.844161164736,
          -46206.76075642493,
          -50504.823104629184,
          -57176.86780758164,
          -50446.68720778384,
          -45504.92819267488,
          -56854.24492927825,
          -58771.330100057654,
          -53329.08892211863,
          -55116.83598721053,
          -41272.89535426135,
          -42432.64512102196,
          -47148.0495251319,
          -42253.872882755255,
          -56491.72617965694,
          -48254.00620956814,
          -63656.34761270813,
          -46522.919468664084,
          -58127.50383446996,
          -48762.36471399606,
          -39882.02328828025,
          -40724.15684584522,
          -63634.72202883475,
          -39063.286664840656,
          -57750.75775521808,
          -51459.5135250055,
          -49952.563870074904,
          -43231.47785779809,
          -49206.073004638245,
          -55368.984257140175,
          -48469.75824737511,
          -51191.18314121463,
          -43811.47260914547,
          -48448.189831499265,
          -53514.366110009585,
          -54413.15852823444,
          -56820.087514001316,
          -42594.24303541747,
          -42172.091374211675,
          -48754.55326230387,
          -49610.67501721536,
          -28705.212825263392,
          -47927.756160689096,
          -39916.590611805936,
          -46897.28721880453,
          -45316.58138942745,
          -28723.99191856934,
          -49083.989006407064,
          -51590.97204811321,
          -40276.448120984634,
          -45243.33594590516,
          -57888.986939968054,
          -52877.38162330982,
          -44316.39099715637,
          -47591.225131434665,
          -47366.64942872543,
          -38257.0124803068,
          -51240.794671401636,
          -56895.33601319739,
          -52957.61627730345,
          -48338.70468800099,
          -53680.720605912546,
          -46888.40588576989,
          -46621.6751728767,
          -42334.047649157576,
          -60035.355695188904,
          -49618.564266246955,
          -44945.698964713854,
          -57516.273141569836,
          -51304.42078363728,
          -48867.33425333965,
          -47072.8326904848,
          -52350.136878173325,
          -42485.19893881772,
          -42546.309247475176,
          -52508.30352712907,
          -55003.11474871318,
          -45053.50114082122,
          -53120.540755307644,
          -48031.600303378495,
          -49855.36019377396,
          -52219.78891088447,
          -51858.95285548033,
          -41183.65208626926,
          -38870.672592895164,
          -53905.33081243273,
          -39255.473892599606,
          -51006.625949623885,
          -42152.50284228485,
          -42382.698822799655,
          -33223.78792540314,
          -41090.432743024765,
          -45592.66270794391,
          -37730.76929457198,
          -44891.7269512594,
          -41047.376386734504,
          -45489.12000858342,
          -42194.798750822665,
          -57945.29404961142,
          -47211.309228383645,
          -55837.89619000491,
          -47271.413278008884,
          -40392.52356154928,
          -54957.490976530295,
          -39708.646986385145,
          -37510.588057403605,
          -47339.94734492919,
          -41229.08531754967,
          -52745.271954827665,
          -49640.51628007665,
          -44207.36922040727,
          -48086.47159801665,
          -33685.82301953534,
          -51335.696316784815,
          -41654.28539711417,
          -46294.696563603444,
          -59885.183477818384,
          -46752.17189818303,
          -45889.16122740457,
          -47490.05336010278,
          -39730.7549089785,
          -43219.570638447236
         ],
         "xaxis": "x",
         "y": [
          -1838.6649351563995,
          -3117.043952131992,
          -1819.1411226436473,
          -2106.955706664307,
          -2379.4456307220707,
          -2964.8709350520144,
          -874.5934065316542,
          -3004.1360440515814,
          -1450.7322712124171,
          -458.7328186883238,
          -1716.0962167717569,
          -1498.3071568123494,
          -918.4435120938804,
          -3282.496539528994,
          -2247.723767110278,
          -2907.797692364691,
          -623.0250548560488,
          -809.2480282398324,
          -3258.592151182354,
          -2383.923812810523,
          -1255.0228766467965,
          -4704.899979069116,
          -2697.4805218756405,
          -3320.2389025799553,
          -2388.3979285656496,
          -2166.945504634239,
          -3972.4381382736638,
          -2541.103429757958,
          -500.38226527672924,
          -1789.8301942200417,
          -1656.4246533860944,
          -1039.887236747618,
          -1946.425647320715,
          -3704.115462201343,
          -3386.630871370054,
          -2039.0522118035885,
          -2804.3179897641216,
          -948.1703671149719,
          -2813.408968099346,
          -1529.9498518651953,
          -3586.3925803309535,
          -672.1307761420608,
          -2395.15149085078,
          -3329.4235557220813,
          -1902.3045662332288,
          -3145.8380799741617,
          -3403.3543346107654,
          -958.5370357661089,
          -2178.951078899758,
          -1546.7861986769094,
          -1443.6315773519368,
          -1016.3629330534916,
          -2464.365635646983,
          646.5434219075411,
          -990.6072888551711,
          -975.0114136119705,
          -2999.048697401421,
          -3844.050469725096,
          -424.4946391842387,
          -3511.6510358173878,
          -1055.99646739923,
          -2626.494091038499,
          -4573.1365583188735,
          -3482.950082631111,
          -3476.758241532857,
          -2494.346157927881,
          -2125.5165605467528,
          1139.0675913831208,
          -5860.4070049476195,
          -1500.600011877083,
          72.34217763365194,
          -1283.2493348069165,
          -2706.953602076428,
          -1709.680834714089,
          -3159.4029087705617,
          -2386.7438202843014,
          -2297.410483104437,
          -1034.0459046785431,
          -1681.108190825446,
          -2876.0171941981057,
          -2226.524522178829,
          -3209.7049807915,
          -337.5830610287047,
          -219.83546115271207,
          -512.1679220763324,
          -296.9483635317872,
          -1523.1535588510794,
          -1747.2843051407006,
          -1061.392546047768,
          -946.4423236598786,
          -2067.7845249042252,
          -1200.4989785914927,
          -2663.4354555556233,
          -2662.237205665568,
          -1341.6420338652322,
          -3330.0956203911073,
          -3652.142734722459,
          -1271.836652252878,
          -1573.1294931068767,
          -2323.9543527396127,
          -2003.3794666631097,
          -1806.3718853762591,
          -3267.8529257017826,
          -2373.907682943562,
          -2520.879074299022,
          -2551.640176025431,
          -361.8229000741431,
          -1998.3145888103256,
          -2299.1778477879407,
          -4966.632164446517,
          776.7212819595685,
          -2456.062958384287,
          1229.6345018341212,
          -3595.426920160011,
          -1026.2176795347018,
          -4327.599784659084,
          -2507.4686024831617,
          -1858.741442949726,
          -3447.522083521275,
          -1059.5101766806472,
          163.00824757784557,
          -857.2362973575496,
          -2831.2452680158362,
          -1690.2242432392875,
          -497.0289075072252,
          -2913.15095503896,
          -1422.263297740208,
          -1918.0710771595075,
          -1273.0338864987416,
          -2812.640793364645,
          -2385.931492912864,
          -2756.210664925761,
          -559.8885893852705,
          -3270.249333202926,
          -2403.4517367005983,
          -1788.5954480508212,
          -3267.6642579009513,
          -2359.9807573111716,
          -2253.3241819888635,
          -1284.2768049213942,
          -3445.141443035062,
          968.1817045075694,
          -4260.668084206517,
          -3656.859751453871,
          -1025.6554152767999,
          -3215.3115156639396,
          -982.6375502407418
         ],
         "yaxis": "y"
        },
        {
         "hovertemplate": "Cluster=Cluster 2<br>PCA1=%{x}<br>PCA2=%{y}<br>Label=%{text}<extra></extra>",
         "legendgroup": "Cluster 2",
         "marker": {
          "color": "#00cc96",
          "opacity": 0.5,
          "symbol": "circle"
         },
         "mode": "markers+text",
         "name": "Cluster 2",
         "orientation": "v",
         "showlegend": true,
         "text": [
          59,
          61,
          59,
          65,
          66,
          65,
          62,
          56,
          61,
          58,
          61,
          59,
          58,
          56,
          60,
          60,
          51,
          56,
          59,
          55,
          58,
          58,
          68,
          61,
          55,
          58,
          67,
          56,
          57,
          67,
          59,
          59,
          60,
          57,
          62,
          61,
          60,
          62,
          58,
          63,
          61,
          59,
          59,
          57,
          56,
          61,
          59,
          61,
          63,
          67,
          58,
          59,
          65,
          64,
          63,
          59,
          58,
          56,
          58,
          62,
          66,
          57,
          66,
          63,
          64,
          62,
          62,
          60,
          65,
          60,
          63,
          58,
          60,
          62,
          59,
          65,
          62,
          59,
          66,
          64,
          62,
          61,
          56,
          62,
          60,
          62,
          64,
          63,
          56,
          58,
          58,
          56,
          59,
          62,
          59,
          54,
          61,
          55,
          53,
          55,
          61,
          59,
          59,
          56,
          61,
          61,
          63,
          60,
          61,
          55,
          53,
          61,
          64,
          62,
          55,
          58,
          57,
          59,
          58,
          59,
          64,
          58,
          57,
          62,
          57,
          59,
          56,
          63,
          60,
          58,
          61,
          58,
          56,
          57,
          67,
          64,
          64,
          63,
          57,
          62,
          55,
          59,
          61,
          58,
          59,
          64,
          55,
          60,
          58,
          59,
          66,
          57,
          59,
          53,
          61,
          59,
          68
         ],
         "textposition": "top center",
         "type": "scatter",
         "x": [
          -6051.798043076616,
          -9600.009518947501,
          -5787.5844511746345,
          -4794.730197271387,
          1855.0479746174021,
          -4114.665839253165,
          -5898.744482221803,
          3735.2222847238368,
          -967.1345392121426,
          834.6063397987239,
          -3222.028498023302,
          2663.8141164030026,
          -4883.720557377947,
          375.61201032836914,
          -5149.414552703789,
          -11770.096233982851,
          -3127.7464850155143,
          5122.28254993268,
          7017.407221041005,
          -10419.650737321675,
          4968.764656493565,
          3333.0370068762827,
          -6270.130047136981,
          -6214.35492291285,
          1547.9124272172,
          -6075.723954598629,
          3574.867630749813,
          -1755.366367107969,
          4615.604597857521,
          5679.935019062444,
          -1709.0067144922584,
          15177.319702791374,
          -9176.939927564554,
          -3147.9717017775224,
          -7431.1699486358175,
          3607.6218458178514,
          -805.5182754639179,
          -1424.2968597298877,
          -4588.845678205521,
          -4661.643211273588,
          -3197.7706738433235,
          5619.125533378012,
          -2220.635444393814,
          -10371.487065175947,
          -9823.29297291479,
          -7827.504394122581,
          -1864.594073104944,
          -9270.98323867498,
          7034.567000940574,
          -6586.375025316483,
          2868.6753241163105,
          -7981.746785180185,
          -811.2732950246649,
          -12402.614021503572,
          -7793.211518497579,
          -7225.656657280493,
          2555.7842237303084,
          9121.20833327475,
          -5327.512632351792,
          -1710.0091114415097,
          -2630.794144410175,
          1381.292535302742,
          -10238.837919558984,
          -2329.6167739359735,
          -3536.6249026123223,
          -11570.013634605884,
          -12594.175257191957,
          -3881.2792386591896,
          -9447.56696158068,
          -4595.7254645257335,
          5567.478118222898,
          499.49662400636305,
          4848.442756486665,
          -4176.722628358176,
          -7423.928781748686,
          -9153.992112275359,
          4864.683651762642,
          -7249.0281441127045,
          7325.256189942477,
          1198.2155216057672,
          -6945.490210959259,
          -5628.983755072121,
          -6874.447279795799,
          3175.730103636427,
          -10072.875122355044,
          -5806.077068066842,
          11039.02694992706,
          -5414.849621040682,
          -6529.597903259436,
          3385.8220344187566,
          -4972.922132318901,
          11129.424152003647,
          6644.597598902891,
          -611.89209011093,
          -879.6961238367905,
          1270.5926144944294,
          -3354.4093952257367,
          -3652.051625562802,
          1535.3200257259405,
          3442.0678892712613,
          1691.1470012917064,
          -9514.74211691895,
          -5495.930033917732,
          -11393.264273317023,
          -1006.7942920597833,
          -11385.8073066192,
          10499.407287118545,
          -5228.773563698115,
          -2009.7086269484525,
          -847.3002323292305,
          -13124.39161935542,
          -6112.7019630314835,
          -14757.626867529676,
          -5414.451735591047,
          -4197.995988224728,
          -907.6690954314638,
          4241.775879690278,
          -2601.869630596785,
          1797.8692909309734,
          -860.4354508721326,
          13091.374146760905,
          -4333.353165561375,
          106.44731571900182,
          -8175.944783875947,
          -1148.5927303150029,
          -5713.304473394483,
          -15159.901907030271,
          -18377.080909021177,
          -9955.598990292237,
          2392.9514015408067,
          -1867.5011781843573,
          5073.487342754963,
          -7927.279401739004,
          -5506.504771609421,
          -15876.01420619958,
          3594.0424319377607,
          -10817.51488771064,
          -182.87509914870898,
          1380.9095889215503,
          -12401.012613234338,
          -1254.7960958097472,
          384.4886441749401,
          -4025.534582979213,
          -4856.160273050598,
          277.31943945234934,
          1223.3332868105201,
          871.056128883004,
          -7740.904886148216,
          8122.08038043186,
          -3902.650766405369,
          -3578.6411698602037,
          -9604.976111586087,
          -7793.454361394597,
          -284.93461560424475,
          -4335.121225148144,
          -18832.323097259672,
          2456.1149302637136
         ],
         "xaxis": "x",
         "y": [
          6221.683197407632,
          4923.281736972953,
          5711.628519863212,
          5174.4703666073665,
          5468.743079867753,
          3078.8959824923863,
          5205.84012735838,
          4370.467576915713,
          4638.724083111238,
          5141.101353125809,
          4129.181187750035,
          3399.11990874667,
          4688.370839749893,
          5049.606055105599,
          5556.666162538318,
          5001.420588195518,
          5318.2818445710855,
          3424.0734017075033,
          5588.8004716788055,
          5982.858062463154,
          3943.117273821872,
          4012.215485337335,
          5401.821899173068,
          8154.20047191016,
          3973.906796940992,
          3500.59631421138,
          6638.189555586529,
          4273.205130157195,
          5713.442204003189,
          4711.285755352456,
          3684.6952600892073,
          4253.670080185394,
          7146.662700635196,
          5506.996438516336,
          6342.036887449032,
          4852.444506942649,
          4348.095844750873,
          7267.328447090959,
          4468.268199202183,
          4875.411844599679,
          5127.949297943513,
          4314.803831727296,
          4177.140252105043,
          6211.274367328164,
          6862.247568550063,
          5701.697567388543,
          5267.352326944862,
          5996.549301848854,
          3374.287306288761,
          4795.6594687271945,
          5223.6421444650405,
          3467.5664301232227,
          4771.515278723625,
          4277.420175996693,
          6334.2431060429335,
          4564.617535912253,
          5164.690207216539,
          4076.188940417802,
          5507.674338617667,
          5692.091535965753,
          5512.809747300325,
          5207.220968280951,
          7423.315553060325,
          6502.20765839998,
          5070.413063690275,
          6393.584858504243,
          5058.593260676149,
          3532.750550096707,
          6026.370077872553,
          4575.315312500271,
          6399.6795013389,
          4450.572584113241,
          6716.389157420828,
          5121.948253776999,
          5595.425013755242,
          6237.454829267942,
          4834.954016262214,
          5030.101276940076,
          5245.750184774915,
          6031.59770294742,
          5240.28388742206,
          3413.4612857981783,
          3266.4705558115984,
          4727.079878527437,
          7033.832267439065,
          5686.132099777832,
          4384.687445082082,
          4509.378968992936,
          5174.060198642412,
          4513.159188235653,
          5053.9745650978975,
          2451.395705037181,
          6074.108602891864,
          2642.856238209561,
          4574.029857294047,
          4918.8610453966885,
          4039.04972662622,
          4298.147977719963,
          6617.143268176031,
          3293.9261383034677,
          4305.6055689682435,
          5484.062321469937,
          5033.927141363292,
          4760.726839204426,
          6827.736581903389,
          5239.834348120344,
          4092.5866735586183,
          4906.821114529843,
          4571.311395238494,
          5435.293660917676,
          5122.298324176325,
          7150.265776891149,
          5008.011891703143,
          6401.496667099202,
          4646.423182047714,
          4662.571681544213,
          4854.373360315699,
          5720.063891344352,
          3616.906745545873,
          1366.217457286171,
          3878.0739044405004,
          6791.121854812108,
          5019.545227332754,
          5599.274846074155,
          6154.518340801139,
          6098.407220683629,
          5573.243770197058,
          5086.374515846034,
          4085.312440945947,
          5992.684142669525,
          2685.6629912897993,
          5244.436589238655,
          5673.527612414183,
          6298.430264198256,
          7337.4624110052655,
          5244.223965614586,
          6677.482013672124,
          4411.324333177543,
          5567.11275396265,
          6731.622413481731,
          6380.91567846293,
          6845.141671584174,
          5644.552286645011,
          6861.841813756603,
          5152.077474584809,
          5666.3680206659055,
          5689.000195132608,
          5133.639365463523,
          4731.012077645313,
          5499.33924219725,
          4687.3312678713755,
          5517.456836124636,
          5788.853750291174,
          4064.0083597599173,
          2658.2975017239987,
          6823.253221994699,
          5539.978054207794
         ],
         "yaxis": "y"
        },
        {
         "hovertemplate": "Cluster=Cluster 3<br>PCA1=%{x}<br>PCA2=%{y}<br>Label=%{text}<extra></extra>",
         "legendgroup": "Cluster 3",
         "marker": {
          "color": "#ab63fa",
          "opacity": 0.5,
          "symbol": "circle"
         },
         "mode": "markers+text",
         "name": "Cluster 3",
         "orientation": "v",
         "showlegend": true,
         "text": [
          34,
          28,
          22,
          34,
          36,
          33,
          31,
          28,
          34,
          31,
          30,
          35,
          35,
          37,
          26,
          33,
          33,
          35,
          36,
          31,
          32,
          36,
          31,
          33,
          28,
          33,
          30,
          30,
          85,
          36,
          30,
          31,
          37,
          30,
          25,
          34,
          43,
          30,
          33,
          32,
          37,
          39,
          31,
          33,
          33,
          37,
          37,
          31,
          30,
          31,
          38,
          36,
          34,
          31,
          37,
          37,
          28,
          31,
          30,
          29,
          30,
          31,
          28,
          35,
          33,
          28,
          39,
          36,
          29,
          25,
          29,
          33,
          34,
          84,
          29,
          29,
          29,
          32,
          32,
          37,
          29,
          34,
          33,
          29,
          36,
          36,
          37,
          37,
          30,
          27,
          35,
          34,
          32,
          33,
          36,
          39,
          24,
          35,
          35,
          38,
          30,
          28,
          36,
          35,
          40,
          42,
          31,
          34,
          34,
          32,
          31,
          31,
          31
         ],
         "textposition": "top center",
         "type": "scatter",
         "x": [
          23196.21332168356,
          19017.169490301203,
          33345.15627446265,
          28627.259856345197,
          28639.38501225217,
          19295.267700776123,
          32322.90853552384,
          24827.97879769225,
          26507.04289793959,
          35187.910560505545,
          31614.44255775001,
          34360.481813439495,
          28912.895143562077,
          32289.54019339472,
          21973.307957773006,
          22258.60867822995,
          24613.75199474728,
          30806.77636569973,
          24491.388924465668,
          32345.7084111081,
          26023.566392701574,
          22350.769806170996,
          32416.9398563682,
          30584.12459685682,
          25474.402763132653,
          30046.489099008413,
          22224.556150677527,
          32797.64364946067,
          35579.205841847666,
          23967.006141706453,
          24294.808481974393,
          32307.936747625587,
          22105.034606632664,
          25376.69328333066,
          25765.790066438367,
          22393.417704629752,
          25938.05051554677,
          26298.148403025272,
          25328.069975138693,
          32572.750284951748,
          30949.636906806907,
          24706.128365431097,
          35758.275461121135,
          31361.085258501203,
          31045.220281184625,
          21900.785293459754,
          32912.89205445825,
          25363.919193669753,
          31911.00122289606,
          25732.34496458891,
          18943.372815329043,
          32210.979752849853,
          27758.387553781664,
          29240.50973646178,
          31960.754470883134,
          32853.06228404302,
          36260.39987248518,
          26983.046355085924,
          30614.165788924827,
          26228.376273797625,
          32149.92130246573,
          23748.677826025556,
          23858.59823485609,
          30155.33417948101,
          36008.72534227604,
          33379.42059724405,
          23470.847054512218,
          29861.546691899774,
          26312.372969945707,
          30950.10184584332,
          23392.942038336743,
          32561.025384279346,
          35572.715402147165,
          34834.90179722812,
          27412.691418946528,
          35036.71586290591,
          35711.08000630003,
          19785.99437370537,
          30836.97832091281,
          35023.21628615085,
          15764.491422930714,
          14006.000973765198,
          16918.676225923777,
          30268.705481027453,
          20592.34660124054,
          26071.981192203417,
          31202.41265845168,
          34830.86604526117,
          20486.14068168536,
          31016.952780284315,
          32691.869561885116,
          23022.218288328833,
          34753.14847117059,
          23896.368797199062,
          34060.877510973005,
          24819.36093398276,
          34815.25490758302,
          26578.153217150357,
          26003.522420593927,
          28960.634987007867,
          33217.92658728103,
          22236.169465667903,
          33203.84261491333,
          31317.298082397007,
          23032.68011842763,
          31253.468503847314,
          29210.55689290381,
          31502.360315169415,
          27456.913258989443,
          26343.678683823586,
          31330.343959587746,
          28681.549871210224,
          30148.682682831197
         ],
         "xaxis": "x",
         "y": [
          -5613.714696123642,
          -4587.056170558116,
          -6080.2997846473045,
          -3324.816428758567,
          -3130.9503738580543,
          -3266.6498646156997,
          -3681.2906989074822,
          -5088.608026609533,
          -5484.674224534325,
          -4164.857943447225,
          -3948.4132949879468,
          -5038.816345608889,
          -5224.554320132961,
          -3634.3416070178246,
          -5227.972192633888,
          -5195.925254869425,
          -3288.4640447513398,
          -5560.204279339269,
          -3378.54364763287,
          -2201.7207440339225,
          -7172.3340862970435,
          -5405.192571717655,
          -3316.8740951794725,
          -5198.652074260108,
          -4541.161734519421,
          -2733.109173664298,
          -5737.014106158459,
          -5654.54720858524,
          -6195.256076450421,
          -5918.695473496262,
          -3156.1748108191523,
          -3401.081205177549,
          -4346.187481501862,
          -3922.3289154774966,
          -4647.514683014747,
          -5150.747387385603,
          -4054.25252362105,
          -5023.0388936156805,
          -4507.818639633956,
          -6711.005612774816,
          -4397.197247861158,
          -6304.286669733974,
          -4122.471659041032,
          -4837.589777514413,
          -4354.8802382613985,
          -5234.914564220788,
          -4588.664848267575,
          -6518.878337708812,
          -2672.9115870036812,
          -4846.28015427884,
          -6099.926572904171,
          -5806.362656038753,
          -3524.6022728079934,
          -5240.7101050214205,
          -7950.138456796384,
          -5910.59573288654,
          -3890.3445341678894,
          -2897.41827579851,
          -4762.434742638737,
          -4266.484394821192,
          -5508.945012028883,
          -4085.3877140573504,
          -4857.997405051622,
          -6491.8455875247955,
          -6111.705479451003,
          -4139.05283321281,
          -4720.2485683084515,
          -4210.49136349358,
          -4286.405352481009,
          -6274.399316410813,
          -5117.926531788415,
          -5658.528738891308,
          -4807.664945608781,
          -5079.540897002676,
          -5970.659385853914,
          -6415.699422707936,
          -4543.480905662903,
          -4699.391881256258,
          -4248.410776130161,
          -4416.577014358725,
          -2149.1523643994014,
          -1775.6048970799563,
          -2877.1941821022256,
          -4917.675610318426,
          -4611.5878657027715,
          -4687.76444193894,
          -4006.881209005658,
          -5377.228895403815,
          -4804.203961851942,
          -4865.0042507751195,
          -6066.4571344577525,
          -4439.122431386044,
          -4008.589273701793,
          -4653.572749186025,
          -5075.678179352539,
          -6443.11685581786,
          -5108.281907469457,
          -4542.181119259875,
          -3786.1338481571643,
          -5439.90201085886,
          -4387.405057818719,
          -4400.042493871468,
          -6552.892383943655,
          -6141.762968151073,
          -5461.17916779445,
          -4792.820646769852,
          -6286.357858424542,
          -5081.205828124805,
          -4868.312310128513,
          -3863.006710456127,
          -5635.16399292634,
          -4194.112749071153,
          -3727.6410744728196
         ],
         "yaxis": "y"
        }
       ],
       "layout": {
        "height": 600,
        "legend": {
         "title": {
          "text": "Cluster"
         },
         "tracegroupgap": 0
        },
        "margin": {
         "t": 60
        },
        "plot_bgcolor": "rgb(240,240,240)",
        "template": {
         "data": {
          "bar": [
           {
            "error_x": {
             "color": "#2a3f5f"
            },
            "error_y": {
             "color": "#2a3f5f"
            },
            "marker": {
             "line": {
              "color": "#E5ECF6",
              "width": 0.5
             },
             "pattern": {
              "fillmode": "overlay",
              "size": 10,
              "solidity": 0.2
             }
            },
            "type": "bar"
           }
          ],
          "barpolar": [
           {
            "marker": {
             "line": {
              "color": "#E5ECF6",
              "width": 0.5
             },
             "pattern": {
              "fillmode": "overlay",
              "size": 10,
              "solidity": 0.2
             }
            },
            "type": "barpolar"
           }
          ],
          "carpet": [
           {
            "aaxis": {
             "endlinecolor": "#2a3f5f",
             "gridcolor": "white",
             "linecolor": "white",
             "minorgridcolor": "white",
             "startlinecolor": "#2a3f5f"
            },
            "baxis": {
             "endlinecolor": "#2a3f5f",
             "gridcolor": "white",
             "linecolor": "white",
             "minorgridcolor": "white",
             "startlinecolor": "#2a3f5f"
            },
            "type": "carpet"
           }
          ],
          "choropleth": [
           {
            "colorbar": {
             "outlinewidth": 0,
             "ticks": ""
            },
            "type": "choropleth"
           }
          ],
          "contour": [
           {
            "colorbar": {
             "outlinewidth": 0,
             "ticks": ""
            },
            "colorscale": [
             [
              0,
              "#0d0887"
             ],
             [
              0.1111111111111111,
              "#46039f"
             ],
             [
              0.2222222222222222,
              "#7201a8"
             ],
             [
              0.3333333333333333,
              "#9c179e"
             ],
             [
              0.4444444444444444,
              "#bd3786"
             ],
             [
              0.5555555555555556,
              "#d8576b"
             ],
             [
              0.6666666666666666,
              "#ed7953"
             ],
             [
              0.7777777777777778,
              "#fb9f3a"
             ],
             [
              0.8888888888888888,
              "#fdca26"
             ],
             [
              1,
              "#f0f921"
             ]
            ],
            "type": "contour"
           }
          ],
          "contourcarpet": [
           {
            "colorbar": {
             "outlinewidth": 0,
             "ticks": ""
            },
            "type": "contourcarpet"
           }
          ],
          "heatmap": [
           {
            "colorbar": {
             "outlinewidth": 0,
             "ticks": ""
            },
            "colorscale": [
             [
              0,
              "#0d0887"
             ],
             [
              0.1111111111111111,
              "#46039f"
             ],
             [
              0.2222222222222222,
              "#7201a8"
             ],
             [
              0.3333333333333333,
              "#9c179e"
             ],
             [
              0.4444444444444444,
              "#bd3786"
             ],
             [
              0.5555555555555556,
              "#d8576b"
             ],
             [
              0.6666666666666666,
              "#ed7953"
             ],
             [
              0.7777777777777778,
              "#fb9f3a"
             ],
             [
              0.8888888888888888,
              "#fdca26"
             ],
             [
              1,
              "#f0f921"
             ]
            ],
            "type": "heatmap"
           }
          ],
          "heatmapgl": [
           {
            "colorbar": {
             "outlinewidth": 0,
             "ticks": ""
            },
            "colorscale": [
             [
              0,
              "#0d0887"
             ],
             [
              0.1111111111111111,
              "#46039f"
             ],
             [
              0.2222222222222222,
              "#7201a8"
             ],
             [
              0.3333333333333333,
              "#9c179e"
             ],
             [
              0.4444444444444444,
              "#bd3786"
             ],
             [
              0.5555555555555556,
              "#d8576b"
             ],
             [
              0.6666666666666666,
              "#ed7953"
             ],
             [
              0.7777777777777778,
              "#fb9f3a"
             ],
             [
              0.8888888888888888,
              "#fdca26"
             ],
             [
              1,
              "#f0f921"
             ]
            ],
            "type": "heatmapgl"
           }
          ],
          "histogram": [
           {
            "marker": {
             "pattern": {
              "fillmode": "overlay",
              "size": 10,
              "solidity": 0.2
             }
            },
            "type": "histogram"
           }
          ],
          "histogram2d": [
           {
            "colorbar": {
             "outlinewidth": 0,
             "ticks": ""
            },
            "colorscale": [
             [
              0,
              "#0d0887"
             ],
             [
              0.1111111111111111,
              "#46039f"
             ],
             [
              0.2222222222222222,
              "#7201a8"
             ],
             [
              0.3333333333333333,
              "#9c179e"
             ],
             [
              0.4444444444444444,
              "#bd3786"
             ],
             [
              0.5555555555555556,
              "#d8576b"
             ],
             [
              0.6666666666666666,
              "#ed7953"
             ],
             [
              0.7777777777777778,
              "#fb9f3a"
             ],
             [
              0.8888888888888888,
              "#fdca26"
             ],
             [
              1,
              "#f0f921"
             ]
            ],
            "type": "histogram2d"
           }
          ],
          "histogram2dcontour": [
           {
            "colorbar": {
             "outlinewidth": 0,
             "ticks": ""
            },
            "colorscale": [
             [
              0,
              "#0d0887"
             ],
             [
              0.1111111111111111,
              "#46039f"
             ],
             [
              0.2222222222222222,
              "#7201a8"
             ],
             [
              0.3333333333333333,
              "#9c179e"
             ],
             [
              0.4444444444444444,
              "#bd3786"
             ],
             [
              0.5555555555555556,
              "#d8576b"
             ],
             [
              0.6666666666666666,
              "#ed7953"
             ],
             [
              0.7777777777777778,
              "#fb9f3a"
             ],
             [
              0.8888888888888888,
              "#fdca26"
             ],
             [
              1,
              "#f0f921"
             ]
            ],
            "type": "histogram2dcontour"
           }
          ],
          "mesh3d": [
           {
            "colorbar": {
             "outlinewidth": 0,
             "ticks": ""
            },
            "type": "mesh3d"
           }
          ],
          "parcoords": [
           {
            "line": {
             "colorbar": {
              "outlinewidth": 0,
              "ticks": ""
             }
            },
            "type": "parcoords"
           }
          ],
          "pie": [
           {
            "automargin": true,
            "type": "pie"
           }
          ],
          "scatter": [
           {
            "fillpattern": {
             "fillmode": "overlay",
             "size": 10,
             "solidity": 0.2
            },
            "type": "scatter"
           }
          ],
          "scatter3d": [
           {
            "line": {
             "colorbar": {
              "outlinewidth": 0,
              "ticks": ""
             }
            },
            "marker": {
             "colorbar": {
              "outlinewidth": 0,
              "ticks": ""
             }
            },
            "type": "scatter3d"
           }
          ],
          "scattercarpet": [
           {
            "marker": {
             "colorbar": {
              "outlinewidth": 0,
              "ticks": ""
             }
            },
            "type": "scattercarpet"
           }
          ],
          "scattergeo": [
           {
            "marker": {
             "colorbar": {
              "outlinewidth": 0,
              "ticks": ""
             }
            },
            "type": "scattergeo"
           }
          ],
          "scattergl": [
           {
            "marker": {
             "colorbar": {
              "outlinewidth": 0,
              "ticks": ""
             }
            },
            "type": "scattergl"
           }
          ],
          "scattermapbox": [
           {
            "marker": {
             "colorbar": {
              "outlinewidth": 0,
              "ticks": ""
             }
            },
            "type": "scattermapbox"
           }
          ],
          "scatterpolar": [
           {
            "marker": {
             "colorbar": {
              "outlinewidth": 0,
              "ticks": ""
             }
            },
            "type": "scatterpolar"
           }
          ],
          "scatterpolargl": [
           {
            "marker": {
             "colorbar": {
              "outlinewidth": 0,
              "ticks": ""
             }
            },
            "type": "scatterpolargl"
           }
          ],
          "scatterternary": [
           {
            "marker": {
             "colorbar": {
              "outlinewidth": 0,
              "ticks": ""
             }
            },
            "type": "scatterternary"
           }
          ],
          "surface": [
           {
            "colorbar": {
             "outlinewidth": 0,
             "ticks": ""
            },
            "colorscale": [
             [
              0,
              "#0d0887"
             ],
             [
              0.1111111111111111,
              "#46039f"
             ],
             [
              0.2222222222222222,
              "#7201a8"
             ],
             [
              0.3333333333333333,
              "#9c179e"
             ],
             [
              0.4444444444444444,
              "#bd3786"
             ],
             [
              0.5555555555555556,
              "#d8576b"
             ],
             [
              0.6666666666666666,
              "#ed7953"
             ],
             [
              0.7777777777777778,
              "#fb9f3a"
             ],
             [
              0.8888888888888888,
              "#fdca26"
             ],
             [
              1,
              "#f0f921"
             ]
            ],
            "type": "surface"
           }
          ],
          "table": [
           {
            "cells": {
             "fill": {
              "color": "#EBF0F8"
             },
             "line": {
              "color": "white"
             }
            },
            "header": {
             "fill": {
              "color": "#C8D4E3"
             },
             "line": {
              "color": "white"
             }
            },
            "type": "table"
           }
          ]
         },
         "layout": {
          "annotationdefaults": {
           "arrowcolor": "#2a3f5f",
           "arrowhead": 0,
           "arrowwidth": 1
          },
          "autotypenumbers": "strict",
          "coloraxis": {
           "colorbar": {
            "outlinewidth": 0,
            "ticks": ""
           }
          },
          "colorscale": {
           "diverging": [
            [
             0,
             "#8e0152"
            ],
            [
             0.1,
             "#c51b7d"
            ],
            [
             0.2,
             "#de77ae"
            ],
            [
             0.3,
             "#f1b6da"
            ],
            [
             0.4,
             "#fde0ef"
            ],
            [
             0.5,
             "#f7f7f7"
            ],
            [
             0.6,
             "#e6f5d0"
            ],
            [
             0.7,
             "#b8e186"
            ],
            [
             0.8,
             "#7fbc41"
            ],
            [
             0.9,
             "#4d9221"
            ],
            [
             1,
             "#276419"
            ]
           ],
           "sequential": [
            [
             0,
             "#0d0887"
            ],
            [
             0.1111111111111111,
             "#46039f"
            ],
            [
             0.2222222222222222,
             "#7201a8"
            ],
            [
             0.3333333333333333,
             "#9c179e"
            ],
            [
             0.4444444444444444,
             "#bd3786"
            ],
            [
             0.5555555555555556,
             "#d8576b"
            ],
            [
             0.6666666666666666,
             "#ed7953"
            ],
            [
             0.7777777777777778,
             "#fb9f3a"
            ],
            [
             0.8888888888888888,
             "#fdca26"
            ],
            [
             1,
             "#f0f921"
            ]
           ],
           "sequentialminus": [
            [
             0,
             "#0d0887"
            ],
            [
             0.1111111111111111,
             "#46039f"
            ],
            [
             0.2222222222222222,
             "#7201a8"
            ],
            [
             0.3333333333333333,
             "#9c179e"
            ],
            [
             0.4444444444444444,
             "#bd3786"
            ],
            [
             0.5555555555555556,
             "#d8576b"
            ],
            [
             0.6666666666666666,
             "#ed7953"
            ],
            [
             0.7777777777777778,
             "#fb9f3a"
            ],
            [
             0.8888888888888888,
             "#fdca26"
            ],
            [
             1,
             "#f0f921"
            ]
           ]
          },
          "colorway": [
           "#636efa",
           "#EF553B",
           "#00cc96",
           "#ab63fa",
           "#FFA15A",
           "#19d3f3",
           "#FF6692",
           "#B6E880",
           "#FF97FF",
           "#FECB52"
          ],
          "font": {
           "color": "#2a3f5f"
          },
          "geo": {
           "bgcolor": "white",
           "lakecolor": "white",
           "landcolor": "#E5ECF6",
           "showlakes": true,
           "showland": true,
           "subunitcolor": "white"
          },
          "hoverlabel": {
           "align": "left"
          },
          "hovermode": "closest",
          "mapbox": {
           "style": "light"
          },
          "paper_bgcolor": "white",
          "plot_bgcolor": "#E5ECF6",
          "polar": {
           "angularaxis": {
            "gridcolor": "white",
            "linecolor": "white",
            "ticks": ""
           },
           "bgcolor": "#E5ECF6",
           "radialaxis": {
            "gridcolor": "white",
            "linecolor": "white",
            "ticks": ""
           }
          },
          "scene": {
           "xaxis": {
            "backgroundcolor": "#E5ECF6",
            "gridcolor": "white",
            "gridwidth": 2,
            "linecolor": "white",
            "showbackground": true,
            "ticks": "",
            "zerolinecolor": "white"
           },
           "yaxis": {
            "backgroundcolor": "#E5ECF6",
            "gridcolor": "white",
            "gridwidth": 2,
            "linecolor": "white",
            "showbackground": true,
            "ticks": "",
            "zerolinecolor": "white"
           },
           "zaxis": {
            "backgroundcolor": "#E5ECF6",
            "gridcolor": "white",
            "gridwidth": 2,
            "linecolor": "white",
            "showbackground": true,
            "ticks": "",
            "zerolinecolor": "white"
           }
          },
          "shapedefaults": {
           "line": {
            "color": "#2a3f5f"
           }
          },
          "ternary": {
           "aaxis": {
            "gridcolor": "white",
            "linecolor": "white",
            "ticks": ""
           },
           "baxis": {
            "gridcolor": "white",
            "linecolor": "white",
            "ticks": ""
           },
           "bgcolor": "#E5ECF6",
           "caxis": {
            "gridcolor": "white",
            "linecolor": "white",
            "ticks": ""
           }
          },
          "title": {
           "x": 0.05
          },
          "xaxis": {
           "automargin": true,
           "gridcolor": "white",
           "linecolor": "white",
           "ticks": "",
           "title": {
            "standoff": 15
           },
           "zerolinecolor": "white",
           "zerolinewidth": 2
          },
          "yaxis": {
           "automargin": true,
           "gridcolor": "white",
           "linecolor": "white",
           "ticks": "",
           "title": {
            "standoff": 15
           },
           "zerolinecolor": "white",
           "zerolinewidth": 2
          }
         }
        },
        "title": {
         "text": "2D Cluster PCA Plot"
        },
        "xaxis": {
         "anchor": "y",
         "domain": [
          0,
          1
         ],
         "title": {
          "text": "PCA1"
         }
        },
        "yaxis": {
         "anchor": "x",
         "domain": [
          0,
          1
         ],
         "title": {
          "text": "PCA2"
         }
        }
       }
      }
     },
     "metadata": {},
     "output_type": "display_data"
    }
   ],
   "source": [
    "plot_model(hierarchical, plot='cluster', label=True)"
   ]
  },
  {
   "cell_type": "code",
   "execution_count": null,
   "metadata": {},
   "outputs": [],
   "source": []
  }
 ],
 "metadata": {
  "kernelspec": {
   "display_name": "venv",
   "language": "python",
   "name": "python3"
  },
  "language_info": {
   "codemirror_mode": {
    "name": "ipython",
    "version": 3
   },
   "file_extension": ".py",
   "mimetype": "text/x-python",
   "name": "python",
   "nbconvert_exporter": "python",
   "pygments_lexer": "ipython3",
   "version": "3.11.0"
  }
 },
 "nbformat": 4,
 "nbformat_minor": 2
}
