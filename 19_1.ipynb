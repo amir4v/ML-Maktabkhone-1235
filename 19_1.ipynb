{
 "cells": [
  {
   "cell_type": "code",
   "execution_count": 4,
   "metadata": {},
   "outputs": [],
   "source": [
    "from pycaret.regression import *\n",
    "\n",
    "import pandas as pd"
   ]
  },
  {
   "cell_type": "code",
   "execution_count": 5,
   "metadata": {},
   "outputs": [
    {
     "data": {
      "text/html": [
       "<div>\n",
       "<style scoped>\n",
       "    .dataframe tbody tr th:only-of-type {\n",
       "        vertical-align: middle;\n",
       "    }\n",
       "\n",
       "    .dataframe tbody tr th {\n",
       "        vertical-align: top;\n",
       "    }\n",
       "\n",
       "    .dataframe thead th {\n",
       "        text-align: right;\n",
       "    }\n",
       "</style>\n",
       "<table border=\"1\" class=\"dataframe\">\n",
       "  <thead>\n",
       "    <tr style=\"text-align: right;\">\n",
       "      <th></th>\n",
       "      <th>crim</th>\n",
       "      <th>zn</th>\n",
       "      <th>indus</th>\n",
       "      <th>chas</th>\n",
       "      <th>nox</th>\n",
       "      <th>rm</th>\n",
       "      <th>age</th>\n",
       "      <th>dis</th>\n",
       "      <th>rad</th>\n",
       "      <th>tax</th>\n",
       "      <th>ptratio</th>\n",
       "      <th>black</th>\n",
       "      <th>lstat</th>\n",
       "      <th>medv</th>\n",
       "    </tr>\n",
       "  </thead>\n",
       "  <tbody>\n",
       "    <tr>\n",
       "      <th>0</th>\n",
       "      <td>0.00632</td>\n",
       "      <td>18.0</td>\n",
       "      <td>2.31</td>\n",
       "      <td>0</td>\n",
       "      <td>0.538</td>\n",
       "      <td>6.575</td>\n",
       "      <td>65.2</td>\n",
       "      <td>4.0900</td>\n",
       "      <td>1</td>\n",
       "      <td>296</td>\n",
       "      <td>15.3</td>\n",
       "      <td>396.90</td>\n",
       "      <td>4.98</td>\n",
       "      <td>24.0</td>\n",
       "    </tr>\n",
       "    <tr>\n",
       "      <th>1</th>\n",
       "      <td>0.02731</td>\n",
       "      <td>0.0</td>\n",
       "      <td>7.07</td>\n",
       "      <td>0</td>\n",
       "      <td>0.469</td>\n",
       "      <td>6.421</td>\n",
       "      <td>78.9</td>\n",
       "      <td>4.9671</td>\n",
       "      <td>2</td>\n",
       "      <td>242</td>\n",
       "      <td>17.8</td>\n",
       "      <td>396.90</td>\n",
       "      <td>9.14</td>\n",
       "      <td>21.6</td>\n",
       "    </tr>\n",
       "    <tr>\n",
       "      <th>2</th>\n",
       "      <td>0.02729</td>\n",
       "      <td>0.0</td>\n",
       "      <td>7.07</td>\n",
       "      <td>0</td>\n",
       "      <td>0.469</td>\n",
       "      <td>7.185</td>\n",
       "      <td>61.1</td>\n",
       "      <td>4.9671</td>\n",
       "      <td>2</td>\n",
       "      <td>242</td>\n",
       "      <td>17.8</td>\n",
       "      <td>392.83</td>\n",
       "      <td>4.03</td>\n",
       "      <td>34.7</td>\n",
       "    </tr>\n",
       "    <tr>\n",
       "      <th>3</th>\n",
       "      <td>0.03237</td>\n",
       "      <td>0.0</td>\n",
       "      <td>2.18</td>\n",
       "      <td>0</td>\n",
       "      <td>0.458</td>\n",
       "      <td>6.998</td>\n",
       "      <td>45.8</td>\n",
       "      <td>6.0622</td>\n",
       "      <td>3</td>\n",
       "      <td>222</td>\n",
       "      <td>18.7</td>\n",
       "      <td>394.63</td>\n",
       "      <td>2.94</td>\n",
       "      <td>33.4</td>\n",
       "    </tr>\n",
       "    <tr>\n",
       "      <th>4</th>\n",
       "      <td>0.06905</td>\n",
       "      <td>0.0</td>\n",
       "      <td>2.18</td>\n",
       "      <td>0</td>\n",
       "      <td>0.458</td>\n",
       "      <td>7.147</td>\n",
       "      <td>54.2</td>\n",
       "      <td>6.0622</td>\n",
       "      <td>3</td>\n",
       "      <td>222</td>\n",
       "      <td>18.7</td>\n",
       "      <td>396.90</td>\n",
       "      <td>5.33</td>\n",
       "      <td>36.2</td>\n",
       "    </tr>\n",
       "  </tbody>\n",
       "</table>\n",
       "</div>"
      ],
      "text/plain": [
       "      crim    zn  indus  chas    nox     rm   age     dis  rad  tax  ptratio  \\\n",
       "0  0.00632  18.0   2.31     0  0.538  6.575  65.2  4.0900    1  296     15.3   \n",
       "1  0.02731   0.0   7.07     0  0.469  6.421  78.9  4.9671    2  242     17.8   \n",
       "2  0.02729   0.0   7.07     0  0.469  7.185  61.1  4.9671    2  242     17.8   \n",
       "3  0.03237   0.0   2.18     0  0.458  6.998  45.8  6.0622    3  222     18.7   \n",
       "4  0.06905   0.0   2.18     0  0.458  7.147  54.2  6.0622    3  222     18.7   \n",
       "\n",
       "    black  lstat  medv  \n",
       "0  396.90   4.98  24.0  \n",
       "1  396.90   9.14  21.6  \n",
       "2  392.83   4.03  34.7  \n",
       "3  394.63   2.94  33.4  \n",
       "4  396.90   5.33  36.2  "
      ]
     },
     "metadata": {},
     "output_type": "display_data"
    }
   ],
   "source": [
    "from pycaret.datasets import get_data\n",
    "\n",
    "boston = get_data('boston')"
   ]
  },
  {
   "cell_type": "code",
   "execution_count": 6,
   "metadata": {},
   "outputs": [
    {
     "data": {
      "text/html": [
       "<style type=\"text/css\">\n",
       "#T_c54ee_row8_col1 {\n",
       "  background-color: lightgreen;\n",
       "}\n",
       "</style>\n",
       "<table id=\"T_c54ee\">\n",
       "  <thead>\n",
       "    <tr>\n",
       "      <th class=\"blank level0\" >&nbsp;</th>\n",
       "      <th id=\"T_c54ee_level0_col0\" class=\"col_heading level0 col0\" >Description</th>\n",
       "      <th id=\"T_c54ee_level0_col1\" class=\"col_heading level0 col1\" >Value</th>\n",
       "    </tr>\n",
       "  </thead>\n",
       "  <tbody>\n",
       "    <tr>\n",
       "      <th id=\"T_c54ee_level0_row0\" class=\"row_heading level0 row0\" >0</th>\n",
       "      <td id=\"T_c54ee_row0_col0\" class=\"data row0 col0\" >Session id</td>\n",
       "      <td id=\"T_c54ee_row0_col1\" class=\"data row0 col1\" >123</td>\n",
       "    </tr>\n",
       "    <tr>\n",
       "      <th id=\"T_c54ee_level0_row1\" class=\"row_heading level0 row1\" >1</th>\n",
       "      <td id=\"T_c54ee_row1_col0\" class=\"data row1 col0\" >Target</td>\n",
       "      <td id=\"T_c54ee_row1_col1\" class=\"data row1 col1\" >medv</td>\n",
       "    </tr>\n",
       "    <tr>\n",
       "      <th id=\"T_c54ee_level0_row2\" class=\"row_heading level0 row2\" >2</th>\n",
       "      <td id=\"T_c54ee_row2_col0\" class=\"data row2 col0\" >Target type</td>\n",
       "      <td id=\"T_c54ee_row2_col1\" class=\"data row2 col1\" >Regression</td>\n",
       "    </tr>\n",
       "    <tr>\n",
       "      <th id=\"T_c54ee_level0_row3\" class=\"row_heading level0 row3\" >3</th>\n",
       "      <td id=\"T_c54ee_row3_col0\" class=\"data row3 col0\" >Original data shape</td>\n",
       "      <td id=\"T_c54ee_row3_col1\" class=\"data row3 col1\" >(506, 14)</td>\n",
       "    </tr>\n",
       "    <tr>\n",
       "      <th id=\"T_c54ee_level0_row4\" class=\"row_heading level0 row4\" >4</th>\n",
       "      <td id=\"T_c54ee_row4_col0\" class=\"data row4 col0\" >Transformed data shape</td>\n",
       "      <td id=\"T_c54ee_row4_col1\" class=\"data row4 col1\" >(506, 14)</td>\n",
       "    </tr>\n",
       "    <tr>\n",
       "      <th id=\"T_c54ee_level0_row5\" class=\"row_heading level0 row5\" >5</th>\n",
       "      <td id=\"T_c54ee_row5_col0\" class=\"data row5 col0\" >Transformed train set shape</td>\n",
       "      <td id=\"T_c54ee_row5_col1\" class=\"data row5 col1\" >(354, 14)</td>\n",
       "    </tr>\n",
       "    <tr>\n",
       "      <th id=\"T_c54ee_level0_row6\" class=\"row_heading level0 row6\" >6</th>\n",
       "      <td id=\"T_c54ee_row6_col0\" class=\"data row6 col0\" >Transformed test set shape</td>\n",
       "      <td id=\"T_c54ee_row6_col1\" class=\"data row6 col1\" >(152, 14)</td>\n",
       "    </tr>\n",
       "    <tr>\n",
       "      <th id=\"T_c54ee_level0_row7\" class=\"row_heading level0 row7\" >7</th>\n",
       "      <td id=\"T_c54ee_row7_col0\" class=\"data row7 col0\" >Numeric features</td>\n",
       "      <td id=\"T_c54ee_row7_col1\" class=\"data row7 col1\" >13</td>\n",
       "    </tr>\n",
       "    <tr>\n",
       "      <th id=\"T_c54ee_level0_row8\" class=\"row_heading level0 row8\" >8</th>\n",
       "      <td id=\"T_c54ee_row8_col0\" class=\"data row8 col0\" >Preprocess</td>\n",
       "      <td id=\"T_c54ee_row8_col1\" class=\"data row8 col1\" >True</td>\n",
       "    </tr>\n",
       "    <tr>\n",
       "      <th id=\"T_c54ee_level0_row9\" class=\"row_heading level0 row9\" >9</th>\n",
       "      <td id=\"T_c54ee_row9_col0\" class=\"data row9 col0\" >Imputation type</td>\n",
       "      <td id=\"T_c54ee_row9_col1\" class=\"data row9 col1\" >simple</td>\n",
       "    </tr>\n",
       "    <tr>\n",
       "      <th id=\"T_c54ee_level0_row10\" class=\"row_heading level0 row10\" >10</th>\n",
       "      <td id=\"T_c54ee_row10_col0\" class=\"data row10 col0\" >Numeric imputation</td>\n",
       "      <td id=\"T_c54ee_row10_col1\" class=\"data row10 col1\" >mean</td>\n",
       "    </tr>\n",
       "    <tr>\n",
       "      <th id=\"T_c54ee_level0_row11\" class=\"row_heading level0 row11\" >11</th>\n",
       "      <td id=\"T_c54ee_row11_col0\" class=\"data row11 col0\" >Categorical imputation</td>\n",
       "      <td id=\"T_c54ee_row11_col1\" class=\"data row11 col1\" >mode</td>\n",
       "    </tr>\n",
       "    <tr>\n",
       "      <th id=\"T_c54ee_level0_row12\" class=\"row_heading level0 row12\" >12</th>\n",
       "      <td id=\"T_c54ee_row12_col0\" class=\"data row12 col0\" >Fold Generator</td>\n",
       "      <td id=\"T_c54ee_row12_col1\" class=\"data row12 col1\" >KFold</td>\n",
       "    </tr>\n",
       "    <tr>\n",
       "      <th id=\"T_c54ee_level0_row13\" class=\"row_heading level0 row13\" >13</th>\n",
       "      <td id=\"T_c54ee_row13_col0\" class=\"data row13 col0\" >Fold Number</td>\n",
       "      <td id=\"T_c54ee_row13_col1\" class=\"data row13 col1\" >10</td>\n",
       "    </tr>\n",
       "    <tr>\n",
       "      <th id=\"T_c54ee_level0_row14\" class=\"row_heading level0 row14\" >14</th>\n",
       "      <td id=\"T_c54ee_row14_col0\" class=\"data row14 col0\" >CPU Jobs</td>\n",
       "      <td id=\"T_c54ee_row14_col1\" class=\"data row14 col1\" >-1</td>\n",
       "    </tr>\n",
       "    <tr>\n",
       "      <th id=\"T_c54ee_level0_row15\" class=\"row_heading level0 row15\" >15</th>\n",
       "      <td id=\"T_c54ee_row15_col0\" class=\"data row15 col0\" >Use GPU</td>\n",
       "      <td id=\"T_c54ee_row15_col1\" class=\"data row15 col1\" >False</td>\n",
       "    </tr>\n",
       "    <tr>\n",
       "      <th id=\"T_c54ee_level0_row16\" class=\"row_heading level0 row16\" >16</th>\n",
       "      <td id=\"T_c54ee_row16_col0\" class=\"data row16 col0\" >Log Experiment</td>\n",
       "      <td id=\"T_c54ee_row16_col1\" class=\"data row16 col1\" >False</td>\n",
       "    </tr>\n",
       "    <tr>\n",
       "      <th id=\"T_c54ee_level0_row17\" class=\"row_heading level0 row17\" >17</th>\n",
       "      <td id=\"T_c54ee_row17_col0\" class=\"data row17 col0\" >Experiment Name</td>\n",
       "      <td id=\"T_c54ee_row17_col1\" class=\"data row17 col1\" >reg-default-name</td>\n",
       "    </tr>\n",
       "    <tr>\n",
       "      <th id=\"T_c54ee_level0_row18\" class=\"row_heading level0 row18\" >18</th>\n",
       "      <td id=\"T_c54ee_row18_col0\" class=\"data row18 col0\" >USI</td>\n",
       "      <td id=\"T_c54ee_row18_col1\" class=\"data row18 col1\" >deea</td>\n",
       "    </tr>\n",
       "  </tbody>\n",
       "</table>\n"
      ],
      "text/plain": [
       "<pandas.io.formats.style.Styler at 0x17257d351d0>"
      ]
     },
     "metadata": {},
     "output_type": "display_data"
    },
    {
     "data": {
      "text/plain": [
       "<pycaret.regression.oop.RegressionExperiment at 0x17254e81010>"
      ]
     },
     "execution_count": 6,
     "metadata": {},
     "output_type": "execute_result"
    }
   ],
   "source": [
    "setup(\n",
    "    data=boston, target='medv', session_id=123\n",
    ")"
   ]
  },
  {
   "cell_type": "code",
   "execution_count": 7,
   "metadata": {},
   "outputs": [
    {
     "data": {
      "text/html": [],
      "text/plain": [
       "<IPython.core.display.HTML object>"
      ]
     },
     "metadata": {},
     "output_type": "display_data"
    },
    {
     "data": {
      "text/html": [],
      "text/plain": [
       "<IPython.core.display.HTML object>"
      ]
     },
     "metadata": {},
     "output_type": "display_data"
    },
    {
     "data": {
      "text/html": [],
      "text/plain": [
       "<IPython.core.display.HTML object>"
      ]
     },
     "metadata": {},
     "output_type": "display_data"
    }
   ],
   "source": [
    "best = compare_models()"
   ]
  },
  {
   "cell_type": "code",
   "execution_count": 8,
   "metadata": {},
   "outputs": [
    {
     "data": {
      "text/html": [],
      "text/plain": [
       "<IPython.core.display.HTML object>"
      ]
     },
     "metadata": {},
     "output_type": "display_data"
    },
    {
     "data": {
      "text/html": [
       "<style type=\"text/css\">\n",
       "#T_9d3b9_row10_col0, #T_9d3b9_row10_col1, #T_9d3b9_row10_col2, #T_9d3b9_row10_col3, #T_9d3b9_row10_col4, #T_9d3b9_row10_col5 {\n",
       "  background: yellow;\n",
       "}\n",
       "</style>\n",
       "<table id=\"T_9d3b9\">\n",
       "  <thead>\n",
       "    <tr>\n",
       "      <th class=\"blank level0\" >&nbsp;</th>\n",
       "      <th id=\"T_9d3b9_level0_col0\" class=\"col_heading level0 col0\" >MAE</th>\n",
       "      <th id=\"T_9d3b9_level0_col1\" class=\"col_heading level0 col1\" >MSE</th>\n",
       "      <th id=\"T_9d3b9_level0_col2\" class=\"col_heading level0 col2\" >RMSE</th>\n",
       "      <th id=\"T_9d3b9_level0_col3\" class=\"col_heading level0 col3\" >R2</th>\n",
       "      <th id=\"T_9d3b9_level0_col4\" class=\"col_heading level0 col4\" >RMSLE</th>\n",
       "      <th id=\"T_9d3b9_level0_col5\" class=\"col_heading level0 col5\" >MAPE</th>\n",
       "    </tr>\n",
       "    <tr>\n",
       "      <th class=\"index_name level0\" >Fold</th>\n",
       "      <th class=\"blank col0\" >&nbsp;</th>\n",
       "      <th class=\"blank col1\" >&nbsp;</th>\n",
       "      <th class=\"blank col2\" >&nbsp;</th>\n",
       "      <th class=\"blank col3\" >&nbsp;</th>\n",
       "      <th class=\"blank col4\" >&nbsp;</th>\n",
       "      <th class=\"blank col5\" >&nbsp;</th>\n",
       "    </tr>\n",
       "  </thead>\n",
       "  <tbody>\n",
       "    <tr>\n",
       "      <th id=\"T_9d3b9_level0_row0\" class=\"row_heading level0 row0\" >0</th>\n",
       "      <td id=\"T_9d3b9_row0_col0\" class=\"data row0 col0\" >2.9410</td>\n",
       "      <td id=\"T_9d3b9_row0_col1\" class=\"data row0 col1\" >15.2603</td>\n",
       "      <td id=\"T_9d3b9_row0_col2\" class=\"data row0 col2\" >3.9064</td>\n",
       "      <td id=\"T_9d3b9_row0_col3\" class=\"data row0 col3\" >0.8293</td>\n",
       "      <td id=\"T_9d3b9_row0_col4\" class=\"data row0 col4\" >0.1478</td>\n",
       "      <td id=\"T_9d3b9_row0_col5\" class=\"data row0 col5\" >0.1119</td>\n",
       "    </tr>\n",
       "    <tr>\n",
       "      <th id=\"T_9d3b9_level0_row1\" class=\"row_heading level0 row1\" >1</th>\n",
       "      <td id=\"T_9d3b9_row1_col0\" class=\"data row1 col0\" >1.8169</td>\n",
       "      <td id=\"T_9d3b9_row1_col1\" class=\"data row1 col1\" >6.2484</td>\n",
       "      <td id=\"T_9d3b9_row1_col2\" class=\"data row1 col2\" >2.4997</td>\n",
       "      <td id=\"T_9d3b9_row1_col3\" class=\"data row1 col3\" >0.8651</td>\n",
       "      <td id=\"T_9d3b9_row1_col4\" class=\"data row1 col4\" >0.1119</td>\n",
       "      <td id=\"T_9d3b9_row1_col5\" class=\"data row1 col5\" >0.0933</td>\n",
       "    </tr>\n",
       "    <tr>\n",
       "      <th id=\"T_9d3b9_level0_row2\" class=\"row_heading level0 row2\" >2</th>\n",
       "      <td id=\"T_9d3b9_row2_col0\" class=\"data row2 col0\" >2.0110</td>\n",
       "      <td id=\"T_9d3b9_row2_col1\" class=\"data row2 col1\" >5.9133</td>\n",
       "      <td id=\"T_9d3b9_row2_col2\" class=\"data row2 col2\" >2.4317</td>\n",
       "      <td id=\"T_9d3b9_row2_col3\" class=\"data row2 col3\" >0.9410</td>\n",
       "      <td id=\"T_9d3b9_row2_col4\" class=\"data row2 col4\" >0.1511</td>\n",
       "      <td id=\"T_9d3b9_row2_col5\" class=\"data row2 col5\" >0.1285</td>\n",
       "    </tr>\n",
       "    <tr>\n",
       "      <th id=\"T_9d3b9_level0_row3\" class=\"row_heading level0 row3\" >3</th>\n",
       "      <td id=\"T_9d3b9_row3_col0\" class=\"data row3 col0\" >2.6859</td>\n",
       "      <td id=\"T_9d3b9_row3_col1\" class=\"data row3 col1\" >15.0151</td>\n",
       "      <td id=\"T_9d3b9_row3_col2\" class=\"data row3 col2\" >3.8749</td>\n",
       "      <td id=\"T_9d3b9_row3_col3\" class=\"data row3 col3\" >0.8519</td>\n",
       "      <td id=\"T_9d3b9_row3_col4\" class=\"data row3 col4\" >0.1857</td>\n",
       "      <td id=\"T_9d3b9_row3_col5\" class=\"data row3 col5\" >0.1501</td>\n",
       "    </tr>\n",
       "    <tr>\n",
       "      <th id=\"T_9d3b9_level0_row4\" class=\"row_heading level0 row4\" >4</th>\n",
       "      <td id=\"T_9d3b9_row4_col0\" class=\"data row4 col0\" >2.1816</td>\n",
       "      <td id=\"T_9d3b9_row4_col1\" class=\"data row4 col1\" >7.5461</td>\n",
       "      <td id=\"T_9d3b9_row4_col2\" class=\"data row4 col2\" >2.7470</td>\n",
       "      <td id=\"T_9d3b9_row4_col3\" class=\"data row4 col3\" >0.9360</td>\n",
       "      <td id=\"T_9d3b9_row4_col4\" class=\"data row4 col4\" >0.1176</td>\n",
       "      <td id=\"T_9d3b9_row4_col5\" class=\"data row4 col5\" >0.1023</td>\n",
       "    </tr>\n",
       "    <tr>\n",
       "      <th id=\"T_9d3b9_level0_row5\" class=\"row_heading level0 row5\" >5</th>\n",
       "      <td id=\"T_9d3b9_row5_col0\" class=\"data row5 col0\" >1.9498</td>\n",
       "      <td id=\"T_9d3b9_row5_col1\" class=\"data row5 col1\" >6.6944</td>\n",
       "      <td id=\"T_9d3b9_row5_col2\" class=\"data row5 col2\" >2.5874</td>\n",
       "      <td id=\"T_9d3b9_row5_col3\" class=\"data row5 col3\" >0.8755</td>\n",
       "      <td id=\"T_9d3b9_row5_col4\" class=\"data row5 col4\" >0.1418</td>\n",
       "      <td id=\"T_9d3b9_row5_col5\" class=\"data row5 col5\" >0.1098</td>\n",
       "    </tr>\n",
       "    <tr>\n",
       "      <th id=\"T_9d3b9_level0_row6\" class=\"row_heading level0 row6\" >6</th>\n",
       "      <td id=\"T_9d3b9_row6_col0\" class=\"data row6 col0\" >1.4695</td>\n",
       "      <td id=\"T_9d3b9_row6_col1\" class=\"data row6 col1\" >3.5217</td>\n",
       "      <td id=\"T_9d3b9_row6_col2\" class=\"data row6 col2\" >1.8766</td>\n",
       "      <td id=\"T_9d3b9_row6_col3\" class=\"data row6 col3\" >0.9478</td>\n",
       "      <td id=\"T_9d3b9_row6_col4\" class=\"data row6 col4\" >0.0821</td>\n",
       "      <td id=\"T_9d3b9_row6_col5\" class=\"data row6 col5\" >0.0666</td>\n",
       "    </tr>\n",
       "    <tr>\n",
       "      <th id=\"T_9d3b9_level0_row7\" class=\"row_heading level0 row7\" >7</th>\n",
       "      <td id=\"T_9d3b9_row7_col0\" class=\"data row7 col0\" >2.8045</td>\n",
       "      <td id=\"T_9d3b9_row7_col1\" class=\"data row7 col1\" >22.8539</td>\n",
       "      <td id=\"T_9d3b9_row7_col2\" class=\"data row7 col2\" >4.7806</td>\n",
       "      <td id=\"T_9d3b9_row7_col3\" class=\"data row7 col3\" >0.7903</td>\n",
       "      <td id=\"T_9d3b9_row7_col4\" class=\"data row7 col4\" >0.1776</td>\n",
       "      <td id=\"T_9d3b9_row7_col5\" class=\"data row7 col5\" >0.1270</td>\n",
       "    </tr>\n",
       "    <tr>\n",
       "      <th id=\"T_9d3b9_level0_row8\" class=\"row_heading level0 row8\" >8</th>\n",
       "      <td id=\"T_9d3b9_row8_col0\" class=\"data row8 col0\" >2.4981</td>\n",
       "      <td id=\"T_9d3b9_row8_col1\" class=\"data row8 col1\" >15.0679</td>\n",
       "      <td id=\"T_9d3b9_row8_col2\" class=\"data row8 col2\" >3.8817</td>\n",
       "      <td id=\"T_9d3b9_row8_col3\" class=\"data row8 col3\" >0.7305</td>\n",
       "      <td id=\"T_9d3b9_row8_col4\" class=\"data row8 col4\" >0.2021</td>\n",
       "      <td id=\"T_9d3b9_row8_col5\" class=\"data row8 col5\" >0.1527</td>\n",
       "    </tr>\n",
       "    <tr>\n",
       "      <th id=\"T_9d3b9_level0_row9\" class=\"row_heading level0 row9\" >9</th>\n",
       "      <td id=\"T_9d3b9_row9_col0\" class=\"data row9 col0\" >1.9581</td>\n",
       "      <td id=\"T_9d3b9_row9_col1\" class=\"data row9 col1\" >8.1893</td>\n",
       "      <td id=\"T_9d3b9_row9_col2\" class=\"data row9 col2\" >2.8617</td>\n",
       "      <td id=\"T_9d3b9_row9_col3\" class=\"data row9 col3\" >0.9052</td>\n",
       "      <td id=\"T_9d3b9_row9_col4\" class=\"data row9 col4\" >0.1297</td>\n",
       "      <td id=\"T_9d3b9_row9_col5\" class=\"data row9 col5\" >0.0872</td>\n",
       "    </tr>\n",
       "    <tr>\n",
       "      <th id=\"T_9d3b9_level0_row10\" class=\"row_heading level0 row10\" >Mean</th>\n",
       "      <td id=\"T_9d3b9_row10_col0\" class=\"data row10 col0\" >2.2316</td>\n",
       "      <td id=\"T_9d3b9_row10_col1\" class=\"data row10 col1\" >10.6310</td>\n",
       "      <td id=\"T_9d3b9_row10_col2\" class=\"data row10 col2\" >3.1448</td>\n",
       "      <td id=\"T_9d3b9_row10_col3\" class=\"data row10 col3\" >0.8673</td>\n",
       "      <td id=\"T_9d3b9_row10_col4\" class=\"data row10 col4\" >0.1447</td>\n",
       "      <td id=\"T_9d3b9_row10_col5\" class=\"data row10 col5\" >0.1129</td>\n",
       "    </tr>\n",
       "    <tr>\n",
       "      <th id=\"T_9d3b9_level0_row11\" class=\"row_heading level0 row11\" >Std</th>\n",
       "      <td id=\"T_9d3b9_row11_col0\" class=\"data row11 col0\" >0.4547</td>\n",
       "      <td id=\"T_9d3b9_row11_col1\" class=\"data row11 col1\" >5.7682</td>\n",
       "      <td id=\"T_9d3b9_row11_col2\" class=\"data row11 col2\" >0.8611</td>\n",
       "      <td id=\"T_9d3b9_row11_col3\" class=\"data row11 col3\" >0.0667</td>\n",
       "      <td id=\"T_9d3b9_row11_col4\" class=\"data row11 col4\" >0.0347</td>\n",
       "      <td id=\"T_9d3b9_row11_col5\" class=\"data row11 col5\" >0.0259</td>\n",
       "    </tr>\n",
       "  </tbody>\n",
       "</table>\n"
      ],
      "text/plain": [
       "<pandas.io.formats.style.Styler at 0x1725767dd90>"
      ]
     },
     "metadata": {},
     "output_type": "display_data"
    },
    {
     "data": {
      "text/html": [],
      "text/plain": [
       "<IPython.core.display.HTML object>"
      ]
     },
     "metadata": {},
     "output_type": "display_data"
    }
   ],
   "source": [
    "rf = create_model('rf')"
   ]
  },
  {
   "cell_type": "code",
   "execution_count": 9,
   "metadata": {},
   "outputs": [
    {
     "data": {
      "text/html": [],
      "text/plain": [
       "<IPython.core.display.HTML object>"
      ]
     },
     "metadata": {},
     "output_type": "display_data"
    },
    {
     "data": {
      "image/png": "[encoded data removed]",
      "text/plain": [
       "<Figure size 800x550 with 2 Axes>"
      ]
     },
     "metadata": {},
     "output_type": "display_data"
    }
   ],
   "source": [
    "plot_model(rf)"
   ]
  },
  {
   "cell_type": "code",
   "execution_count": 10,
   "metadata": {},
   "outputs": [
    {
     "data": {
      "application/vnd.jupyter.widget-view+json": {
       "model_id": "089f3db2056d47929bee268bc3c26672",
       "version_major": 2,
       "version_minor": 0
      },
      "text/plain": [
       "interactive(children=(ToggleButtons(description='Plot Type:', icons=('',), options=(('Pipeline Plot', 'pipelin…"
      ]
     },
     "metadata": {},
     "output_type": "display_data"
    }
   ],
   "source": [
    "evaluate_model(rf)"
   ]
  },
  {
   "cell_type": "code",
   "execution_count": null,
   "metadata": {},
   "outputs": [
    {
     "ename": "",
     "evalue": "",
     "output_type": "error",
     "traceback": [
      "\u001b[1;31mnotebook controller is DISPOSED. \n",
      "\u001b[1;31mView Jupyter <a href='command:jupyter.viewOutput'>log</a> for further details."
     ]
    }
   ],
   "source": [
    "save_model(rf, 'My_RF_Model')"
   ]
  },
  {
   "cell_type": "code",
   "execution_count": null,
   "metadata": {},
   "outputs": [
    {
     "ename": "",
     "evalue": "",
     "output_type": "error",
     "traceback": [
      "\u001b[1;31mnotebook controller is DISPOSED. \n",
      "\u001b[1;31mView Jupyter <a href='command:jupyter.viewOutput'>log</a> for further details."
     ]
    }
   ],
   "source": [
    "loaded_model = load_model('My_RF_Model')"
   ]
  },
  {
   "cell_type": "code",
   "execution_count": null,
   "metadata": {},
   "outputs": [
    {
     "ename": "",
     "evalue": "",
     "output_type": "error",
     "traceback": [
      "\u001b[1;31mnotebook controller is DISPOSED. \n",
      "\u001b[1;31mView Jupyter <a href='command:jupyter.viewOutput'>log</a> for further details."
     ]
    }
   ],
   "source": [
    "predict_model(rf)"
   ]
  },
  {
   "cell_type": "code",
   "execution_count": null,
   "metadata": {},
   "outputs": [
    {
     "ename": "",
     "evalue": "",
     "output_type": "error",
     "traceback": [
      "\u001b[1;31mnotebook controller is DISPOSED. \n",
      "\u001b[1;31mView Jupyter <a href='command:jupyter.viewOutput'>log</a> for further details."
     ]
    }
   ],
   "source": [
    "models()"
   ]
  },
  {
   "cell_type": "code",
   "execution_count": null,
   "metadata": {},
   "outputs": [
    {
     "ename": "",
     "evalue": "",
     "output_type": "error",
     "traceback": [
      "\u001b[1;31mnotebook controller is DISPOSED. \n",
      "\u001b[1;31mView Jupyter <a href='command:jupyter.viewOutput'>log</a> for further details."
     ]
    }
   ],
   "source": [
    "dt = create_model('dt')\n",
    "\n",
    "tuned_dt = tune_model(dt)"
   ]
  },
  {
   "cell_type": "code",
   "execution_count": null,
   "metadata": {},
   "outputs": [
    {
     "ename": "",
     "evalue": "",
     "output_type": "error",
     "traceback": [
      "\u001b[1;31mnotebook controller is DISPOSED. \n",
      "\u001b[1;31mView Jupyter <a href='command:jupyter.viewOutput'>log</a> for further details."
     ]
    }
   ],
   "source": [
    "best = automl()"
   ]
  },
  {
   "cell_type": "code",
   "execution_count": null,
   "metadata": {},
   "outputs": [
    {
     "ename": "",
     "evalue": "",
     "output_type": "error",
     "traceback": [
      "\u001b[1;31mnotebook controller is DISPOSED. \n",
      "\u001b[1;31mView Jupyter <a href='command:jupyter.viewOutput'>log</a> for further details."
     ]
    }
   ],
   "source": [
    "best"
   ]
  },
  {
   "cell_type": "code",
   "execution_count": null,
   "metadata": {},
   "outputs": [],
   "source": []
  }
 ],
 "metadata": {
  "kernelspec": {
   "display_name": "venv",
   "language": "python",
   "name": "python3"
  },
  "language_info": {
   "codemirror_mode": {
    "name": "ipython",
    "version": 3
   },
   "file_extension": ".py",
   "mimetype": "text/x-python",
   "name": "python",
   "nbconvert_exporter": "python",
   "pygments_lexer": "ipython3",
   "version": "3.11.0"
  }
 },
 "nbformat": 4,
 "nbformat_minor": 2
}
